{
 "cells": [
  {
   "cell_type": "code",
   "execution_count": 1,
   "metadata": {
    "id": "x_CgWf-i7S_2"
   },
   "outputs": [
    {
     "name": "stderr",
     "output_type": "stream",
     "text": [
      "C:\\Users\\user\\AppData\\Local\\Temp\\ipykernel_22936\\1880915521.py:5: MatplotlibDeprecationWarning: The seaborn styles shipped by Matplotlib are deprecated since 3.6, as they no longer correspond to the styles shipped by seaborn. However, they will remain available as 'seaborn-v0_8-<style>'. Alternatively, directly use the seaborn API instead.\n",
      "  plt.style.use('seaborn')\n"
     ]
    }
   ],
   "source": [
    "import pandas as pd\n",
    "import numpy as np\n",
    "import matplotlib.pyplot as plt\n",
    "import seaborn as sns\n",
    "plt.style.use('seaborn')\n",
    "sns.set_palette(\"hls\")\n",
    "%matplotlib inline\n",
    "\n",
    "import warnings\n",
    "warnings.filterwarnings('ignore')\n",
    "plt.rcParams['font.family'] = 'Malgun Gothic'"
   ]
  },
  {
   "cell_type": "markdown",
   "metadata": {
    "id": "CMsbsUSv-lKe"
   },
   "source": [
    "# poi 차원축소"
   ]
  },
  {
   "cell_type": "code",
   "execution_count": 2,
   "metadata": {
    "id": "gQ3HxTvX-lKf",
    "outputId": "60dfef84-c54d-446b-ea4c-392adc7f1eba"
   },
   "outputs": [],
   "source": [
    "poi = pd.read_csv('POI_500미터.csv')\n",
    "# poi"
   ]
  },
  {
   "cell_type": "code",
   "execution_count": 3,
   "metadata": {
    "id": "rB5f_rk0-lKg",
    "outputId": "3196c706-0a0a-486a-b2ab-449be3b64757"
   },
   "outputs": [
    {
     "data": {
      "text/html": [
       "<div>\n",
       "<style scoped>\n",
       "    .dataframe tbody tr th:only-of-type {\n",
       "        vertical-align: middle;\n",
       "    }\n",
       "\n",
       "    .dataframe tbody tr th {\n",
       "        vertical-align: top;\n",
       "    }\n",
       "\n",
       "    .dataframe thead th {\n",
       "        text-align: right;\n",
       "    }\n",
       "</style>\n",
       "<table border=\"1\" class=\"dataframe\">\n",
       "  <thead>\n",
       "    <tr style=\"text-align: right;\">\n",
       "      <th></th>\n",
       "      <th>pca1</th>\n",
       "      <th>pca2</th>\n",
       "      <th>pca3</th>\n",
       "      <th>pca4</th>\n",
       "      <th>pca5</th>\n",
       "      <th>pca6</th>\n",
       "      <th>pca7</th>\n",
       "      <th>pca8</th>\n",
       "      <th>pca9</th>\n",
       "      <th>pca10</th>\n",
       "      <th>...</th>\n",
       "      <th>pca12</th>\n",
       "      <th>pca13</th>\n",
       "      <th>pca14</th>\n",
       "      <th>pca15</th>\n",
       "      <th>pca16</th>\n",
       "      <th>pca17</th>\n",
       "      <th>pca18</th>\n",
       "      <th>pca19</th>\n",
       "      <th>pca20</th>\n",
       "      <th>pca21</th>\n",
       "    </tr>\n",
       "  </thead>\n",
       "  <tbody>\n",
       "    <tr>\n",
       "      <th>0</th>\n",
       "      <td>-46.436555</td>\n",
       "      <td>7.925637</td>\n",
       "      <td>6.485296</td>\n",
       "      <td>-4.062677</td>\n",
       "      <td>-5.001956</td>\n",
       "      <td>-0.291331</td>\n",
       "      <td>-1.049031</td>\n",
       "      <td>2.251077</td>\n",
       "      <td>1.366086</td>\n",
       "      <td>-4.077122</td>\n",
       "      <td>...</td>\n",
       "      <td>-0.840659</td>\n",
       "      <td>5.086528</td>\n",
       "      <td>0.617068</td>\n",
       "      <td>-3.352732</td>\n",
       "      <td>-1.115432</td>\n",
       "      <td>0.210562</td>\n",
       "      <td>0.528928</td>\n",
       "      <td>-0.193457</td>\n",
       "      <td>-0.141987</td>\n",
       "      <td>-0.183894</td>\n",
       "    </tr>\n",
       "    <tr>\n",
       "      <th>1</th>\n",
       "      <td>-47.104592</td>\n",
       "      <td>9.411792</td>\n",
       "      <td>5.336473</td>\n",
       "      <td>-4.069326</td>\n",
       "      <td>-4.370987</td>\n",
       "      <td>0.016876</td>\n",
       "      <td>-0.854152</td>\n",
       "      <td>2.636940</td>\n",
       "      <td>0.995046</td>\n",
       "      <td>-3.614098</td>\n",
       "      <td>...</td>\n",
       "      <td>-1.515389</td>\n",
       "      <td>5.648361</td>\n",
       "      <td>0.495077</td>\n",
       "      <td>-3.594653</td>\n",
       "      <td>-0.889998</td>\n",
       "      <td>0.158434</td>\n",
       "      <td>0.567680</td>\n",
       "      <td>-0.118996</td>\n",
       "      <td>-0.125501</td>\n",
       "      <td>-0.192255</td>\n",
       "    </tr>\n",
       "    <tr>\n",
       "      <th>2</th>\n",
       "      <td>-47.144520</td>\n",
       "      <td>9.533115</td>\n",
       "      <td>5.346178</td>\n",
       "      <td>-4.120043</td>\n",
       "      <td>-4.355113</td>\n",
       "      <td>0.189944</td>\n",
       "      <td>-0.988251</td>\n",
       "      <td>2.502725</td>\n",
       "      <td>0.501979</td>\n",
       "      <td>-2.964530</td>\n",
       "      <td>...</td>\n",
       "      <td>-1.855783</td>\n",
       "      <td>5.636355</td>\n",
       "      <td>0.352348</td>\n",
       "      <td>-3.488096</td>\n",
       "      <td>-0.713831</td>\n",
       "      <td>0.078255</td>\n",
       "      <td>0.562764</td>\n",
       "      <td>-0.083558</td>\n",
       "      <td>-0.073828</td>\n",
       "      <td>-0.185830</td>\n",
       "    </tr>\n",
       "    <tr>\n",
       "      <th>3</th>\n",
       "      <td>-47.144520</td>\n",
       "      <td>9.533115</td>\n",
       "      <td>5.346178</td>\n",
       "      <td>-4.120043</td>\n",
       "      <td>-4.355113</td>\n",
       "      <td>0.189944</td>\n",
       "      <td>-0.988251</td>\n",
       "      <td>2.502725</td>\n",
       "      <td>0.501979</td>\n",
       "      <td>-2.964530</td>\n",
       "      <td>...</td>\n",
       "      <td>-1.855783</td>\n",
       "      <td>5.636355</td>\n",
       "      <td>0.352348</td>\n",
       "      <td>-3.488096</td>\n",
       "      <td>-0.713831</td>\n",
       "      <td>0.078255</td>\n",
       "      <td>0.562764</td>\n",
       "      <td>-0.083558</td>\n",
       "      <td>-0.073828</td>\n",
       "      <td>-0.185830</td>\n",
       "    </tr>\n",
       "    <tr>\n",
       "      <th>4</th>\n",
       "      <td>-47.144520</td>\n",
       "      <td>9.533115</td>\n",
       "      <td>5.346178</td>\n",
       "      <td>-4.120043</td>\n",
       "      <td>-4.355113</td>\n",
       "      <td>0.189944</td>\n",
       "      <td>-0.988251</td>\n",
       "      <td>2.502725</td>\n",
       "      <td>0.501979</td>\n",
       "      <td>-2.964530</td>\n",
       "      <td>...</td>\n",
       "      <td>-1.855783</td>\n",
       "      <td>5.636355</td>\n",
       "      <td>0.352348</td>\n",
       "      <td>-3.488096</td>\n",
       "      <td>-0.713831</td>\n",
       "      <td>0.078255</td>\n",
       "      <td>0.562764</td>\n",
       "      <td>-0.083558</td>\n",
       "      <td>-0.073828</td>\n",
       "      <td>-0.185830</td>\n",
       "    </tr>\n",
       "  </tbody>\n",
       "</table>\n",
       "<p>5 rows × 21 columns</p>\n",
       "</div>"
      ],
      "text/plain": [
       "        pca1      pca2      pca3      pca4      pca5      pca6      pca7  \\\n",
       "0 -46.436555  7.925637  6.485296 -4.062677 -5.001956 -0.291331 -1.049031   \n",
       "1 -47.104592  9.411792  5.336473 -4.069326 -4.370987  0.016876 -0.854152   \n",
       "2 -47.144520  9.533115  5.346178 -4.120043 -4.355113  0.189944 -0.988251   \n",
       "3 -47.144520  9.533115  5.346178 -4.120043 -4.355113  0.189944 -0.988251   \n",
       "4 -47.144520  9.533115  5.346178 -4.120043 -4.355113  0.189944 -0.988251   \n",
       "\n",
       "       pca8      pca9     pca10  ...     pca12     pca13     pca14     pca15  \\\n",
       "0  2.251077  1.366086 -4.077122  ... -0.840659  5.086528  0.617068 -3.352732   \n",
       "1  2.636940  0.995046 -3.614098  ... -1.515389  5.648361  0.495077 -3.594653   \n",
       "2  2.502725  0.501979 -2.964530  ... -1.855783  5.636355  0.352348 -3.488096   \n",
       "3  2.502725  0.501979 -2.964530  ... -1.855783  5.636355  0.352348 -3.488096   \n",
       "4  2.502725  0.501979 -2.964530  ... -1.855783  5.636355  0.352348 -3.488096   \n",
       "\n",
       "      pca16     pca17     pca18     pca19     pca20     pca21  \n",
       "0 -1.115432  0.210562  0.528928 -0.193457 -0.141987 -0.183894  \n",
       "1 -0.889998  0.158434  0.567680 -0.118996 -0.125501 -0.192255  \n",
       "2 -0.713831  0.078255  0.562764 -0.083558 -0.073828 -0.185830  \n",
       "3 -0.713831  0.078255  0.562764 -0.083558 -0.073828 -0.185830  \n",
       "4 -0.713831  0.078255  0.562764 -0.083558 -0.073828 -0.185830  \n",
       "\n",
       "[5 rows x 21 columns]"
      ]
     },
     "execution_count": 3,
     "metadata": {},
     "output_type": "execute_result"
    }
   ],
   "source": [
    "from sklearn.decomposition import PCA\n",
    "\n",
    "pca = PCA(n_components=21)\n",
    "pca_array = pca.fit_transform(poi)\n",
    "pca_df = pd.DataFrame(pca_array, index=poi.index, columns=[f'pca{num+1}' for num in range(poi.shape[1])])\n",
    "pca_df.head()"
   ]
  },
  {
   "cell_type": "code",
   "execution_count": 4,
   "metadata": {
    "id": "ZnExybLy-lKh",
    "outputId": "19f8943a-2dfd-4bea-b17e-fada219b9709"
   },
   "outputs": [
    {
     "data": {
      "text/plain": [
       "[<matplotlib.lines.Line2D at 0x1eb21b76fe0>]"
      ]
     },
     "execution_count": 4,
     "metadata": {},
     "output_type": "execute_result"
    },
    {
     "data": {
      "image/png": "[encoded data removed]",
      "text/plain": [
       "<Figure size 1000x800 with 1 Axes>"
      ]
     },
     "metadata": {},
     "output_type": "display_data"
    }
   ],
   "source": [
    "# Scree Plot\n",
    "plt.figure(figsize=(10,8))\n",
    "plt.title('Scree Plot')\n",
    "plt.xlabel('Number of Components')\n",
    "plt.ylabel('Cumulative Explained Variance')\n",
    "plt.plot(pca.explained_variance_, 'o-')"
   ]
  },
  {
   "cell_type": "code",
   "execution_count": 5,
   "metadata": {
    "id": "IwI8CRwF-lKh",
    "outputId": "d0c2fa00-1594-4e4b-b109-5efa1207c71e"
   },
   "outputs": [],
   "source": [
    "from sklearn.decomposition import PCA\n",
    "\n",
    "pca = PCA(n_components=3)\n",
    "pca_array = pca.fit_transform(poi)\n",
    "poi['poi 특성 1'] = pca_array[:, 0]\n",
    "poi['poi 특성 2'] = pca_array[:, 1]\n",
    "poi['poi 특성 3'] = pca_array[:, 2]\n",
    "# poi.head(3)"
   ]
  },
  {
   "cell_type": "code",
   "execution_count": 6,
   "metadata": {
    "id": "XqobwfPl-lKi",
    "outputId": "485a237e-b0f3-42fd-8a58-1f9fccd02d9c"
   },
   "outputs": [],
   "source": [
    "poi = poi.loc[:,['poi 특성 1', 'poi 특성 2', 'poi 특성 3']]\n",
    "# poi"
   ]
  },
  {
   "cell_type": "code",
   "execution_count": 7,
   "metadata": {
    "colab": {
     "base_uri": "https://localhost:8080/",
     "height": 1000
    },
    "executionInfo": {
     "elapsed": 1302,
     "status": "ok",
     "timestamp": 1639989874970,
     "user": {
      "displayName": "­이현태 | 서울 비즈니스인포매틱스학과",
      "photoUrl": "https://lh3.googleusercontent.com/a/default-user=s64",
      "userId": "07002847175634749293"
     },
     "user_tz": -540
    },
    "id": "-yuRw2RtApzL",
    "outputId": "33e1b537-94b3-4898-a5e1-709b4b67e760",
    "scrolled": true
   },
   "outputs": [],
   "source": [
    "sample = pd.read_csv('./데이터/최종 샘플파일_전기추가_검수최종.csv', encoding='cp949')\n",
    "# sample"
   ]
  },
  {
   "cell_type": "code",
   "execution_count": 8,
   "metadata": {
    "id": "_M3Iomy_-lKj",
    "outputId": "981185ca-858c-40e9-cfda-49085e234778",
    "scrolled": true
   },
   "outputs": [],
   "source": [
    "df = pd.concat([sample, poi], axis=1)\n",
    "# df"
   ]
  },
  {
   "cell_type": "markdown",
   "metadata": {
    "id": "13F4jBU4BWQA"
   },
   "source": [
    "# 데이터 전처리"
   ]
  },
  {
   "cell_type": "code",
   "execution_count": 9,
   "metadata": {
    "colab": {
     "base_uri": "https://localhost:8080/",
     "height": 696
    },
    "executionInfo": {
     "elapsed": 16,
     "status": "ok",
     "timestamp": 1639989874971,
     "user": {
      "displayName": "­이현태 | 서울 비즈니스인포매틱스학과",
      "photoUrl": "https://lh3.googleusercontent.com/a/default-user=s64",
      "userId": "07002847175634749293"
     },
     "user_tz": -540
    },
    "id": "DMaP023yA8TQ",
    "outputId": "a2922e41-3331-449a-fc3b-97088a6d369b"
   },
   "outputs": [],
   "source": [
    "# 빈집 추정에 도움되지 않은 열 제거\n",
    "# 빈집밀집도 제거\n",
    "df.drop(['주소', '주소1', '주소2', '주소3', '주소4', '주소 최종', '주소 동 최종', '위도', '경도', \n",
    "         '건축물대장', '건축승인일자', '건축승인년도', '허가일', '빈집밀집도'], axis=1, inplace=True)\n",
    "# df"
   ]
  },
  {
   "cell_type": "code",
   "execution_count": 10,
   "metadata": {},
   "outputs": [],
   "source": [
    "# 현재 연도에서 사용승인 날짜의 연도 빼기\n",
    "from datetime import datetime\n",
    "\n",
    "today = 2020\n",
    "\n",
    "accept = []\n",
    "for i in range(df.shape[0]):\n",
    "    try:\n",
    "        accept.append(today - float(df['사용승인일'][i][:4]))\n",
    "    except:\n",
    "        accept.append(df['사용승인일'][i])\n",
    "df['사용승인일'] = accept\n",
    "# df"
   ]
  },
  {
   "cell_type": "code",
   "execution_count": 11,
   "metadata": {},
   "outputs": [
    {
     "data": {
      "text/plain": [
       "count    4321.000000\n",
       "mean       31.468410\n",
       "std        65.073769\n",
       "min     -1771.000000\n",
       "25%        15.000000\n",
       "50%        32.000000\n",
       "75%        42.000000\n",
       "max       119.000000\n",
       "Name: 사용승인일, dtype: float64"
      ]
     },
     "execution_count": 11,
     "metadata": {},
     "output_type": "execute_result"
    }
   ],
   "source": [
    "df['사용승인일'].describe()"
   ]
  },
  {
   "cell_type": "code",
   "execution_count": 12,
   "metadata": {},
   "outputs": [
    {
     "data": {
      "text/plain": [
       "Int64Index([836, 1978, 2055, 2335, 5228], dtype='int64')"
      ]
     },
     "execution_count": 12,
     "metadata": {},
     "output_type": "execute_result"
    }
   ],
   "source": [
    "# 사용승인일이 0 이하인 데이터 추출\n",
    "df[df['사용승인일']<0].index"
   ]
  },
  {
   "cell_type": "code",
   "execution_count": 13,
   "metadata": {},
   "outputs": [],
   "source": [
    "df.loc[df.사용승인일 < 0, '사용승인일'] = np.nan"
   ]
  },
  {
   "cell_type": "code",
   "execution_count": 14,
   "metadata": {},
   "outputs": [
    {
     "data": {
      "text/plain": [
       "count    4316.000000\n",
       "mean       33.543559\n",
       "std        22.737001\n",
       "min         0.000000\n",
       "25%        15.000000\n",
       "50%        32.000000\n",
       "75%        42.000000\n",
       "max       119.000000\n",
       "Name: 사용승인일, dtype: float64"
      ]
     },
     "execution_count": 14,
     "metadata": {},
     "output_type": "execute_result"
    }
   ],
   "source": [
    "df['사용승인일'].describe()"
   ]
  },
  {
   "cell_type": "markdown",
   "metadata": {
    "id": "T3qetX5D1eEm"
   },
   "source": [
    "# 결측값 처리"
   ]
  },
  {
   "cell_type": "code",
   "execution_count": 15,
   "metadata": {
    "colab": {
     "base_uri": "https://localhost:8080/",
     "height": 398
    },
    "executionInfo": {
     "elapsed": 30,
     "status": "ok",
     "timestamp": 1639823624392,
     "user": {
      "displayName": "­이현태 | 서울 비즈니스인포매틱스학과",
      "photoUrl": "https://lh3.googleusercontent.com/a/default-user=s64",
      "userId": "07002847175634749293"
     },
     "user_tz": -540
    },
    "id": "3W_jHLnV1oMd",
    "outputId": "7d446830-e9ff-4671-aa2c-4e5d65962255"
   },
   "outputs": [
    {
     "data": {
      "text/html": [
       "<div>\n",
       "<style scoped>\n",
       "    .dataframe tbody tr th:only-of-type {\n",
       "        vertical-align: middle;\n",
       "    }\n",
       "\n",
       "    .dataframe tbody tr th {\n",
       "        vertical-align: top;\n",
       "    }\n",
       "\n",
       "    .dataframe thead th {\n",
       "        text-align: right;\n",
       "    }\n",
       "</style>\n",
       "<table border=\"1\" class=\"dataframe\">\n",
       "  <thead>\n",
       "    <tr style=\"text-align: right;\">\n",
       "      <th></th>\n",
       "      <th>빈집여부</th>\n",
       "      <th>상수도_6개월_위험</th>\n",
       "      <th>상수도_12개월_확정</th>\n",
       "      <th>전기 사용량 최종</th>\n",
       "      <th>대지면적</th>\n",
       "      <th>건축면적</th>\n",
       "      <th>연면적</th>\n",
       "      <th>세대수</th>\n",
       "      <th>가구수</th>\n",
       "      <th>지상층수</th>\n",
       "      <th>...</th>\n",
       "      <th>남자인구</th>\n",
       "      <th>여자인구</th>\n",
       "      <th>외국인남자인구</th>\n",
       "      <th>외국인여자인구</th>\n",
       "      <th>65세이상인구</th>\n",
       "      <th>65세이상인구비율</th>\n",
       "      <th>기초생활수급자비율</th>\n",
       "      <th>poi 특성 1</th>\n",
       "      <th>poi 특성 2</th>\n",
       "      <th>poi 특성 3</th>\n",
       "    </tr>\n",
       "  </thead>\n",
       "  <tbody>\n",
       "    <tr>\n",
       "      <th>count</th>\n",
       "      <td>6249.000000</td>\n",
       "      <td>3946.000000</td>\n",
       "      <td>3946.000000</td>\n",
       "      <td>4901.000000</td>\n",
       "      <td>4321.000000</td>\n",
       "      <td>4321.000000</td>\n",
       "      <td>4321.000000</td>\n",
       "      <td>4321.000000</td>\n",
       "      <td>4321.000000</td>\n",
       "      <td>4321.000000</td>\n",
       "      <td>...</td>\n",
       "      <td>6247.000000</td>\n",
       "      <td>6247.000000</td>\n",
       "      <td>6247.000000</td>\n",
       "      <td>6247.000000</td>\n",
       "      <td>6247.000000</td>\n",
       "      <td>6247.000000</td>\n",
       "      <td>6247.000000</td>\n",
       "      <td>6249.000000</td>\n",
       "      <td>6.249000e+03</td>\n",
       "      <td>6.249000e+03</td>\n",
       "    </tr>\n",
       "    <tr>\n",
       "      <th>mean</th>\n",
       "      <td>0.389342</td>\n",
       "      <td>207.460466</td>\n",
       "      <td>433.603142</td>\n",
       "      <td>8393.367476</td>\n",
       "      <td>210.570028</td>\n",
       "      <td>182.411557</td>\n",
       "      <td>396.975331</td>\n",
       "      <td>3.316825</td>\n",
       "      <td>2.688035</td>\n",
       "      <td>2.146957</td>\n",
       "      <td>...</td>\n",
       "      <td>6262.270050</td>\n",
       "      <td>5945.380823</td>\n",
       "      <td>192.908916</td>\n",
       "      <td>107.060989</td>\n",
       "      <td>2075.728350</td>\n",
       "      <td>0.260282</td>\n",
       "      <td>0.071962</td>\n",
       "      <td>0.000000</td>\n",
       "      <td>-4.075188e-15</td>\n",
       "      <td>-3.493019e-15</td>\n",
       "    </tr>\n",
       "    <tr>\n",
       "      <th>std</th>\n",
       "      <td>0.487640</td>\n",
       "      <td>2017.499022</td>\n",
       "      <td>4017.249015</td>\n",
       "      <td>24822.037018</td>\n",
       "      <td>305.367972</td>\n",
       "      <td>727.385556</td>\n",
       "      <td>1066.480110</td>\n",
       "      <td>15.702171</td>\n",
       "      <td>4.297757</td>\n",
       "      <td>1.593657</td>\n",
       "      <td>...</td>\n",
       "      <td>6841.783078</td>\n",
       "      <td>6811.295545</td>\n",
       "      <td>327.203187</td>\n",
       "      <td>119.341893</td>\n",
       "      <td>1070.111652</td>\n",
       "      <td>0.104657</td>\n",
       "      <td>0.029899</td>\n",
       "      <td>82.735076</td>\n",
       "      <td>3.032434e+01</td>\n",
       "      <td>1.523280e+01</td>\n",
       "    </tr>\n",
       "    <tr>\n",
       "      <th>min</th>\n",
       "      <td>0.000000</td>\n",
       "      <td>0.000000</td>\n",
       "      <td>0.000000</td>\n",
       "      <td>0.000000</td>\n",
       "      <td>0.000000</td>\n",
       "      <td>0.000000</td>\n",
       "      <td>0.000000</td>\n",
       "      <td>0.000000</td>\n",
       "      <td>0.000000</td>\n",
       "      <td>0.000000</td>\n",
       "      <td>...</td>\n",
       "      <td>1176.000000</td>\n",
       "      <td>1069.000000</td>\n",
       "      <td>5.000000</td>\n",
       "      <td>11.000000</td>\n",
       "      <td>784.000000</td>\n",
       "      <td>0.089055</td>\n",
       "      <td>0.030253</td>\n",
       "      <td>-74.054898</td>\n",
       "      <td>-9.894145e+01</td>\n",
       "      <td>-5.022812e+01</td>\n",
       "    </tr>\n",
       "    <tr>\n",
       "      <th>25%</th>\n",
       "      <td>0.000000</td>\n",
       "      <td>20.000000</td>\n",
       "      <td>46.000000</td>\n",
       "      <td>0.000000</td>\n",
       "      <td>0.000000</td>\n",
       "      <td>59.600000</td>\n",
       "      <td>80.850000</td>\n",
       "      <td>0.000000</td>\n",
       "      <td>1.000000</td>\n",
       "      <td>1.000000</td>\n",
       "      <td>...</td>\n",
       "      <td>1670.000000</td>\n",
       "      <td>1557.000000</td>\n",
       "      <td>23.000000</td>\n",
       "      <td>19.000000</td>\n",
       "      <td>1158.000000</td>\n",
       "      <td>0.182538</td>\n",
       "      <td>0.053823</td>\n",
       "      <td>-71.937409</td>\n",
       "      <td>-2.305242e+01</td>\n",
       "      <td>-4.974635e+00</td>\n",
       "    </tr>\n",
       "    <tr>\n",
       "      <th>50%</th>\n",
       "      <td>0.000000</td>\n",
       "      <td>65.000000</td>\n",
       "      <td>143.000000</td>\n",
       "      <td>2829.000000</td>\n",
       "      <td>186.200000</td>\n",
       "      <td>92.160000</td>\n",
       "      <td>124.630000</td>\n",
       "      <td>0.000000</td>\n",
       "      <td>1.000000</td>\n",
       "      <td>1.000000</td>\n",
       "      <td>...</td>\n",
       "      <td>2819.000000</td>\n",
       "      <td>2937.000000</td>\n",
       "      <td>64.000000</td>\n",
       "      <td>37.000000</td>\n",
       "      <td>2020.000000</td>\n",
       "      <td>0.271353</td>\n",
       "      <td>0.062816</td>\n",
       "      <td>-26.301513</td>\n",
       "      <td>8.930521e+00</td>\n",
       "      <td>1.486087e+00</td>\n",
       "    </tr>\n",
       "    <tr>\n",
       "      <th>75%</th>\n",
       "      <td>1.000000</td>\n",
       "      <td>135.000000</td>\n",
       "      <td>287.000000</td>\n",
       "      <td>9524.000000</td>\n",
       "      <td>314.200000</td>\n",
       "      <td>131.580000</td>\n",
       "      <td>398.280000</td>\n",
       "      <td>0.000000</td>\n",
       "      <td>1.000000</td>\n",
       "      <td>3.000000</td>\n",
       "      <td>...</td>\n",
       "      <td>6751.000000</td>\n",
       "      <td>6453.000000</td>\n",
       "      <td>189.000000</td>\n",
       "      <td>184.000000</td>\n",
       "      <td>2429.000000</td>\n",
       "      <td>0.354775</td>\n",
       "      <td>0.091878</td>\n",
       "      <td>45.067046</td>\n",
       "      <td>1.750432e+01</td>\n",
       "      <td>5.392077e+00</td>\n",
       "    </tr>\n",
       "    <tr>\n",
       "      <th>max</th>\n",
       "      <td>1.000000</td>\n",
       "      <td>86736.000000</td>\n",
       "      <td>171147.000000</td>\n",
       "      <td>680493.000000</td>\n",
       "      <td>7140.000000</td>\n",
       "      <td>16114.700000</td>\n",
       "      <td>24320.490000</td>\n",
       "      <td>410.000000</td>\n",
       "      <td>42.000000</td>\n",
       "      <td>15.000000</td>\n",
       "      <td>...</td>\n",
       "      <td>27766.000000</td>\n",
       "      <td>28031.000000</td>\n",
       "      <td>1168.000000</td>\n",
       "      <td>389.000000</td>\n",
       "      <td>4969.000000</td>\n",
       "      <td>0.414254</td>\n",
       "      <td>0.193742</td>\n",
       "      <td>256.557688</td>\n",
       "      <td>1.066438e+02</td>\n",
       "      <td>7.546941e+01</td>\n",
       "    </tr>\n",
       "  </tbody>\n",
       "</table>\n",
       "<p>8 rows × 26 columns</p>\n",
       "</div>"
      ],
      "text/plain": [
       "              빈집여부    상수도_6개월_위험    상수도_12개월_확정      전기 사용량 최종         대지면적  \\\n",
       "count  6249.000000   3946.000000    3946.000000    4901.000000  4321.000000   \n",
       "mean      0.389342    207.460466     433.603142    8393.367476   210.570028   \n",
       "std       0.487640   2017.499022    4017.249015   24822.037018   305.367972   \n",
       "min       0.000000      0.000000       0.000000       0.000000     0.000000   \n",
       "25%       0.000000     20.000000      46.000000       0.000000     0.000000   \n",
       "50%       0.000000     65.000000     143.000000    2829.000000   186.200000   \n",
       "75%       1.000000    135.000000     287.000000    9524.000000   314.200000   \n",
       "max       1.000000  86736.000000  171147.000000  680493.000000  7140.000000   \n",
       "\n",
       "               건축면적           연면적          세대수          가구수         지상층수  ...  \\\n",
       "count   4321.000000   4321.000000  4321.000000  4321.000000  4321.000000  ...   \n",
       "mean     182.411557    396.975331     3.316825     2.688035     2.146957  ...   \n",
       "std      727.385556   1066.480110    15.702171     4.297757     1.593657  ...   \n",
       "min        0.000000      0.000000     0.000000     0.000000     0.000000  ...   \n",
       "25%       59.600000     80.850000     0.000000     1.000000     1.000000  ...   \n",
       "50%       92.160000    124.630000     0.000000     1.000000     1.000000  ...   \n",
       "75%      131.580000    398.280000     0.000000     1.000000     3.000000  ...   \n",
       "max    16114.700000  24320.490000   410.000000    42.000000    15.000000  ...   \n",
       "\n",
       "               남자인구          여자인구      외국인남자인구      외국인여자인구      65세이상인구  \\\n",
       "count   6247.000000   6247.000000  6247.000000  6247.000000  6247.000000   \n",
       "mean    6262.270050   5945.380823   192.908916   107.060989  2075.728350   \n",
       "std     6841.783078   6811.295545   327.203187   119.341893  1070.111652   \n",
       "min     1176.000000   1069.000000     5.000000    11.000000   784.000000   \n",
       "25%     1670.000000   1557.000000    23.000000    19.000000  1158.000000   \n",
       "50%     2819.000000   2937.000000    64.000000    37.000000  2020.000000   \n",
       "75%     6751.000000   6453.000000   189.000000   184.000000  2429.000000   \n",
       "max    27766.000000  28031.000000  1168.000000   389.000000  4969.000000   \n",
       "\n",
       "         65세이상인구비율    기초생활수급자비율     poi 특성 1      poi 특성 2      poi 특성 3  \n",
       "count  6247.000000  6247.000000  6249.000000  6.249000e+03  6.249000e+03  \n",
       "mean      0.260282     0.071962     0.000000 -4.075188e-15 -3.493019e-15  \n",
       "std       0.104657     0.029899    82.735076  3.032434e+01  1.523280e+01  \n",
       "min       0.089055     0.030253   -74.054898 -9.894145e+01 -5.022812e+01  \n",
       "25%       0.182538     0.053823   -71.937409 -2.305242e+01 -4.974635e+00  \n",
       "50%       0.271353     0.062816   -26.301513  8.930521e+00  1.486087e+00  \n",
       "75%       0.354775     0.091878    45.067046  1.750432e+01  5.392077e+00  \n",
       "max       0.414254     0.193742   256.557688  1.066438e+02  7.546941e+01  \n",
       "\n",
       "[8 rows x 26 columns]"
      ]
     },
     "execution_count": 15,
     "metadata": {},
     "output_type": "execute_result"
    }
   ],
   "source": [
    "df.describe()"
   ]
  },
  {
   "cell_type": "code",
   "execution_count": 16,
   "metadata": {},
   "outputs": [],
   "source": [
    "def missing_df(df):\n",
    "    mc = pd.DataFrame(df.isnull().sum(), columns=[\"Missing Count\"])\n",
    "    mc = mc[mc['Missing Count']!=0] #불리언 인덱싱\n",
    "    #새로운 컬럼 추가\n",
    "    mc['Missing %'] = (mc['Missing Count'] / df.shape[0]) * 100\n",
    "    return mc.sort_values('Missing %',ascending=False)"
   ]
  },
  {
   "cell_type": "code",
   "execution_count": 17,
   "metadata": {
    "colab": {
     "base_uri": "https://localhost:8080/",
     "height": 896
    },
    "executionInfo": {
     "elapsed": 271,
     "status": "ok",
     "timestamp": 1639989900622,
     "user": {
      "displayName": "­이현태 | 서울 비즈니스인포매틱스학과",
      "photoUrl": "https://lh3.googleusercontent.com/a/default-user=s64",
      "userId": "07002847175634749293"
     },
     "user_tz": -540
    },
    "id": "Jb6aF2vs1dIA",
    "outputId": "8cfe1108-495f-40f9-f2bd-51c1cdcd1d1f"
   },
   "outputs": [
    {
     "data": {
      "text/html": [
       "<div>\n",
       "<style scoped>\n",
       "    .dataframe tbody tr th:only-of-type {\n",
       "        vertical-align: middle;\n",
       "    }\n",
       "\n",
       "    .dataframe tbody tr th {\n",
       "        vertical-align: top;\n",
       "    }\n",
       "\n",
       "    .dataframe thead th {\n",
       "        text-align: right;\n",
       "    }\n",
       "</style>\n",
       "<table border=\"1\" class=\"dataframe\">\n",
       "  <thead>\n",
       "    <tr style=\"text-align: right;\">\n",
       "      <th></th>\n",
       "      <th>Missing Count</th>\n",
       "      <th>Missing %</th>\n",
       "    </tr>\n",
       "  </thead>\n",
       "  <tbody>\n",
       "    <tr>\n",
       "      <th>상수도_6개월_위험</th>\n",
       "      <td>2303</td>\n",
       "      <td>36.853897</td>\n",
       "    </tr>\n",
       "    <tr>\n",
       "      <th>상수도_12개월_확정</th>\n",
       "      <td>2303</td>\n",
       "      <td>36.853897</td>\n",
       "    </tr>\n",
       "    <tr>\n",
       "      <th>주택 가격</th>\n",
       "      <td>2129</td>\n",
       "      <td>34.069451</td>\n",
       "    </tr>\n",
       "    <tr>\n",
       "      <th>사용승인일</th>\n",
       "      <td>1933</td>\n",
       "      <td>30.932949</td>\n",
       "    </tr>\n",
       "    <tr>\n",
       "      <th>주지붕</th>\n",
       "      <td>1928</td>\n",
       "      <td>30.852936</td>\n",
       "    </tr>\n",
       "    <tr>\n",
       "      <th>지하층수</th>\n",
       "      <td>1928</td>\n",
       "      <td>30.852936</td>\n",
       "    </tr>\n",
       "    <tr>\n",
       "      <th>가구수</th>\n",
       "      <td>1928</td>\n",
       "      <td>30.852936</td>\n",
       "    </tr>\n",
       "    <tr>\n",
       "      <th>세대수</th>\n",
       "      <td>1928</td>\n",
       "      <td>30.852936</td>\n",
       "    </tr>\n",
       "    <tr>\n",
       "      <th>기타지붕</th>\n",
       "      <td>1928</td>\n",
       "      <td>30.852936</td>\n",
       "    </tr>\n",
       "    <tr>\n",
       "      <th>지상층수</th>\n",
       "      <td>1928</td>\n",
       "      <td>30.852936</td>\n",
       "    </tr>\n",
       "    <tr>\n",
       "      <th>기타용도</th>\n",
       "      <td>1928</td>\n",
       "      <td>30.852936</td>\n",
       "    </tr>\n",
       "    <tr>\n",
       "      <th>기타구조</th>\n",
       "      <td>1928</td>\n",
       "      <td>30.852936</td>\n",
       "    </tr>\n",
       "    <tr>\n",
       "      <th>주구조</th>\n",
       "      <td>1928</td>\n",
       "      <td>30.852936</td>\n",
       "    </tr>\n",
       "    <tr>\n",
       "      <th>연면적</th>\n",
       "      <td>1928</td>\n",
       "      <td>30.852936</td>\n",
       "    </tr>\n",
       "    <tr>\n",
       "      <th>건축면적</th>\n",
       "      <td>1928</td>\n",
       "      <td>30.852936</td>\n",
       "    </tr>\n",
       "    <tr>\n",
       "      <th>대지면적</th>\n",
       "      <td>1928</td>\n",
       "      <td>30.852936</td>\n",
       "    </tr>\n",
       "    <tr>\n",
       "      <th>주용도</th>\n",
       "      <td>1928</td>\n",
       "      <td>30.852936</td>\n",
       "    </tr>\n",
       "    <tr>\n",
       "      <th>전기 사용량 최종</th>\n",
       "      <td>1348</td>\n",
       "      <td>21.571451</td>\n",
       "    </tr>\n",
       "    <tr>\n",
       "      <th>개별공시지가</th>\n",
       "      <td>457</td>\n",
       "      <td>7.313170</td>\n",
       "    </tr>\n",
       "    <tr>\n",
       "      <th>외국인남자인구</th>\n",
       "      <td>2</td>\n",
       "      <td>0.032005</td>\n",
       "    </tr>\n",
       "    <tr>\n",
       "      <th>65세이상인구비율</th>\n",
       "      <td>2</td>\n",
       "      <td>0.032005</td>\n",
       "    </tr>\n",
       "    <tr>\n",
       "      <th>65세이상인구</th>\n",
       "      <td>2</td>\n",
       "      <td>0.032005</td>\n",
       "    </tr>\n",
       "    <tr>\n",
       "      <th>외국인여자인구</th>\n",
       "      <td>2</td>\n",
       "      <td>0.032005</td>\n",
       "    </tr>\n",
       "    <tr>\n",
       "      <th>기초생활수급자현황</th>\n",
       "      <td>2</td>\n",
       "      <td>0.032005</td>\n",
       "    </tr>\n",
       "    <tr>\n",
       "      <th>여자인구</th>\n",
       "      <td>2</td>\n",
       "      <td>0.032005</td>\n",
       "    </tr>\n",
       "    <tr>\n",
       "      <th>남자인구</th>\n",
       "      <td>2</td>\n",
       "      <td>0.032005</td>\n",
       "    </tr>\n",
       "    <tr>\n",
       "      <th>총인구</th>\n",
       "      <td>2</td>\n",
       "      <td>0.032005</td>\n",
       "    </tr>\n",
       "    <tr>\n",
       "      <th>기초생활수급자비율</th>\n",
       "      <td>2</td>\n",
       "      <td>0.032005</td>\n",
       "    </tr>\n",
       "  </tbody>\n",
       "</table>\n",
       "</div>"
      ],
      "text/plain": [
       "             Missing Count  Missing %\n",
       "상수도_6개월_위험            2303  36.853897\n",
       "상수도_12개월_확정           2303  36.853897\n",
       "주택 가격                 2129  34.069451\n",
       "사용승인일                 1933  30.932949\n",
       "주지붕                   1928  30.852936\n",
       "지하층수                  1928  30.852936\n",
       "가구수                   1928  30.852936\n",
       "세대수                   1928  30.852936\n",
       "기타지붕                  1928  30.852936\n",
       "지상층수                  1928  30.852936\n",
       "기타용도                  1928  30.852936\n",
       "기타구조                  1928  30.852936\n",
       "주구조                   1928  30.852936\n",
       "연면적                   1928  30.852936\n",
       "건축면적                  1928  30.852936\n",
       "대지면적                  1928  30.852936\n",
       "주용도                   1928  30.852936\n",
       "전기 사용량 최종             1348  21.571451\n",
       "개별공시지가                 457   7.313170\n",
       "외국인남자인구                  2   0.032005\n",
       "65세이상인구비율                2   0.032005\n",
       "65세이상인구                  2   0.032005\n",
       "외국인여자인구                  2   0.032005\n",
       "기초생활수급자현황                2   0.032005\n",
       "여자인구                     2   0.032005\n",
       "남자인구                     2   0.032005\n",
       "총인구                      2   0.032005\n",
       "기초생활수급자비율                2   0.032005"
      ]
     },
     "execution_count": 17,
     "metadata": {},
     "output_type": "execute_result"
    }
   ],
   "source": [
    "missing_df(df)"
   ]
  },
  {
   "cell_type": "code",
   "execution_count": 18,
   "metadata": {
    "colab": {
     "base_uri": "https://localhost:8080/",
     "height": 1000
    },
    "executionInfo": {
     "elapsed": 399,
     "status": "ok",
     "timestamp": 1639989902349,
     "user": {
      "displayName": "­이현태 | 서울 비즈니스인포매틱스학과",
      "photoUrl": "https://lh3.googleusercontent.com/a/default-user=s64",
      "userId": "07002847175634749293"
     },
     "user_tz": -540
    },
    "id": "ibn4cIUa8-Xf",
    "outputId": "3d0c8224-cc78-4086-8e9e-2698840ac32f",
    "scrolled": true
   },
   "outputs": [],
   "source": [
    "df = df[df['상수도_6개월_위험'].notna()]\n",
    "df = df[df['주택 가격'].notna()]\n",
    "df = df[df['사용승인일'].notna()]\n",
    "df = df[df['주지붕'].notna()]\n",
    "df = df[df['전기 사용량 최종'].notna()]\n",
    "# df"
   ]
  },
  {
   "cell_type": "code",
   "execution_count": 19,
   "metadata": {},
   "outputs": [
    {
     "data": {
      "text/plain": [
       "0"
      ]
     },
     "execution_count": 19,
     "metadata": {},
     "output_type": "execute_result"
    }
   ],
   "source": [
    "df.isna().sum().sum()"
   ]
  },
  {
   "cell_type": "markdown",
   "metadata": {
    "id": "HzVub1-DZgFr"
   },
   "source": [
    "# 왜도값 확인"
   ]
  },
  {
   "cell_type": "code",
   "execution_count": 20,
   "metadata": {},
   "outputs": [],
   "source": [
    "def skw_df(df):\n",
    "    # 수치형 변수 skew 값 확인\n",
    "    numeric = df.dtypes[df.dtypes != \"object\"].index\n",
    "\n",
    "    skewness = df[numeric].apply(lambda x : x.skew()).sort_values(ascending=False)\n",
    "\n",
    "    sk_df = pd.DataFrame(skewness, columns=['skewness'])\n",
    "    sk_df['skw'] = abs(sk_df)\n",
    "    return sk_df.sort_values('skw', ascending=False).drop('skw', axis=1)"
   ]
  },
  {
   "cell_type": "code",
   "execution_count": 21,
   "metadata": {},
   "outputs": [
    {
     "data": {
      "text/html": [
       "<div>\n",
       "<style scoped>\n",
       "    .dataframe tbody tr th:only-of-type {\n",
       "        vertical-align: middle;\n",
       "    }\n",
       "\n",
       "    .dataframe tbody tr th {\n",
       "        vertical-align: top;\n",
       "    }\n",
       "\n",
       "    .dataframe thead th {\n",
       "        text-align: right;\n",
       "    }\n",
       "</style>\n",
       "<table border=\"1\" class=\"dataframe\">\n",
       "  <thead>\n",
       "    <tr style=\"text-align: right;\">\n",
       "      <th></th>\n",
       "      <th>skewness</th>\n",
       "    </tr>\n",
       "  </thead>\n",
       "  <tbody>\n",
       "    <tr>\n",
       "      <th>상수도_6개월_위험</th>\n",
       "      <td>32.512462</td>\n",
       "    </tr>\n",
       "    <tr>\n",
       "      <th>상수도_12개월_확정</th>\n",
       "      <td>32.054748</td>\n",
       "    </tr>\n",
       "    <tr>\n",
       "      <th>전기 사용량 최종</th>\n",
       "      <td>17.549491</td>\n",
       "    </tr>\n",
       "    <tr>\n",
       "      <th>세대수</th>\n",
       "      <td>14.536876</td>\n",
       "    </tr>\n",
       "    <tr>\n",
       "      <th>연면적</th>\n",
       "      <td>11.354256</td>\n",
       "    </tr>\n",
       "    <tr>\n",
       "      <th>건축면적</th>\n",
       "      <td>9.521388</td>\n",
       "    </tr>\n",
       "    <tr>\n",
       "      <th>대지면적</th>\n",
       "      <td>7.998634</td>\n",
       "    </tr>\n",
       "    <tr>\n",
       "      <th>지하층수</th>\n",
       "      <td>3.230702</td>\n",
       "    </tr>\n",
       "    <tr>\n",
       "      <th>지상층수</th>\n",
       "      <td>1.966464</td>\n",
       "    </tr>\n",
       "    <tr>\n",
       "      <th>외국인남자인구</th>\n",
       "      <td>1.656410</td>\n",
       "    </tr>\n",
       "    <tr>\n",
       "      <th>빈집여부</th>\n",
       "      <td>1.637425</td>\n",
       "    </tr>\n",
       "    <tr>\n",
       "      <th>여자인구</th>\n",
       "      <td>1.616772</td>\n",
       "    </tr>\n",
       "    <tr>\n",
       "      <th>가구수</th>\n",
       "      <td>1.540639</td>\n",
       "    </tr>\n",
       "    <tr>\n",
       "      <th>총인구</th>\n",
       "      <td>1.528558</td>\n",
       "    </tr>\n",
       "    <tr>\n",
       "      <th>남자인구</th>\n",
       "      <td>1.428287</td>\n",
       "    </tr>\n",
       "    <tr>\n",
       "      <th>주택 가격</th>\n",
       "      <td>1.422438</td>\n",
       "    </tr>\n",
       "    <tr>\n",
       "      <th>개별공시지가</th>\n",
       "      <td>1.164851</td>\n",
       "    </tr>\n",
       "    <tr>\n",
       "      <th>사용승인일</th>\n",
       "      <td>1.163377</td>\n",
       "    </tr>\n",
       "    <tr>\n",
       "      <th>기초생활수급자비율</th>\n",
       "      <td>1.003676</td>\n",
       "    </tr>\n",
       "    <tr>\n",
       "      <th>65세이상인구</th>\n",
       "      <td>0.887704</td>\n",
       "    </tr>\n",
       "    <tr>\n",
       "      <th>poi 특성 2</th>\n",
       "      <td>0.619900</td>\n",
       "    </tr>\n",
       "    <tr>\n",
       "      <th>외국인여자인구</th>\n",
       "      <td>0.581957</td>\n",
       "    </tr>\n",
       "    <tr>\n",
       "      <th>poi 특성 1</th>\n",
       "      <td>0.498127</td>\n",
       "    </tr>\n",
       "    <tr>\n",
       "      <th>65세이상인구비율</th>\n",
       "      <td>0.343502</td>\n",
       "    </tr>\n",
       "    <tr>\n",
       "      <th>기초생활수급자현황</th>\n",
       "      <td>0.311595</td>\n",
       "    </tr>\n",
       "    <tr>\n",
       "      <th>poi 특성 3</th>\n",
       "      <td>0.049546</td>\n",
       "    </tr>\n",
       "  </tbody>\n",
       "</table>\n",
       "</div>"
      ],
      "text/plain": [
       "              skewness\n",
       "상수도_6개월_위험   32.512462\n",
       "상수도_12개월_확정  32.054748\n",
       "전기 사용량 최종    17.549491\n",
       "세대수          14.536876\n",
       "연면적          11.354256\n",
       "건축면적          9.521388\n",
       "대지면적          7.998634\n",
       "지하층수          3.230702\n",
       "지상층수          1.966464\n",
       "외국인남자인구       1.656410\n",
       "빈집여부          1.637425\n",
       "여자인구          1.616772\n",
       "가구수           1.540639\n",
       "총인구           1.528558\n",
       "남자인구          1.428287\n",
       "주택 가격         1.422438\n",
       "개별공시지가        1.164851\n",
       "사용승인일         1.163377\n",
       "기초생활수급자비율     1.003676\n",
       "65세이상인구       0.887704\n",
       "poi 특성 2      0.619900\n",
       "외국인여자인구       0.581957\n",
       "poi 특성 1      0.498127\n",
       "65세이상인구비율     0.343502\n",
       "기초생활수급자현황     0.311595\n",
       "poi 특성 3      0.049546"
      ]
     },
     "execution_count": 21,
     "metadata": {},
     "output_type": "execute_result"
    }
   ],
   "source": [
    "skw_df(df)"
   ]
  },
  {
   "cell_type": "code",
   "execution_count": 22,
   "metadata": {
    "id": "vpEYR8qYQuTo"
   },
   "outputs": [],
   "source": [
    "# skew 값이 크면 log(x+1)로 변환\n",
    "# -2~+2는 치우침이 없는 데이터\n",
    "# 지하층수, 지상층수는 스케일이 크지 않으므로 변환 안함\n",
    "df['상수도_6개월_위험'] = np.log1p(df['상수도_6개월_위험'])\n",
    "df['상수도_12개월_확정'] = np.log1p(df['상수도_12개월_확정'])\n",
    "df['전기 사용량 최종'] = np.log1p(df['전기 사용량 최종'])\n",
    "df['세대수'] = np.log1p(df['세대수'])\n",
    "df['연면적'] = np.log1p(df['연면적'])\n",
    "df['건축면적'] = np.log1p(df['건축면적'])\n",
    "df['대지면적'] = np.log1p(df['대지면적'])"
   ]
  },
  {
   "cell_type": "code",
   "execution_count": 23,
   "metadata": {},
   "outputs": [
    {
     "data": {
      "text/html": [
       "<div>\n",
       "<style scoped>\n",
       "    .dataframe tbody tr th:only-of-type {\n",
       "        vertical-align: middle;\n",
       "    }\n",
       "\n",
       "    .dataframe tbody tr th {\n",
       "        vertical-align: top;\n",
       "    }\n",
       "\n",
       "    .dataframe thead th {\n",
       "        text-align: right;\n",
       "    }\n",
       "</style>\n",
       "<table border=\"1\" class=\"dataframe\">\n",
       "  <thead>\n",
       "    <tr style=\"text-align: right;\">\n",
       "      <th></th>\n",
       "      <th>skewness</th>\n",
       "    </tr>\n",
       "  </thead>\n",
       "  <tbody>\n",
       "    <tr>\n",
       "      <th>지하층수</th>\n",
       "      <td>3.230702</td>\n",
       "    </tr>\n",
       "    <tr>\n",
       "      <th>세대수</th>\n",
       "      <td>2.683837</td>\n",
       "    </tr>\n",
       "    <tr>\n",
       "      <th>지상층수</th>\n",
       "      <td>1.966464</td>\n",
       "    </tr>\n",
       "    <tr>\n",
       "      <th>외국인남자인구</th>\n",
       "      <td>1.656410</td>\n",
       "    </tr>\n",
       "    <tr>\n",
       "      <th>빈집여부</th>\n",
       "      <td>1.637425</td>\n",
       "    </tr>\n",
       "    <tr>\n",
       "      <th>여자인구</th>\n",
       "      <td>1.616772</td>\n",
       "    </tr>\n",
       "    <tr>\n",
       "      <th>가구수</th>\n",
       "      <td>1.540639</td>\n",
       "    </tr>\n",
       "    <tr>\n",
       "      <th>총인구</th>\n",
       "      <td>1.528558</td>\n",
       "    </tr>\n",
       "    <tr>\n",
       "      <th>건축면적</th>\n",
       "      <td>-1.436100</td>\n",
       "    </tr>\n",
       "    <tr>\n",
       "      <th>남자인구</th>\n",
       "      <td>1.428287</td>\n",
       "    </tr>\n",
       "    <tr>\n",
       "      <th>주택 가격</th>\n",
       "      <td>1.422438</td>\n",
       "    </tr>\n",
       "    <tr>\n",
       "      <th>전기 사용량 최종</th>\n",
       "      <td>-1.250671</td>\n",
       "    </tr>\n",
       "    <tr>\n",
       "      <th>개별공시지가</th>\n",
       "      <td>1.164851</td>\n",
       "    </tr>\n",
       "    <tr>\n",
       "      <th>사용승인일</th>\n",
       "      <td>1.163377</td>\n",
       "    </tr>\n",
       "    <tr>\n",
       "      <th>기초생활수급자비율</th>\n",
       "      <td>1.003676</td>\n",
       "    </tr>\n",
       "    <tr>\n",
       "      <th>상수도_12개월_확정</th>\n",
       "      <td>-0.973449</td>\n",
       "    </tr>\n",
       "    <tr>\n",
       "      <th>65세이상인구</th>\n",
       "      <td>0.887704</td>\n",
       "    </tr>\n",
       "    <tr>\n",
       "      <th>상수도_6개월_위험</th>\n",
       "      <td>-0.717197</td>\n",
       "    </tr>\n",
       "    <tr>\n",
       "      <th>poi 특성 2</th>\n",
       "      <td>0.619900</td>\n",
       "    </tr>\n",
       "    <tr>\n",
       "      <th>외국인여자인구</th>\n",
       "      <td>0.581957</td>\n",
       "    </tr>\n",
       "    <tr>\n",
       "      <th>poi 특성 1</th>\n",
       "      <td>0.498127</td>\n",
       "    </tr>\n",
       "    <tr>\n",
       "      <th>대지면적</th>\n",
       "      <td>-0.402920</td>\n",
       "    </tr>\n",
       "    <tr>\n",
       "      <th>65세이상인구비율</th>\n",
       "      <td>0.343502</td>\n",
       "    </tr>\n",
       "    <tr>\n",
       "      <th>기초생활수급자현황</th>\n",
       "      <td>0.311595</td>\n",
       "    </tr>\n",
       "    <tr>\n",
       "      <th>연면적</th>\n",
       "      <td>-0.218659</td>\n",
       "    </tr>\n",
       "    <tr>\n",
       "      <th>poi 특성 3</th>\n",
       "      <td>0.049546</td>\n",
       "    </tr>\n",
       "  </tbody>\n",
       "</table>\n",
       "</div>"
      ],
      "text/plain": [
       "             skewness\n",
       "지하층수         3.230702\n",
       "세대수          2.683837\n",
       "지상층수         1.966464\n",
       "외국인남자인구      1.656410\n",
       "빈집여부         1.637425\n",
       "여자인구         1.616772\n",
       "가구수          1.540639\n",
       "총인구          1.528558\n",
       "건축면적        -1.436100\n",
       "남자인구         1.428287\n",
       "주택 가격        1.422438\n",
       "전기 사용량 최종   -1.250671\n",
       "개별공시지가       1.164851\n",
       "사용승인일        1.163377\n",
       "기초생활수급자비율    1.003676\n",
       "상수도_12개월_확정 -0.973449\n",
       "65세이상인구      0.887704\n",
       "상수도_6개월_위험  -0.717197\n",
       "poi 특성 2     0.619900\n",
       "외국인여자인구      0.581957\n",
       "poi 특성 1     0.498127\n",
       "대지면적        -0.402920\n",
       "65세이상인구비율    0.343502\n",
       "기초생활수급자현황    0.311595\n",
       "연면적         -0.218659\n",
       "poi 특성 3     0.049546"
      ]
     },
     "execution_count": 23,
     "metadata": {},
     "output_type": "execute_result"
    }
   ],
   "source": [
    "# 수치형 변수 skew 값 다시 확인\n",
    "skw_df(df)"
   ]
  },
  {
   "cell_type": "markdown",
   "metadata": {
    "id": "7z0NP-WaKooJ"
   },
   "source": [
    "## 범주형 변수 인코딩"
   ]
  },
  {
   "cell_type": "code",
   "execution_count": 24,
   "metadata": {
    "colab": {
     "base_uri": "https://localhost:8080/"
    },
    "executionInfo": {
     "elapsed": 299,
     "status": "ok",
     "timestamp": 1639990436680,
     "user": {
      "displayName": "­이현태 | 서울 비즈니스인포매틱스학과",
      "photoUrl": "https://lh3.googleusercontent.com/a/default-user=s64",
      "userId": "07002847175634749293"
     },
     "user_tz": -540
    },
    "id": "kT2ZWTJeKui8",
    "outputId": "8e1746d2-5d3f-43ae-ccd1-a720b6a32d98"
   },
   "outputs": [
    {
     "name": "stdout",
     "output_type": "stream",
     "text": [
      "주구조: 12\n",
      "기타구조: 219\n",
      "주용도: 2\n",
      "기타용도: 102\n",
      "주지붕: 5\n",
      "기타지붕: 190\n"
     ]
    }
   ],
   "source": [
    "# 범주형 변수 값 개수 확인\n",
    "print('주구조:', df['주구조'].nunique())\n",
    "print('기타구조:', df['기타구조'].nunique())\n",
    "print('주용도:', df['주용도'].nunique())\n",
    "print('기타용도:', df['기타용도'].nunique())\n",
    "print('주지붕:', df['주지붕'].nunique())\n",
    "print('기타지붕:', df['기타지붕'].nunique())"
   ]
  },
  {
   "cell_type": "code",
   "execution_count": 25,
   "metadata": {
    "colab": {
     "base_uri": "https://localhost:8080/",
     "height": 1000
    },
    "executionInfo": {
     "elapsed": 267,
     "status": "ok",
     "timestamp": 1639990439573,
     "user": {
      "displayName": "­이현태 | 서울 비즈니스인포매틱스학과",
      "photoUrl": "https://lh3.googleusercontent.com/a/default-user=s64",
      "userId": "07002847175634749293"
     },
     "user_tz": -540
    },
    "id": "DhgRcYZMLl2s",
    "outputId": "a285d763-f88e-4317-944e-13b97ffc259b",
    "scrolled": true
   },
   "outputs": [],
   "source": [
    "# 범주가 너무 많은 것들은 제거\n",
    "df.drop(['기타구조', '기타용도', '기타지붕'], axis=1, inplace=True)\n",
    "# df"
   ]
  },
  {
   "cell_type": "code",
   "execution_count": 26,
   "metadata": {
    "colab": {
     "base_uri": "https://localhost:8080/",
     "height": 657
    },
    "executionInfo": {
     "elapsed": 21,
     "status": "ok",
     "timestamp": 1639823624396,
     "user": {
      "displayName": "­이현태 | 서울 비즈니스인포매틱스학과",
      "photoUrl": "https://lh3.googleusercontent.com/a/default-user=s64",
      "userId": "07002847175634749293"
     },
     "user_tz": -540
    },
    "id": "4wFiIXMVdxqQ",
    "outputId": "a84bd76d-6ca4-4bc8-8e3c-c18adda201c7"
   },
   "outputs": [],
   "source": [
    "# 주_구조, 주_용도, 주_지붕 one hot encoding\n",
    "df = pd.get_dummies(df, columns=['주구조', '주용도', '주지붕'])\n",
    "# df"
   ]
  },
  {
   "cell_type": "code",
   "execution_count": 27,
   "metadata": {
    "id": "-gjiZV_u-lKp",
    "outputId": "13e501b1-8273-41e0-84cb-622555fe0b20"
   },
   "outputs": [
    {
     "data": {
      "text/plain": [
       "0"
      ]
     },
     "execution_count": 27,
     "metadata": {},
     "output_type": "execute_result"
    }
   ],
   "source": [
    "df.isna().sum().sum()"
   ]
  },
  {
   "cell_type": "code",
   "execution_count": 28,
   "metadata": {
    "colab": {
     "base_uri": "https://localhost:8080/"
    },
    "executionInfo": {
     "elapsed": 20,
     "status": "ok",
     "timestamp": 1639823624396,
     "user": {
      "displayName": "­이현태 | 서울 비즈니스인포매틱스학과",
      "photoUrl": "https://lh3.googleusercontent.com/a/default-user=s64",
      "userId": "07002847175634749293"
     },
     "user_tz": -540
    },
    "id": "1ZehWWkTEeCB",
    "outputId": "f217bb32-e883-4038-af63-4090ea4a1d66"
   },
   "outputs": [
    {
     "data": {
      "text/plain": [
       "0    2365\n",
       "1     531\n",
       "Name: 빈집여부, dtype: int64"
      ]
     },
     "execution_count": 28,
     "metadata": {},
     "output_type": "execute_result"
    }
   ],
   "source": [
    "df['빈집여부'].value_counts()"
   ]
  },
  {
   "cell_type": "code",
   "execution_count": 29,
   "metadata": {},
   "outputs": [
    {
     "data": {
      "text/plain": [
       "0.8166436464088398"
      ]
     },
     "execution_count": 29,
     "metadata": {},
     "output_type": "execute_result"
    }
   ],
   "source": [
    "# 빈집 아님 비율\n",
    "len(df[df['빈집여부']==0])/len(df['빈집여부'])"
   ]
  },
  {
   "cell_type": "code",
   "execution_count": 30,
   "metadata": {},
   "outputs": [
    {
     "data": {
      "text/plain": [
       "0.18335635359116023"
      ]
     },
     "execution_count": 30,
     "metadata": {},
     "output_type": "execute_result"
    }
   ],
   "source": [
    "# 빈집 비율\n",
    "len(df[df['빈집여부']==1])/len(df['빈집여부'])"
   ]
  },
  {
   "cell_type": "markdown",
   "metadata": {
    "id": "E8jbX1JwNLJe"
   },
   "source": [
    "# 상관관계"
   ]
  },
  {
   "cell_type": "code",
   "execution_count": 31,
   "metadata": {
    "colab": {
     "base_uri": "https://localhost:8080/",
     "height": 1000
    },
    "executionInfo": {
     "elapsed": 18443,
     "status": "ok",
     "timestamp": 1639823642823,
     "user": {
      "displayName": "­이현태 | 서울 비즈니스인포매틱스학과",
      "photoUrl": "https://lh3.googleusercontent.com/a/default-user=s64",
      "userId": "07002847175634749293"
     },
     "user_tz": -540
    },
    "id": "eQrww8JuNOq1",
    "outputId": "44f51cf6-d6b6-47c4-ebc2-776396e0c3aa",
    "scrolled": false
   },
   "outputs": [],
   "source": [
    "# 빈집여부가 target 변수\n",
    "# plt.rcParams['font.family'] = 'Malgun Gothic'\n",
    "# plt.rcParams[\"figure.figsize\"] = (45,30)\n",
    "# plt.xticks(fontsize=18)\n",
    "# plt.yticks(fontsize=18)\n",
    "# plt.rc('font', size=18) \n",
    "# sns.heatmap(data=df.corr(), annot=True,\n",
    "#            fmt = '.2f', linewidths=.6, cmap = 'Blues')"
   ]
  },
  {
   "cell_type": "markdown",
   "metadata": {
    "id": "_oqxBda0MyHs"
   },
   "source": [
    "# 훈련, 테스트 데이터 세트 분리"
   ]
  },
  {
   "cell_type": "code",
   "execution_count": 32,
   "metadata": {
    "id": "UoeUoMzRMxUH"
   },
   "outputs": [],
   "source": [
    "x = df.drop(['빈집여부'], axis=1, inplace=False)\n",
    "y = df['빈집여부']"
   ]
  },
  {
   "cell_type": "code",
   "execution_count": 33,
   "metadata": {},
   "outputs": [],
   "source": [
    "from sklearn.model_selection import train_test_split\n",
    "# train, test 분리\n",
    "X_train_all, X_test, y_train_all, y_test = train_test_split(x, y, stratify=y, test_size=0.3)\n",
    "\n",
    "# 검증세트 분할하기\n",
    "# X_train, X_val, y_train, y_val = train_test_split(X_train_all, y_train_all, stratify=y_train_all, test_size=0.3)\n",
    "# print(len(X_train), len(X_val))"
   ]
  },
  {
   "cell_type": "code",
   "execution_count": 34,
   "metadata": {},
   "outputs": [],
   "source": [
    "from sklearn.preprocessing import MinMaxScaler\n",
    "\n",
    "scaler = MinMaxScaler()\n",
    "scaler.fit(X_train_all)\n",
    "\n",
    "X_train_all = scaler.transform(X_train_all)\n",
    "X_train_all = pd.DataFrame(X_train_all, columns = x.columns)\n",
    "\n",
    "X_test = scaler.transform(X_test)\n",
    "X_test = pd.DataFrame(X_test, columns = x.columns)"
   ]
  },
  {
   "cell_type": "code",
   "execution_count": 35,
   "metadata": {},
   "outputs": [
    {
     "data": {
      "text/html": [
       "<div>\n",
       "<style scoped>\n",
       "    .dataframe tbody tr th:only-of-type {\n",
       "        vertical-align: middle;\n",
       "    }\n",
       "\n",
       "    .dataframe tbody tr th {\n",
       "        vertical-align: top;\n",
       "    }\n",
       "\n",
       "    .dataframe thead th {\n",
       "        text-align: right;\n",
       "    }\n",
       "</style>\n",
       "<table border=\"1\" class=\"dataframe\">\n",
       "  <thead>\n",
       "    <tr style=\"text-align: right;\">\n",
       "      <th></th>\n",
       "      <th>상수도_6개월_위험</th>\n",
       "      <th>상수도_12개월_확정</th>\n",
       "      <th>전기 사용량 최종</th>\n",
       "      <th>대지면적</th>\n",
       "      <th>건축면적</th>\n",
       "      <th>연면적</th>\n",
       "      <th>세대수</th>\n",
       "      <th>가구수</th>\n",
       "      <th>지상층수</th>\n",
       "      <th>지하층수</th>\n",
       "      <th>...</th>\n",
       "      <th>주구조_조적구조</th>\n",
       "      <th>주구조_철골콘크리트구조</th>\n",
       "      <th>주구조_철근콘크리트구조</th>\n",
       "      <th>주용도_공동주택</th>\n",
       "      <th>주용도_단독주택</th>\n",
       "      <th>주지붕_(철근)콘크리트</th>\n",
       "      <th>주지붕_0</th>\n",
       "      <th>주지붕_기와</th>\n",
       "      <th>주지붕_기타지붕</th>\n",
       "      <th>주지붕_슬레이트</th>\n",
       "    </tr>\n",
       "  </thead>\n",
       "  <tbody>\n",
       "    <tr>\n",
       "      <th>0</th>\n",
       "      <td>0.319911</td>\n",
       "      <td>0.301867</td>\n",
       "      <td>0.700830</td>\n",
       "      <td>0.731805</td>\n",
       "      <td>0.479071</td>\n",
       "      <td>0.454652</td>\n",
       "      <td>0.0</td>\n",
       "      <td>0.047619</td>\n",
       "      <td>0.066667</td>\n",
       "      <td>0.0</td>\n",
       "      <td>...</td>\n",
       "      <td>0.0</td>\n",
       "      <td>0.0</td>\n",
       "      <td>0.0</td>\n",
       "      <td>0.0</td>\n",
       "      <td>1.0</td>\n",
       "      <td>1.0</td>\n",
       "      <td>0.0</td>\n",
       "      <td>0.0</td>\n",
       "      <td>0.0</td>\n",
       "      <td>0.0</td>\n",
       "    </tr>\n",
       "    <tr>\n",
       "      <th>1</th>\n",
       "      <td>0.358602</td>\n",
       "      <td>0.403935</td>\n",
       "      <td>0.695752</td>\n",
       "      <td>0.000000</td>\n",
       "      <td>0.472236</td>\n",
       "      <td>0.452992</td>\n",
       "      <td>0.0</td>\n",
       "      <td>0.000000</td>\n",
       "      <td>0.066667</td>\n",
       "      <td>0.0</td>\n",
       "      <td>...</td>\n",
       "      <td>0.0</td>\n",
       "      <td>0.0</td>\n",
       "      <td>0.0</td>\n",
       "      <td>0.0</td>\n",
       "      <td>1.0</td>\n",
       "      <td>1.0</td>\n",
       "      <td>0.0</td>\n",
       "      <td>0.0</td>\n",
       "      <td>0.0</td>\n",
       "      <td>0.0</td>\n",
       "    </tr>\n",
       "    <tr>\n",
       "      <th>2</th>\n",
       "      <td>0.390713</td>\n",
       "      <td>0.447970</td>\n",
       "      <td>0.569715</td>\n",
       "      <td>0.000000</td>\n",
       "      <td>0.469104</td>\n",
       "      <td>0.449986</td>\n",
       "      <td>0.0</td>\n",
       "      <td>0.047619</td>\n",
       "      <td>0.066667</td>\n",
       "      <td>0.0</td>\n",
       "      <td>...</td>\n",
       "      <td>0.0</td>\n",
       "      <td>0.0</td>\n",
       "      <td>0.0</td>\n",
       "      <td>0.0</td>\n",
       "      <td>1.0</td>\n",
       "      <td>1.0</td>\n",
       "      <td>0.0</td>\n",
       "      <td>0.0</td>\n",
       "      <td>0.0</td>\n",
       "      <td>0.0</td>\n",
       "    </tr>\n",
       "    <tr>\n",
       "      <th>3</th>\n",
       "      <td>0.345788</td>\n",
       "      <td>0.408288</td>\n",
       "      <td>0.719274</td>\n",
       "      <td>0.632975</td>\n",
       "      <td>0.526208</td>\n",
       "      <td>0.615694</td>\n",
       "      <td>0.0</td>\n",
       "      <td>0.523810</td>\n",
       "      <td>0.266667</td>\n",
       "      <td>0.0</td>\n",
       "      <td>...</td>\n",
       "      <td>0.0</td>\n",
       "      <td>0.0</td>\n",
       "      <td>1.0</td>\n",
       "      <td>0.0</td>\n",
       "      <td>1.0</td>\n",
       "      <td>1.0</td>\n",
       "      <td>0.0</td>\n",
       "      <td>0.0</td>\n",
       "      <td>0.0</td>\n",
       "      <td>0.0</td>\n",
       "    </tr>\n",
       "    <tr>\n",
       "      <th>4</th>\n",
       "      <td>0.361534</td>\n",
       "      <td>0.412423</td>\n",
       "      <td>0.709566</td>\n",
       "      <td>0.713921</td>\n",
       "      <td>0.524664</td>\n",
       "      <td>0.594425</td>\n",
       "      <td>0.0</td>\n",
       "      <td>0.571429</td>\n",
       "      <td>0.200000</td>\n",
       "      <td>0.0</td>\n",
       "      <td>...</td>\n",
       "      <td>0.0</td>\n",
       "      <td>0.0</td>\n",
       "      <td>1.0</td>\n",
       "      <td>0.0</td>\n",
       "      <td>1.0</td>\n",
       "      <td>1.0</td>\n",
       "      <td>0.0</td>\n",
       "      <td>0.0</td>\n",
       "      <td>0.0</td>\n",
       "      <td>0.0</td>\n",
       "    </tr>\n",
       "    <tr>\n",
       "      <th>...</th>\n",
       "      <td>...</td>\n",
       "      <td>...</td>\n",
       "      <td>...</td>\n",
       "      <td>...</td>\n",
       "      <td>...</td>\n",
       "      <td>...</td>\n",
       "      <td>...</td>\n",
       "      <td>...</td>\n",
       "      <td>...</td>\n",
       "      <td>...</td>\n",
       "      <td>...</td>\n",
       "      <td>...</td>\n",
       "      <td>...</td>\n",
       "      <td>...</td>\n",
       "      <td>...</td>\n",
       "      <td>...</td>\n",
       "      <td>...</td>\n",
       "      <td>...</td>\n",
       "      <td>...</td>\n",
       "      <td>...</td>\n",
       "      <td>...</td>\n",
       "    </tr>\n",
       "    <tr>\n",
       "      <th>2022</th>\n",
       "      <td>0.410130</td>\n",
       "      <td>0.455845</td>\n",
       "      <td>0.605668</td>\n",
       "      <td>0.000000</td>\n",
       "      <td>0.392760</td>\n",
       "      <td>0.376754</td>\n",
       "      <td>0.0</td>\n",
       "      <td>0.047619</td>\n",
       "      <td>0.066667</td>\n",
       "      <td>0.0</td>\n",
       "      <td>...</td>\n",
       "      <td>0.0</td>\n",
       "      <td>0.0</td>\n",
       "      <td>0.0</td>\n",
       "      <td>0.0</td>\n",
       "      <td>1.0</td>\n",
       "      <td>0.0</td>\n",
       "      <td>0.0</td>\n",
       "      <td>1.0</td>\n",
       "      <td>0.0</td>\n",
       "      <td>0.0</td>\n",
       "    </tr>\n",
       "    <tr>\n",
       "      <th>2023</th>\n",
       "      <td>0.000000</td>\n",
       "      <td>0.000000</td>\n",
       "      <td>0.133409</td>\n",
       "      <td>0.000000</td>\n",
       "      <td>0.520509</td>\n",
       "      <td>0.529425</td>\n",
       "      <td>0.0</td>\n",
       "      <td>0.047619</td>\n",
       "      <td>0.133333</td>\n",
       "      <td>0.0</td>\n",
       "      <td>...</td>\n",
       "      <td>0.0</td>\n",
       "      <td>0.0</td>\n",
       "      <td>0.0</td>\n",
       "      <td>0.0</td>\n",
       "      <td>1.0</td>\n",
       "      <td>0.0</td>\n",
       "      <td>0.0</td>\n",
       "      <td>1.0</td>\n",
       "      <td>0.0</td>\n",
       "      <td>0.0</td>\n",
       "    </tr>\n",
       "    <tr>\n",
       "      <th>2024</th>\n",
       "      <td>0.225577</td>\n",
       "      <td>0.270375</td>\n",
       "      <td>0.733231</td>\n",
       "      <td>0.650756</td>\n",
       "      <td>0.543323</td>\n",
       "      <td>0.611437</td>\n",
       "      <td>0.0</td>\n",
       "      <td>0.380952</td>\n",
       "      <td>0.200000</td>\n",
       "      <td>0.0</td>\n",
       "      <td>...</td>\n",
       "      <td>0.0</td>\n",
       "      <td>0.0</td>\n",
       "      <td>1.0</td>\n",
       "      <td>0.0</td>\n",
       "      <td>1.0</td>\n",
       "      <td>1.0</td>\n",
       "      <td>0.0</td>\n",
       "      <td>0.0</td>\n",
       "      <td>0.0</td>\n",
       "      <td>0.0</td>\n",
       "    </tr>\n",
       "    <tr>\n",
       "      <th>2025</th>\n",
       "      <td>0.378525</td>\n",
       "      <td>0.402649</td>\n",
       "      <td>0.597629</td>\n",
       "      <td>0.000000</td>\n",
       "      <td>0.459428</td>\n",
       "      <td>0.440706</td>\n",
       "      <td>0.0</td>\n",
       "      <td>0.047619</td>\n",
       "      <td>0.066667</td>\n",
       "      <td>0.0</td>\n",
       "      <td>...</td>\n",
       "      <td>0.0</td>\n",
       "      <td>0.0</td>\n",
       "      <td>0.0</td>\n",
       "      <td>0.0</td>\n",
       "      <td>1.0</td>\n",
       "      <td>1.0</td>\n",
       "      <td>0.0</td>\n",
       "      <td>0.0</td>\n",
       "      <td>0.0</td>\n",
       "      <td>0.0</td>\n",
       "    </tr>\n",
       "    <tr>\n",
       "      <th>2026</th>\n",
       "      <td>0.000000</td>\n",
       "      <td>0.403935</td>\n",
       "      <td>0.754426</td>\n",
       "      <td>0.769431</td>\n",
       "      <td>0.540928</td>\n",
       "      <td>0.514100</td>\n",
       "      <td>0.0</td>\n",
       "      <td>0.047619</td>\n",
       "      <td>0.066667</td>\n",
       "      <td>0.0</td>\n",
       "      <td>...</td>\n",
       "      <td>0.0</td>\n",
       "      <td>0.0</td>\n",
       "      <td>0.0</td>\n",
       "      <td>0.0</td>\n",
       "      <td>1.0</td>\n",
       "      <td>1.0</td>\n",
       "      <td>0.0</td>\n",
       "      <td>0.0</td>\n",
       "      <td>0.0</td>\n",
       "      <td>0.0</td>\n",
       "    </tr>\n",
       "  </tbody>\n",
       "</table>\n",
       "<p>2027 rows × 44 columns</p>\n",
       "</div>"
      ],
      "text/plain": [
       "      상수도_6개월_위험  상수도_12개월_확정  전기 사용량 최종      대지면적      건축면적       연면적  세대수  \\\n",
       "0       0.319911     0.301867   0.700830  0.731805  0.479071  0.454652  0.0   \n",
       "1       0.358602     0.403935   0.695752  0.000000  0.472236  0.452992  0.0   \n",
       "2       0.390713     0.447970   0.569715  0.000000  0.469104  0.449986  0.0   \n",
       "3       0.345788     0.408288   0.719274  0.632975  0.526208  0.615694  0.0   \n",
       "4       0.361534     0.412423   0.709566  0.713921  0.524664  0.594425  0.0   \n",
       "...          ...          ...        ...       ...       ...       ...  ...   \n",
       "2022    0.410130     0.455845   0.605668  0.000000  0.392760  0.376754  0.0   \n",
       "2023    0.000000     0.000000   0.133409  0.000000  0.520509  0.529425  0.0   \n",
       "2024    0.225577     0.270375   0.733231  0.650756  0.543323  0.611437  0.0   \n",
       "2025    0.378525     0.402649   0.597629  0.000000  0.459428  0.440706  0.0   \n",
       "2026    0.000000     0.403935   0.754426  0.769431  0.540928  0.514100  0.0   \n",
       "\n",
       "           가구수      지상층수  지하층수  ...  주구조_조적구조  주구조_철골콘크리트구조  주구조_철근콘크리트구조  \\\n",
       "0     0.047619  0.066667   0.0  ...       0.0           0.0           0.0   \n",
       "1     0.000000  0.066667   0.0  ...       0.0           0.0           0.0   \n",
       "2     0.047619  0.066667   0.0  ...       0.0           0.0           0.0   \n",
       "3     0.523810  0.266667   0.0  ...       0.0           0.0           1.0   \n",
       "4     0.571429  0.200000   0.0  ...       0.0           0.0           1.0   \n",
       "...        ...       ...   ...  ...       ...           ...           ...   \n",
       "2022  0.047619  0.066667   0.0  ...       0.0           0.0           0.0   \n",
       "2023  0.047619  0.133333   0.0  ...       0.0           0.0           0.0   \n",
       "2024  0.380952  0.200000   0.0  ...       0.0           0.0           1.0   \n",
       "2025  0.047619  0.066667   0.0  ...       0.0           0.0           0.0   \n",
       "2026  0.047619  0.066667   0.0  ...       0.0           0.0           0.0   \n",
       "\n",
       "      주용도_공동주택  주용도_단독주택  주지붕_(철근)콘크리트  주지붕_0  주지붕_기와  주지붕_기타지붕  주지붕_슬레이트  \n",
       "0          0.0       1.0           1.0    0.0     0.0       0.0       0.0  \n",
       "1          0.0       1.0           1.0    0.0     0.0       0.0       0.0  \n",
       "2          0.0       1.0           1.0    0.0     0.0       0.0       0.0  \n",
       "3          0.0       1.0           1.0    0.0     0.0       0.0       0.0  \n",
       "4          0.0       1.0           1.0    0.0     0.0       0.0       0.0  \n",
       "...        ...       ...           ...    ...     ...       ...       ...  \n",
       "2022       0.0       1.0           0.0    0.0     1.0       0.0       0.0  \n",
       "2023       0.0       1.0           0.0    0.0     1.0       0.0       0.0  \n",
       "2024       0.0       1.0           1.0    0.0     0.0       0.0       0.0  \n",
       "2025       0.0       1.0           1.0    0.0     0.0       0.0       0.0  \n",
       "2026       0.0       1.0           1.0    0.0     0.0       0.0       0.0  \n",
       "\n",
       "[2027 rows x 44 columns]"
      ]
     },
     "execution_count": 35,
     "metadata": {},
     "output_type": "execute_result"
    }
   ],
   "source": [
    "X_train_all"
   ]
  },
  {
   "cell_type": "code",
   "execution_count": 36,
   "metadata": {},
   "outputs": [
    {
     "data": {
      "text/html": [
       "<div>\n",
       "<style scoped>\n",
       "    .dataframe tbody tr th:only-of-type {\n",
       "        vertical-align: middle;\n",
       "    }\n",
       "\n",
       "    .dataframe tbody tr th {\n",
       "        vertical-align: top;\n",
       "    }\n",
       "\n",
       "    .dataframe thead th {\n",
       "        text-align: right;\n",
       "    }\n",
       "</style>\n",
       "<table border=\"1\" class=\"dataframe\">\n",
       "  <thead>\n",
       "    <tr style=\"text-align: right;\">\n",
       "      <th></th>\n",
       "      <th>상수도_6개월_위험</th>\n",
       "      <th>상수도_12개월_확정</th>\n",
       "      <th>전기 사용량 최종</th>\n",
       "      <th>대지면적</th>\n",
       "      <th>건축면적</th>\n",
       "      <th>연면적</th>\n",
       "      <th>세대수</th>\n",
       "      <th>가구수</th>\n",
       "      <th>지상층수</th>\n",
       "      <th>지하층수</th>\n",
       "      <th>...</th>\n",
       "      <th>주구조_조적구조</th>\n",
       "      <th>주구조_철골콘크리트구조</th>\n",
       "      <th>주구조_철근콘크리트구조</th>\n",
       "      <th>주용도_공동주택</th>\n",
       "      <th>주용도_단독주택</th>\n",
       "      <th>주지붕_(철근)콘크리트</th>\n",
       "      <th>주지붕_0</th>\n",
       "      <th>주지붕_기와</th>\n",
       "      <th>주지붕_기타지붕</th>\n",
       "      <th>주지붕_슬레이트</th>\n",
       "    </tr>\n",
       "  </thead>\n",
       "  <tbody>\n",
       "    <tr>\n",
       "      <th>0</th>\n",
       "      <td>0.478256</td>\n",
       "      <td>0.511466</td>\n",
       "      <td>0.490796</td>\n",
       "      <td>0.000000</td>\n",
       "      <td>0.416837</td>\n",
       "      <td>0.452470</td>\n",
       "      <td>0.000000</td>\n",
       "      <td>0.047619</td>\n",
       "      <td>0.133333</td>\n",
       "      <td>0.0</td>\n",
       "      <td>...</td>\n",
       "      <td>0.0</td>\n",
       "      <td>0.0</td>\n",
       "      <td>0.0</td>\n",
       "      <td>0.0</td>\n",
       "      <td>1.0</td>\n",
       "      <td>0.0</td>\n",
       "      <td>0.0</td>\n",
       "      <td>0.0</td>\n",
       "      <td>0.0</td>\n",
       "      <td>1.0</td>\n",
       "    </tr>\n",
       "    <tr>\n",
       "      <th>1</th>\n",
       "      <td>0.593008</td>\n",
       "      <td>0.618490</td>\n",
       "      <td>0.000000</td>\n",
       "      <td>0.571954</td>\n",
       "      <td>0.000000</td>\n",
       "      <td>0.570873</td>\n",
       "      <td>0.323316</td>\n",
       "      <td>0.000000</td>\n",
       "      <td>0.133333</td>\n",
       "      <td>0.0</td>\n",
       "      <td>...</td>\n",
       "      <td>0.0</td>\n",
       "      <td>0.0</td>\n",
       "      <td>0.0</td>\n",
       "      <td>1.0</td>\n",
       "      <td>0.0</td>\n",
       "      <td>1.0</td>\n",
       "      <td>0.0</td>\n",
       "      <td>0.0</td>\n",
       "      <td>0.0</td>\n",
       "      <td>0.0</td>\n",
       "    </tr>\n",
       "    <tr>\n",
       "      <th>2</th>\n",
       "      <td>0.419562</td>\n",
       "      <td>0.453770</td>\n",
       "      <td>0.635522</td>\n",
       "      <td>0.000000</td>\n",
       "      <td>0.475205</td>\n",
       "      <td>0.505955</td>\n",
       "      <td>0.000000</td>\n",
       "      <td>0.047619</td>\n",
       "      <td>0.133333</td>\n",
       "      <td>1.0</td>\n",
       "      <td>...</td>\n",
       "      <td>0.0</td>\n",
       "      <td>0.0</td>\n",
       "      <td>0.0</td>\n",
       "      <td>0.0</td>\n",
       "      <td>1.0</td>\n",
       "      <td>0.0</td>\n",
       "      <td>0.0</td>\n",
       "      <td>1.0</td>\n",
       "      <td>0.0</td>\n",
       "      <td>0.0</td>\n",
       "    </tr>\n",
       "    <tr>\n",
       "      <th>3</th>\n",
       "      <td>0.360081</td>\n",
       "      <td>0.393761</td>\n",
       "      <td>0.728157</td>\n",
       "      <td>0.611159</td>\n",
       "      <td>0.496268</td>\n",
       "      <td>0.584805</td>\n",
       "      <td>0.000000</td>\n",
       "      <td>0.523810</td>\n",
       "      <td>0.266667</td>\n",
       "      <td>0.0</td>\n",
       "      <td>...</td>\n",
       "      <td>0.0</td>\n",
       "      <td>0.0</td>\n",
       "      <td>1.0</td>\n",
       "      <td>0.0</td>\n",
       "      <td>1.0</td>\n",
       "      <td>1.0</td>\n",
       "      <td>0.0</td>\n",
       "      <td>0.0</td>\n",
       "      <td>0.0</td>\n",
       "      <td>0.0</td>\n",
       "    </tr>\n",
       "    <tr>\n",
       "      <th>4</th>\n",
       "      <td>0.468564</td>\n",
       "      <td>0.500460</td>\n",
       "      <td>0.637854</td>\n",
       "      <td>0.000000</td>\n",
       "      <td>0.425941</td>\n",
       "      <td>0.408583</td>\n",
       "      <td>0.000000</td>\n",
       "      <td>0.047619</td>\n",
       "      <td>0.066667</td>\n",
       "      <td>0.0</td>\n",
       "      <td>...</td>\n",
       "      <td>0.0</td>\n",
       "      <td>0.0</td>\n",
       "      <td>0.0</td>\n",
       "      <td>0.0</td>\n",
       "      <td>1.0</td>\n",
       "      <td>0.0</td>\n",
       "      <td>0.0</td>\n",
       "      <td>0.0</td>\n",
       "      <td>0.0</td>\n",
       "      <td>1.0</td>\n",
       "    </tr>\n",
       "    <tr>\n",
       "      <th>...</th>\n",
       "      <td>...</td>\n",
       "      <td>...</td>\n",
       "      <td>...</td>\n",
       "      <td>...</td>\n",
       "      <td>...</td>\n",
       "      <td>...</td>\n",
       "      <td>...</td>\n",
       "      <td>...</td>\n",
       "      <td>...</td>\n",
       "      <td>...</td>\n",
       "      <td>...</td>\n",
       "      <td>...</td>\n",
       "      <td>...</td>\n",
       "      <td>...</td>\n",
       "      <td>...</td>\n",
       "      <td>...</td>\n",
       "      <td>...</td>\n",
       "      <td>...</td>\n",
       "      <td>...</td>\n",
       "      <td>...</td>\n",
       "      <td>...</td>\n",
       "    </tr>\n",
       "    <tr>\n",
       "      <th>864</th>\n",
       "      <td>0.603735</td>\n",
       "      <td>0.627118</td>\n",
       "      <td>0.750832</td>\n",
       "      <td>0.691926</td>\n",
       "      <td>0.566063</td>\n",
       "      <td>0.636246</td>\n",
       "      <td>0.000000</td>\n",
       "      <td>0.857143</td>\n",
       "      <td>0.266667</td>\n",
       "      <td>0.0</td>\n",
       "      <td>...</td>\n",
       "      <td>0.0</td>\n",
       "      <td>0.0</td>\n",
       "      <td>1.0</td>\n",
       "      <td>0.0</td>\n",
       "      <td>1.0</td>\n",
       "      <td>1.0</td>\n",
       "      <td>0.0</td>\n",
       "      <td>0.0</td>\n",
       "      <td>0.0</td>\n",
       "      <td>0.0</td>\n",
       "    </tr>\n",
       "    <tr>\n",
       "      <th>865</th>\n",
       "      <td>0.202503</td>\n",
       "      <td>0.267120</td>\n",
       "      <td>0.773565</td>\n",
       "      <td>0.608339</td>\n",
       "      <td>0.486495</td>\n",
       "      <td>0.456235</td>\n",
       "      <td>0.000000</td>\n",
       "      <td>0.047619</td>\n",
       "      <td>0.066667</td>\n",
       "      <td>0.0</td>\n",
       "      <td>...</td>\n",
       "      <td>0.0</td>\n",
       "      <td>0.0</td>\n",
       "      <td>0.0</td>\n",
       "      <td>0.0</td>\n",
       "      <td>1.0</td>\n",
       "      <td>1.0</td>\n",
       "      <td>0.0</td>\n",
       "      <td>0.0</td>\n",
       "      <td>0.0</td>\n",
       "      <td>0.0</td>\n",
       "    </tr>\n",
       "    <tr>\n",
       "      <th>866</th>\n",
       "      <td>0.547945</td>\n",
       "      <td>0.580851</td>\n",
       "      <td>0.684664</td>\n",
       "      <td>0.599595</td>\n",
       "      <td>0.496655</td>\n",
       "      <td>0.583158</td>\n",
       "      <td>0.000000</td>\n",
       "      <td>0.380952</td>\n",
       "      <td>0.200000</td>\n",
       "      <td>0.0</td>\n",
       "      <td>...</td>\n",
       "      <td>0.0</td>\n",
       "      <td>0.0</td>\n",
       "      <td>1.0</td>\n",
       "      <td>0.0</td>\n",
       "      <td>1.0</td>\n",
       "      <td>1.0</td>\n",
       "      <td>0.0</td>\n",
       "      <td>0.0</td>\n",
       "      <td>0.0</td>\n",
       "      <td>0.0</td>\n",
       "    </tr>\n",
       "    <tr>\n",
       "      <th>867</th>\n",
       "      <td>0.340456</td>\n",
       "      <td>0.487535</td>\n",
       "      <td>0.712405</td>\n",
       "      <td>0.607160</td>\n",
       "      <td>0.502730</td>\n",
       "      <td>0.592907</td>\n",
       "      <td>0.000000</td>\n",
       "      <td>0.476190</td>\n",
       "      <td>0.266667</td>\n",
       "      <td>0.0</td>\n",
       "      <td>...</td>\n",
       "      <td>0.0</td>\n",
       "      <td>0.0</td>\n",
       "      <td>1.0</td>\n",
       "      <td>0.0</td>\n",
       "      <td>1.0</td>\n",
       "      <td>1.0</td>\n",
       "      <td>0.0</td>\n",
       "      <td>0.0</td>\n",
       "      <td>0.0</td>\n",
       "      <td>0.0</td>\n",
       "    </tr>\n",
       "    <tr>\n",
       "      <th>868</th>\n",
       "      <td>0.332804</td>\n",
       "      <td>0.322965</td>\n",
       "      <td>0.677173</td>\n",
       "      <td>0.626480</td>\n",
       "      <td>0.519538</td>\n",
       "      <td>0.592897</td>\n",
       "      <td>0.000000</td>\n",
       "      <td>0.095238</td>\n",
       "      <td>0.200000</td>\n",
       "      <td>0.0</td>\n",
       "      <td>...</td>\n",
       "      <td>0.0</td>\n",
       "      <td>0.0</td>\n",
       "      <td>1.0</td>\n",
       "      <td>0.0</td>\n",
       "      <td>1.0</td>\n",
       "      <td>1.0</td>\n",
       "      <td>0.0</td>\n",
       "      <td>0.0</td>\n",
       "      <td>0.0</td>\n",
       "      <td>0.0</td>\n",
       "    </tr>\n",
       "  </tbody>\n",
       "</table>\n",
       "<p>869 rows × 44 columns</p>\n",
       "</div>"
      ],
      "text/plain": [
       "     상수도_6개월_위험  상수도_12개월_확정  전기 사용량 최종      대지면적      건축면적       연면적  \\\n",
       "0      0.478256     0.511466   0.490796  0.000000  0.416837  0.452470   \n",
       "1      0.593008     0.618490   0.000000  0.571954  0.000000  0.570873   \n",
       "2      0.419562     0.453770   0.635522  0.000000  0.475205  0.505955   \n",
       "3      0.360081     0.393761   0.728157  0.611159  0.496268  0.584805   \n",
       "4      0.468564     0.500460   0.637854  0.000000  0.425941  0.408583   \n",
       "..          ...          ...        ...       ...       ...       ...   \n",
       "864    0.603735     0.627118   0.750832  0.691926  0.566063  0.636246   \n",
       "865    0.202503     0.267120   0.773565  0.608339  0.486495  0.456235   \n",
       "866    0.547945     0.580851   0.684664  0.599595  0.496655  0.583158   \n",
       "867    0.340456     0.487535   0.712405  0.607160  0.502730  0.592907   \n",
       "868    0.332804     0.322965   0.677173  0.626480  0.519538  0.592897   \n",
       "\n",
       "          세대수       가구수      지상층수  지하층수  ...  주구조_조적구조  주구조_철골콘크리트구조  \\\n",
       "0    0.000000  0.047619  0.133333   0.0  ...       0.0           0.0   \n",
       "1    0.323316  0.000000  0.133333   0.0  ...       0.0           0.0   \n",
       "2    0.000000  0.047619  0.133333   1.0  ...       0.0           0.0   \n",
       "3    0.000000  0.523810  0.266667   0.0  ...       0.0           0.0   \n",
       "4    0.000000  0.047619  0.066667   0.0  ...       0.0           0.0   \n",
       "..        ...       ...       ...   ...  ...       ...           ...   \n",
       "864  0.000000  0.857143  0.266667   0.0  ...       0.0           0.0   \n",
       "865  0.000000  0.047619  0.066667   0.0  ...       0.0           0.0   \n",
       "866  0.000000  0.380952  0.200000   0.0  ...       0.0           0.0   \n",
       "867  0.000000  0.476190  0.266667   0.0  ...       0.0           0.0   \n",
       "868  0.000000  0.095238  0.200000   0.0  ...       0.0           0.0   \n",
       "\n",
       "     주구조_철근콘크리트구조  주용도_공동주택  주용도_단독주택  주지붕_(철근)콘크리트  주지붕_0  주지붕_기와  주지붕_기타지붕  \\\n",
       "0             0.0       0.0       1.0           0.0    0.0     0.0       0.0   \n",
       "1             0.0       1.0       0.0           1.0    0.0     0.0       0.0   \n",
       "2             0.0       0.0       1.0           0.0    0.0     1.0       0.0   \n",
       "3             1.0       0.0       1.0           1.0    0.0     0.0       0.0   \n",
       "4             0.0       0.0       1.0           0.0    0.0     0.0       0.0   \n",
       "..            ...       ...       ...           ...    ...     ...       ...   \n",
       "864           1.0       0.0       1.0           1.0    0.0     0.0       0.0   \n",
       "865           0.0       0.0       1.0           1.0    0.0     0.0       0.0   \n",
       "866           1.0       0.0       1.0           1.0    0.0     0.0       0.0   \n",
       "867           1.0       0.0       1.0           1.0    0.0     0.0       0.0   \n",
       "868           1.0       0.0       1.0           1.0    0.0     0.0       0.0   \n",
       "\n",
       "     주지붕_슬레이트  \n",
       "0         1.0  \n",
       "1         0.0  \n",
       "2         0.0  \n",
       "3         0.0  \n",
       "4         1.0  \n",
       "..        ...  \n",
       "864       0.0  \n",
       "865       0.0  \n",
       "866       0.0  \n",
       "867       0.0  \n",
       "868       0.0  \n",
       "\n",
       "[869 rows x 44 columns]"
      ]
     },
     "execution_count": 36,
     "metadata": {},
     "output_type": "execute_result"
    }
   ],
   "source": [
    "X_test"
   ]
  },
  {
   "cell_type": "code",
   "execution_count": 37,
   "metadata": {
    "colab": {
     "base_uri": "https://localhost:8080/",
     "height": 677
    },
    "executionInfo": {
     "elapsed": 37,
     "status": "ok",
     "timestamp": 1639823642827,
     "user": {
      "displayName": "­이현태 | 서울 비즈니스인포매틱스학과",
      "photoUrl": "https://lh3.googleusercontent.com/a/default-user=s64",
      "userId": "07002847175634749293"
     },
     "user_tz": -540
    },
    "id": "aLw2500sMl6Q",
    "outputId": "7a0003c5-de16-4a6e-9591-efcbdedade52"
   },
   "outputs": [
    {
     "name": "stdout",
     "output_type": "stream",
     "text": [
      "1418 609\n"
     ]
    }
   ],
   "source": [
    "# 검증세트 분할하기\n",
    "X_train, X_val, y_train, y_val = train_test_split(X_train_all, y_train_all, stratify=y_train_all, test_size=0.3)\n",
    "print(len(X_train), len(X_val))"
   ]
  },
  {
   "cell_type": "code",
   "execution_count": 38,
   "metadata": {
    "colab": {
     "base_uri": "https://localhost:8080/"
    },
    "executionInfo": {
     "elapsed": 35,
     "status": "ok",
     "timestamp": 1639823642828,
     "user": {
      "displayName": "­이현태 | 서울 비즈니스인포매틱스학과",
      "photoUrl": "https://lh3.googleusercontent.com/a/default-user=s64",
      "userId": "07002847175634749293"
     },
     "user_tz": -540
    },
    "id": "4Xg1klpjNBbi",
    "outputId": "cf32db24-8378-4f20-ed64-e76c11f73f4e"
   },
   "outputs": [
    {
     "name": "stdout",
     "output_type": "stream",
     "text": [
      "372\n",
      "159\n"
     ]
    }
   ],
   "source": [
    "# 훈련 데이터, 테스트 데이터에 있는 빈집 데이터 수\n",
    "print(y_train_all[y_train_all == 1].count())\n",
    "print(y_test[y_test == 1 ].count())"
   ]
  },
  {
   "cell_type": "code",
   "execution_count": 39,
   "metadata": {
    "id": "yA0_qwnxNEBJ"
   },
   "outputs": [],
   "source": [
    "def results(X_test, y_test, y_pred, model):    \n",
    "    from sklearn.metrics import roc_auc_score, accuracy_score, precision_score, recall_score, confusion_matrix, f1_score\n",
    "    from sklearn import metrics\n",
    "    from sklearn.metrics import classification_report\n",
    "    print(\"Confusion Matrix:\")\n",
    "    print(confusion_matrix(y_test, y_pred))\n",
    "    print(\"\\nClassification Report:\")\n",
    "    print(classification_report(y_test, y_pred)) \n",
    "\n",
    "    fig, ax_arr = plt.subplots(nrows = 1, ncols = 1, figsize = (8,6))\n",
    "\n",
    "    probs = model.predict_proba(X_test)\n",
    "    preds = probs[:,1]\n",
    "    fpr, tpr, threshold = metrics.roc_curve(y_test, preds)\n",
    "    roc_auc = metrics.auc(fpr, tpr)\n",
    "\n",
    "    ax_arr.plot(fpr, tpr, 'b', label = 'AUC = %0.2f' % roc_auc)\n",
    "    ax_arr.plot([0, 1], [0, 1],'r--')\n",
    "    ax_arr.set_title('Receiver Operating Characteristic',fontsize=20)\n",
    "    ax_arr.set_ylabel('True Positive Rate',fontsize=20)\n",
    "    ax_arr.set_xlabel('False Positive Rate',fontsize=15)\n",
    "    ax_arr.legend(loc = 'lower right', prop={'size': 16})"
   ]
  },
  {
   "cell_type": "code",
   "execution_count": 40,
   "metadata": {
    "id": "uRuSHZ96NvTJ"
   },
   "outputs": [],
   "source": [
    "def f_importances(coef, names):\n",
    "    ftr_importances = pd.Series(coef,index=names)\n",
    "    ftr_top20 = ftr_importances.sort_values(ascending=False)[:20]\n",
    "    plt.figure(figsize=(8,6))\n",
    "    plt.title('Feature importances Top 20')\n",
    "    sns.barplot(x=ftr_top20 , y=ftr_top20.index)\n",
    "    plt.show()"
   ]
  },
  {
   "cell_type": "markdown",
   "metadata": {
    "id": "W8pShUIhN01L"
   },
   "source": [
    "# 모델 학습"
   ]
  },
  {
   "cell_type": "markdown",
   "metadata": {
    "id": "yW4y3bjjN3H3"
   },
   "source": [
    "## Logistic Regression"
   ]
  },
  {
   "cell_type": "code",
   "execution_count": 41,
   "metadata": {
    "colab": {
     "base_uri": "https://localhost:8080/"
    },
    "executionInfo": {
     "elapsed": 212784,
     "status": "ok",
     "timestamp": 1639823856117,
     "user": {
      "displayName": "­이현태 | 서울 비즈니스인포매틱스학과",
      "photoUrl": "https://lh3.googleusercontent.com/a/default-user=s64",
      "userId": "07002847175634749293"
     },
     "user_tz": -540
    },
    "id": "lVTn2LIU0M7G",
    "outputId": "9dd9a202-4351-4634-ba0b-479987258328"
   },
   "outputs": [
    {
     "name": "stdout",
     "output_type": "stream",
     "text": [
      "Fitting 5 folds for each of 784 candidates, totalling 3920 fits\n",
      "tuned hpyerparameters :(best parameters)  {'C': 1000.0, 'fit_intercept': False, 'max_iter': 1000, 'penalty': 'none', 'solver': 'sag', 'tol': 0.1}\n",
      "accuracy : 0.9353755397433557\n"
     ]
    }
   ],
   "source": [
    "# Logistic Regression Grid search\n",
    "from sklearn.model_selection import GridSearchCV\n",
    "from sklearn.linear_model import LogisticRegression\n",
    "params={\n",
    "    \"C\":np.logspace(-3,3,7), \n",
    "    \"tol\": np.logspace(-3,3,7), \n",
    "    \"penalty\" : [\"none\"],\n",
    "    \"fit_intercept\": [True, False], \n",
    "    \"solver\": [\"newton-cg\", \"lbfgs\", \"sag\", \"saga\"], \n",
    "    \"max_iter\" : [100,1000]}\n",
    "logreg=LogisticRegression()\n",
    "logreg_cv=GridSearchCV(logreg, param_grid = params, cv=5, verbose=1)\n",
    "logreg_cv.fit(X_train_all,y_train_all)\n",
    "\n",
    "print(\"tuned hpyerparameters :(best parameters) \",logreg_cv.best_params_)\n",
    "print(\"accuracy :\",logreg_cv.best_score_)"
   ]
  },
  {
   "cell_type": "code",
   "execution_count": 42,
   "metadata": {
    "colab": {
     "base_uri": "https://localhost:8080/",
     "height": 674
    },
    "executionInfo": {
     "elapsed": 532,
     "status": "ok",
     "timestamp": 1639823856619,
     "user": {
      "displayName": "­이현태 | 서울 비즈니스인포매틱스학과",
      "photoUrl": "https://lh3.googleusercontent.com/a/default-user=s64",
      "userId": "07002847175634749293"
     },
     "user_tz": -540
    },
    "id": "JpjUeP3r0bU7",
    "outputId": "45532be9-e51b-4eb4-ceb4-c6dc1d5d37d7"
   },
   "outputs": [
    {
     "name": "stdout",
     "output_type": "stream",
     "text": [
      "Confusion Matrix:\n",
      "[[688  22]\n",
      " [ 40 119]]\n",
      "\n",
      "Classification Report:\n",
      "              precision    recall  f1-score   support\n",
      "\n",
      "           0       0.95      0.97      0.96       710\n",
      "           1       0.84      0.75      0.79       159\n",
      "\n",
      "    accuracy                           0.93       869\n",
      "   macro avg       0.89      0.86      0.88       869\n",
      "weighted avg       0.93      0.93      0.93       869\n",
      "\n"
     ]
    },
    {
     "data": {
      "image/png": "[encoded data removed]",
      "text/plain": [
       "<Figure size 800x600 with 1 Axes>"
      ]
     },
     "metadata": {},
     "output_type": "display_data"
    }
   ],
   "source": [
    "pred = logreg_cv.best_estimator_.predict(X_test)\n",
    "results(X_test, y_test, pred, logreg_cv)"
   ]
  },
  {
   "cell_type": "code",
   "execution_count": 43,
   "metadata": {
    "colab": {
     "base_uri": "https://localhost:8080/",
     "height": 1000
    },
    "executionInfo": {
     "elapsed": 1286,
     "status": "ok",
     "timestamp": 1639823857900,
     "user": {
      "displayName": "­이현태 | 서울 비즈니스인포매틱스학과",
      "photoUrl": "https://lh3.googleusercontent.com/a/default-user=s64",
      "userId": "07002847175634749293"
     },
     "user_tz": -540
    },
    "id": "WzzfWBf-1ZGB",
    "outputId": "96619582-c5ce-4d07-f085-8799a5bbddea"
   },
   "outputs": [
    {
     "data": {
      "image/png": "[encoded data removed]",
      "text/plain": [
       "<Figure size 800x600 with 1 Axes>"
      ]
     },
     "metadata": {},
     "output_type": "display_data"
    }
   ],
   "source": [
    "features_names = X_test.columns\n",
    "f_importances(abs(logreg_cv.best_estimator_.coef_[0]), features_names)"
   ]
  },
  {
   "cell_type": "code",
   "execution_count": 44,
   "metadata": {
    "id": "kE_XdkcgNyfz"
   },
   "outputs": [],
   "source": [
    "from sklearn.linear_model import LogisticRegression\n",
    "Logistic = LogisticRegression()\n",
    "Logistic.fit(X_train_all, y_train_all)\n",
    "pred1 = Logistic.predict(X_test)"
   ]
  },
  {
   "cell_type": "code",
   "execution_count": 45,
   "metadata": {
    "colab": {
     "base_uri": "https://localhost:8080/",
     "height": 674
    },
    "executionInfo": {
     "elapsed": 13,
     "status": "ok",
     "timestamp": 1639823857902,
     "user": {
      "displayName": "­이현태 | 서울 비즈니스인포매틱스학과",
      "photoUrl": "https://lh3.googleusercontent.com/a/default-user=s64",
      "userId": "07002847175634749293"
     },
     "user_tz": -540
    },
    "id": "qKSsNZn9N645",
    "outputId": "2a53ebcc-e4f7-42db-8df1-3004c9557be8"
   },
   "outputs": [
    {
     "name": "stdout",
     "output_type": "stream",
     "text": [
      "Confusion Matrix:\n",
      "[[691  19]\n",
      " [ 39 120]]\n",
      "\n",
      "Classification Report:\n",
      "              precision    recall  f1-score   support\n",
      "\n",
      "           0       0.95      0.97      0.96       710\n",
      "           1       0.86      0.75      0.81       159\n",
      "\n",
      "    accuracy                           0.93       869\n",
      "   macro avg       0.90      0.86      0.88       869\n",
      "weighted avg       0.93      0.93      0.93       869\n",
      "\n"
     ]
    },
    {
     "data": {
      "image/png": "[encoded data removed]",
      "text/plain": [
       "<Figure size 800x600 with 1 Axes>"
      ]
     },
     "metadata": {},
     "output_type": "display_data"
    }
   ],
   "source": [
    "results(X_test, y_test, pred1, Logistic)"
   ]
  },
  {
   "cell_type": "code",
   "execution_count": 46,
   "metadata": {
    "colab": {
     "base_uri": "https://localhost:8080/",
     "height": 1000
    },
    "executionInfo": {
     "elapsed": 1019,
     "status": "ok",
     "timestamp": 1639823858914,
     "user": {
      "displayName": "­이현태 | 서울 비즈니스인포매틱스학과",
      "photoUrl": "https://lh3.googleusercontent.com/a/default-user=s64",
      "userId": "07002847175634749293"
     },
     "user_tz": -540
    },
    "id": "C8fmB9itRyI7",
    "outputId": "d87f10ae-06d1-46e3-a4ea-86d9c663d416"
   },
   "outputs": [
    {
     "data": {
      "image/png": "[encoded data removed]",
      "text/plain": [
       "<Figure size 800x600 with 1 Axes>"
      ]
     },
     "metadata": {},
     "output_type": "display_data"
    }
   ],
   "source": [
    "features_names = X_test.columns\n",
    "f_importances(abs(Logistic.coef_[0]), features_names)"
   ]
  },
  {
   "cell_type": "markdown",
   "metadata": {
    "id": "fV5rKwKYSGml"
   },
   "source": [
    "\n",
    "# Ridge Regression"
   ]
  },
  {
   "cell_type": "code",
   "execution_count": 44,
   "metadata": {
    "id": "Y45lRjzUSCXI"
   },
   "outputs": [],
   "source": [
    "def results_ridge(X_test, y_test, y_pred, model):    \n",
    "    from sklearn.metrics import roc_auc_score, accuracy_score, precision_score, recall_score, confusion_matrix, f1_score\n",
    "    from sklearn import metrics\n",
    "    from sklearn.metrics import classification_report\n",
    "    print(\"Confusion Matrix:\")\n",
    "    print(confusion_matrix(y_test, y_pred))\n",
    "    print(\"\\nClassification Report:\")\n",
    "    print(classification_report(y_test, y_pred)) \n",
    "\n",
    "    fig, ax_arr = plt.subplots(nrows = 1, ncols = 1, figsize = (8,6))\n",
    "\n",
    "    probs = model.decision_function(X_test)\n",
    "    preds = probs.flatten()\n",
    "    fpr, tpr, threshold = metrics.roc_curve(y_test, preds)\n",
    "    roc_auc = metrics.auc(fpr, tpr)\n",
    "\n",
    "    ax_arr.plot(fpr, tpr, 'b', label = 'AUC = %0.2f' % roc_auc)\n",
    "    ax_arr.plot([0, 1], [0, 1],'r--')\n",
    "    ax_arr.set_title('Receiver Operating Characteristic',fontsize=20)\n",
    "    ax_arr.set_ylabel('True Positive Rate',fontsize=20)\n",
    "    ax_arr.set_xlabel('False Positive Rate',fontsize=15)\n",
    "    ax_arr.legend(loc = 'lower right', prop={'size': 16})"
   ]
  },
  {
   "cell_type": "code",
   "execution_count": 45,
   "metadata": {
    "colab": {
     "base_uri": "https://localhost:8080/"
    },
    "executionInfo": {
     "elapsed": 19483,
     "status": "ok",
     "timestamp": 1639823878390,
     "user": {
      "displayName": "­이현태 | 서울 비즈니스인포매틱스학과",
      "photoUrl": "https://lh3.googleusercontent.com/a/default-user=s64",
      "userId": "07002847175634749293"
     },
     "user_tz": -540
    },
    "id": "XByJ7GvZ5N5s",
    "outputId": "3e02cef3-bba6-4a6c-ceda-dc1a9decfe4e"
   },
   "outputs": [
    {
     "name": "stdout",
     "output_type": "stream",
     "text": [
      "Fitting 5 folds for each of 84 candidates, totalling 420 fits\n",
      "tuned hpyerparameters :(best parameters)  {'alpha': 0.001, 'fit_intercept': True, 'solver': 'lsqr'}\n",
      "accuracy : 0.9141470534573983\n"
     ]
    }
   ],
   "source": [
    "# Ridge Regression Grid search\n",
    "from sklearn.linear_model import RidgeClassifier\n",
    "ridge_reg = RidgeClassifier()\n",
    "params = {\n",
    "    \"alpha\": np.logspace(-3,3,7), \n",
    "    \"fit_intercept\": [True, False],\n",
    "     \"solver\": ['svd', 'cholesky', 'lsqr', 'sparse_cg', 'sag', 'saga']}\n",
    "Ridge_GS = GridSearchCV(ridge_reg, param_grid = params, cv = 5, verbose=1)\n",
    "Ridge_GS.fit(X_train_all,y_train_all)\n",
    "print(\"tuned hpyerparameters :(best parameters) \",Ridge_GS.best_params_)\n",
    "print(\"accuracy :\",Ridge_GS.best_score_)"
   ]
  },
  {
   "cell_type": "code",
   "execution_count": 46,
   "metadata": {
    "colab": {
     "base_uri": "https://localhost:8080/",
     "height": 674
    },
    "executionInfo": {
     "elapsed": 532,
     "status": "ok",
     "timestamp": 1639823878903,
     "user": {
      "displayName": "­이현태 | 서울 비즈니스인포매틱스학과",
      "photoUrl": "https://lh3.googleusercontent.com/a/default-user=s64",
      "userId": "07002847175634749293"
     },
     "user_tz": -540
    },
    "id": "OSWXLPtP7jCt",
    "outputId": "55692446-3766-4ffe-9ef0-967e63a3cdc6"
   },
   "outputs": [
    {
     "name": "stdout",
     "output_type": "stream",
     "text": [
      "Confusion Matrix:\n",
      "[[673  37]\n",
      " [ 30 129]]\n",
      "\n",
      "Classification Report:\n",
      "              precision    recall  f1-score   support\n",
      "\n",
      "           0       0.96      0.95      0.95       710\n",
      "           1       0.78      0.81      0.79       159\n",
      "\n",
      "    accuracy                           0.92       869\n",
      "   macro avg       0.87      0.88      0.87       869\n",
      "weighted avg       0.92      0.92      0.92       869\n",
      "\n"
     ]
    },
    {
     "data": {
      "image/png": "[encoded data removed]",
      "text/plain": [
       "<Figure size 576x432 with 1 Axes>"
      ]
     },
     "metadata": {
      "needs_background": "light"
     },
     "output_type": "display_data"
    }
   ],
   "source": [
    "pred = Ridge_GS.best_estimator_.predict(X_test)\n",
    "results_ridge(X_test, y_test, pred, Ridge_GS)"
   ]
  },
  {
   "cell_type": "code",
   "execution_count": 47,
   "metadata": {
    "colab": {
     "base_uri": "https://localhost:8080/",
     "height": 1000
    },
    "executionInfo": {
     "elapsed": 1259,
     "status": "ok",
     "timestamp": 1639823880158,
     "user": {
      "displayName": "­이현태 | 서울 비즈니스인포매틱스학과",
      "photoUrl": "https://lh3.googleusercontent.com/a/default-user=s64",
      "userId": "07002847175634749293"
     },
     "user_tz": -540
    },
    "id": "NIWMaC7W8ck2",
    "outputId": "3beea272-9140-4446-c1c4-d45042d9c36e"
   },
   "outputs": [
    {
     "data": {
      "image/png": "[encoded data removed]",
      "text/plain": [
       "<Figure size 576x432 with 1 Axes>"
      ]
     },
     "metadata": {
      "needs_background": "light"
     },
     "output_type": "display_data"
    }
   ],
   "source": [
    "features_names = X_test.columns\n",
    "f_importances(abs(Ridge_GS.best_estimator_.coef_[0]), features_names)"
   ]
  },
  {
   "cell_type": "code",
   "execution_count": 48,
   "metadata": {
    "colab": {
     "base_uri": "https://localhost:8080/",
     "height": 674
    },
    "executionInfo": {
     "elapsed": 14,
     "status": "ok",
     "timestamp": 1639823880159,
     "user": {
      "displayName": "­이현태 | 서울 비즈니스인포매틱스학과",
      "photoUrl": "https://lh3.googleusercontent.com/a/default-user=s64",
      "userId": "07002847175634749293"
     },
     "user_tz": -540
    },
    "id": "W34Cb5Y3SKXP",
    "outputId": "a4bc01ac-cce8-4647-ced9-c21755c4d6ac"
   },
   "outputs": [
    {
     "name": "stdout",
     "output_type": "stream",
     "text": [
      "Confusion Matrix:\n",
      "[[672  38]\n",
      " [ 31 128]]\n",
      "\n",
      "Classification Report:\n",
      "              precision    recall  f1-score   support\n",
      "\n",
      "           0       0.96      0.95      0.95       710\n",
      "           1       0.77      0.81      0.79       159\n",
      "\n",
      "    accuracy                           0.92       869\n",
      "   macro avg       0.86      0.88      0.87       869\n",
      "weighted avg       0.92      0.92      0.92       869\n",
      "\n"
     ]
    },
    {
     "data": {
      "image/png": "[encoded data removed]",
      "text/plain": [
       "<Figure size 576x432 with 1 Axes>"
      ]
     },
     "metadata": {
      "needs_background": "light"
     },
     "output_type": "display_data"
    }
   ],
   "source": [
    "# Ridge Regression\n",
    "Ridge = RidgeClassifier()\n",
    "Ridge.fit(X_train_all,y_train_all)\n",
    "pred1 = Ridge.predict(X_test)\n",
    "results_ridge(X_test, y_test, pred1, Ridge)"
   ]
  },
  {
   "cell_type": "code",
   "execution_count": 49,
   "metadata": {
    "colab": {
     "base_uri": "https://localhost:8080/",
     "height": 1000
    },
    "executionInfo": {
     "elapsed": 1096,
     "status": "ok",
     "timestamp": 1639823881248,
     "user": {
      "displayName": "­이현태 | 서울 비즈니스인포매틱스학과",
      "photoUrl": "https://lh3.googleusercontent.com/a/default-user=s64",
      "userId": "07002847175634749293"
     },
     "user_tz": -540
    },
    "id": "TfobfSYISjwR",
    "outputId": "70e15e90-e30a-4b61-fbd0-e4f30af31f27"
   },
   "outputs": [
    {
     "data": {
      "image/png": "[encoded data removed]",
      "text/plain": [
       "<Figure size 576x432 with 1 Axes>"
      ]
     },
     "metadata": {
      "needs_background": "light"
     },
     "output_type": "display_data"
    }
   ],
   "source": [
    "features_names = X_test.columns\n",
    "f_importances(abs(Ridge.coef_[0]), features_names)"
   ]
  },
  {
   "cell_type": "markdown",
   "metadata": {
    "id": "YpsK-Z04SU2i"
   },
   "source": [
    "# Lasso Regression"
   ]
  },
  {
   "cell_type": "code",
   "execution_count": 50,
   "metadata": {
    "colab": {
     "base_uri": "https://localhost:8080/"
    },
    "executionInfo": {
     "elapsed": 56498,
     "status": "ok",
     "timestamp": 1639823937741,
     "user": {
      "displayName": "­이현태 | 서울 비즈니스인포매틱스학과",
      "photoUrl": "https://lh3.googleusercontent.com/a/default-user=s64",
      "userId": "07002847175634749293"
     },
     "user_tz": -540
    },
    "id": "uCtO1SN29KdK",
    "outputId": "2b7bbabd-8cc3-4124-f285-5f94a7e3447d"
   },
   "outputs": [
    {
     "name": "stdout",
     "output_type": "stream",
     "text": [
      "Fitting 5 folds for each of 392 candidates, totalling 1960 fits\n",
      "tuned hpyerparameters :(best parameters)  {'C': 10.0, 'fit_intercept': True, 'max_iter': 1000, 'penalty': 'l1', 'solver': 'liblinear', 'tol': 0.01}\n",
      "accuracy : 0.9353706744511342\n"
     ]
    }
   ],
   "source": [
    "# Lasso Regression Grid search\n",
    "params={\n",
    "    \"C\":np.logspace(-3,3,7), \n",
    "    \"tol\": np.logspace(-3,3,7), \n",
    "    \"penalty\" : [\"l1\"],\n",
    "    \"fit_intercept\": [True, False], \n",
    "    \"solver\": [\"liblinear\", \"saga\"], \n",
    "    'max_iter' : [100,1000]}\n",
    "lasso=LogisticRegression()\n",
    "lasso_cv=GridSearchCV(lasso, param_grid = params, cv = 5, verbose=1)\n",
    "lasso_cv.fit(X_train_all,y_train_all)\n",
    "\n",
    "print(\"tuned hpyerparameters :(best parameters) \",lasso_cv.best_params_)\n",
    "print(\"accuracy :\",lasso_cv.best_score_)"
   ]
  },
  {
   "cell_type": "code",
   "execution_count": 51,
   "metadata": {
    "colab": {
     "base_uri": "https://localhost:8080/",
     "height": 674
    },
    "executionInfo": {
     "elapsed": 384,
     "status": "ok",
     "timestamp": 1639823938112,
     "user": {
      "displayName": "­이현태 | 서울 비즈니스인포매틱스학과",
      "photoUrl": "https://lh3.googleusercontent.com/a/default-user=s64",
      "userId": "07002847175634749293"
     },
     "user_tz": -540
    },
    "id": "zFNstsahCKS-",
    "outputId": "e6ec3b54-a154-488b-e845-a02dccab90ac"
   },
   "outputs": [
    {
     "name": "stdout",
     "output_type": "stream",
     "text": [
      "Confusion Matrix:\n",
      "[[692  18]\n",
      " [ 26 133]]\n",
      "\n",
      "Classification Report:\n",
      "              precision    recall  f1-score   support\n",
      "\n",
      "           0       0.96      0.97      0.97       710\n",
      "           1       0.88      0.84      0.86       159\n",
      "\n",
      "    accuracy                           0.95       869\n",
      "   macro avg       0.92      0.91      0.91       869\n",
      "weighted avg       0.95      0.95      0.95       869\n",
      "\n"
     ]
    },
    {
     "data": {
      "image/png": "[encoded data removed]",
      "text/plain": [
       "<Figure size 576x432 with 1 Axes>"
      ]
     },
     "metadata": {
      "needs_background": "light"
     },
     "output_type": "display_data"
    }
   ],
   "source": [
    "pred = lasso_cv.best_estimator_.predict(X_test)\n",
    "results(X_test, y_test, pred, lasso_cv)"
   ]
  },
  {
   "cell_type": "code",
   "execution_count": 52,
   "metadata": {
    "colab": {
     "base_uri": "https://localhost:8080/",
     "height": 1000
    },
    "executionInfo": {
     "elapsed": 1388,
     "status": "ok",
     "timestamp": 1639823939495,
     "user": {
      "displayName": "­이현태 | 서울 비즈니스인포매틱스학과",
      "photoUrl": "https://lh3.googleusercontent.com/a/default-user=s64",
      "userId": "07002847175634749293"
     },
     "user_tz": -540
    },
    "id": "9ezN713ZCtm4",
    "outputId": "5be50701-3fd7-4385-f829-c83eb2ebd18e"
   },
   "outputs": [
    {
     "data": {
      "image/png": "[encoded data removed]",
      "text/plain": [
       "<Figure size 576x432 with 1 Axes>"
      ]
     },
     "metadata": {
      "needs_background": "light"
     },
     "output_type": "display_data"
    }
   ],
   "source": [
    "features_names = X_test.columns\n",
    "f_importances(abs(lasso_cv.best_estimator_.coef_[0]), features_names)"
   ]
  },
  {
   "cell_type": "code",
   "execution_count": 53,
   "metadata": {
    "colab": {
     "base_uri": "https://localhost:8080/",
     "height": 674
    },
    "executionInfo": {
     "elapsed": 5,
     "status": "ok",
     "timestamp": 1639823939496,
     "user": {
      "displayName": "­이현태 | 서울 비즈니스인포매틱스학과",
      "photoUrl": "https://lh3.googleusercontent.com/a/default-user=s64",
      "userId": "07002847175634749293"
     },
     "user_tz": -540
    },
    "id": "Qs-21k4dSNpo",
    "outputId": "612edcfa-bcff-482b-851d-35658eff93e5"
   },
   "outputs": [
    {
     "name": "stdout",
     "output_type": "stream",
     "text": [
      "Confusion Matrix:\n",
      "[[694  16]\n",
      " [ 25 134]]\n",
      "\n",
      "Classification Report:\n",
      "              precision    recall  f1-score   support\n",
      "\n",
      "           0       0.97      0.98      0.97       710\n",
      "           1       0.89      0.84      0.87       159\n",
      "\n",
      "    accuracy                           0.95       869\n",
      "   macro avg       0.93      0.91      0.92       869\n",
      "weighted avg       0.95      0.95      0.95       869\n",
      "\n"
     ]
    },
    {
     "data": {
      "image/png": "[encoded data removed]",
      "text/plain": [
       "<Figure size 576x432 with 1 Axes>"
      ]
     },
     "metadata": {
      "needs_background": "light"
     },
     "output_type": "display_data"
    }
   ],
   "source": [
    "# Lasso Regression\n",
    "Lasso = LogisticRegression(penalty='l1', solver='liblinear')\n",
    "Lasso.fit(X_train_all,y_train_all)\n",
    "pred1 = Lasso.predict(X_test)\n",
    "results(X_test, y_test, pred1, Lasso)"
   ]
  },
  {
   "cell_type": "code",
   "execution_count": 54,
   "metadata": {
    "colab": {
     "base_uri": "https://localhost:8080/",
     "height": 1000
    },
    "executionInfo": {
     "elapsed": 1189,
     "status": "ok",
     "timestamp": 1639823940681,
     "user": {
      "displayName": "­이현태 | 서울 비즈니스인포매틱스학과",
      "photoUrl": "https://lh3.googleusercontent.com/a/default-user=s64",
      "userId": "07002847175634749293"
     },
     "user_tz": -540
    },
    "id": "5GlYPobFSZm2",
    "outputId": "6f98617f-647d-4c2c-a8ca-620dfcaaabc7"
   },
   "outputs": [
    {
     "data": {
      "image/png": "[encoded data removed]",
      "text/plain": [
       "<Figure size 576x432 with 1 Axes>"
      ]
     },
     "metadata": {
      "needs_background": "light"
     },
     "output_type": "display_data"
    }
   ],
   "source": [
    "features_names = X_test.columns\n",
    "f_importances(abs(Lasso.coef_[0]), features_names)"
   ]
  },
  {
   "cell_type": "markdown",
   "metadata": {
    "id": "54Vx1iSSTg6n"
   },
   "source": [
    "# SVM"
   ]
  },
  {
   "cell_type": "code",
   "execution_count": 55,
   "metadata": {
    "colab": {
     "base_uri": "https://localhost:8080/"
    },
    "executionInfo": {
     "elapsed": 361668,
     "status": "ok",
     "timestamp": 1639824365781,
     "user": {
      "displayName": "­이현태 | 서울 비즈니스인포매틱스학과",
      "photoUrl": "https://lh3.googleusercontent.com/a/default-user=s64",
      "userId": "07002847175634749293"
     },
     "user_tz": -540
    },
    "id": "qhmqT2bcP2bF",
    "outputId": "d9c53c3a-f761-46cb-d29a-14fe1e928480"
   },
   "outputs": [
    {
     "name": "stdout",
     "output_type": "stream",
     "text": [
      "Fitting 5 folds for each of 48 candidates, totalling 240 fits\n",
      "tuned hpyerparameters :(best parameters)  {'C': 10, 'gamma': 1, 'kernel': 'linear', 'probability': True, 'shrinking': True}\n",
      "accuracy : 0.9329015386486651\n"
     ]
    }
   ],
   "source": [
    "from sklearn.svm import SVC\n",
    "params = {\n",
    "    'C': [0.001, 0.01, 0.1, 1, 10, 100],\n",
    "    'gamma':[1,0.1,0.001,0.0001],\n",
    "    'kernel':['linear'],\n",
    "    'probability' : [True],\n",
    "    'shrinking' : [True, False]\n",
    "}\n",
    "svm = SVC()\n",
    "svm_cv = GridSearchCV(svm, param_grid = params, scoring='accuracy',  cv=5, verbose=1)\n",
    "svm_cv.fit(X_train_all,y_train_all)\n",
    "\n",
    "print(\"tuned hpyerparameters :(best parameters) \",svm_cv.best_params_)\n",
    "print(\"accuracy :\",svm_cv.best_score_)"
   ]
  },
  {
   "cell_type": "code",
   "execution_count": 56,
   "metadata": {
    "colab": {
     "base_uri": "https://localhost:8080/",
     "height": 674
    },
    "executionInfo": {
     "elapsed": 574,
     "status": "ok",
     "timestamp": 1639824366333,
     "user": {
      "displayName": "­이현태 | 서울 비즈니스인포매틱스학과",
      "photoUrl": "https://lh3.googleusercontent.com/a/default-user=s64",
      "userId": "07002847175634749293"
     },
     "user_tz": -540
    },
    "id": "BTTecBUIS8Wj",
    "outputId": "7b7ae1bf-7edb-48de-d73b-63f81daf413e"
   },
   "outputs": [
    {
     "name": "stdout",
     "output_type": "stream",
     "text": [
      "Confusion Matrix:\n",
      "[[689  21]\n",
      " [ 21 138]]\n",
      "\n",
      "Classification Report:\n",
      "              precision    recall  f1-score   support\n",
      "\n",
      "           0       0.97      0.97      0.97       710\n",
      "           1       0.87      0.87      0.87       159\n",
      "\n",
      "    accuracy                           0.95       869\n",
      "   macro avg       0.92      0.92      0.92       869\n",
      "weighted avg       0.95      0.95      0.95       869\n",
      "\n"
     ]
    },
    {
     "data": {
      "image/png": "[encoded data removed]",
      "text/plain": [
       "<Figure size 576x432 with 1 Axes>"
      ]
     },
     "metadata": {
      "needs_background": "light"
     },
     "output_type": "display_data"
    }
   ],
   "source": [
    "pred = svm_cv.best_estimator_.predict(X_test)\n",
    "results(X_test, y_test, pred, svm_cv)"
   ]
  },
  {
   "cell_type": "code",
   "execution_count": 57,
   "metadata": {
    "colab": {
     "base_uri": "https://localhost:8080/",
     "height": 1000
    },
    "executionInfo": {
     "elapsed": 1008,
     "status": "ok",
     "timestamp": 1639824367335,
     "user": {
      "displayName": "­이현태 | 서울 비즈니스인포매틱스학과",
      "photoUrl": "https://lh3.googleusercontent.com/a/default-user=s64",
      "userId": "07002847175634749293"
     },
     "user_tz": -540
    },
    "id": "IisqxpZdTEJg",
    "outputId": "4455f6bb-801a-4cb9-f217-9ddb1fcd52a6"
   },
   "outputs": [
    {
     "data": {
      "image/png": "[encoded data removed]",
      "text/plain": [
       "<Figure size 576x432 with 1 Axes>"
      ]
     },
     "metadata": {
      "needs_background": "light"
     },
     "output_type": "display_data"
    }
   ],
   "source": [
    "features_names = X_test.columns\n",
    "f_importances(abs(svm_cv.best_estimator_.coef_[0]), features_names)"
   ]
  },
  {
   "cell_type": "code",
   "execution_count": 58,
   "metadata": {
    "colab": {
     "base_uri": "https://localhost:8080/",
     "height": 674
    },
    "executionInfo": {
     "elapsed": 951,
     "status": "ok",
     "timestamp": 1639824368283,
     "user": {
      "displayName": "­이현태 | 서울 비즈니스인포매틱스학과",
      "photoUrl": "https://lh3.googleusercontent.com/a/default-user=s64",
      "userId": "07002847175634749293"
     },
     "user_tz": -540
    },
    "id": "QbFnjMztTfNn",
    "outputId": "ab9b9bc0-4377-430f-91af-fd7532471a0a"
   },
   "outputs": [
    {
     "name": "stdout",
     "output_type": "stream",
     "text": [
      "Confusion Matrix:\n",
      "[[688  22]\n",
      " [ 26 133]]\n",
      "\n",
      "Classification Report:\n",
      "              precision    recall  f1-score   support\n",
      "\n",
      "           0       0.96      0.97      0.97       710\n",
      "           1       0.86      0.84      0.85       159\n",
      "\n",
      "    accuracy                           0.94       869\n",
      "   macro avg       0.91      0.90      0.91       869\n",
      "weighted avg       0.94      0.94      0.94       869\n",
      "\n"
     ]
    },
    {
     "data": {
      "image/png": "[encoded data removed]",
      "text/plain": [
       "<Figure size 576x432 with 1 Axes>"
      ]
     },
     "metadata": {
      "needs_background": "light"
     },
     "output_type": "display_data"
    }
   ],
   "source": [
    "# support vector machine classifier\n",
    "svm = SVC(kernel = 'linear', probability= True)\n",
    "svm.fit(X_train_all, y_train_all)\n",
    "pred1 = svm.predict(X_test)\n",
    "results(X_test, y_test, pred1, svm)"
   ]
  },
  {
   "cell_type": "code",
   "execution_count": 59,
   "metadata": {
    "colab": {
     "base_uri": "https://localhost:8080/",
     "height": 1000
    },
    "executionInfo": {
     "elapsed": 914,
     "status": "ok",
     "timestamp": 1639824369191,
     "user": {
      "displayName": "­이현태 | 서울 비즈니스인포매틱스학과",
      "photoUrl": "https://lh3.googleusercontent.com/a/default-user=s64",
      "userId": "07002847175634749293"
     },
     "user_tz": -540
    },
    "id": "4rPsRCmuTkpv",
    "outputId": "8106629f-e573-4b29-ed5e-1b7640b7834b"
   },
   "outputs": [
    {
     "data": {
      "image/png": "[encoded data removed]",
      "text/plain": [
       "<Figure size 576x432 with 1 Axes>"
      ]
     },
     "metadata": {
      "needs_background": "light"
     },
     "output_type": "display_data"
    }
   ],
   "source": [
    "features_names = X_test.columns\n",
    "f_importances(abs(svm.coef_[0]), features_names)"
   ]
  },
  {
   "cell_type": "markdown",
   "metadata": {
    "id": "yuHXMG12T-X9"
   },
   "source": [
    "# DNN"
   ]
  },
  {
   "cell_type": "code",
   "execution_count": 38,
   "metadata": {
    "id": "W1SNxn1qankC"
   },
   "outputs": [],
   "source": [
    "import tensorflow as tf\n",
    "from sklearn.model_selection import KFold\n",
    "from sklearn.metrics import make_scorer\n",
    "from sklearn.metrics import mean_squared_error\n",
    "from tensorflow import keras\n",
    "from tensorflow.keras.models import Sequential\n",
    "from tensorflow.keras.layers import Dense\n",
    "from tensorflow.keras.layers import Dropout\n",
    "from tensorflow.keras.optimizers import SGD, RMSprop, Adagrad, Adam, Adamax\n",
    "from keras.wrappers.scikit_learn import KerasClassifier\n",
    "from sklearn.model_selection import GridSearchCV\n",
    "from keras import backend as K"
   ]
  },
  {
   "cell_type": "code",
   "execution_count": 39,
   "metadata": {
    "id": "9C-MpE6pZalX"
   },
   "outputs": [],
   "source": [
    "# dense_nparams : 초기 dense layer size\n",
    "dense_nparams = [5, 10, 20]\n",
    "\n",
    "# input_optimizer = optimizer\n",
    "input_optimizer = [SGD, Adagrad, RMSprop, Adam, Adamax]\n",
    "\n",
    "# input_lr : learning_rate\n",
    "input_lr = [0.001, 0.01, 0.1, 0.2]\n",
    "\n",
    "# hyperparameter 를 dictionary 화\n",
    "param_grid = dict(dense_nparams = dense_nparams,\n",
    "                input_optimizer = input_optimizer,\n",
    "                input_lr = input_lr)"
   ]
  },
  {
   "cell_type": "code",
   "execution_count": 40,
   "metadata": {
    "id": "XnV7VtQEdkGG"
   },
   "outputs": [],
   "source": [
    "# hyperparameter tuning 대상 정의\n",
    "def create_model(dense_nparams, input_optimizer, input_lr):\n",
    "\n",
    "    model=Sequential()\n",
    "    model.add(Dense(dense_nparams, activation=\"relu\", input_shape=(X_train.shape[1],)))  \n",
    "    model.add(Dense(dense_nparams, activation='relu'))\n",
    "    model.add(Dense(1,activation='sigmoid'))\n",
    "\n",
    "    optimizer = input_optimizer(lr=input_lr)\n",
    "\n",
    "    model.compile(optimizer = optimizer ,\n",
    "                  loss='binary_crossentropy', \n",
    "                  metrics=['accuracy'])\n",
    "    return model\n",
    "\n",
    "# hyperparameter tuning 대상 선언\n",
    "# 파라미터 조합 당 epochs 는 30번, batch_size 는 32\n",
    "classifier_model = KerasClassifier(build_fn=create_model, epochs=30, batch_size=32, verbose=0)"
   ]
  },
  {
   "cell_type": "code",
   "execution_count": 41,
   "metadata": {
    "colab": {
     "base_uri": "https://localhost:8080/"
    },
    "executionInfo": {
     "elapsed": 830174,
     "status": "ok",
     "timestamp": 1639827523222,
     "user": {
      "displayName": "­이현태 | 서울 비즈니스인포매틱스학과",
      "photoUrl": "https://lh3.googleusercontent.com/a/default-user=s64",
      "userId": "07002847175634749293"
     },
     "user_tz": -540
    },
    "id": "gpRgyuRsaLPV",
    "outputId": "9ca91971-746f-4a21-cb8a-6e0ee3c5f5eb",
    "scrolled": true
   },
   "outputs": [
    {
     "name": "stdout",
     "output_type": "stream",
     "text": [
      "Fitting 5 folds for each of 60 candidates, totalling 300 fits\n",
      "[CV 1/5] END dense_nparams=5, input_lr=0.001, input_optimizer=<class 'tensorflow.python.keras.optimizer_v2.gradient_descent.SGD'>;, score=0.833 total time=   5.3s\n",
      "[CV 2/5] END dense_nparams=5, input_lr=0.001, input_optimizer=<class 'tensorflow.python.keras.optimizer_v2.gradient_descent.SGD'>;, score=0.855 total time=   4.6s\n",
      "[CV 3/5] END dense_nparams=5, input_lr=0.001, input_optimizer=<class 'tensorflow.python.keras.optimizer_v2.gradient_descent.SGD'>;, score=0.780 total time=   4.4s\n",
      "[CV 4/5] END dense_nparams=5, input_lr=0.001, input_optimizer=<class 'tensorflow.python.keras.optimizer_v2.gradient_descent.SGD'>;, score=0.805 total time=   4.3s\n",
      "[CV 5/5] END dense_nparams=5, input_lr=0.001, input_optimizer=<class 'tensorflow.python.keras.optimizer_v2.gradient_descent.SGD'>;, score=0.805 total time=   4.2s\n",
      "[CV 1/5] END dense_nparams=5, input_lr=0.001, input_optimizer=<class 'tensorflow.python.keras.optimizer_v2.adagrad.Adagrad'>;, score=0.833 total time=   4.7s\n",
      "[CV 2/5] END dense_nparams=5, input_lr=0.001, input_optimizer=<class 'tensorflow.python.keras.optimizer_v2.adagrad.Adagrad'>;, score=0.865 total time=   4.6s\n",
      "[CV 3/5] END dense_nparams=5, input_lr=0.001, input_optimizer=<class 'tensorflow.python.keras.optimizer_v2.adagrad.Adagrad'>;, score=0.780 total time=   4.6s\n",
      "[CV 4/5] END dense_nparams=5, input_lr=0.001, input_optimizer=<class 'tensorflow.python.keras.optimizer_v2.adagrad.Adagrad'>;, score=0.810 total time=   4.6s\n",
      "[CV 5/5] END dense_nparams=5, input_lr=0.001, input_optimizer=<class 'tensorflow.python.keras.optimizer_v2.adagrad.Adagrad'>;, score=0.805 total time=   4.7s\n",
      "[CV 1/5] END dense_nparams=5, input_lr=0.001, input_optimizer=<class 'tensorflow.python.keras.optimizer_v2.rmsprop.RMSprop'>;, score=0.906 total time=   7.6s\n",
      "[CV 2/5] END dense_nparams=5, input_lr=0.001, input_optimizer=<class 'tensorflow.python.keras.optimizer_v2.rmsprop.RMSprop'>;, score=0.926 total time=   7.3s\n",
      "[CV 3/5] END dense_nparams=5, input_lr=0.001, input_optimizer=<class 'tensorflow.python.keras.optimizer_v2.rmsprop.RMSprop'>;, score=0.943 total time=   7.6s\n",
      "[CV 4/5] END dense_nparams=5, input_lr=0.001, input_optimizer=<class 'tensorflow.python.keras.optimizer_v2.rmsprop.RMSprop'>;, score=0.909 total time=   7.7s\n",
      "[CV 5/5] END dense_nparams=5, input_lr=0.001, input_optimizer=<class 'tensorflow.python.keras.optimizer_v2.rmsprop.RMSprop'>;, score=0.923 total time=   7.4s\n",
      "[CV 1/5] END dense_nparams=5, input_lr=0.001, input_optimizer=<class 'tensorflow.python.keras.optimizer_v2.adam.Adam'>;, score=0.933 total time=   4.7s\n",
      "[CV 2/5] END dense_nparams=5, input_lr=0.001, input_optimizer=<class 'tensorflow.python.keras.optimizer_v2.adam.Adam'>;, score=0.924 total time=   4.8s\n",
      "[CV 3/5] END dense_nparams=5, input_lr=0.001, input_optimizer=<class 'tensorflow.python.keras.optimizer_v2.adam.Adam'>;, score=0.938 total time=   5.0s\n",
      "[CV 4/5] END dense_nparams=5, input_lr=0.001, input_optimizer=<class 'tensorflow.python.keras.optimizer_v2.adam.Adam'>;, score=0.919 total time=   4.8s\n",
      "[CV 5/5] END dense_nparams=5, input_lr=0.001, input_optimizer=<class 'tensorflow.python.keras.optimizer_v2.adam.Adam'>;, score=0.921 total time=   4.8s\n",
      "[CV 1/5] END dense_nparams=5, input_lr=0.001, input_optimizer=<class 'tensorflow.python.keras.optimizer_v2.adamax.Adamax'>;, score=0.852 total time=   4.8s\n",
      "[CV 2/5] END dense_nparams=5, input_lr=0.001, input_optimizer=<class 'tensorflow.python.keras.optimizer_v2.adamax.Adamax'>;, score=0.884 total time=   4.8s\n",
      "[CV 3/5] END dense_nparams=5, input_lr=0.001, input_optimizer=<class 'tensorflow.python.keras.optimizer_v2.adamax.Adamax'>;, score=0.872 total time=   5.0s\n",
      "[CV 4/5] END dense_nparams=5, input_lr=0.001, input_optimizer=<class 'tensorflow.python.keras.optimizer_v2.adamax.Adamax'>;, score=0.879 total time=   5.0s\n",
      "[CV 5/5] END dense_nparams=5, input_lr=0.001, input_optimizer=<class 'tensorflow.python.keras.optimizer_v2.adamax.Adamax'>;, score=0.844 total time=   5.0s\n",
      "[CV 1/5] END dense_nparams=5, input_lr=0.01, input_optimizer=<class 'tensorflow.python.keras.optimizer_v2.gradient_descent.SGD'>;, score=0.865 total time=   4.6s\n",
      "[CV 2/5] END dense_nparams=5, input_lr=0.01, input_optimizer=<class 'tensorflow.python.keras.optimizer_v2.gradient_descent.SGD'>;, score=0.904 total time=   4.5s\n",
      "[CV 3/5] END dense_nparams=5, input_lr=0.01, input_optimizer=<class 'tensorflow.python.keras.optimizer_v2.gradient_descent.SGD'>;, score=0.840 total time=   4.6s\n",
      "[CV 4/5] END dense_nparams=5, input_lr=0.01, input_optimizer=<class 'tensorflow.python.keras.optimizer_v2.gradient_descent.SGD'>;, score=0.862 total time=   4.6s\n",
      "[CV 5/5] END dense_nparams=5, input_lr=0.01, input_optimizer=<class 'tensorflow.python.keras.optimizer_v2.gradient_descent.SGD'>;, score=0.869 total time=   4.6s\n",
      "[CV 1/5] END dense_nparams=5, input_lr=0.01, input_optimizer=<class 'tensorflow.python.keras.optimizer_v2.adagrad.Adagrad'>;, score=0.833 total time=   4.6s\n",
      "[CV 2/5] END dense_nparams=5, input_lr=0.01, input_optimizer=<class 'tensorflow.python.keras.optimizer_v2.adagrad.Adagrad'>;, score=0.933 total time=   4.6s\n",
      "[CV 3/5] END dense_nparams=5, input_lr=0.01, input_optimizer=<class 'tensorflow.python.keras.optimizer_v2.adagrad.Adagrad'>;, score=0.780 total time=   4.6s\n",
      "[CV 4/5] END dense_nparams=5, input_lr=0.01, input_optimizer=<class 'tensorflow.python.keras.optimizer_v2.adagrad.Adagrad'>;, score=0.810 total time=   4.6s\n",
      "[CV 5/5] END dense_nparams=5, input_lr=0.01, input_optimizer=<class 'tensorflow.python.keras.optimizer_v2.adagrad.Adagrad'>;, score=0.872 total time=   5.0s\n",
      "[CV 1/5] END dense_nparams=5, input_lr=0.01, input_optimizer=<class 'tensorflow.python.keras.optimizer_v2.rmsprop.RMSprop'>;, score=0.943 total time=   7.1s\n",
      "[CV 2/5] END dense_nparams=5, input_lr=0.01, input_optimizer=<class 'tensorflow.python.keras.optimizer_v2.rmsprop.RMSprop'>;, score=0.958 total time=   6.7s\n",
      "[CV 3/5] END dense_nparams=5, input_lr=0.01, input_optimizer=<class 'tensorflow.python.keras.optimizer_v2.rmsprop.RMSprop'>;, score=0.933 total time=   6.7s\n",
      "[CV 4/5] END dense_nparams=5, input_lr=0.01, input_optimizer=<class 'tensorflow.python.keras.optimizer_v2.rmsprop.RMSprop'>;, score=0.921 total time=   6.7s\n",
      "[CV 5/5] END dense_nparams=5, input_lr=0.01, input_optimizer=<class 'tensorflow.python.keras.optimizer_v2.rmsprop.RMSprop'>;, score=0.928 total time=   6.5s\n",
      "[CV 1/5] END dense_nparams=5, input_lr=0.01, input_optimizer=<class 'tensorflow.python.keras.optimizer_v2.adam.Adam'>;, score=0.926 total time=   4.8s\n",
      "[CV 2/5] END dense_nparams=5, input_lr=0.01, input_optimizer=<class 'tensorflow.python.keras.optimizer_v2.adam.Adam'>;, score=0.929 total time=   4.9s\n",
      "[CV 3/5] END dense_nparams=5, input_lr=0.01, input_optimizer=<class 'tensorflow.python.keras.optimizer_v2.adam.Adam'>;, score=0.960 total time=   5.2s\n",
      "[CV 4/5] END dense_nparams=5, input_lr=0.01, input_optimizer=<class 'tensorflow.python.keras.optimizer_v2.adam.Adam'>;, score=0.911 total time=   5.0s\n",
      "[CV 5/5] END dense_nparams=5, input_lr=0.01, input_optimizer=<class 'tensorflow.python.keras.optimizer_v2.adam.Adam'>;, score=0.933 total time=   4.7s\n",
      "[CV 1/5] END dense_nparams=5, input_lr=0.01, input_optimizer=<class 'tensorflow.python.keras.optimizer_v2.adamax.Adamax'>;, score=0.931 total time=   4.3s\n",
      "[CV 2/5] END dense_nparams=5, input_lr=0.01, input_optimizer=<class 'tensorflow.python.keras.optimizer_v2.adamax.Adamax'>;, score=0.951 total time=   4.2s\n",
      "[CV 3/5] END dense_nparams=5, input_lr=0.01, input_optimizer=<class 'tensorflow.python.keras.optimizer_v2.adamax.Adamax'>;, score=0.941 total time=   4.3s\n",
      "[CV 4/5] END dense_nparams=5, input_lr=0.01, input_optimizer=<class 'tensorflow.python.keras.optimizer_v2.adamax.Adamax'>;, score=0.914 total time=   4.8s\n",
      "[CV 5/5] END dense_nparams=5, input_lr=0.01, input_optimizer=<class 'tensorflow.python.keras.optimizer_v2.adamax.Adamax'>;, score=0.938 total time=   4.7s\n",
      "[CV 1/5] END dense_nparams=5, input_lr=0.1, input_optimizer=<class 'tensorflow.python.keras.optimizer_v2.gradient_descent.SGD'>;, score=0.924 total time=   4.4s\n",
      "[CV 2/5] END dense_nparams=5, input_lr=0.1, input_optimizer=<class 'tensorflow.python.keras.optimizer_v2.gradient_descent.SGD'>;, score=0.924 total time=   4.4s\n"
     ]
    },
    {
     "name": "stdout",
     "output_type": "stream",
     "text": [
      "[CV 3/5] END dense_nparams=5, input_lr=0.1, input_optimizer=<class 'tensorflow.python.keras.optimizer_v2.gradient_descent.SGD'>;, score=0.921 total time=   4.5s\n",
      "[CV 4/5] END dense_nparams=5, input_lr=0.1, input_optimizer=<class 'tensorflow.python.keras.optimizer_v2.gradient_descent.SGD'>;, score=0.914 total time=   4.8s\n",
      "[CV 5/5] END dense_nparams=5, input_lr=0.1, input_optimizer=<class 'tensorflow.python.keras.optimizer_v2.gradient_descent.SGD'>;, score=0.943 total time=   4.8s\n",
      "[CV 1/5] END dense_nparams=5, input_lr=0.1, input_optimizer=<class 'tensorflow.python.keras.optimizer_v2.adagrad.Adagrad'>;, score=0.916 total time=   4.6s\n",
      "[CV 2/5] END dense_nparams=5, input_lr=0.1, input_optimizer=<class 'tensorflow.python.keras.optimizer_v2.adagrad.Adagrad'>;, score=0.946 total time=   4.7s\n",
      "[CV 3/5] END dense_nparams=5, input_lr=0.1, input_optimizer=<class 'tensorflow.python.keras.optimizer_v2.adagrad.Adagrad'>;, score=0.963 total time=   4.5s\n",
      "[CV 4/5] END dense_nparams=5, input_lr=0.1, input_optimizer=<class 'tensorflow.python.keras.optimizer_v2.adagrad.Adagrad'>;, score=0.933 total time=   4.4s\n",
      "[CV 5/5] END dense_nparams=5, input_lr=0.1, input_optimizer=<class 'tensorflow.python.keras.optimizer_v2.adagrad.Adagrad'>;, score=0.936 total time=   4.3s\n",
      "[CV 1/5] END dense_nparams=5, input_lr=0.1, input_optimizer=<class 'tensorflow.python.keras.optimizer_v2.rmsprop.RMSprop'>;, score=0.833 total time=   7.0s\n",
      "[CV 2/5] END dense_nparams=5, input_lr=0.1, input_optimizer=<class 'tensorflow.python.keras.optimizer_v2.rmsprop.RMSprop'>;, score=0.916 total time=   7.4s\n",
      "[CV 3/5] END dense_nparams=5, input_lr=0.1, input_optimizer=<class 'tensorflow.python.keras.optimizer_v2.rmsprop.RMSprop'>;, score=0.780 total time=   7.8s\n",
      "[CV 4/5] END dense_nparams=5, input_lr=0.1, input_optimizer=<class 'tensorflow.python.keras.optimizer_v2.rmsprop.RMSprop'>;, score=0.914 total time=   7.7s\n",
      "[CV 5/5] END dense_nparams=5, input_lr=0.1, input_optimizer=<class 'tensorflow.python.keras.optimizer_v2.rmsprop.RMSprop'>;, score=0.941 total time=   7.3s\n",
      "[CV 1/5] END dense_nparams=5, input_lr=0.1, input_optimizer=<class 'tensorflow.python.keras.optimizer_v2.adam.Adam'>;, score=0.921 total time=   5.0s\n",
      "[CV 2/5] END dense_nparams=5, input_lr=0.1, input_optimizer=<class 'tensorflow.python.keras.optimizer_v2.adam.Adam'>;, score=0.933 total time=   4.8s\n",
      "[CV 3/5] END dense_nparams=5, input_lr=0.1, input_optimizer=<class 'tensorflow.python.keras.optimizer_v2.adam.Adam'>;, score=0.960 total time=   4.8s\n",
      "[CV 4/5] END dense_nparams=5, input_lr=0.1, input_optimizer=<class 'tensorflow.python.keras.optimizer_v2.adam.Adam'>;, score=0.901 total time=   4.8s\n",
      "[CV 5/5] END dense_nparams=5, input_lr=0.1, input_optimizer=<class 'tensorflow.python.keras.optimizer_v2.adam.Adam'>;, score=0.923 total time=   4.7s\n",
      "[CV 1/5] END dense_nparams=5, input_lr=0.1, input_optimizer=<class 'tensorflow.python.keras.optimizer_v2.adamax.Adamax'>;, score=0.951 total time=   4.8s\n",
      "[CV 2/5] END dense_nparams=5, input_lr=0.1, input_optimizer=<class 'tensorflow.python.keras.optimizer_v2.adamax.Adamax'>;, score=0.931 total time=   5.0s\n",
      "[CV 3/5] END dense_nparams=5, input_lr=0.1, input_optimizer=<class 'tensorflow.python.keras.optimizer_v2.adamax.Adamax'>;, score=0.919 total time=   5.0s\n",
      "[CV 4/5] END dense_nparams=5, input_lr=0.1, input_optimizer=<class 'tensorflow.python.keras.optimizer_v2.adamax.Adamax'>;, score=0.931 total time=   5.0s\n",
      "[CV 5/5] END dense_nparams=5, input_lr=0.1, input_optimizer=<class 'tensorflow.python.keras.optimizer_v2.adamax.Adamax'>;, score=0.805 total time=   4.9s\n",
      "[CV 1/5] END dense_nparams=5, input_lr=0.2, input_optimizer=<class 'tensorflow.python.keras.optimizer_v2.gradient_descent.SGD'>;, score=0.926 total time=   4.6s\n",
      "[CV 2/5] END dense_nparams=5, input_lr=0.2, input_optimizer=<class 'tensorflow.python.keras.optimizer_v2.gradient_descent.SGD'>;, score=0.951 total time=   4.6s\n",
      "[CV 3/5] END dense_nparams=5, input_lr=0.2, input_optimizer=<class 'tensorflow.python.keras.optimizer_v2.gradient_descent.SGD'>;, score=0.923 total time=   4.6s\n",
      "[CV 4/5] END dense_nparams=5, input_lr=0.2, input_optimizer=<class 'tensorflow.python.keras.optimizer_v2.gradient_descent.SGD'>;, score=0.921 total time=   4.7s\n",
      "[CV 5/5] END dense_nparams=5, input_lr=0.2, input_optimizer=<class 'tensorflow.python.keras.optimizer_v2.gradient_descent.SGD'>;, score=0.933 total time=   4.7s\n",
      "[CV 1/5] END dense_nparams=5, input_lr=0.2, input_optimizer=<class 'tensorflow.python.keras.optimizer_v2.adagrad.Adagrad'>;, score=0.953 total time=   4.6s\n",
      "[CV 2/5] END dense_nparams=5, input_lr=0.2, input_optimizer=<class 'tensorflow.python.keras.optimizer_v2.adagrad.Adagrad'>;, score=0.953 total time=   4.8s\n",
      "[CV 3/5] END dense_nparams=5, input_lr=0.2, input_optimizer=<class 'tensorflow.python.keras.optimizer_v2.adagrad.Adagrad'>;, score=0.965 total time=   4.7s\n",
      "[CV 4/5] END dense_nparams=5, input_lr=0.2, input_optimizer=<class 'tensorflow.python.keras.optimizer_v2.adagrad.Adagrad'>;, score=0.933 total time=   4.8s\n",
      "[CV 5/5] END dense_nparams=5, input_lr=0.2, input_optimizer=<class 'tensorflow.python.keras.optimizer_v2.adagrad.Adagrad'>;, score=0.936 total time=   4.8s\n",
      "[CV 1/5] END dense_nparams=5, input_lr=0.2, input_optimizer=<class 'tensorflow.python.keras.optimizer_v2.rmsprop.RMSprop'>;, score=0.926 total time=   7.6s\n",
      "[CV 2/5] END dense_nparams=5, input_lr=0.2, input_optimizer=<class 'tensorflow.python.keras.optimizer_v2.rmsprop.RMSprop'>;, score=0.887 total time=   7.2s\n",
      "[CV 3/5] END dense_nparams=5, input_lr=0.2, input_optimizer=<class 'tensorflow.python.keras.optimizer_v2.rmsprop.RMSprop'>;, score=0.933 total time=   7.6s\n",
      "[CV 4/5] END dense_nparams=5, input_lr=0.2, input_optimizer=<class 'tensorflow.python.keras.optimizer_v2.rmsprop.RMSprop'>;, score=0.815 total time=   7.7s\n",
      "[CV 5/5] END dense_nparams=5, input_lr=0.2, input_optimizer=<class 'tensorflow.python.keras.optimizer_v2.rmsprop.RMSprop'>;, score=0.914 total time=   7.4s\n",
      "[CV 1/5] END dense_nparams=5, input_lr=0.2, input_optimizer=<class 'tensorflow.python.keras.optimizer_v2.adam.Adam'>;, score=0.911 total time=   4.8s\n",
      "[CV 2/5] END dense_nparams=5, input_lr=0.2, input_optimizer=<class 'tensorflow.python.keras.optimizer_v2.adam.Adam'>;, score=0.855 total time=   4.9s\n",
      "[CV 3/5] END dense_nparams=5, input_lr=0.2, input_optimizer=<class 'tensorflow.python.keras.optimizer_v2.adam.Adam'>;, score=0.780 total time=   4.9s\n",
      "[CV 4/5] END dense_nparams=5, input_lr=0.2, input_optimizer=<class 'tensorflow.python.keras.optimizer_v2.adam.Adam'>;, score=0.906 total time=   4.9s\n",
      "[CV 5/5] END dense_nparams=5, input_lr=0.2, input_optimizer=<class 'tensorflow.python.keras.optimizer_v2.adam.Adam'>;, score=0.901 total time=   4.8s\n",
      "[CV 1/5] END dense_nparams=5, input_lr=0.2, input_optimizer=<class 'tensorflow.python.keras.optimizer_v2.adamax.Adamax'>;, score=0.931 total time=   4.8s\n",
      "[CV 2/5] END dense_nparams=5, input_lr=0.2, input_optimizer=<class 'tensorflow.python.keras.optimizer_v2.adamax.Adamax'>;, score=0.943 total time=   5.1s\n",
      "[CV 3/5] END dense_nparams=5, input_lr=0.2, input_optimizer=<class 'tensorflow.python.keras.optimizer_v2.adamax.Adamax'>;, score=0.780 total time=   4.9s\n",
      "[CV 4/5] END dense_nparams=5, input_lr=0.2, input_optimizer=<class 'tensorflow.python.keras.optimizer_v2.adamax.Adamax'>;, score=0.904 total time=   4.9s\n",
      "[CV 5/5] END dense_nparams=5, input_lr=0.2, input_optimizer=<class 'tensorflow.python.keras.optimizer_v2.adamax.Adamax'>;, score=0.919 total time=   4.9s\n",
      "[CV 1/5] END dense_nparams=10, input_lr=0.001, input_optimizer=<class 'tensorflow.python.keras.optimizer_v2.gradient_descent.SGD'>;, score=0.833 total time=   4.5s\n",
      "[CV 2/5] END dense_nparams=10, input_lr=0.001, input_optimizer=<class 'tensorflow.python.keras.optimizer_v2.gradient_descent.SGD'>;, score=0.855 total time=   4.6s\n",
      "[CV 3/5] END dense_nparams=10, input_lr=0.001, input_optimizer=<class 'tensorflow.python.keras.optimizer_v2.gradient_descent.SGD'>;, score=0.780 total time=   4.6s\n",
      "[CV 4/5] END dense_nparams=10, input_lr=0.001, input_optimizer=<class 'tensorflow.python.keras.optimizer_v2.gradient_descent.SGD'>;, score=0.810 total time=   4.8s\n",
      "[CV 5/5] END dense_nparams=10, input_lr=0.001, input_optimizer=<class 'tensorflow.python.keras.optimizer_v2.gradient_descent.SGD'>;, score=0.805 total time=   4.8s\n"
     ]
    },
    {
     "name": "stdout",
     "output_type": "stream",
     "text": [
      "[CV 1/5] END dense_nparams=10, input_lr=0.001, input_optimizer=<class 'tensorflow.python.keras.optimizer_v2.adagrad.Adagrad'>;, score=0.833 total time=   4.8s\n",
      "[CV 2/5] END dense_nparams=10, input_lr=0.001, input_optimizer=<class 'tensorflow.python.keras.optimizer_v2.adagrad.Adagrad'>;, score=0.862 total time=   4.6s\n",
      "[CV 3/5] END dense_nparams=10, input_lr=0.001, input_optimizer=<class 'tensorflow.python.keras.optimizer_v2.adagrad.Adagrad'>;, score=0.780 total time=   4.6s\n",
      "[CV 4/5] END dense_nparams=10, input_lr=0.001, input_optimizer=<class 'tensorflow.python.keras.optimizer_v2.adagrad.Adagrad'>;, score=0.815 total time=   4.6s\n",
      "[CV 5/5] END dense_nparams=10, input_lr=0.001, input_optimizer=<class 'tensorflow.python.keras.optimizer_v2.adagrad.Adagrad'>;, score=0.805 total time=   4.6s\n",
      "[CV 1/5] END dense_nparams=10, input_lr=0.001, input_optimizer=<class 'tensorflow.python.keras.optimizer_v2.rmsprop.RMSprop'>;, score=0.948 total time=   7.6s\n",
      "[CV 2/5] END dense_nparams=10, input_lr=0.001, input_optimizer=<class 'tensorflow.python.keras.optimizer_v2.rmsprop.RMSprop'>;, score=0.948 total time=   7.3s\n",
      "[CV 3/5] END dense_nparams=10, input_lr=0.001, input_optimizer=<class 'tensorflow.python.keras.optimizer_v2.rmsprop.RMSprop'>;, score=0.946 total time=   7.5s\n",
      "[CV 4/5] END dense_nparams=10, input_lr=0.001, input_optimizer=<class 'tensorflow.python.keras.optimizer_v2.rmsprop.RMSprop'>;, score=0.919 total time=   8.0s\n",
      "[CV 5/5] END dense_nparams=10, input_lr=0.001, input_optimizer=<class 'tensorflow.python.keras.optimizer_v2.rmsprop.RMSprop'>;, score=0.923 total time=   7.7s\n",
      "[CV 1/5] END dense_nparams=10, input_lr=0.001, input_optimizer=<class 'tensorflow.python.keras.optimizer_v2.adam.Adam'>;, score=0.948 total time=   4.7s\n",
      "[CV 2/5] END dense_nparams=10, input_lr=0.001, input_optimizer=<class 'tensorflow.python.keras.optimizer_v2.adam.Adam'>;, score=0.946 total time=   4.7s\n",
      "[CV 3/5] END dense_nparams=10, input_lr=0.001, input_optimizer=<class 'tensorflow.python.keras.optimizer_v2.adam.Adam'>;, score=0.936 total time=   4.8s\n",
      "[CV 4/5] END dense_nparams=10, input_lr=0.001, input_optimizer=<class 'tensorflow.python.keras.optimizer_v2.adam.Adam'>;, score=0.921 total time=   4.8s\n",
      "[CV 5/5] END dense_nparams=10, input_lr=0.001, input_optimizer=<class 'tensorflow.python.keras.optimizer_v2.adam.Adam'>;, score=0.936 total time=   4.8s\n",
      "[CV 1/5] END dense_nparams=10, input_lr=0.001, input_optimizer=<class 'tensorflow.python.keras.optimizer_v2.adamax.Adamax'>;, score=0.884 total time=   4.8s\n",
      "[CV 2/5] END dense_nparams=10, input_lr=0.001, input_optimizer=<class 'tensorflow.python.keras.optimizer_v2.adamax.Adamax'>;, score=0.899 total time=   4.8s\n",
      "[CV 3/5] END dense_nparams=10, input_lr=0.001, input_optimizer=<class 'tensorflow.python.keras.optimizer_v2.adamax.Adamax'>;, score=0.869 total time=   4.9s\n",
      "[CV 4/5] END dense_nparams=10, input_lr=0.001, input_optimizer=<class 'tensorflow.python.keras.optimizer_v2.adamax.Adamax'>;, score=0.906 total time=   5.0s\n",
      "[CV 5/5] END dense_nparams=10, input_lr=0.001, input_optimizer=<class 'tensorflow.python.keras.optimizer_v2.adamax.Adamax'>;, score=0.896 total time=   5.0s\n",
      "[CV 1/5] END dense_nparams=10, input_lr=0.01, input_optimizer=<class 'tensorflow.python.keras.optimizer_v2.gradient_descent.SGD'>;, score=0.879 total time=   4.8s\n",
      "[CV 2/5] END dense_nparams=10, input_lr=0.01, input_optimizer=<class 'tensorflow.python.keras.optimizer_v2.gradient_descent.SGD'>;, score=0.882 total time=   4.6s\n",
      "[CV 3/5] END dense_nparams=10, input_lr=0.01, input_optimizer=<class 'tensorflow.python.keras.optimizer_v2.gradient_descent.SGD'>;, score=0.849 total time=   4.7s\n",
      "[CV 4/5] END dense_nparams=10, input_lr=0.01, input_optimizer=<class 'tensorflow.python.keras.optimizer_v2.gradient_descent.SGD'>;, score=0.862 total time=   4.5s\n",
      "[CV 5/5] END dense_nparams=10, input_lr=0.01, input_optimizer=<class 'tensorflow.python.keras.optimizer_v2.gradient_descent.SGD'>;, score=0.891 total time=   4.6s\n",
      "[CV 1/5] END dense_nparams=10, input_lr=0.01, input_optimizer=<class 'tensorflow.python.keras.optimizer_v2.adagrad.Adagrad'>;, score=0.879 total time=   4.7s\n",
      "[CV 2/5] END dense_nparams=10, input_lr=0.01, input_optimizer=<class 'tensorflow.python.keras.optimizer_v2.adagrad.Adagrad'>;, score=0.919 total time=   4.6s\n",
      "[CV 3/5] END dense_nparams=10, input_lr=0.01, input_optimizer=<class 'tensorflow.python.keras.optimizer_v2.adagrad.Adagrad'>;, score=0.884 total time=   4.7s\n",
      "[CV 4/5] END dense_nparams=10, input_lr=0.01, input_optimizer=<class 'tensorflow.python.keras.optimizer_v2.adagrad.Adagrad'>;, score=0.886 total time=   4.6s\n",
      "[CV 5/5] END dense_nparams=10, input_lr=0.01, input_optimizer=<class 'tensorflow.python.keras.optimizer_v2.adagrad.Adagrad'>;, score=0.904 total time=   4.7s\n",
      "[CV 1/5] END dense_nparams=10, input_lr=0.01, input_optimizer=<class 'tensorflow.python.keras.optimizer_v2.rmsprop.RMSprop'>;, score=0.948 total time=   7.7s\n",
      "[CV 2/5] END dense_nparams=10, input_lr=0.01, input_optimizer=<class 'tensorflow.python.keras.optimizer_v2.rmsprop.RMSprop'>;, score=0.941 total time=   7.6s\n",
      "[CV 3/5] END dense_nparams=10, input_lr=0.01, input_optimizer=<class 'tensorflow.python.keras.optimizer_v2.rmsprop.RMSprop'>;, score=0.963 total time=   7.2s\n",
      "[CV 4/5] END dense_nparams=10, input_lr=0.01, input_optimizer=<class 'tensorflow.python.keras.optimizer_v2.rmsprop.RMSprop'>;, score=0.916 total time=   7.3s\n",
      "[CV 5/5] END dense_nparams=10, input_lr=0.01, input_optimizer=<class 'tensorflow.python.keras.optimizer_v2.rmsprop.RMSprop'>;, score=0.938 total time=   7.5s\n",
      "[CV 1/5] END dense_nparams=10, input_lr=0.01, input_optimizer=<class 'tensorflow.python.keras.optimizer_v2.adam.Adam'>;, score=0.961 total time=   4.8s\n",
      "[CV 2/5] END dense_nparams=10, input_lr=0.01, input_optimizer=<class 'tensorflow.python.keras.optimizer_v2.adam.Adam'>;, score=0.951 total time=   4.7s\n",
      "[CV 3/5] END dense_nparams=10, input_lr=0.01, input_optimizer=<class 'tensorflow.python.keras.optimizer_v2.adam.Adam'>;, score=0.963 total time=   4.8s\n",
      "[CV 4/5] END dense_nparams=10, input_lr=0.01, input_optimizer=<class 'tensorflow.python.keras.optimizer_v2.adam.Adam'>;, score=0.931 total time=   5.2s\n",
      "[CV 5/5] END dense_nparams=10, input_lr=0.01, input_optimizer=<class 'tensorflow.python.keras.optimizer_v2.adam.Adam'>;, score=0.923 total time=   4.9s\n",
      "[CV 1/5] END dense_nparams=10, input_lr=0.01, input_optimizer=<class 'tensorflow.python.keras.optimizer_v2.adamax.Adamax'>;, score=0.953 total time=   5.0s\n",
      "[CV 2/5] END dense_nparams=10, input_lr=0.01, input_optimizer=<class 'tensorflow.python.keras.optimizer_v2.adamax.Adamax'>;, score=0.953 total time=   4.8s\n",
      "[CV 3/5] END dense_nparams=10, input_lr=0.01, input_optimizer=<class 'tensorflow.python.keras.optimizer_v2.adamax.Adamax'>;, score=0.956 total time=   4.8s\n",
      "[CV 4/5] END dense_nparams=10, input_lr=0.01, input_optimizer=<class 'tensorflow.python.keras.optimizer_v2.adamax.Adamax'>;, score=0.931 total time=   4.8s\n",
      "[CV 5/5] END dense_nparams=10, input_lr=0.01, input_optimizer=<class 'tensorflow.python.keras.optimizer_v2.adamax.Adamax'>;, score=0.943 total time=   4.9s\n",
      "[CV 1/5] END dense_nparams=10, input_lr=0.1, input_optimizer=<class 'tensorflow.python.keras.optimizer_v2.gradient_descent.SGD'>;, score=0.909 total time=   4.6s\n",
      "[CV 2/5] END dense_nparams=10, input_lr=0.1, input_optimizer=<class 'tensorflow.python.keras.optimizer_v2.gradient_descent.SGD'>;, score=0.958 total time=   4.6s\n",
      "[CV 3/5] END dense_nparams=10, input_lr=0.1, input_optimizer=<class 'tensorflow.python.keras.optimizer_v2.gradient_descent.SGD'>;, score=0.951 total time=   4.5s\n",
      "[CV 4/5] END dense_nparams=10, input_lr=0.1, input_optimizer=<class 'tensorflow.python.keras.optimizer_v2.gradient_descent.SGD'>;, score=0.923 total time=   4.6s\n",
      "[CV 5/5] END dense_nparams=10, input_lr=0.1, input_optimizer=<class 'tensorflow.python.keras.optimizer_v2.gradient_descent.SGD'>;, score=0.931 total time=   4.8s\n",
      "[CV 1/5] END dense_nparams=10, input_lr=0.1, input_optimizer=<class 'tensorflow.python.keras.optimizer_v2.adagrad.Adagrad'>;, score=0.948 total time=   4.8s\n",
      "[CV 2/5] END dense_nparams=10, input_lr=0.1, input_optimizer=<class 'tensorflow.python.keras.optimizer_v2.adagrad.Adagrad'>;, score=0.958 total time=   4.8s\n"
     ]
    },
    {
     "name": "stdout",
     "output_type": "stream",
     "text": [
      "[CV 3/5] END dense_nparams=10, input_lr=0.1, input_optimizer=<class 'tensorflow.python.keras.optimizer_v2.adagrad.Adagrad'>;, score=0.963 total time=   4.7s\n",
      "[CV 4/5] END dense_nparams=10, input_lr=0.1, input_optimizer=<class 'tensorflow.python.keras.optimizer_v2.adagrad.Adagrad'>;, score=0.928 total time=   4.6s\n",
      "[CV 5/5] END dense_nparams=10, input_lr=0.1, input_optimizer=<class 'tensorflow.python.keras.optimizer_v2.adagrad.Adagrad'>;, score=0.923 total time=   4.6s\n",
      "[CV 1/5] END dense_nparams=10, input_lr=0.1, input_optimizer=<class 'tensorflow.python.keras.optimizer_v2.rmsprop.RMSprop'>;, score=0.911 total time=   7.7s\n",
      "[CV 2/5] END dense_nparams=10, input_lr=0.1, input_optimizer=<class 'tensorflow.python.keras.optimizer_v2.rmsprop.RMSprop'>;, score=0.904 total time=   7.5s\n",
      "[CV 3/5] END dense_nparams=10, input_lr=0.1, input_optimizer=<class 'tensorflow.python.keras.optimizer_v2.rmsprop.RMSprop'>;, score=0.921 total time=   7.3s\n",
      "[CV 4/5] END dense_nparams=10, input_lr=0.1, input_optimizer=<class 'tensorflow.python.keras.optimizer_v2.rmsprop.RMSprop'>;, score=0.919 total time=   7.5s\n",
      "[CV 5/5] END dense_nparams=10, input_lr=0.1, input_optimizer=<class 'tensorflow.python.keras.optimizer_v2.rmsprop.RMSprop'>;, score=0.909 total time=   7.7s\n",
      "[CV 1/5] END dense_nparams=10, input_lr=0.1, input_optimizer=<class 'tensorflow.python.keras.optimizer_v2.adam.Adam'>;, score=0.936 total time=   4.9s\n",
      "[CV 2/5] END dense_nparams=10, input_lr=0.1, input_optimizer=<class 'tensorflow.python.keras.optimizer_v2.adam.Adam'>;, score=0.946 total time=   4.7s\n",
      "[CV 3/5] END dense_nparams=10, input_lr=0.1, input_optimizer=<class 'tensorflow.python.keras.optimizer_v2.adam.Adam'>;, score=0.928 total time=   4.7s\n",
      "[CV 4/5] END dense_nparams=10, input_lr=0.1, input_optimizer=<class 'tensorflow.python.keras.optimizer_v2.adam.Adam'>;, score=0.904 total time=   4.7s\n",
      "[CV 5/5] END dense_nparams=10, input_lr=0.1, input_optimizer=<class 'tensorflow.python.keras.optimizer_v2.adam.Adam'>;, score=0.931 total time=   4.8s\n",
      "[CV 1/5] END dense_nparams=10, input_lr=0.1, input_optimizer=<class 'tensorflow.python.keras.optimizer_v2.adamax.Adamax'>;, score=0.948 total time=   4.9s\n",
      "[CV 2/5] END dense_nparams=10, input_lr=0.1, input_optimizer=<class 'tensorflow.python.keras.optimizer_v2.adamax.Adamax'>;, score=0.958 total time=   4.8s\n",
      "[CV 3/5] END dense_nparams=10, input_lr=0.1, input_optimizer=<class 'tensorflow.python.keras.optimizer_v2.adamax.Adamax'>;, score=0.960 total time=   4.8s\n",
      "[CV 4/5] END dense_nparams=10, input_lr=0.1, input_optimizer=<class 'tensorflow.python.keras.optimizer_v2.adamax.Adamax'>;, score=0.901 total time=   4.8s\n",
      "[CV 5/5] END dense_nparams=10, input_lr=0.1, input_optimizer=<class 'tensorflow.python.keras.optimizer_v2.adamax.Adamax'>;, score=0.938 total time=   5.0s\n",
      "[CV 1/5] END dense_nparams=10, input_lr=0.2, input_optimizer=<class 'tensorflow.python.keras.optimizer_v2.gradient_descent.SGD'>;, score=0.946 total time=   5.1s\n",
      "[CV 2/5] END dense_nparams=10, input_lr=0.2, input_optimizer=<class 'tensorflow.python.keras.optimizer_v2.gradient_descent.SGD'>;, score=0.958 total time=   4.8s\n",
      "[CV 3/5] END dense_nparams=10, input_lr=0.2, input_optimizer=<class 'tensorflow.python.keras.optimizer_v2.gradient_descent.SGD'>;, score=0.941 total time=   4.6s\n",
      "[CV 4/5] END dense_nparams=10, input_lr=0.2, input_optimizer=<class 'tensorflow.python.keras.optimizer_v2.gradient_descent.SGD'>;, score=0.899 total time=   4.5s\n",
      "[CV 5/5] END dense_nparams=10, input_lr=0.2, input_optimizer=<class 'tensorflow.python.keras.optimizer_v2.gradient_descent.SGD'>;, score=0.941 total time=   4.5s\n",
      "[CV 1/5] END dense_nparams=10, input_lr=0.2, input_optimizer=<class 'tensorflow.python.keras.optimizer_v2.adagrad.Adagrad'>;, score=0.938 total time=   4.7s\n",
      "[CV 2/5] END dense_nparams=10, input_lr=0.2, input_optimizer=<class 'tensorflow.python.keras.optimizer_v2.adagrad.Adagrad'>;, score=0.958 total time=   4.7s\n",
      "[CV 3/5] END dense_nparams=10, input_lr=0.2, input_optimizer=<class 'tensorflow.python.keras.optimizer_v2.adagrad.Adagrad'>;, score=0.965 total time=   4.7s\n",
      "[CV 4/5] END dense_nparams=10, input_lr=0.2, input_optimizer=<class 'tensorflow.python.keras.optimizer_v2.adagrad.Adagrad'>;, score=0.926 total time=   4.6s\n",
      "[CV 5/5] END dense_nparams=10, input_lr=0.2, input_optimizer=<class 'tensorflow.python.keras.optimizer_v2.adagrad.Adagrad'>;, score=0.938 total time=   4.6s\n",
      "[CV 1/5] END dense_nparams=10, input_lr=0.2, input_optimizer=<class 'tensorflow.python.keras.optimizer_v2.rmsprop.RMSprop'>;, score=0.933 total time=   7.6s\n",
      "[CV 2/5] END dense_nparams=10, input_lr=0.2, input_optimizer=<class 'tensorflow.python.keras.optimizer_v2.rmsprop.RMSprop'>;, score=0.855 total time=   7.7s\n",
      "[CV 3/5] END dense_nparams=10, input_lr=0.2, input_optimizer=<class 'tensorflow.python.keras.optimizer_v2.rmsprop.RMSprop'>;, score=0.921 total time=   7.6s\n",
      "[CV 4/5] END dense_nparams=10, input_lr=0.2, input_optimizer=<class 'tensorflow.python.keras.optimizer_v2.rmsprop.RMSprop'>;, score=0.886 total time=   7.2s\n",
      "[CV 5/5] END dense_nparams=10, input_lr=0.2, input_optimizer=<class 'tensorflow.python.keras.optimizer_v2.rmsprop.RMSprop'>;, score=0.886 total time=   7.5s\n",
      "[CV 1/5] END dense_nparams=10, input_lr=0.2, input_optimizer=<class 'tensorflow.python.keras.optimizer_v2.adam.Adam'>;, score=0.921 total time=   4.8s\n",
      "[CV 2/5] END dense_nparams=10, input_lr=0.2, input_optimizer=<class 'tensorflow.python.keras.optimizer_v2.adam.Adam'>;, score=0.931 total time=   5.0s\n",
      "[CV 3/5] END dense_nparams=10, input_lr=0.2, input_optimizer=<class 'tensorflow.python.keras.optimizer_v2.adam.Adam'>;, score=0.921 total time=   4.8s\n",
      "[CV 4/5] END dense_nparams=10, input_lr=0.2, input_optimizer=<class 'tensorflow.python.keras.optimizer_v2.adam.Adam'>;, score=0.891 total time=   4.9s\n",
      "[CV 5/5] END dense_nparams=10, input_lr=0.2, input_optimizer=<class 'tensorflow.python.keras.optimizer_v2.adam.Adam'>;, score=0.899 total time=   4.9s\n",
      "[CV 1/5] END dense_nparams=10, input_lr=0.2, input_optimizer=<class 'tensorflow.python.keras.optimizer_v2.adamax.Adamax'>;, score=0.926 total time=   5.0s\n",
      "[CV 2/5] END dense_nparams=10, input_lr=0.2, input_optimizer=<class 'tensorflow.python.keras.optimizer_v2.adamax.Adamax'>;, score=0.953 total time=   5.0s\n",
      "[CV 3/5] END dense_nparams=10, input_lr=0.2, input_optimizer=<class 'tensorflow.python.keras.optimizer_v2.adamax.Adamax'>;, score=0.951 total time=   4.9s\n",
      "[CV 4/5] END dense_nparams=10, input_lr=0.2, input_optimizer=<class 'tensorflow.python.keras.optimizer_v2.adamax.Adamax'>;, score=0.921 total time=   4.7s\n",
      "[CV 5/5] END dense_nparams=10, input_lr=0.2, input_optimizer=<class 'tensorflow.python.keras.optimizer_v2.adamax.Adamax'>;, score=0.923 total time=   4.3s\n",
      "[CV 1/5] END dense_nparams=20, input_lr=0.001, input_optimizer=<class 'tensorflow.python.keras.optimizer_v2.gradient_descent.SGD'>;, score=0.833 total time=   4.6s\n",
      "[CV 2/5] END dense_nparams=20, input_lr=0.001, input_optimizer=<class 'tensorflow.python.keras.optimizer_v2.gradient_descent.SGD'>;, score=0.855 total time=   4.6s\n",
      "[CV 3/5] END dense_nparams=20, input_lr=0.001, input_optimizer=<class 'tensorflow.python.keras.optimizer_v2.gradient_descent.SGD'>;, score=0.780 total time=   4.6s\n",
      "[CV 4/5] END dense_nparams=20, input_lr=0.001, input_optimizer=<class 'tensorflow.python.keras.optimizer_v2.gradient_descent.SGD'>;, score=0.810 total time=   4.5s\n",
      "[CV 5/5] END dense_nparams=20, input_lr=0.001, input_optimizer=<class 'tensorflow.python.keras.optimizer_v2.gradient_descent.SGD'>;, score=0.805 total time=   4.5s\n",
      "[CV 1/5] END dense_nparams=20, input_lr=0.001, input_optimizer=<class 'tensorflow.python.keras.optimizer_v2.adagrad.Adagrad'>;, score=0.833 total time=   4.6s\n",
      "[CV 2/5] END dense_nparams=20, input_lr=0.001, input_optimizer=<class 'tensorflow.python.keras.optimizer_v2.adagrad.Adagrad'>;, score=0.855 total time=   4.7s\n",
      "[CV 3/5] END dense_nparams=20, input_lr=0.001, input_optimizer=<class 'tensorflow.python.keras.optimizer_v2.adagrad.Adagrad'>;, score=0.780 total time=   5.0s\n",
      "[CV 4/5] END dense_nparams=20, input_lr=0.001, input_optimizer=<class 'tensorflow.python.keras.optimizer_v2.adagrad.Adagrad'>;, score=0.810 total time=   4.7s\n",
      "[CV 5/5] END dense_nparams=20, input_lr=0.001, input_optimizer=<class 'tensorflow.python.keras.optimizer_v2.adagrad.Adagrad'>;, score=0.805 total time=   4.6s\n"
     ]
    },
    {
     "name": "stdout",
     "output_type": "stream",
     "text": [
      "[CV 1/5] END dense_nparams=20, input_lr=0.001, input_optimizer=<class 'tensorflow.python.keras.optimizer_v2.rmsprop.RMSprop'>;, score=0.961 total time=   7.2s\n",
      "[CV 2/5] END dense_nparams=20, input_lr=0.001, input_optimizer=<class 'tensorflow.python.keras.optimizer_v2.rmsprop.RMSprop'>;, score=0.956 total time=   7.4s\n",
      "[CV 3/5] END dense_nparams=20, input_lr=0.001, input_optimizer=<class 'tensorflow.python.keras.optimizer_v2.rmsprop.RMSprop'>;, score=0.953 total time=   7.5s\n",
      "[CV 4/5] END dense_nparams=20, input_lr=0.001, input_optimizer=<class 'tensorflow.python.keras.optimizer_v2.rmsprop.RMSprop'>;, score=0.933 total time=   7.2s\n",
      "[CV 5/5] END dense_nparams=20, input_lr=0.001, input_optimizer=<class 'tensorflow.python.keras.optimizer_v2.rmsprop.RMSprop'>;, score=0.933 total time=   7.5s\n",
      "[CV 1/5] END dense_nparams=20, input_lr=0.001, input_optimizer=<class 'tensorflow.python.keras.optimizer_v2.adam.Adam'>;, score=0.953 total time=   4.9s\n",
      "[CV 2/5] END dense_nparams=20, input_lr=0.001, input_optimizer=<class 'tensorflow.python.keras.optimizer_v2.adam.Adam'>;, score=0.963 total time=   4.9s\n",
      "[CV 3/5] END dense_nparams=20, input_lr=0.001, input_optimizer=<class 'tensorflow.python.keras.optimizer_v2.adam.Adam'>;, score=0.963 total time=   4.8s\n",
      "[CV 4/5] END dense_nparams=20, input_lr=0.001, input_optimizer=<class 'tensorflow.python.keras.optimizer_v2.adam.Adam'>;, score=0.933 total time=   4.6s\n",
      "[CV 5/5] END dense_nparams=20, input_lr=0.001, input_optimizer=<class 'tensorflow.python.keras.optimizer_v2.adam.Adam'>;, score=0.933 total time=   4.7s\n",
      "[CV 1/5] END dense_nparams=20, input_lr=0.001, input_optimizer=<class 'tensorflow.python.keras.optimizer_v2.adamax.Adamax'>;, score=0.936 total time=   4.8s\n",
      "[CV 2/5] END dense_nparams=20, input_lr=0.001, input_optimizer=<class 'tensorflow.python.keras.optimizer_v2.adamax.Adamax'>;, score=0.951 total time=   4.8s\n",
      "[CV 3/5] END dense_nparams=20, input_lr=0.001, input_optimizer=<class 'tensorflow.python.keras.optimizer_v2.adamax.Adamax'>;, score=0.943 total time=   5.1s\n",
      "[CV 4/5] END dense_nparams=20, input_lr=0.001, input_optimizer=<class 'tensorflow.python.keras.optimizer_v2.adamax.Adamax'>;, score=0.906 total time=   4.8s\n",
      "[CV 5/5] END dense_nparams=20, input_lr=0.001, input_optimizer=<class 'tensorflow.python.keras.optimizer_v2.adamax.Adamax'>;, score=0.928 total time=   4.8s\n",
      "[CV 1/5] END dense_nparams=20, input_lr=0.01, input_optimizer=<class 'tensorflow.python.keras.optimizer_v2.gradient_descent.SGD'>;, score=0.865 total time=   4.6s\n",
      "[CV 2/5] END dense_nparams=20, input_lr=0.01, input_optimizer=<class 'tensorflow.python.keras.optimizer_v2.gradient_descent.SGD'>;, score=0.901 total time=   4.7s\n",
      "[CV 3/5] END dense_nparams=20, input_lr=0.01, input_optimizer=<class 'tensorflow.python.keras.optimizer_v2.gradient_descent.SGD'>;, score=0.886 total time=   4.7s\n",
      "[CV 4/5] END dense_nparams=20, input_lr=0.01, input_optimizer=<class 'tensorflow.python.keras.optimizer_v2.gradient_descent.SGD'>;, score=0.881 total time=   4.7s\n",
      "[CV 5/5] END dense_nparams=20, input_lr=0.01, input_optimizer=<class 'tensorflow.python.keras.optimizer_v2.gradient_descent.SGD'>;, score=0.886 total time=   4.5s\n",
      "[CV 1/5] END dense_nparams=20, input_lr=0.01, input_optimizer=<class 'tensorflow.python.keras.optimizer_v2.adagrad.Adagrad'>;, score=0.889 total time=   4.5s\n",
      "[CV 2/5] END dense_nparams=20, input_lr=0.01, input_optimizer=<class 'tensorflow.python.keras.optimizer_v2.adagrad.Adagrad'>;, score=0.894 total time=   4.6s\n",
      "[CV 3/5] END dense_nparams=20, input_lr=0.01, input_optimizer=<class 'tensorflow.python.keras.optimizer_v2.adagrad.Adagrad'>;, score=0.884 total time=   4.6s\n",
      "[CV 4/5] END dense_nparams=20, input_lr=0.01, input_optimizer=<class 'tensorflow.python.keras.optimizer_v2.adagrad.Adagrad'>;, score=0.894 total time=   4.6s\n",
      "[CV 5/5] END dense_nparams=20, input_lr=0.01, input_optimizer=<class 'tensorflow.python.keras.optimizer_v2.adagrad.Adagrad'>;, score=0.909 total time=   4.6s\n",
      "[CV 1/5] END dense_nparams=20, input_lr=0.01, input_optimizer=<class 'tensorflow.python.keras.optimizer_v2.rmsprop.RMSprop'>;, score=0.948 total time=   7.2s\n",
      "[CV 2/5] END dense_nparams=20, input_lr=0.01, input_optimizer=<class 'tensorflow.python.keras.optimizer_v2.rmsprop.RMSprop'>;, score=0.919 total time=   7.5s\n",
      "[CV 3/5] END dense_nparams=20, input_lr=0.01, input_optimizer=<class 'tensorflow.python.keras.optimizer_v2.rmsprop.RMSprop'>;, score=0.958 total time=   7.7s\n",
      "[CV 4/5] END dense_nparams=20, input_lr=0.01, input_optimizer=<class 'tensorflow.python.keras.optimizer_v2.rmsprop.RMSprop'>;, score=0.933 total time=   7.6s\n",
      "[CV 5/5] END dense_nparams=20, input_lr=0.01, input_optimizer=<class 'tensorflow.python.keras.optimizer_v2.rmsprop.RMSprop'>;, score=0.941 total time=   7.1s\n",
      "[CV 1/5] END dense_nparams=20, input_lr=0.01, input_optimizer=<class 'tensorflow.python.keras.optimizer_v2.adam.Adam'>;, score=0.948 total time=   4.8s\n",
      "[CV 2/5] END dense_nparams=20, input_lr=0.01, input_optimizer=<class 'tensorflow.python.keras.optimizer_v2.adam.Adam'>;, score=0.961 total time=   4.7s\n",
      "[CV 3/5] END dense_nparams=20, input_lr=0.01, input_optimizer=<class 'tensorflow.python.keras.optimizer_v2.adam.Adam'>;, score=0.970 total time=   4.8s\n",
      "[CV 4/5] END dense_nparams=20, input_lr=0.01, input_optimizer=<class 'tensorflow.python.keras.optimizer_v2.adam.Adam'>;, score=0.921 total time=   4.7s\n",
      "[CV 5/5] END dense_nparams=20, input_lr=0.01, input_optimizer=<class 'tensorflow.python.keras.optimizer_v2.adam.Adam'>;, score=0.933 total time=   4.7s\n",
      "[CV 1/5] END dense_nparams=20, input_lr=0.01, input_optimizer=<class 'tensorflow.python.keras.optimizer_v2.adamax.Adamax'>;, score=0.951 total time=   5.0s\n",
      "[CV 2/5] END dense_nparams=20, input_lr=0.01, input_optimizer=<class 'tensorflow.python.keras.optimizer_v2.adamax.Adamax'>;, score=0.948 total time=   5.0s\n",
      "[CV 3/5] END dense_nparams=20, input_lr=0.01, input_optimizer=<class 'tensorflow.python.keras.optimizer_v2.adamax.Adamax'>;, score=0.960 total time=   5.0s\n",
      "[CV 4/5] END dense_nparams=20, input_lr=0.01, input_optimizer=<class 'tensorflow.python.keras.optimizer_v2.adamax.Adamax'>;, score=0.923 total time=   4.9s\n",
      "[CV 5/5] END dense_nparams=20, input_lr=0.01, input_optimizer=<class 'tensorflow.python.keras.optimizer_v2.adamax.Adamax'>;, score=0.943 total time=   4.8s\n",
      "[CV 1/5] END dense_nparams=20, input_lr=0.1, input_optimizer=<class 'tensorflow.python.keras.optimizer_v2.gradient_descent.SGD'>;, score=0.946 total time=   4.5s\n",
      "[CV 2/5] END dense_nparams=20, input_lr=0.1, input_optimizer=<class 'tensorflow.python.keras.optimizer_v2.gradient_descent.SGD'>;, score=0.941 total time=   4.6s\n",
      "[CV 3/5] END dense_nparams=20, input_lr=0.1, input_optimizer=<class 'tensorflow.python.keras.optimizer_v2.gradient_descent.SGD'>;, score=0.938 total time=   4.6s\n",
      "[CV 4/5] END dense_nparams=20, input_lr=0.1, input_optimizer=<class 'tensorflow.python.keras.optimizer_v2.gradient_descent.SGD'>;, score=0.933 total time=   4.6s\n",
      "[CV 5/5] END dense_nparams=20, input_lr=0.1, input_optimizer=<class 'tensorflow.python.keras.optimizer_v2.gradient_descent.SGD'>;, score=0.926 total time=   4.8s\n",
      "[CV 1/5] END dense_nparams=20, input_lr=0.1, input_optimizer=<class 'tensorflow.python.keras.optimizer_v2.adagrad.Adagrad'>;, score=0.958 total time=   4.5s\n",
      "[CV 2/5] END dense_nparams=20, input_lr=0.1, input_optimizer=<class 'tensorflow.python.keras.optimizer_v2.adagrad.Adagrad'>;, score=0.953 total time=   4.6s\n",
      "[CV 3/5] END dense_nparams=20, input_lr=0.1, input_optimizer=<class 'tensorflow.python.keras.optimizer_v2.adagrad.Adagrad'>;, score=0.960 total time=   4.7s\n",
      "[CV 4/5] END dense_nparams=20, input_lr=0.1, input_optimizer=<class 'tensorflow.python.keras.optimizer_v2.adagrad.Adagrad'>;, score=0.923 total time=   4.8s\n",
      "[CV 5/5] END dense_nparams=20, input_lr=0.1, input_optimizer=<class 'tensorflow.python.keras.optimizer_v2.adagrad.Adagrad'>;, score=0.931 total time=   4.8s\n",
      "[CV 1/5] END dense_nparams=20, input_lr=0.1, input_optimizer=<class 'tensorflow.python.keras.optimizer_v2.rmsprop.RMSprop'>;, score=0.931 total time=   7.3s\n",
      "[CV 2/5] END dense_nparams=20, input_lr=0.1, input_optimizer=<class 'tensorflow.python.keras.optimizer_v2.rmsprop.RMSprop'>;, score=0.943 total time=   7.3s\n",
      "[CV 3/5] END dense_nparams=20, input_lr=0.1, input_optimizer=<class 'tensorflow.python.keras.optimizer_v2.rmsprop.RMSprop'>;, score=0.943 total time=   7.5s\n"
     ]
    },
    {
     "name": "stdout",
     "output_type": "stream",
     "text": [
      "[CV 4/5] END dense_nparams=20, input_lr=0.1, input_optimizer=<class 'tensorflow.python.keras.optimizer_v2.rmsprop.RMSprop'>;, score=0.901 total time=   7.4s\n",
      "[CV 5/5] END dense_nparams=20, input_lr=0.1, input_optimizer=<class 'tensorflow.python.keras.optimizer_v2.rmsprop.RMSprop'>;, score=0.919 total time=   7.4s\n",
      "[CV 1/5] END dense_nparams=20, input_lr=0.1, input_optimizer=<class 'tensorflow.python.keras.optimizer_v2.adam.Adam'>;, score=0.951 total time=   4.9s\n",
      "[CV 2/5] END dense_nparams=20, input_lr=0.1, input_optimizer=<class 'tensorflow.python.keras.optimizer_v2.adam.Adam'>;, score=0.931 total time=   4.9s\n",
      "[CV 3/5] END dense_nparams=20, input_lr=0.1, input_optimizer=<class 'tensorflow.python.keras.optimizer_v2.adam.Adam'>;, score=0.936 total time=   4.9s\n",
      "[CV 4/5] END dense_nparams=20, input_lr=0.1, input_optimizer=<class 'tensorflow.python.keras.optimizer_v2.adam.Adam'>;, score=0.914 total time=   4.8s\n",
      "[CV 5/5] END dense_nparams=20, input_lr=0.1, input_optimizer=<class 'tensorflow.python.keras.optimizer_v2.adam.Adam'>;, score=0.936 total time=   4.6s\n",
      "[CV 1/5] END dense_nparams=20, input_lr=0.1, input_optimizer=<class 'tensorflow.python.keras.optimizer_v2.adamax.Adamax'>;, score=0.956 total time=   5.0s\n",
      "[CV 2/5] END dense_nparams=20, input_lr=0.1, input_optimizer=<class 'tensorflow.python.keras.optimizer_v2.adamax.Adamax'>;, score=0.951 total time=   4.9s\n",
      "[CV 3/5] END dense_nparams=20, input_lr=0.1, input_optimizer=<class 'tensorflow.python.keras.optimizer_v2.adamax.Adamax'>;, score=0.948 total time=   4.9s\n",
      "[CV 4/5] END dense_nparams=20, input_lr=0.1, input_optimizer=<class 'tensorflow.python.keras.optimizer_v2.adamax.Adamax'>;, score=0.933 total time=   4.8s\n",
      "[CV 5/5] END dense_nparams=20, input_lr=0.1, input_optimizer=<class 'tensorflow.python.keras.optimizer_v2.adamax.Adamax'>;, score=0.926 total time=   4.8s\n",
      "[CV 1/5] END dense_nparams=20, input_lr=0.2, input_optimizer=<class 'tensorflow.python.keras.optimizer_v2.gradient_descent.SGD'>;, score=0.956 total time=   4.5s\n",
      "[CV 2/5] END dense_nparams=20, input_lr=0.2, input_optimizer=<class 'tensorflow.python.keras.optimizer_v2.gradient_descent.SGD'>;, score=0.961 total time=   4.6s\n",
      "[CV 3/5] END dense_nparams=20, input_lr=0.2, input_optimizer=<class 'tensorflow.python.keras.optimizer_v2.gradient_descent.SGD'>;, score=0.970 total time=   4.8s\n",
      "[CV 4/5] END dense_nparams=20, input_lr=0.2, input_optimizer=<class 'tensorflow.python.keras.optimizer_v2.gradient_descent.SGD'>;, score=0.931 total time=   4.8s\n",
      "[CV 5/5] END dense_nparams=20, input_lr=0.2, input_optimizer=<class 'tensorflow.python.keras.optimizer_v2.gradient_descent.SGD'>;, score=0.926 total time=   4.8s\n",
      "[CV 1/5] END dense_nparams=20, input_lr=0.2, input_optimizer=<class 'tensorflow.python.keras.optimizer_v2.adagrad.Adagrad'>;, score=0.951 total time=   4.6s\n",
      "[CV 2/5] END dense_nparams=20, input_lr=0.2, input_optimizer=<class 'tensorflow.python.keras.optimizer_v2.adagrad.Adagrad'>;, score=0.966 total time=   4.5s\n",
      "[CV 3/5] END dense_nparams=20, input_lr=0.2, input_optimizer=<class 'tensorflow.python.keras.optimizer_v2.adagrad.Adagrad'>;, score=0.970 total time=   4.5s\n",
      "[CV 4/5] END dense_nparams=20, input_lr=0.2, input_optimizer=<class 'tensorflow.python.keras.optimizer_v2.adagrad.Adagrad'>;, score=0.928 total time=   4.6s\n",
      "[CV 5/5] END dense_nparams=20, input_lr=0.2, input_optimizer=<class 'tensorflow.python.keras.optimizer_v2.adagrad.Adagrad'>;, score=0.926 total time=   4.6s\n",
      "[CV 1/5] END dense_nparams=20, input_lr=0.2, input_optimizer=<class 'tensorflow.python.keras.optimizer_v2.rmsprop.RMSprop'>;, score=0.882 total time=   7.3s\n",
      "[CV 2/5] END dense_nparams=20, input_lr=0.2, input_optimizer=<class 'tensorflow.python.keras.optimizer_v2.rmsprop.RMSprop'>;, score=0.924 total time=   7.4s\n",
      "[CV 3/5] END dense_nparams=20, input_lr=0.2, input_optimizer=<class 'tensorflow.python.keras.optimizer_v2.rmsprop.RMSprop'>;, score=0.780 total time=   7.7s\n",
      "[CV 4/5] END dense_nparams=20, input_lr=0.2, input_optimizer=<class 'tensorflow.python.keras.optimizer_v2.rmsprop.RMSprop'>;, score=0.904 total time=   7.7s\n",
      "[CV 5/5] END dense_nparams=20, input_lr=0.2, input_optimizer=<class 'tensorflow.python.keras.optimizer_v2.rmsprop.RMSprop'>;, score=0.899 total time=   7.2s\n",
      "[CV 1/5] END dense_nparams=20, input_lr=0.2, input_optimizer=<class 'tensorflow.python.keras.optimizer_v2.adam.Adam'>;, score=0.926 total time=   4.7s\n",
      "[CV 2/5] END dense_nparams=20, input_lr=0.2, input_optimizer=<class 'tensorflow.python.keras.optimizer_v2.adam.Adam'>;, score=0.933 total time=   4.8s\n",
      "[CV 3/5] END dense_nparams=20, input_lr=0.2, input_optimizer=<class 'tensorflow.python.keras.optimizer_v2.adam.Adam'>;, score=0.943 total time=   4.8s\n",
      "[CV 4/5] END dense_nparams=20, input_lr=0.2, input_optimizer=<class 'tensorflow.python.keras.optimizer_v2.adam.Adam'>;, score=0.810 total time=   4.7s\n",
      "[CV 5/5] END dense_nparams=20, input_lr=0.2, input_optimizer=<class 'tensorflow.python.keras.optimizer_v2.adam.Adam'>;, score=0.919 total time=   4.7s\n",
      "[CV 1/5] END dense_nparams=20, input_lr=0.2, input_optimizer=<class 'tensorflow.python.keras.optimizer_v2.adamax.Adamax'>;, score=0.953 total time=   4.8s\n",
      "[CV 2/5] END dense_nparams=20, input_lr=0.2, input_optimizer=<class 'tensorflow.python.keras.optimizer_v2.adamax.Adamax'>;, score=0.953 total time=   4.9s\n",
      "[CV 3/5] END dense_nparams=20, input_lr=0.2, input_optimizer=<class 'tensorflow.python.keras.optimizer_v2.adamax.Adamax'>;, score=0.960 total time=   5.0s\n",
      "[CV 4/5] END dense_nparams=20, input_lr=0.2, input_optimizer=<class 'tensorflow.python.keras.optimizer_v2.adamax.Adamax'>;, score=0.931 total time=   5.0s\n",
      "[CV 5/5] END dense_nparams=20, input_lr=0.2, input_optimizer=<class 'tensorflow.python.keras.optimizer_v2.adamax.Adamax'>;, score=0.938 total time=   4.9s\n",
      "최고의 파라미터 : {'dense_nparams': 20, 'input_lr': 0.001, 'input_optimizer': <class 'tensorflow.python.keras.optimizer_v2.adam.Adam'>}\n",
      "최고 평균 정확도 : 0.9491771574530196\n"
     ]
    }
   ],
   "source": [
    "# cross_validation 정의\n",
    "kf = KFold(n_splits=5, # Fold 는 5개로 지정\n",
    "           shuffle=True\n",
    "          )\n",
    "\n",
    "# gridsearch 정의\n",
    "# scoring : 검증셋의 성능을 무엇으로 측정할 것인지 \n",
    "# verbose : 모든 log 출력하도록\n",
    "grid = GridSearchCV(estimator=classifier_model, \n",
    "                    param_grid=param_grid, \n",
    "                    scoring = 'accuracy',\n",
    "                    cv = kf,\n",
    "                    verbose=3)\n",
    "\n",
    "# gridsearch 시작\n",
    "grid_result = grid.fit(X_train_all, y_train_all)\n",
    "\n",
    "# gridesearch 결과\n",
    "print(\"최고의 파라미터 :\", grid_result.best_params_)\n",
    "print(\"최고 평균 정확도 : {}\".format(grid_result.best_score_))"
   ]
  },
  {
   "cell_type": "code",
   "execution_count": 42,
   "metadata": {
    "colab": {
     "base_uri": "https://localhost:8080/"
    },
    "executionInfo": {
     "elapsed": 2382,
     "status": "ok",
     "timestamp": 1639827525578,
     "user": {
      "displayName": "­이현태 | 서울 비즈니스인포매틱스학과",
      "photoUrl": "https://lh3.googleusercontent.com/a/default-user=s64",
      "userId": "07002847175634749293"
     },
     "user_tz": -540
    },
    "id": "rZ_f23mca4Od",
    "outputId": "d68342ca-ad1f-491c-d129-54b06ae8a2aa"
   },
   "outputs": [
    {
     "name": "stdout",
     "output_type": "stream",
     "text": [
      "WARNING:tensorflow:From C:\\Users\\user\\AppData\\Roaming\\Python\\Python39\\site-packages\\tensorflow\\python\\ops\\array_ops.py:5043: calling gather (from tensorflow.python.ops.array_ops) with validate_indices is deprecated and will be removed in a future version.\n",
      "Instructions for updating:\n",
      "The `validate_indices` argument has no effect. Indices are always validated on CPU and never validated on GPU.\n",
      "Epoch 1/300\n",
      "45/45 [==============================] - 1s 12ms/step - loss: 0.2428 - accuracy: 0.6544 - val_loss: 0.5800 - val_accuracy: 0.7833\n",
      "Epoch 2/300\n",
      "45/45 [==============================] - 0s 5ms/step - loss: 0.2068 - accuracy: 0.8145 - val_loss: 0.5119 - val_accuracy: 0.7849\n",
      "Epoch 3/300\n",
      "45/45 [==============================] - 0s 5ms/step - loss: 0.1724 - accuracy: 0.8300 - val_loss: 0.4745 - val_accuracy: 0.7947\n",
      "Epoch 4/300\n",
      "45/45 [==============================] - 0s 5ms/step - loss: 0.1481 - accuracy: 0.8329 - val_loss: 0.4474 - val_accuracy: 0.8095\n",
      "Epoch 5/300\n",
      "45/45 [==============================] - 0s 5ms/step - loss: 0.1343 - accuracy: 0.8427 - val_loss: 0.4083 - val_accuracy: 0.8210\n",
      "Epoch 6/300\n",
      "45/45 [==============================] - 0s 5ms/step - loss: 0.1209 - accuracy: 0.8547 - val_loss: 0.3599 - val_accuracy: 0.8391\n",
      "Epoch 7/300\n",
      "45/45 [==============================] - 0s 5ms/step - loss: 0.1105 - accuracy: 0.8688 - val_loss: 0.3400 - val_accuracy: 0.8489\n",
      "Epoch 8/300\n",
      "45/45 [==============================] - 0s 5ms/step - loss: 0.1012 - accuracy: 0.8745 - val_loss: 0.3121 - val_accuracy: 0.8654\n",
      "Epoch 9/300\n",
      "45/45 [==============================] - 0s 5ms/step - loss: 0.0927 - accuracy: 0.8963 - val_loss: 0.3530 - val_accuracy: 0.8571\n",
      "Epoch 10/300\n",
      "45/45 [==============================] - 0s 5ms/step - loss: 0.0881 - accuracy: 0.9027 - val_loss: 0.3148 - val_accuracy: 0.8752\n",
      "Epoch 11/300\n",
      "45/45 [==============================] - 0s 5ms/step - loss: 0.0830 - accuracy: 0.9111 - val_loss: 0.2713 - val_accuracy: 0.8949\n",
      "Epoch 12/300\n",
      "45/45 [==============================] - 0s 5ms/step - loss: 0.0791 - accuracy: 0.9288 - val_loss: 0.2912 - val_accuracy: 0.8916\n",
      "Epoch 13/300\n",
      "45/45 [==============================] - 0s 5ms/step - loss: 0.0762 - accuracy: 0.9295 - val_loss: 0.2765 - val_accuracy: 0.9064\n",
      "Epoch 14/300\n",
      "45/45 [==============================] - 0s 5ms/step - loss: 0.0740 - accuracy: 0.9316 - val_loss: 0.2818 - val_accuracy: 0.8933\n",
      "Epoch 15/300\n",
      "45/45 [==============================] - 0s 5ms/step - loss: 0.0744 - accuracy: 0.9330 - val_loss: 0.2384 - val_accuracy: 0.9113\n",
      "Epoch 16/300\n",
      "45/45 [==============================] - 0s 5ms/step - loss: 0.0726 - accuracy: 0.9351 - val_loss: 0.2932 - val_accuracy: 0.8900\n",
      "Epoch 17/300\n",
      "45/45 [==============================] - 0s 5ms/step - loss: 0.0693 - accuracy: 0.9337 - val_loss: 0.2298 - val_accuracy: 0.9113\n",
      "Epoch 18/300\n",
      "45/45 [==============================] - 0s 5ms/step - loss: 0.0683 - accuracy: 0.9394 - val_loss: 0.2399 - val_accuracy: 0.9080\n",
      "Epoch 19/300\n",
      "45/45 [==============================] - 0s 5ms/step - loss: 0.0669 - accuracy: 0.9415 - val_loss: 0.2074 - val_accuracy: 0.9113\n",
      "Epoch 20/300\n",
      "45/45 [==============================] - 0s 5ms/step - loss: 0.0665 - accuracy: 0.9379 - val_loss: 0.2287 - val_accuracy: 0.9146\n",
      "Epoch 21/300\n",
      "45/45 [==============================] - 0s 5ms/step - loss: 0.0649 - accuracy: 0.9401 - val_loss: 0.2613 - val_accuracy: 0.9064\n",
      "Epoch 22/300\n",
      "45/45 [==============================] - 0s 5ms/step - loss: 0.0642 - accuracy: 0.9415 - val_loss: 0.2193 - val_accuracy: 0.9146\n",
      "Epoch 23/300\n",
      "45/45 [==============================] - 0s 5ms/step - loss: 0.0640 - accuracy: 0.9415 - val_loss: 0.2350 - val_accuracy: 0.9130\n",
      "Epoch 24/300\n",
      "45/45 [==============================] - 0s 5ms/step - loss: 0.0624 - accuracy: 0.9415 - val_loss: 0.2443 - val_accuracy: 0.9097\n"
     ]
    }
   ],
   "source": [
    "# 모델 정의\n",
    "result_model = create_model(grid_result.best_params_['dense_nparams'],\n",
    "                            grid_result.best_params_['input_optimizer'],\n",
    "                            grid_result.best_params_['input_lr'])\n",
    "\n",
    "early_stopping_cb = keras.callbacks.EarlyStopping(monitor='val_loss', patience=5, restore_best_weights=True)\n",
    "\n",
    "# 모델 훈련\n",
    "history = result_model.fit(X_train, \n",
    "                y_train,\n",
    "                epochs=300, \n",
    "                validation_data=(X_val, y_val), \n",
    "                callbacks=[early_stopping_cb], \n",
    "                class_weight={0:len(y_train[y_train==1])/len(y_train[y_train==0]),1:1})"
   ]
  },
  {
   "cell_type": "code",
   "execution_count": 43,
   "metadata": {
    "colab": {
     "base_uri": "https://localhost:8080/",
     "height": 351
    },
    "executionInfo": {
     "elapsed": 452,
     "status": "ok",
     "timestamp": 1639827526023,
     "user": {
      "displayName": "­이현태 | 서울 비즈니스인포매틱스학과",
      "photoUrl": "https://lh3.googleusercontent.com/a/default-user=s64",
      "userId": "07002847175634749293"
     },
     "user_tz": -540
    },
    "id": "kDvXK9cpUJFZ",
    "outputId": "5b4e0c4f-3765-4e03-8ab2-44f2c31c6827"
   },
   "outputs": [
    {
     "data": {
      "image/png": "[encoded data removed]",
      "text/plain": [
       "<Figure size 1080x360 with 1 Axes>"
      ]
     },
     "metadata": {
      "needs_background": "light"
     },
     "output_type": "display_data"
    }
   ],
   "source": [
    "fig, loss_ax = plt.subplots(figsize=(15, 5))\n",
    "\n",
    "history_dict=history.history\n",
    "history_dict.keys()\n",
    "\n",
    "acc=history.history['accuracy']\n",
    "val_acc=history.history['val_accuracy']\n",
    "loss=history.history['loss']\n",
    "val_loss=history.history['val_loss']\n",
    "epochs=range(1,len(acc)+1)\n",
    "\n",
    "\n",
    "plt.plot(epochs,loss,'y',label='Training loss')\n",
    "plt.plot(epochs,val_loss,'r',label='Validation loss')\n",
    "plt.title('Training and validation loss')\n",
    "plt.xlabel('Epochs')\n",
    "plt.legend()\n",
    "plt.show()"
   ]
  },
  {
   "cell_type": "code",
   "execution_count": 44,
   "metadata": {
    "colab": {
     "base_uri": "https://localhost:8080/",
     "height": 351
    },
    "executionInfo": {
     "elapsed": 415,
     "status": "ok",
     "timestamp": 1639827526432,
     "user": {
      "displayName": "­이현태 | 서울 비즈니스인포매틱스학과",
      "photoUrl": "https://lh3.googleusercontent.com/a/default-user=s64",
      "userId": "07002847175634749293"
     },
     "user_tz": -540
    },
    "id": "gTmQgY70UM4X",
    "outputId": "573908bf-ceb3-4261-9a1d-445746461d31"
   },
   "outputs": [
    {
     "data": {
      "image/png": "[encoded data removed]",
      "text/plain": [
       "<Figure size 1080x360 with 1 Axes>"
      ]
     },
     "metadata": {
      "needs_background": "light"
     },
     "output_type": "display_data"
    }
   ],
   "source": [
    "fig, loss_ax = plt.subplots(figsize=(15, 5))\n",
    "plt.plot(epochs,acc,'b',label='Training accuracy')\n",
    "plt.plot(epochs,val_acc,'g',label='Validation accuracy')\n",
    "plt.title('Training and validation Accuracy')\n",
    "plt.xlabel('Epochs')\n",
    "plt.legend()\n",
    "plt.show()"
   ]
  },
  {
   "cell_type": "code",
   "execution_count": 45,
   "metadata": {
    "id": "NrnMMi9FUPON"
   },
   "outputs": [],
   "source": [
    "predicted_result=result_model.predict(X_test)\n",
    "predicted_result.shape\n",
    "predicted_target=pd.Series([1 if predicted_result[i]> 0.5 else 0 for i in range(0,predicted_result.shape[0])])"
   ]
  },
  {
   "cell_type": "code",
   "execution_count": 46,
   "metadata": {
    "id": "KRTxNghHUR1l"
   },
   "outputs": [],
   "source": [
    "def dnn_results(X_test, y_test, y_pred, model):    \n",
    "    from sklearn.metrics import roc_auc_score, accuracy_score, precision_score, recall_score, confusion_matrix, f1_score\n",
    "    from sklearn import metrics\n",
    "    from sklearn.metrics import classification_report\n",
    "    print(\"Confusion Matrix:\")\n",
    "    print(confusion_matrix(y_test, y_pred))\n",
    "    print(\"\\nClassification Report:\")\n",
    "    print(classification_report(y_test, y_pred)) \n",
    "\n",
    "    fig, ax_arr = plt.subplots(nrows = 1, ncols = 1, figsize = (8,6))\n",
    "\n",
    "    preds = model.predict(X_test)\n",
    "    fpr, tpr, threshold = metrics.roc_curve(y_test, preds)\n",
    "    roc_auc = metrics.auc(fpr, tpr)\n",
    "\n",
    "    ax_arr.plot(fpr, tpr, 'b', label = 'AUC = %0.2f' % roc_auc)\n",
    "    ax_arr.plot([0, 1], [0, 1],'r--')\n",
    "    ax_arr.set_title('Receiver Operating Characteristic',fontsize=20)\n",
    "    ax_arr.set_ylabel('True Positive Rate',fontsize=20)\n",
    "    ax_arr.set_xlabel('False Positive Rate',fontsize=15)\n",
    "    ax_arr.legend(loc = 'lower right', prop={'size': 16})"
   ]
  },
  {
   "cell_type": "code",
   "execution_count": 47,
   "metadata": {
    "colab": {
     "base_uri": "https://localhost:8080/",
     "height": 674
    },
    "executionInfo": {
     "elapsed": 504,
     "status": "ok",
     "timestamp": 1639827526932,
     "user": {
      "displayName": "­이현태 | 서울 비즈니스인포매틱스학과",
      "photoUrl": "https://lh3.googleusercontent.com/a/default-user=s64",
      "userId": "07002847175634749293"
     },
     "user_tz": -540
    },
    "id": "nZ7R9z3-UXLM",
    "outputId": "3acda9e6-d793-4e18-b548-299ad47d5e35"
   },
   "outputs": [
    {
     "name": "stdout",
     "output_type": "stream",
     "text": [
      "Confusion Matrix:\n",
      "[[679  31]\n",
      " [ 16 143]]\n",
      "\n",
      "Classification Report:\n",
      "              precision    recall  f1-score   support\n",
      "\n",
      "           0       0.98      0.96      0.97       710\n",
      "           1       0.82      0.90      0.86       159\n",
      "\n",
      "    accuracy                           0.95       869\n",
      "   macro avg       0.90      0.93      0.91       869\n",
      "weighted avg       0.95      0.95      0.95       869\n",
      "\n"
     ]
    },
    {
     "data": {
      "image/png": "[encoded data removed]",
      "text/plain": [
       "<Figure size 576x432 with 1 Axes>"
      ]
     },
     "metadata": {
      "needs_background": "light"
     },
     "output_type": "display_data"
    }
   ],
   "source": [
    "dnn_results(X_test, y_test, predicted_target, result_model)"
   ]
  },
  {
   "cell_type": "code",
   "execution_count": 48,
   "metadata": {
    "colab": {
     "base_uri": "https://localhost:8080/"
    },
    "executionInfo": {
     "elapsed": 8,
     "status": "ok",
     "timestamp": 1639827526932,
     "user": {
      "displayName": "­이현태 | 서울 비즈니스인포매틱스학과",
      "photoUrl": "https://lh3.googleusercontent.com/a/default-user=s64",
      "userId": "07002847175634749293"
     },
     "user_tz": -540
    },
    "id": "ua8Rf3_tUb1Q",
    "outputId": "c3a03d5a-fdf5-400c-b2da-6731ad70d290"
   },
   "outputs": [
    {
     "name": "stdout",
     "output_type": "stream",
     "text": [
      "Model: \"sequential_302\"\n",
      "_________________________________________________________________\n",
      "Layer (type)                 Output Shape              Param #   \n",
      "=================================================================\n",
      "dense_906 (Dense)            (None, 10)                450       \n",
      "_________________________________________________________________\n",
      "dense_907 (Dense)            (None, 10)                110       \n",
      "_________________________________________________________________\n",
      "dense_908 (Dense)            (None, 1)                 11        \n",
      "=================================================================\n",
      "Total params: 571\n",
      "Trainable params: 571\n",
      "Non-trainable params: 0\n",
      "_________________________________________________________________\n",
      "None\n"
     ]
    }
   ],
   "source": [
    "model1 = Sequential()\n",
    "model1.add(Dense(10, activation='relu',input_shape=(X_train.shape[1],)))\n",
    "model1.add(Dense(10, activation='relu'))\n",
    "model1.add(Dense(1,activation='sigmoid'))\n",
    "print(model1.summary())"
   ]
  },
  {
   "cell_type": "code",
   "execution_count": 49,
   "metadata": {
    "id": "CwBJfBZ7thDk"
   },
   "outputs": [],
   "source": [
    "model1.compile(optimizer='adam', loss='binary_crossentropy', metrics=['accuracy'])"
   ]
  },
  {
   "cell_type": "code",
   "execution_count": 50,
   "metadata": {
    "colab": {
     "base_uri": "https://localhost:8080/"
    },
    "executionInfo": {
     "elapsed": 4195,
     "status": "ok",
     "timestamp": 1639827531123,
     "user": {
      "displayName": "­이현태 | 서울 비즈니스인포매틱스학과",
      "photoUrl": "https://lh3.googleusercontent.com/a/default-user=s64",
      "userId": "07002847175634749293"
     },
     "user_tz": -540
    },
    "id": "ts2TzTn7tk4b",
    "outputId": "4bba18e4-67bd-4b23-df87-a6dbfe35c1a8"
   },
   "outputs": [
    {
     "name": "stdout",
     "output_type": "stream",
     "text": [
      "Epoch 1/200\n",
      "64/64 [==============================] - 1s 6ms/step - loss: 0.2413 - accuracy: 0.6127 - val_loss: 0.5493 - val_accuracy: 0.8194\n",
      "Epoch 2/200\n",
      "64/64 [==============================] - 0s 5ms/step - loss: 0.2043 - accuracy: 0.8382 - val_loss: 0.4578 - val_accuracy: 0.8506\n",
      "Epoch 3/200\n",
      "64/64 [==============================] - 0s 5ms/step - loss: 0.1592 - accuracy: 0.8599 - val_loss: 0.3685 - val_accuracy: 0.8654\n",
      "Epoch 4/200\n",
      "64/64 [==============================] - 0s 5ms/step - loss: 0.1318 - accuracy: 0.8569 - val_loss: 0.3287 - val_accuracy: 0.8588\n",
      "Epoch 5/200\n",
      "64/64 [==============================] - 0s 5ms/step - loss: 0.1173 - accuracy: 0.8658 - val_loss: 0.3430 - val_accuracy: 0.8604\n",
      "Epoch 6/200\n",
      "64/64 [==============================] - 0s 5ms/step - loss: 0.1074 - accuracy: 0.8791 - val_loss: 0.2983 - val_accuracy: 0.8867\n",
      "Epoch 7/200\n",
      "64/64 [==============================] - 0s 5ms/step - loss: 0.1013 - accuracy: 0.8934 - val_loss: 0.3088 - val_accuracy: 0.8883\n",
      "Epoch 8/200\n",
      "64/64 [==============================] - 0s 5ms/step - loss: 0.0958 - accuracy: 0.8969 - val_loss: 0.2553 - val_accuracy: 0.8998\n",
      "Epoch 9/200\n",
      "64/64 [==============================] - 0s 5ms/step - loss: 0.0930 - accuracy: 0.9023 - val_loss: 0.2930 - val_accuracy: 0.8933\n",
      "Epoch 10/200\n",
      "64/64 [==============================] - 0s 5ms/step - loss: 0.0899 - accuracy: 0.9097 - val_loss: 0.3219 - val_accuracy: 0.8834\n",
      "Epoch 11/200\n",
      "64/64 [==============================] - 0s 5ms/step - loss: 0.0880 - accuracy: 0.9033 - val_loss: 0.2530 - val_accuracy: 0.9015\n",
      "Epoch 12/200\n",
      "64/64 [==============================] - 0s 5ms/step - loss: 0.0837 - accuracy: 0.9127 - val_loss: 0.2946 - val_accuracy: 0.8933\n",
      "Epoch 13/200\n",
      "64/64 [==============================] - 0s 5ms/step - loss: 0.0821 - accuracy: 0.9127 - val_loss: 0.2520 - val_accuracy: 0.9031\n",
      "Epoch 14/200\n",
      "64/64 [==============================] - 0s 5ms/step - loss: 0.0812 - accuracy: 0.9107 - val_loss: 0.2466 - val_accuracy: 0.9015\n",
      "Epoch 15/200\n",
      "64/64 [==============================] - 0s 5ms/step - loss: 0.0792 - accuracy: 0.9147 - val_loss: 0.2581 - val_accuracy: 0.9031\n",
      "Epoch 16/200\n",
      "64/64 [==============================] - 0s 5ms/step - loss: 0.0787 - accuracy: 0.9151 - val_loss: 0.2439 - val_accuracy: 0.9048\n",
      "Epoch 17/200\n",
      "64/64 [==============================] - 0s 5ms/step - loss: 0.0768 - accuracy: 0.9166 - val_loss: 0.2197 - val_accuracy: 0.9080\n",
      "Epoch 18/200\n",
      "64/64 [==============================] - 0s 5ms/step - loss: 0.0758 - accuracy: 0.9181 - val_loss: 0.2441 - val_accuracy: 0.9080\n",
      "Epoch 19/200\n",
      "64/64 [==============================] - 0s 5ms/step - loss: 0.0749 - accuracy: 0.9216 - val_loss: 0.2519 - val_accuracy: 0.9064\n",
      "Epoch 20/200\n",
      "64/64 [==============================] - 0s 5ms/step - loss: 0.0731 - accuracy: 0.9216 - val_loss: 0.2159 - val_accuracy: 0.9130\n",
      "Epoch 21/200\n",
      "64/64 [==============================] - 0s 5ms/step - loss: 0.0734 - accuracy: 0.9196 - val_loss: 0.2252 - val_accuracy: 0.9113\n",
      "Epoch 22/200\n",
      "64/64 [==============================] - 0s 5ms/step - loss: 0.0721 - accuracy: 0.9211 - val_loss: 0.2133 - val_accuracy: 0.9163\n",
      "Epoch 23/200\n",
      "64/64 [==============================] - 0s 5ms/step - loss: 0.0717 - accuracy: 0.9221 - val_loss: 0.2062 - val_accuracy: 0.9212\n",
      "Epoch 24/200\n",
      "64/64 [==============================] - 0s 5ms/step - loss: 0.0709 - accuracy: 0.9225 - val_loss: 0.2130 - val_accuracy: 0.9212\n",
      "Epoch 25/200\n",
      "64/64 [==============================] - 0s 5ms/step - loss: 0.0705 - accuracy: 0.9270 - val_loss: 0.2427 - val_accuracy: 0.9113\n",
      "Epoch 26/200\n",
      "64/64 [==============================] - 0s 5ms/step - loss: 0.0693 - accuracy: 0.9260 - val_loss: 0.2579 - val_accuracy: 0.9064\n",
      "Epoch 27/200\n",
      "64/64 [==============================] - 0s 5ms/step - loss: 0.0694 - accuracy: 0.9250 - val_loss: 0.2406 - val_accuracy: 0.9163\n",
      "Epoch 28/200\n",
      "64/64 [==============================] - 0s 5ms/step - loss: 0.0681 - accuracy: 0.9260 - val_loss: 0.2438 - val_accuracy: 0.9163\n"
     ]
    }
   ],
   "source": [
    "early_stopping_cb = keras.callbacks.EarlyStopping(monitor='val_loss', patience=5, restore_best_weights=True)\n",
    "\n",
    "history1=model1.fit(X_train_all,y_train_all,\n",
    "                 epochs=200,batch_size=32,\n",
    "                 validation_data=(X_val, y_val), \n",
    "                 callbacks=[early_stopping_cb], \n",
    "                 class_weight={0:len(y_train[y_train==1])/len(y_train[y_train==0]),1:1})"
   ]
  },
  {
   "cell_type": "code",
   "execution_count": 51,
   "metadata": {
    "colab": {
     "base_uri": "https://localhost:8080/",
     "height": 351
    },
    "executionInfo": {
     "elapsed": 2297,
     "status": "ok",
     "timestamp": 1639827533406,
     "user": {
      "displayName": "­이현태 | 서울 비즈니스인포매틱스학과",
      "photoUrl": "https://lh3.googleusercontent.com/a/default-user=s64",
      "userId": "07002847175634749293"
     },
     "user_tz": -540
    },
    "id": "rgf1bZUGtsV5",
    "outputId": "35b43d91-a3bb-4004-f3a4-dd4e149b774f"
   },
   "outputs": [
    {
     "data": {
      "image/png": "[encoded data removed]",
      "text/plain": [
       "<Figure size 1080x360 with 1 Axes>"
      ]
     },
     "metadata": {
      "needs_background": "light"
     },
     "output_type": "display_data"
    }
   ],
   "source": [
    "fig, loss_ax = plt.subplots(figsize=(15, 5))\n",
    "\n",
    "acc=history1.history['accuracy']\n",
    "val_acc=history1.history['val_accuracy']\n",
    "loss=history1.history['loss']\n",
    "val_loss=history1.history['val_loss']\n",
    "epochs=range(1,len(acc)+1)\n",
    "\n",
    "\n",
    "plt.plot(epochs,loss,'y',label='Training loss')\n",
    "plt.plot(epochs,val_loss,'r',label='Validation loss')\n",
    "plt.title('Training and validation loss')\n",
    "plt.xlabel('Epochs')\n",
    "plt.legend()\n",
    "plt.show()"
   ]
  },
  {
   "cell_type": "code",
   "execution_count": 52,
   "metadata": {
    "colab": {
     "base_uri": "https://localhost:8080/",
     "height": 351
    },
    "executionInfo": {
     "elapsed": 14,
     "status": "ok",
     "timestamp": 1639827533407,
     "user": {
      "displayName": "­이현태 | 서울 비즈니스인포매틱스학과",
      "photoUrl": "https://lh3.googleusercontent.com/a/default-user=s64",
      "userId": "07002847175634749293"
     },
     "user_tz": -540
    },
    "id": "a1bmX5BwuC7c",
    "outputId": "612a1086-008c-4b33-99f5-8a71be043bae"
   },
   "outputs": [
    {
     "data": {
      "image/png": "[encoded data removed]",
      "text/plain": [
       "<Figure size 1080x360 with 1 Axes>"
      ]
     },
     "metadata": {
      "needs_background": "light"
     },
     "output_type": "display_data"
    }
   ],
   "source": [
    "fig, loss_ax = plt.subplots(figsize=(15, 5))\n",
    "plt.plot(epochs,acc,'b',label='Training accuracy')\n",
    "plt.plot(epochs,val_acc,'g',label='Validation accuracy')\n",
    "plt.title('Training and validation Accuracy')\n",
    "plt.xlabel('Epochs')\n",
    "plt.legend()\n",
    "plt.show()"
   ]
  },
  {
   "cell_type": "code",
   "execution_count": 53,
   "metadata": {
    "id": "f8sp_hJduQCp"
   },
   "outputs": [],
   "source": [
    "predicted_result=model1.predict(X_test)\n",
    "predicted_result.shape\n",
    "predicted_target=pd.Series([1 if predicted_result[i]> 0.5 else 0 for i in range(0,predicted_result.shape[0])])"
   ]
  },
  {
   "cell_type": "code",
   "execution_count": 54,
   "metadata": {
    "colab": {
     "base_uri": "https://localhost:8080/",
     "height": 674
    },
    "executionInfo": {
     "elapsed": 16,
     "status": "ok",
     "timestamp": 1639827534092,
     "user": {
      "displayName": "­이현태 | 서울 비즈니스인포매틱스학과",
      "photoUrl": "https://lh3.googleusercontent.com/a/default-user=s64",
      "userId": "07002847175634749293"
     },
     "user_tz": -540
    },
    "id": "_cCUV4abuS9J",
    "outputId": "52d408b4-702a-4904-da40-36c3fbf6a009"
   },
   "outputs": [
    {
     "name": "stdout",
     "output_type": "stream",
     "text": [
      "Confusion Matrix:\n",
      "[[662  48]\n",
      " [ 12 147]]\n",
      "\n",
      "Classification Report:\n",
      "              precision    recall  f1-score   support\n",
      "\n",
      "           0       0.98      0.93      0.96       710\n",
      "           1       0.75      0.92      0.83       159\n",
      "\n",
      "    accuracy                           0.93       869\n",
      "   macro avg       0.87      0.93      0.89       869\n",
      "weighted avg       0.94      0.93      0.93       869\n",
      "\n"
     ]
    },
    {
     "data": {
      "image/png": "[encoded data removed]",
      "text/plain": [
       "<Figure size 576x432 with 1 Axes>"
      ]
     },
     "metadata": {
      "needs_background": "light"
     },
     "output_type": "display_data"
    }
   ],
   "source": [
    "dnn_results(X_test, y_test, predicted_target, model1)"
   ]
  },
  {
   "cell_type": "code",
   "execution_count": null,
   "metadata": {},
   "outputs": [],
   "source": []
  }
 ],
 "metadata": {
  "colab": {
   "collapsed_sections": [],
   "name": "Model 2_빈집 밀집도 삭제.ipynb",
   "provenance": [
    {
     "file_id": "1YngNeh_0WaRUk-hzjU2KhWn0lKQSofWG",
     "timestamp": 1639801103964
    }
   ]
  },
  "kernelspec": {
   "display_name": "Python 3 (ipykernel)",
   "language": "python",
   "name": "python3"
  },
  "language_info": {
   "codemirror_mode": {
    "name": "ipython",
    "version": 3
   },
   "file_extension": ".py",
   "mimetype": "text/x-python",
   "name": "python",
   "nbconvert_exporter": "python",
   "pygments_lexer": "ipython3",
   "version": "3.10.9"
  }
 },
 "nbformat": 4,
 "nbformat_minor": 1
}
