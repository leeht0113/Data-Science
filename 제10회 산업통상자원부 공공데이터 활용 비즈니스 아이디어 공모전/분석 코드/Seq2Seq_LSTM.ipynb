{
 "cells": [
  {
   "cell_type": "code",
   "execution_count": 1,
   "id": "9e6893c4",
   "metadata": {},
   "outputs": [],
   "source": [
    "import warnings \n",
    "warnings.filterwarnings(action='ignore')\n",
    "\n",
    "import math\n",
    "from sklearn.metrics import mean_squared_error, mean_absolute_error,r2_score\n",
    "\n",
    "import pandas as pd \n",
    "import numpy as np \n",
    "from numpy import array\n",
    "\n",
    "import matplotlib.pyplot as plt\n",
    "import seaborn as sns\n",
    "import matplotlib\n",
    "plt.style.use('seaborn-whitegrid')"
   ]
  },
  {
   "cell_type": "code",
   "execution_count": 2,
   "id": "7f46577f",
   "metadata": {},
   "outputs": [],
   "source": [
    "#한글폰트 적용\n",
    "import matplotlib.font_manager as fm\n",
    "path = 'C:/Windows/Fonts/gulim.ttc'\n",
    "font_name = fm.FontProperties(fname=path, size=50).get_name()\n",
    "plt.rc('font', family=font_name)"
   ]
  },
  {
   "cell_type": "markdown",
   "id": "2e4f53fa",
   "metadata": {},
   "source": [
    "### 수출금액 준비"
   ]
  },
  {
   "cell_type": "code",
   "execution_count": 3,
   "id": "95fb9694",
   "metadata": {
    "scrolled": true
   },
   "outputs": [
    {
     "name": "stdout",
     "output_type": "stream",
     "text": [
      "(624, 7)\n"
     ]
    },
    {
     "data": {
      "text/html": [
       "<div>\n",
       "<style scoped>\n",
       "    .dataframe tbody tr th:only-of-type {\n",
       "        vertical-align: middle;\n",
       "    }\n",
       "\n",
       "    .dataframe tbody tr th {\n",
       "        vertical-align: top;\n",
       "    }\n",
       "\n",
       "    .dataframe thead th {\n",
       "        text-align: right;\n",
       "    }\n",
       "</style>\n",
       "<table border=\"1\" class=\"dataframe\">\n",
       "  <thead>\n",
       "    <tr style=\"text-align: right;\">\n",
       "      <th></th>\n",
       "      <th>한국수출금액_USD</th>\n",
       "      <th>한국수입금액_USD</th>\n",
       "      <th>무역수지</th>\n",
       "      <th>경기종합지수</th>\n",
       "      <th>한국소비자물가지수</th>\n",
       "      <th>다우존스지수</th>\n",
       "      <th>Exp_불규칙요소</th>\n",
       "    </tr>\n",
       "    <tr>\n",
       "      <th>Date</th>\n",
       "      <th></th>\n",
       "      <th></th>\n",
       "      <th></th>\n",
       "      <th></th>\n",
       "      <th></th>\n",
       "      <th></th>\n",
       "      <th></th>\n",
       "    </tr>\n",
       "  </thead>\n",
       "  <tbody>\n",
       "    <tr>\n",
       "      <th>1970-01-31</th>\n",
       "      <td>51046000</td>\n",
       "      <td>149889000</td>\n",
       "      <td>-98843000</td>\n",
       "      <td>4.40000</td>\n",
       "      <td>4.40000</td>\n",
       "      <td>753.12000</td>\n",
       "      <td>0.99656</td>\n",
       "    </tr>\n",
       "    <tr>\n",
       "      <th>1970-02-28</th>\n",
       "      <td>46889000</td>\n",
       "      <td>125666000</td>\n",
       "      <td>-78777000</td>\n",
       "      <td>4.50000</td>\n",
       "      <td>4.48800</td>\n",
       "      <td>777.59000</td>\n",
       "      <td>0.87996</td>\n",
       "    </tr>\n",
       "    <tr>\n",
       "      <th>1970-03-31</th>\n",
       "      <td>65906000</td>\n",
       "      <td>147048000</td>\n",
       "      <td>-81142000</td>\n",
       "      <td>4.50000</td>\n",
       "      <td>4.58600</td>\n",
       "      <td>785.57000</td>\n",
       "      <td>1.03290</td>\n",
       "    </tr>\n",
       "    <tr>\n",
       "      <th>1970-04-30</th>\n",
       "      <td>65910000</td>\n",
       "      <td>153829000</td>\n",
       "      <td>-87919000</td>\n",
       "      <td>4.50000</td>\n",
       "      <td>4.68400</td>\n",
       "      <td>736.07000</td>\n",
       "      <td>1.03613</td>\n",
       "    </tr>\n",
       "    <tr>\n",
       "      <th>1970-05-31</th>\n",
       "      <td>69923000</td>\n",
       "      <td>153741000</td>\n",
       "      <td>-83818000</td>\n",
       "      <td>4.60000</td>\n",
       "      <td>4.63700</td>\n",
       "      <td>700.44000</td>\n",
       "      <td>1.04536</td>\n",
       "    </tr>\n",
       "  </tbody>\n",
       "</table>\n",
       "</div>"
      ],
      "text/plain": [
       "            한국수출금액_USD  한국수입금액_USD      무역수지  경기종합지수  한국소비자물가지수    다우존스지수  \\\n",
       "Date                                                                        \n",
       "1970-01-31    51046000   149889000 -98843000 4.40000    4.40000 753.12000   \n",
       "1970-02-28    46889000   125666000 -78777000 4.50000    4.48800 777.59000   \n",
       "1970-03-31    65906000   147048000 -81142000 4.50000    4.58600 785.57000   \n",
       "1970-04-30    65910000   153829000 -87919000 4.50000    4.68400 736.07000   \n",
       "1970-05-31    69923000   153741000 -83818000 4.60000    4.63700 700.44000   \n",
       "\n",
       "            Exp_불규칙요소  \n",
       "Date                   \n",
       "1970-01-31    0.99656  \n",
       "1970-02-28    0.87996  \n",
       "1970-03-31    1.03290  \n",
       "1970-04-30    1.03613  \n",
       "1970-05-31    1.04536  "
      ]
     },
     "execution_count": 3,
     "metadata": {},
     "output_type": "execute_result"
    }
   ],
   "source": [
    "pd.options.display.float_format = '{:.5f}'.format\n",
    "df = pd.read_csv('수출금액50년.csv', encoding='cp949', index_col='Date', parse_dates=True)\n",
    "#df = df.iloc[360:,:]\n",
    "print(df.shape)\n",
    "df.head()"
   ]
  },
  {
   "cell_type": "code",
   "execution_count": 4,
   "id": "76322a65",
   "metadata": {},
   "outputs": [
    {
     "data": {
      "text/plain": [
       "한국수출금액_USD    0\n",
       "한국수입금액_USD    0\n",
       "무역수지          0\n",
       "경기종합지수        0\n",
       "한국소비자물가지수     0\n",
       "다우존스지수        0\n",
       "Exp_불규칙요소     0\n",
       "dtype: int64"
      ]
     },
     "execution_count": 4,
     "metadata": {},
     "output_type": "execute_result"
    }
   ],
   "source": [
    "df.isna().sum()"
   ]
  },
  {
   "cell_type": "code",
   "execution_count": 5,
   "id": "a139f803",
   "metadata": {
    "scrolled": false
   },
   "outputs": [
    {
     "data": {
      "text/plain": [
       "<matplotlib.legend.Legend at 0x2777bfcd5e0>"
      ]
     },
     "execution_count": 5,
     "metadata": {},
     "output_type": "execute_result"
    },
    {
     "data": {
      "image/png": "[encoded data removed]",
      "text/plain": [
       "<Figure size 1008x288 with 1 Axes>"
      ]
     },
     "metadata": {},
     "output_type": "display_data"
    }
   ],
   "source": [
    "plt.figure(figsize=(14,4))\n",
    "plt.grid(True)\n",
    "plt.xlabel('Date')\n",
    "plt.ylabel('수출금액')\n",
    "plt.plot(df['한국수출금액_USD'], 'blue', label='Train data')\n",
    "plt.legend()"
   ]
  },
  {
   "cell_type": "markdown",
   "id": "a9d79143",
   "metadata": {},
   "source": [
    "### Input/ Output Sequence & 배열 설정"
   ]
  },
  {
   "cell_type": "code",
   "execution_count": 6,
   "id": "6c206975",
   "metadata": {},
   "outputs": [],
   "source": [
    "df_array = df['한국수출금액_USD'].values.reshape(- 1, 1) # Numpy arrary 배열 변환 "
   ]
  },
  {
   "cell_type": "code",
   "execution_count": 7,
   "id": "f4a8920b",
   "metadata": {},
   "outputs": [],
   "source": [
    "from sklearn.preprocessing import MinMaxScaler\n",
    "scaler = MinMaxScaler()#(feature_range=(0, 1))\n",
    "scaler = scaler.fit(df_array)\n",
    "df_scaled = scaler.transform(df_array) # MinMax Scaler 조정 "
   ]
  },
  {
   "cell_type": "code",
   "execution_count": 8,
   "id": "48b303a7",
   "metadata": {},
   "outputs": [],
   "source": [
    "def split_sequence(sequence, n_steps_in, n_steps_out):\n",
    "    X, y = list(), list()\n",
    "    for i in range(len(sequence)):\n",
    "        end_ix = i + n_steps_in\n",
    "        out_end_ix = end_ix + n_steps_out\n",
    "        if out_end_ix > len(sequence):\n",
    "            break\n",
    "        seq_x, seq_y = sequence[i:end_ix], sequence[end_ix:out_end_ix]\n",
    "        X.append(seq_x)\n",
    "        y.append(seq_y)\n",
    "    return array(X), array(y)"
   ]
  },
  {
   "cell_type": "code",
   "execution_count": 9,
   "id": "ec6a9fce",
   "metadata": {},
   "outputs": [],
   "source": [
    "window_size = 5 # Input Sequence : X1,X2,....XT\n",
    "n_step_out = 6   # Output Sequence : Y1,Y2,....YT"
   ]
  },
  {
   "cell_type": "code",
   "execution_count": 10,
   "id": "80332a47",
   "metadata": {},
   "outputs": [],
   "source": [
    "X, Y = split_sequence(df_scaled, window_size, n_step_out)"
   ]
  },
  {
   "cell_type": "code",
   "execution_count": 11,
   "id": "dd8f883e",
   "metadata": {
    "scrolled": true
   },
   "outputs": [
    {
     "data": {
      "text/plain": [
       "((614, 5, 1), (614, 6, 1))"
      ]
     },
     "execution_count": 11,
     "metadata": {},
     "output_type": "execute_result"
    }
   ],
   "source": [
    "X.shape,Y.shape"
   ]
  },
  {
   "cell_type": "code",
   "execution_count": 12,
   "id": "1c6d4e63",
   "metadata": {
    "scrolled": true
   },
   "outputs": [],
   "source": [
    "#X --> X 배열 확인"
   ]
  },
  {
   "cell_type": "code",
   "execution_count": 13,
   "id": "a7958935",
   "metadata": {
    "scrolled": true
   },
   "outputs": [],
   "source": [
    "#Y --> Y 배열 확인"
   ]
  },
  {
   "cell_type": "markdown",
   "id": "930eeebe",
   "metadata": {},
   "source": [
    "### 1. LSTM Encoder & Decoder"
   ]
  },
  {
   "cell_type": "code",
   "execution_count": 14,
   "id": "f2c895ed",
   "metadata": {},
   "outputs": [],
   "source": [
    "import tensorflow \n",
    "import tensorflow as tf\n",
    "from tensorflow.keras import layers, models\n",
    "from tensorflow.keras.models import Sequential\n",
    "from tensorflow.keras.layers import LSTM, Dense,Flatten,Dropout,GRU,Bidirectional,RepeatVector,TimeDistributed"
   ]
  },
  {
   "cell_type": "code",
   "execution_count": 15,
   "id": "26cef835",
   "metadata": {},
   "outputs": [],
   "source": [
    "tf.random.set_seed(0)"
   ]
  },
  {
   "cell_type": "code",
   "execution_count": 16,
   "id": "9dd19fd9",
   "metadata": {
    "scrolled": true
   },
   "outputs": [],
   "source": [
    "model = Sequential() # Encoder & Decoder\n",
    "\n",
    "## Encoder state\n",
    "model.add(LSTM(28,activation='tanh',input_shape=(X.shape[1], X.shape[2]),return_sequences=False))\n",
    "model.add(Dropout(0.1))\n",
    "model.add(Dense(1))\n",
    "model.add(RepeatVector(6)) # 출력 개수만큼 반복 \n",
    "\n",
    "## Decoder State\n",
    "model.add(LSTM(64, activation='tanh', return_sequences=True)) # Decoder State \n",
    "model.add(Dropout(0.1))\n",
    "model.add(TimeDistributed(Dense(16, activation='relu'))) \n",
    "model.add(TimeDistributed(Dense(1)))\n",
    "\n",
    "model.compile(loss='mean_squared_error', optimizer='adam',metrics='mae')"
   ]
  },
  {
   "cell_type": "code",
   "execution_count": 17,
   "id": "e731e652",
   "metadata": {},
   "outputs": [
    {
     "name": "stdout",
     "output_type": "stream",
     "text": [
      "Model: \"sequential\"\n",
      "_________________________________________________________________\n",
      "Layer (type)                 Output Shape              Param #   \n",
      "=================================================================\n",
      "lstm (LSTM)                  (None, 28)                3360      \n",
      "_________________________________________________________________\n",
      "dropout (Dropout)            (None, 28)                0         \n",
      "_________________________________________________________________\n",
      "dense (Dense)                (None, 1)                 29        \n",
      "_________________________________________________________________\n",
      "repeat_vector (RepeatVector) (None, 6, 1)              0         \n",
      "_________________________________________________________________\n",
      "lstm_1 (LSTM)                (None, 6, 64)             16896     \n",
      "_________________________________________________________________\n",
      "dropout_1 (Dropout)          (None, 6, 64)             0         \n",
      "_________________________________________________________________\n",
      "time_distributed (TimeDistri (None, 6, 16)             1040      \n",
      "_________________________________________________________________\n",
      "time_distributed_1 (TimeDist (None, 6, 1)              17        \n",
      "=================================================================\n",
      "Total params: 21,342\n",
      "Trainable params: 21,342\n",
      "Non-trainable params: 0\n",
      "_________________________________________________________________\n"
     ]
    }
   ],
   "source": [
    "model.summary()"
   ]
  },
  {
   "cell_type": "code",
   "execution_count": 18,
   "id": "e33dbf7b",
   "metadata": {
    "scrolled": true
   },
   "outputs": [
    {
     "name": "stdout",
     "output_type": "stream",
     "text": [
      "Epoch 1/200\n",
      "56/56 [==============================] - 9s 84ms/step - loss: 0.0679 - mae: 0.1754 - val_loss: 0.0546 - val_mae: 0.1733\n",
      "Epoch 2/200\n",
      "56/56 [==============================] - 1s 10ms/step - loss: 0.0103 - mae: 0.0621 - val_loss: 0.0206 - val_mae: 0.1088\n",
      "Epoch 3/200\n",
      "56/56 [==============================] - 0s 9ms/step - loss: 0.0051 - mae: 0.0439 - val_loss: 0.0227 - val_mae: 0.1269\n",
      "Epoch 4/200\n",
      "56/56 [==============================] - 0s 7ms/step - loss: 0.0034 - mae: 0.0364 - val_loss: 0.0178 - val_mae: 0.1136\n",
      "Epoch 5/200\n",
      "56/56 [==============================] - 0s 9ms/step - loss: 0.0032 - mae: 0.0355 - val_loss: 0.0111 - val_mae: 0.0865\n",
      "Epoch 6/200\n",
      "56/56 [==============================] - 0s 8ms/step - loss: 0.0024 - mae: 0.0282 - val_loss: 0.0079 - val_mae: 0.0711\n",
      "Epoch 7/200\n",
      "56/56 [==============================] - 0s 8ms/step - loss: 0.0017 - mae: 0.0256 - val_loss: 0.0090 - val_mae: 0.0769\n",
      "Epoch 8/200\n",
      "56/56 [==============================] - 0s 8ms/step - loss: 0.0016 - mae: 0.0236 - val_loss: 0.0065 - val_mae: 0.0645\n",
      "Epoch 9/200\n",
      "56/56 [==============================] - 0s 7ms/step - loss: 0.0019 - mae: 0.0260 - val_loss: 0.0087 - val_mae: 0.0758\n",
      "Epoch 10/200\n",
      "56/56 [==============================] - 1s 9ms/step - loss: 0.0018 - mae: 0.0254 - val_loss: 0.0058 - val_mae: 0.0605\n",
      "Epoch 11/200\n",
      "56/56 [==============================] - 0s 8ms/step - loss: 0.0017 - mae: 0.0258 - val_loss: 0.0093 - val_mae: 0.0778\n",
      "Epoch 12/200\n",
      "56/56 [==============================] - 0s 7ms/step - loss: 0.0020 - mae: 0.0256 - val_loss: 0.0061 - val_mae: 0.0618\n",
      "Epoch 13/200\n",
      "56/56 [==============================] - 0s 9ms/step - loss: 0.0018 - mae: 0.0255 - val_loss: 0.0068 - val_mae: 0.0661\n",
      "Epoch 14/200\n",
      "56/56 [==============================] - 0s 7ms/step - loss: 0.0019 - mae: 0.0260 - val_loss: 0.0067 - val_mae: 0.0656\n",
      "Epoch 15/200\n",
      "56/56 [==============================] - 0s 8ms/step - loss: 0.0016 - mae: 0.0232 - val_loss: 0.0072 - val_mae: 0.0674\n"
     ]
    },
    {
     "data": {
      "text/plain": [
       "<tensorflow.python.keras.callbacks.History at 0x27747b506a0>"
      ]
     },
     "execution_count": 18,
     "metadata": {},
     "output_type": "execute_result"
    }
   ],
   "source": [
    "from tensorflow.keras.callbacks import EarlyStopping\n",
    "early_stop = EarlyStopping(monitor='val_loss', patience=5)\n",
    "model.fit(X, Y, epochs= 200, batch_size=10, validation_split=0.1,callbacks=[early_stop])"
   ]
  },
  {
   "cell_type": "code",
   "execution_count": 19,
   "id": "fe7ae7fb",
   "metadata": {},
   "outputs": [
    {
     "data": {
      "text/plain": [
       "array([[[0.91311848],\n",
       "        [0.87527832],\n",
       "        [0.92057218],\n",
       "        [0.91639519],\n",
       "        [0.99334993],\n",
       "        [1.        ]]])"
      ]
     },
     "execution_count": 19,
     "metadata": {},
     "output_type": "execute_result"
    }
   ],
   "source": [
    "Y[-1:]"
   ]
  },
  {
   "cell_type": "code",
   "execution_count": 20,
   "id": "f303bb59",
   "metadata": {
    "scrolled": false
   },
   "outputs": [
    {
     "name": "stdout",
     "output_type": "stream",
     "text": [
      "WARNING:tensorflow:Model was constructed with shape (None, 5, 1) for input KerasTensor(type_spec=TensorSpec(shape=(None, 5, 1), dtype=tf.float32, name='lstm_input'), name='lstm_input', description=\"created by layer 'lstm_input'\"), but it was called on an input with incompatible shape (None, 6, 1).\n"
     ]
    }
   ],
   "source": [
    "fit = model.predict(Y[-1:])"
   ]
  },
  {
   "cell_type": "code",
   "execution_count": 21,
   "id": "18b1e31b",
   "metadata": {},
   "outputs": [
    {
     "data": {
      "text/plain": [
       "<AxesSubplot:>"
      ]
     },
     "execution_count": 21,
     "metadata": {},
     "output_type": "execute_result"
    },
    {
     "data": {
      "image/png": "[encoded data removed]",
      "text/plain": [
       "<Figure size 432x288 with 1 Axes>"
      ]
     },
     "metadata": {},
     "output_type": "display_data"
    }
   ],
   "source": [
    "pd.DataFrame(scaler.inverse_transform(fit.reshape(-1,1))).plot()"
   ]
  },
  {
   "cell_type": "code",
   "execution_count": 22,
   "id": "13649f82",
   "metadata": {
    "scrolled": false
   },
   "outputs": [
    {
     "data": {
      "text/plain": [
       "<matplotlib.legend.Legend at 0x2774f77e430>"
      ]
     },
     "execution_count": 22,
     "metadata": {},
     "output_type": "execute_result"
    },
    {
     "data": {
      "image/png": "[encoded data removed]",
      "text/plain": [
       "<Figure size 720x288 with 1 Axes>"
      ]
     },
     "metadata": {},
     "output_type": "display_data"
    }
   ],
   "source": [
    "df2 = pd.read_csv('실제값.csv')\n",
    "plt.figure(figsize=(10,4))\n",
    "plt.grid(True)\n",
    "plt.xlabel('Date')\n",
    "plt.ylabel('수출금액')\n",
    "plt.plot(df2, label='수출금액')\n",
    "plt.plot(pd.DataFrame(scaler.inverse_transform(fit.reshape(-1,1))), label='예측값')\n",
    "plt.legend()"
   ]
  },
  {
   "cell_type": "code",
   "execution_count": 23,
   "id": "1362f262",
   "metadata": {},
   "outputs": [],
   "source": [
    "pred = pd.DataFrame(scaler.inverse_transform(fit.reshape(-1,1)))"
   ]
  },
  {
   "cell_type": "code",
   "execution_count": 24,
   "id": "635eea18",
   "metadata": {
    "scrolled": true
   },
   "outputs": [
    {
     "name": "stdout",
     "output_type": "stream",
     "text": [
      "RMSE: 5572899893.086073\n",
      "MAPE: 7.21252974326832\n"
     ]
    }
   ],
   "source": [
    "rmse = math.sqrt(mean_squared_error(df2['한국수출금액'], pred[0]))\n",
    "print('RMSE:',rmse)\n",
    "print('MAPE:',np.mean(np.abs((df2['한국수출금액']- pred[0])/ df2['한국수출금액'])*100) )"
   ]
  }
 ],
 "metadata": {
  "kernelspec": {
   "display_name": "Python 3",
   "language": "python",
   "name": "python3"
  },
  "language_info": {
   "codemirror_mode": {
    "name": "ipython",
    "version": 3
   },
   "file_extension": ".py",
   "mimetype": "text/x-python",
   "name": "python",
   "nbconvert_exporter": "python",
   "pygments_lexer": "ipython3",
   "version": "3.8.8"
  }
 },
 "nbformat": 4,
 "nbformat_minor": 5
}
