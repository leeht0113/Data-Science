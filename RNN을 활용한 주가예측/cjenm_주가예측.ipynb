{
 "cells": [
  {
   "cell_type": "code",
   "execution_count": 1,
   "metadata": {},
   "outputs": [],
   "source": [
    "import tensorflow as tf\n",
    "import pandas as pd\n",
    "import numpy as np\n",
    "import matplotlib.pyplot as plt\n",
    "import seaborn as sns\n",
    "import os"
   ]
  },
  {
   "cell_type": "code",
   "execution_count": 2,
   "metadata": {},
   "outputs": [],
   "source": [
    "cj_enm = pd.read_excel('cj_enm.xlsx')"
   ]
  },
  {
   "cell_type": "code",
   "execution_count": 3,
   "metadata": {},
   "outputs": [
    {
     "data": {
      "text/html": [
       "<div>\n",
       "<style scoped>\n",
       "    .dataframe tbody tr th:only-of-type {\n",
       "        vertical-align: middle;\n",
       "    }\n",
       "\n",
       "    .dataframe tbody tr th {\n",
       "        vertical-align: top;\n",
       "    }\n",
       "\n",
       "    .dataframe thead th {\n",
       "        text-align: right;\n",
       "    }\n",
       "</style>\n",
       "<table border=\"1\" class=\"dataframe\">\n",
       "  <thead>\n",
       "    <tr style=\"text-align: right;\">\n",
       "      <th></th>\n",
       "      <th>일자</th>\n",
       "      <th>시가</th>\n",
       "      <th>고가</th>\n",
       "      <th>저가</th>\n",
       "      <th>종가</th>\n",
       "      <th>거래량</th>\n",
       "    </tr>\n",
       "  </thead>\n",
       "  <tbody>\n",
       "    <tr>\n",
       "      <th>0</th>\n",
       "      <td>2010-01-01</td>\n",
       "      <td>74600</td>\n",
       "      <td>78500</td>\n",
       "      <td>74000</td>\n",
       "      <td>77500</td>\n",
       "      <td>73106</td>\n",
       "    </tr>\n",
       "    <tr>\n",
       "      <th>1</th>\n",
       "      <td>2010-01-02</td>\n",
       "      <td>74600</td>\n",
       "      <td>78500</td>\n",
       "      <td>74000</td>\n",
       "      <td>77500</td>\n",
       "      <td>73106</td>\n",
       "    </tr>\n",
       "    <tr>\n",
       "      <th>2</th>\n",
       "      <td>2010-01-03</td>\n",
       "      <td>74600</td>\n",
       "      <td>78500</td>\n",
       "      <td>74000</td>\n",
       "      <td>77500</td>\n",
       "      <td>73106</td>\n",
       "    </tr>\n",
       "    <tr>\n",
       "      <th>3</th>\n",
       "      <td>2010-01-04</td>\n",
       "      <td>77500</td>\n",
       "      <td>78400</td>\n",
       "      <td>76600</td>\n",
       "      <td>76700</td>\n",
       "      <td>52604</td>\n",
       "    </tr>\n",
       "    <tr>\n",
       "      <th>4</th>\n",
       "      <td>2010-01-05</td>\n",
       "      <td>76800</td>\n",
       "      <td>77400</td>\n",
       "      <td>75800</td>\n",
       "      <td>77100</td>\n",
       "      <td>57212</td>\n",
       "    </tr>\n",
       "  </tbody>\n",
       "</table>\n",
       "</div>"
      ],
      "text/plain": [
       "          일자     시가     고가     저가     종가    거래량\n",
       "0 2010-01-01  74600  78500  74000  77500  73106\n",
       "1 2010-01-02  74600  78500  74000  77500  73106\n",
       "2 2010-01-03  74600  78500  74000  77500  73106\n",
       "3 2010-01-04  77500  78400  76600  76700  52604\n",
       "4 2010-01-05  76800  77400  75800  77100  57212"
      ]
     },
     "execution_count": 3,
     "metadata": {},
     "output_type": "execute_result"
    }
   ],
   "source": [
    "cj_enm.head()"
   ]
  },
  {
   "cell_type": "code",
   "execution_count": 4,
   "metadata": {},
   "outputs": [
    {
     "data": {
      "text/html": [
       "<div>\n",
       "<style scoped>\n",
       "    .dataframe tbody tr th:only-of-type {\n",
       "        vertical-align: middle;\n",
       "    }\n",
       "\n",
       "    .dataframe tbody tr th {\n",
       "        vertical-align: top;\n",
       "    }\n",
       "\n",
       "    .dataframe thead th {\n",
       "        text-align: right;\n",
       "    }\n",
       "</style>\n",
       "<table border=\"1\" class=\"dataframe\">\n",
       "  <thead>\n",
       "    <tr style=\"text-align: right;\">\n",
       "      <th></th>\n",
       "      <th>일자</th>\n",
       "      <th>시가</th>\n",
       "      <th>고가</th>\n",
       "      <th>저가</th>\n",
       "      <th>종가</th>\n",
       "      <th>거래량</th>\n",
       "    </tr>\n",
       "  </thead>\n",
       "  <tbody>\n",
       "    <tr>\n",
       "      <th>4179</th>\n",
       "      <td>2021-06-11</td>\n",
       "      <td>166600</td>\n",
       "      <td>168300</td>\n",
       "      <td>166500</td>\n",
       "      <td>168000</td>\n",
       "      <td>103046</td>\n",
       "    </tr>\n",
       "    <tr>\n",
       "      <th>4180</th>\n",
       "      <td>2021-06-12</td>\n",
       "      <td>166600</td>\n",
       "      <td>168300</td>\n",
       "      <td>166500</td>\n",
       "      <td>168000</td>\n",
       "      <td>103046</td>\n",
       "    </tr>\n",
       "    <tr>\n",
       "      <th>4181</th>\n",
       "      <td>2021-06-13</td>\n",
       "      <td>166600</td>\n",
       "      <td>168300</td>\n",
       "      <td>166500</td>\n",
       "      <td>168000</td>\n",
       "      <td>103046</td>\n",
       "    </tr>\n",
       "    <tr>\n",
       "      <th>4182</th>\n",
       "      <td>2021-06-14</td>\n",
       "      <td>166900</td>\n",
       "      <td>167000</td>\n",
       "      <td>162500</td>\n",
       "      <td>165500</td>\n",
       "      <td>138711</td>\n",
       "    </tr>\n",
       "    <tr>\n",
       "      <th>4183</th>\n",
       "      <td>2021-06-15</td>\n",
       "      <td>165900</td>\n",
       "      <td>166600</td>\n",
       "      <td>164300</td>\n",
       "      <td>165200</td>\n",
       "      <td>88353</td>\n",
       "    </tr>\n",
       "  </tbody>\n",
       "</table>\n",
       "</div>"
      ],
      "text/plain": [
       "             일자      시가      고가      저가      종가     거래량\n",
       "4179 2021-06-11  166600  168300  166500  168000  103046\n",
       "4180 2021-06-12  166600  168300  166500  168000  103046\n",
       "4181 2021-06-13  166600  168300  166500  168000  103046\n",
       "4182 2021-06-14  166900  167000  162500  165500  138711\n",
       "4183 2021-06-15  165900  166600  164300  165200   88353"
      ]
     },
     "execution_count": 4,
     "metadata": {},
     "output_type": "execute_result"
    }
   ],
   "source": [
    "cj_enm.tail()"
   ]
  },
  {
   "cell_type": "code",
   "execution_count": 5,
   "metadata": {
    "scrolled": true
   },
   "outputs": [
    {
     "data": {
      "text/html": [
       "<div>\n",
       "<style scoped>\n",
       "    .dataframe tbody tr th:only-of-type {\n",
       "        vertical-align: middle;\n",
       "    }\n",
       "\n",
       "    .dataframe tbody tr th {\n",
       "        vertical-align: top;\n",
       "    }\n",
       "\n",
       "    .dataframe thead th {\n",
       "        text-align: right;\n",
       "    }\n",
       "</style>\n",
       "<table border=\"1\" class=\"dataframe\">\n",
       "  <thead>\n",
       "    <tr style=\"text-align: right;\">\n",
       "      <th></th>\n",
       "      <th>시가</th>\n",
       "      <th>고가</th>\n",
       "      <th>저가</th>\n",
       "      <th>종가</th>\n",
       "      <th>거래량</th>\n",
       "    </tr>\n",
       "  </thead>\n",
       "  <tbody>\n",
       "    <tr>\n",
       "      <th>count</th>\n",
       "      <td>4184.000000</td>\n",
       "      <td>4184.000000</td>\n",
       "      <td>4184.000000</td>\n",
       "      <td>4184.000000</td>\n",
       "      <td>4.184000e+03</td>\n",
       "    </tr>\n",
       "    <tr>\n",
       "      <th>mean</th>\n",
       "      <td>217258.293499</td>\n",
       "      <td>220313.073614</td>\n",
       "      <td>213837.093690</td>\n",
       "      <td>217351.099426</td>\n",
       "      <td>5.590108e+04</td>\n",
       "    </tr>\n",
       "    <tr>\n",
       "      <th>std</th>\n",
       "      <td>75300.365962</td>\n",
       "      <td>76346.780423</td>\n",
       "      <td>74058.490048</td>\n",
       "      <td>75441.983946</td>\n",
       "      <td>7.124230e+04</td>\n",
       "    </tr>\n",
       "    <tr>\n",
       "      <th>min</th>\n",
       "      <td>62500.000000</td>\n",
       "      <td>64400.000000</td>\n",
       "      <td>61700.000000</td>\n",
       "      <td>62500.000000</td>\n",
       "      <td>0.000000e+00</td>\n",
       "    </tr>\n",
       "    <tr>\n",
       "      <th>25%</th>\n",
       "      <td>163200.000000</td>\n",
       "      <td>164200.000000</td>\n",
       "      <td>161200.000000</td>\n",
       "      <td>162900.000000</td>\n",
       "      <td>1.909025e+04</td>\n",
       "    </tr>\n",
       "    <tr>\n",
       "      <th>50%</th>\n",
       "      <td>211500.000000</td>\n",
       "      <td>213750.000000</td>\n",
       "      <td>207600.000000</td>\n",
       "      <td>211500.000000</td>\n",
       "      <td>3.360100e+04</td>\n",
       "    </tr>\n",
       "    <tr>\n",
       "      <th>75%</th>\n",
       "      <td>257525.000000</td>\n",
       "      <td>261700.000000</td>\n",
       "      <td>252000.000000</td>\n",
       "      <td>257650.000000</td>\n",
       "      <td>6.613575e+04</td>\n",
       "    </tr>\n",
       "    <tr>\n",
       "      <th>max</th>\n",
       "      <td>426100.000000</td>\n",
       "      <td>431600.000000</td>\n",
       "      <td>415400.000000</td>\n",
       "      <td>426100.000000</td>\n",
       "      <td>1.421672e+06</td>\n",
       "    </tr>\n",
       "  </tbody>\n",
       "</table>\n",
       "</div>"
      ],
      "text/plain": [
       "                  시가             고가             저가             종가  \\\n",
       "count    4184.000000    4184.000000    4184.000000    4184.000000   \n",
       "mean   217258.293499  220313.073614  213837.093690  217351.099426   \n",
       "std     75300.365962   76346.780423   74058.490048   75441.983946   \n",
       "min     62500.000000   64400.000000   61700.000000   62500.000000   \n",
       "25%    163200.000000  164200.000000  161200.000000  162900.000000   \n",
       "50%    211500.000000  213750.000000  207600.000000  211500.000000   \n",
       "75%    257525.000000  261700.000000  252000.000000  257650.000000   \n",
       "max    426100.000000  431600.000000  415400.000000  426100.000000   \n",
       "\n",
       "                거래량  \n",
       "count  4.184000e+03  \n",
       "mean   5.590108e+04  \n",
       "std    7.124230e+04  \n",
       "min    0.000000e+00  \n",
       "25%    1.909025e+04  \n",
       "50%    3.360100e+04  \n",
       "75%    6.613575e+04  \n",
       "max    1.421672e+06  "
      ]
     },
     "execution_count": 5,
     "metadata": {},
     "output_type": "execute_result"
    }
   ],
   "source": [
    "cj_enm.describe()"
   ]
  },
  {
   "cell_type": "code",
   "execution_count": 6,
   "metadata": {},
   "outputs": [
    {
     "data": {
      "text/html": [
       "<div>\n",
       "<style scoped>\n",
       "    .dataframe tbody tr th:only-of-type {\n",
       "        vertical-align: middle;\n",
       "    }\n",
       "\n",
       "    .dataframe tbody tr th {\n",
       "        vertical-align: top;\n",
       "    }\n",
       "\n",
       "    .dataframe thead th {\n",
       "        text-align: right;\n",
       "    }\n",
       "</style>\n",
       "<table border=\"1\" class=\"dataframe\">\n",
       "  <thead>\n",
       "    <tr style=\"text-align: right;\">\n",
       "      <th></th>\n",
       "      <th>일자</th>\n",
       "      <th>시가</th>\n",
       "      <th>고가</th>\n",
       "      <th>저가</th>\n",
       "      <th>종가</th>\n",
       "      <th>거래량</th>\n",
       "    </tr>\n",
       "  </thead>\n",
       "  <tbody>\n",
       "    <tr>\n",
       "      <th>0</th>\n",
       "      <td>2010-01-01</td>\n",
       "      <td>74600</td>\n",
       "      <td>78500</td>\n",
       "      <td>74000</td>\n",
       "      <td>77500</td>\n",
       "      <td>73106</td>\n",
       "    </tr>\n",
       "    <tr>\n",
       "      <th>1</th>\n",
       "      <td>2010-01-02</td>\n",
       "      <td>74600</td>\n",
       "      <td>78500</td>\n",
       "      <td>74000</td>\n",
       "      <td>77500</td>\n",
       "      <td>73106</td>\n",
       "    </tr>\n",
       "    <tr>\n",
       "      <th>2</th>\n",
       "      <td>2010-01-03</td>\n",
       "      <td>74600</td>\n",
       "      <td>78500</td>\n",
       "      <td>74000</td>\n",
       "      <td>77500</td>\n",
       "      <td>73106</td>\n",
       "    </tr>\n",
       "    <tr>\n",
       "      <th>3</th>\n",
       "      <td>2010-01-04</td>\n",
       "      <td>77500</td>\n",
       "      <td>78400</td>\n",
       "      <td>76600</td>\n",
       "      <td>76700</td>\n",
       "      <td>52604</td>\n",
       "    </tr>\n",
       "    <tr>\n",
       "      <th>4</th>\n",
       "      <td>2010-01-05</td>\n",
       "      <td>76800</td>\n",
       "      <td>77400</td>\n",
       "      <td>75800</td>\n",
       "      <td>77100</td>\n",
       "      <td>57212</td>\n",
       "    </tr>\n",
       "    <tr>\n",
       "      <th>...</th>\n",
       "      <td>...</td>\n",
       "      <td>...</td>\n",
       "      <td>...</td>\n",
       "      <td>...</td>\n",
       "      <td>...</td>\n",
       "      <td>...</td>\n",
       "    </tr>\n",
       "    <tr>\n",
       "      <th>4179</th>\n",
       "      <td>2021-06-11</td>\n",
       "      <td>166600</td>\n",
       "      <td>168300</td>\n",
       "      <td>166500</td>\n",
       "      <td>168000</td>\n",
       "      <td>103046</td>\n",
       "    </tr>\n",
       "    <tr>\n",
       "      <th>4180</th>\n",
       "      <td>2021-06-12</td>\n",
       "      <td>166600</td>\n",
       "      <td>168300</td>\n",
       "      <td>166500</td>\n",
       "      <td>168000</td>\n",
       "      <td>103046</td>\n",
       "    </tr>\n",
       "    <tr>\n",
       "      <th>4181</th>\n",
       "      <td>2021-06-13</td>\n",
       "      <td>166600</td>\n",
       "      <td>168300</td>\n",
       "      <td>166500</td>\n",
       "      <td>168000</td>\n",
       "      <td>103046</td>\n",
       "    </tr>\n",
       "    <tr>\n",
       "      <th>4182</th>\n",
       "      <td>2021-06-14</td>\n",
       "      <td>166900</td>\n",
       "      <td>167000</td>\n",
       "      <td>162500</td>\n",
       "      <td>165500</td>\n",
       "      <td>138711</td>\n",
       "    </tr>\n",
       "    <tr>\n",
       "      <th>4183</th>\n",
       "      <td>2021-06-15</td>\n",
       "      <td>165900</td>\n",
       "      <td>166600</td>\n",
       "      <td>164300</td>\n",
       "      <td>165200</td>\n",
       "      <td>88353</td>\n",
       "    </tr>\n",
       "  </tbody>\n",
       "</table>\n",
       "<p>4184 rows × 6 columns</p>\n",
       "</div>"
      ],
      "text/plain": [
       "             일자      시가      고가      저가      종가     거래량\n",
       "0    2010-01-01   74600   78500   74000   77500   73106\n",
       "1    2010-01-02   74600   78500   74000   77500   73106\n",
       "2    2010-01-03   74600   78500   74000   77500   73106\n",
       "3    2010-01-04   77500   78400   76600   76700   52604\n",
       "4    2010-01-05   76800   77400   75800   77100   57212\n",
       "...         ...     ...     ...     ...     ...     ...\n",
       "4179 2021-06-11  166600  168300  166500  168000  103046\n",
       "4180 2021-06-12  166600  168300  166500  168000  103046\n",
       "4181 2021-06-13  166600  168300  166500  168000  103046\n",
       "4182 2021-06-14  166900  167000  162500  165500  138711\n",
       "4183 2021-06-15  165900  166600  164300  165200   88353\n",
       "\n",
       "[4184 rows x 6 columns]"
      ]
     },
     "execution_count": 6,
     "metadata": {},
     "output_type": "execute_result"
    }
   ],
   "source": [
    "cj_enm"
   ]
  },
  {
   "cell_type": "code",
   "execution_count": 7,
   "metadata": {},
   "outputs": [
    {
     "data": {
      "text/plain": [
       "0      2010-01-01\n",
       "1      2010-01-02\n",
       "2      2010-01-03\n",
       "3      2010-01-04\n",
       "4      2010-01-05\n",
       "          ...    \n",
       "4179   2021-06-11\n",
       "4180   2021-06-12\n",
       "4181   2021-06-13\n",
       "4182   2021-06-14\n",
       "4183   2021-06-15\n",
       "Name: 일자, Length: 4184, dtype: datetime64[ns]"
      ]
     },
     "execution_count": 7,
     "metadata": {},
     "output_type": "execute_result"
    }
   ],
   "source": [
    "cj_enm['일자']"
   ]
  },
  {
   "cell_type": "code",
   "execution_count": 8,
   "metadata": {},
   "outputs": [
    {
     "data": {
      "text/plain": [
       "0        77500\n",
       "1        77500\n",
       "2        77500\n",
       "3        76700\n",
       "4        77100\n",
       "         ...  \n",
       "4179    168000\n",
       "4180    168000\n",
       "4181    168000\n",
       "4182    165500\n",
       "4183    165200\n",
       "Name: 종가, Length: 4184, dtype: int64"
      ]
     },
     "execution_count": 8,
     "metadata": {},
     "output_type": "execute_result"
    }
   ],
   "source": [
    "cj_enm['종가']"
   ]
  },
  {
   "cell_type": "code",
   "execution_count": 9,
   "metadata": {},
   "outputs": [
    {
     "name": "stdout",
     "output_type": "stream",
     "text": [
      "<class 'pandas.core.frame.DataFrame'>\n",
      "RangeIndex: 4184 entries, 0 to 4183\n",
      "Data columns (total 6 columns):\n",
      " #   Column  Non-Null Count  Dtype         \n",
      "---  ------  --------------  -----         \n",
      " 0   일자      4184 non-null   datetime64[ns]\n",
      " 1   시가      4184 non-null   int64         \n",
      " 2   고가      4184 non-null   int64         \n",
      " 3   저가      4184 non-null   int64         \n",
      " 4   종가      4184 non-null   int64         \n",
      " 5   거래량     4184 non-null   int64         \n",
      "dtypes: datetime64[ns](1), int64(5)\n",
      "memory usage: 196.2 KB\n"
     ]
    }
   ],
   "source": [
    "cj_enm.info()"
   ]
  },
  {
   "cell_type": "code",
   "execution_count": 10,
   "metadata": {
    "scrolled": false
   },
   "outputs": [
    {
     "data": {
      "text/plain": [
       "Text(0, 0.5, 'price')"
      ]
     },
     "execution_count": 10,
     "metadata": {},
     "output_type": "execute_result"
    },
    {
     "data": {
      "image/png": "[encoded data removed]",
      "text/plain": [
       "<Figure size 1152x648 with 1 Axes>"
      ]
     },
     "metadata": {
      "needs_background": "light"
     },
     "output_type": "display_data"
    }
   ],
   "source": [
    "plt.figure(figsize=(16, 9))\n",
    "sns.lineplot(y=cj_enm['종가'], x=cj_enm['일자'])\n",
    "plt.xlabel('time')\n",
    "plt.ylabel('price')"
   ]
  },
  {
   "cell_type": "code",
   "execution_count": 11,
   "metadata": {},
   "outputs": [
    {
     "name": "stdout",
     "output_type": "stream",
     "text": [
      "            시가        고가        저가        종가       거래량\n",
      "0     0.033278  0.038399  0.034775  0.041254  0.051423\n",
      "1     0.033278  0.038399  0.034775  0.041254  0.051423\n",
      "2     0.033278  0.038399  0.034775  0.041254  0.051423\n",
      "3     0.041254  0.038126  0.042126  0.039054  0.037002\n",
      "4     0.039329  0.035403  0.039864  0.040154  0.040243\n",
      "...        ...       ...       ...       ...       ...\n",
      "4179  0.286304  0.282952  0.296296  0.290154  0.072482\n",
      "4180  0.286304  0.282952  0.296296  0.290154  0.072482\n",
      "4181  0.286304  0.282952  0.296296  0.290154  0.072482\n",
      "4182  0.287129  0.279412  0.284987  0.283278  0.097569\n",
      "4183  0.284378  0.278322  0.290076  0.282453  0.062147\n",
      "\n",
      "[4184 rows x 5 columns]\n"
     ]
    }
   ],
   "source": [
    "from sklearn.preprocessing import MinMaxScaler\n",
    "\n",
    "scaler = MinMaxScaler()\n",
    "scale_cols = ['시가', '고가', '저가', '종가', '거래량']\n",
    "df_scaled = scaler.fit_transform(cj_enm[scale_cols])\n",
    "\n",
    "df_scaled = pd.DataFrame(df_scaled)\n",
    "df_scaled.columns = scale_cols\n",
    "\n",
    "print(df_scaled)"
   ]
  },
  {
   "cell_type": "code",
   "execution_count": 12,
   "metadata": {},
   "outputs": [],
   "source": [
    "df = df_scaled"
   ]
  },
  {
   "cell_type": "code",
   "execution_count": 13,
   "metadata": {},
   "outputs": [
    {
     "data": {
      "text/html": [
       "<div>\n",
       "<style scoped>\n",
       "    .dataframe tbody tr th:only-of-type {\n",
       "        vertical-align: middle;\n",
       "    }\n",
       "\n",
       "    .dataframe tbody tr th {\n",
       "        vertical-align: top;\n",
       "    }\n",
       "\n",
       "    .dataframe thead th {\n",
       "        text-align: right;\n",
       "    }\n",
       "</style>\n",
       "<table border=\"1\" class=\"dataframe\">\n",
       "  <thead>\n",
       "    <tr style=\"text-align: right;\">\n",
       "      <th></th>\n",
       "      <th>시가</th>\n",
       "      <th>고가</th>\n",
       "      <th>저가</th>\n",
       "      <th>종가</th>\n",
       "      <th>거래량</th>\n",
       "    </tr>\n",
       "  </thead>\n",
       "  <tbody>\n",
       "    <tr>\n",
       "      <th>0</th>\n",
       "      <td>0.033278</td>\n",
       "      <td>0.038399</td>\n",
       "      <td>0.034775</td>\n",
       "      <td>0.041254</td>\n",
       "      <td>0.051423</td>\n",
       "    </tr>\n",
       "    <tr>\n",
       "      <th>1</th>\n",
       "      <td>0.033278</td>\n",
       "      <td>0.038399</td>\n",
       "      <td>0.034775</td>\n",
       "      <td>0.041254</td>\n",
       "      <td>0.051423</td>\n",
       "    </tr>\n",
       "    <tr>\n",
       "      <th>2</th>\n",
       "      <td>0.033278</td>\n",
       "      <td>0.038399</td>\n",
       "      <td>0.034775</td>\n",
       "      <td>0.041254</td>\n",
       "      <td>0.051423</td>\n",
       "    </tr>\n",
       "    <tr>\n",
       "      <th>3</th>\n",
       "      <td>0.041254</td>\n",
       "      <td>0.038126</td>\n",
       "      <td>0.042126</td>\n",
       "      <td>0.039054</td>\n",
       "      <td>0.037002</td>\n",
       "    </tr>\n",
       "    <tr>\n",
       "      <th>4</th>\n",
       "      <td>0.039329</td>\n",
       "      <td>0.035403</td>\n",
       "      <td>0.039864</td>\n",
       "      <td>0.040154</td>\n",
       "      <td>0.040243</td>\n",
       "    </tr>\n",
       "    <tr>\n",
       "      <th>...</th>\n",
       "      <td>...</td>\n",
       "      <td>...</td>\n",
       "      <td>...</td>\n",
       "      <td>...</td>\n",
       "      <td>...</td>\n",
       "    </tr>\n",
       "    <tr>\n",
       "      <th>4179</th>\n",
       "      <td>0.286304</td>\n",
       "      <td>0.282952</td>\n",
       "      <td>0.296296</td>\n",
       "      <td>0.290154</td>\n",
       "      <td>0.072482</td>\n",
       "    </tr>\n",
       "    <tr>\n",
       "      <th>4180</th>\n",
       "      <td>0.286304</td>\n",
       "      <td>0.282952</td>\n",
       "      <td>0.296296</td>\n",
       "      <td>0.290154</td>\n",
       "      <td>0.072482</td>\n",
       "    </tr>\n",
       "    <tr>\n",
       "      <th>4181</th>\n",
       "      <td>0.286304</td>\n",
       "      <td>0.282952</td>\n",
       "      <td>0.296296</td>\n",
       "      <td>0.290154</td>\n",
       "      <td>0.072482</td>\n",
       "    </tr>\n",
       "    <tr>\n",
       "      <th>4182</th>\n",
       "      <td>0.287129</td>\n",
       "      <td>0.279412</td>\n",
       "      <td>0.284987</td>\n",
       "      <td>0.283278</td>\n",
       "      <td>0.097569</td>\n",
       "    </tr>\n",
       "    <tr>\n",
       "      <th>4183</th>\n",
       "      <td>0.284378</td>\n",
       "      <td>0.278322</td>\n",
       "      <td>0.290076</td>\n",
       "      <td>0.282453</td>\n",
       "      <td>0.062147</td>\n",
       "    </tr>\n",
       "  </tbody>\n",
       "</table>\n",
       "<p>4184 rows × 5 columns</p>\n",
       "</div>"
      ],
      "text/plain": [
       "            시가        고가        저가        종가       거래량\n",
       "0     0.033278  0.038399  0.034775  0.041254  0.051423\n",
       "1     0.033278  0.038399  0.034775  0.041254  0.051423\n",
       "2     0.033278  0.038399  0.034775  0.041254  0.051423\n",
       "3     0.041254  0.038126  0.042126  0.039054  0.037002\n",
       "4     0.039329  0.035403  0.039864  0.040154  0.040243\n",
       "...        ...       ...       ...       ...       ...\n",
       "4179  0.286304  0.282952  0.296296  0.290154  0.072482\n",
       "4180  0.286304  0.282952  0.296296  0.290154  0.072482\n",
       "4181  0.286304  0.282952  0.296296  0.290154  0.072482\n",
       "4182  0.287129  0.279412  0.284987  0.283278  0.097569\n",
       "4183  0.284378  0.278322  0.290076  0.282453  0.062147\n",
       "\n",
       "[4184 rows x 5 columns]"
      ]
     },
     "execution_count": 13,
     "metadata": {},
     "output_type": "execute_result"
    }
   ],
   "source": [
    "df"
   ]
  },
  {
   "cell_type": "code",
   "execution_count": 14,
   "metadata": {},
   "outputs": [],
   "source": [
    "from sklearn.model_selection import train_test_split"
   ]
  },
  {
   "cell_type": "code",
   "execution_count": 15,
   "metadata": {},
   "outputs": [],
   "source": [
    "feature_cols = ['시가', '고가', '저가', '종가', '거래량']\n",
    "label_cols = ['종가']\n",
    "\n",
    "feature = df[feature_cols]\n",
    "label = df[label_cols]\n",
    "x_train, x_test, y_train, y_test = train_test_split(feature, label, test_size=0.2, random_state=0, shuffle=False)"
   ]
  },
  {
   "cell_type": "code",
   "execution_count": 16,
   "metadata": {},
   "outputs": [
    {
     "data": {
      "text/plain": [
       "((3347, 5), (3347, 1))"
      ]
     },
     "execution_count": 16,
     "metadata": {},
     "output_type": "execute_result"
    }
   ],
   "source": [
    "x_train.shape, y_train.shape"
   ]
  },
  {
   "cell_type": "code",
   "execution_count": 17,
   "metadata": {},
   "outputs": [
    {
     "data": {
      "text/plain": [
       "((837, 5), (837, 1))"
      ]
     },
     "execution_count": 17,
     "metadata": {},
     "output_type": "execute_result"
    }
   ],
   "source": [
    "x_test.shape, y_test.shape"
   ]
  },
  {
   "cell_type": "code",
   "execution_count": 18,
   "metadata": {
    "scrolled": true
   },
   "outputs": [
    {
     "data": {
      "text/html": [
       "<div>\n",
       "<style scoped>\n",
       "    .dataframe tbody tr th:only-of-type {\n",
       "        vertical-align: middle;\n",
       "    }\n",
       "\n",
       "    .dataframe tbody tr th {\n",
       "        vertical-align: top;\n",
       "    }\n",
       "\n",
       "    .dataframe thead th {\n",
       "        text-align: right;\n",
       "    }\n",
       "</style>\n",
       "<table border=\"1\" class=\"dataframe\">\n",
       "  <thead>\n",
       "    <tr style=\"text-align: right;\">\n",
       "      <th></th>\n",
       "      <th>시가</th>\n",
       "      <th>고가</th>\n",
       "      <th>저가</th>\n",
       "      <th>종가</th>\n",
       "      <th>거래량</th>\n",
       "    </tr>\n",
       "  </thead>\n",
       "  <tbody>\n",
       "    <tr>\n",
       "      <th>0</th>\n",
       "      <td>0.033278</td>\n",
       "      <td>0.038399</td>\n",
       "      <td>0.034775</td>\n",
       "      <td>0.041254</td>\n",
       "      <td>0.051423</td>\n",
       "    </tr>\n",
       "    <tr>\n",
       "      <th>1</th>\n",
       "      <td>0.033278</td>\n",
       "      <td>0.038399</td>\n",
       "      <td>0.034775</td>\n",
       "      <td>0.041254</td>\n",
       "      <td>0.051423</td>\n",
       "    </tr>\n",
       "    <tr>\n",
       "      <th>2</th>\n",
       "      <td>0.033278</td>\n",
       "      <td>0.038399</td>\n",
       "      <td>0.034775</td>\n",
       "      <td>0.041254</td>\n",
       "      <td>0.051423</td>\n",
       "    </tr>\n",
       "    <tr>\n",
       "      <th>3</th>\n",
       "      <td>0.041254</td>\n",
       "      <td>0.038126</td>\n",
       "      <td>0.042126</td>\n",
       "      <td>0.039054</td>\n",
       "      <td>0.037002</td>\n",
       "    </tr>\n",
       "    <tr>\n",
       "      <th>4</th>\n",
       "      <td>0.039329</td>\n",
       "      <td>0.035403</td>\n",
       "      <td>0.039864</td>\n",
       "      <td>0.040154</td>\n",
       "      <td>0.040243</td>\n",
       "    </tr>\n",
       "    <tr>\n",
       "      <th>...</th>\n",
       "      <td>...</td>\n",
       "      <td>...</td>\n",
       "      <td>...</td>\n",
       "      <td>...</td>\n",
       "      <td>...</td>\n",
       "    </tr>\n",
       "    <tr>\n",
       "      <th>3342</th>\n",
       "      <td>0.462596</td>\n",
       "      <td>0.463235</td>\n",
       "      <td>0.473000</td>\n",
       "      <td>0.472497</td>\n",
       "      <td>0.055040</td>\n",
       "    </tr>\n",
       "    <tr>\n",
       "      <th>3343</th>\n",
       "      <td>0.472222</td>\n",
       "      <td>0.465959</td>\n",
       "      <td>0.476675</td>\n",
       "      <td>0.475798</td>\n",
       "      <td>0.030961</td>\n",
       "    </tr>\n",
       "    <tr>\n",
       "      <th>3344</th>\n",
       "      <td>0.475523</td>\n",
       "      <td>0.467048</td>\n",
       "      <td>0.478654</td>\n",
       "      <td>0.476898</td>\n",
       "      <td>0.025286</td>\n",
       "    </tr>\n",
       "    <tr>\n",
       "      <th>3345</th>\n",
       "      <td>0.475798</td>\n",
       "      <td>0.473584</td>\n",
       "      <td>0.486571</td>\n",
       "      <td>0.483498</td>\n",
       "      <td>0.069098</td>\n",
       "    </tr>\n",
       "    <tr>\n",
       "      <th>3346</th>\n",
       "      <td>0.475798</td>\n",
       "      <td>0.473584</td>\n",
       "      <td>0.486571</td>\n",
       "      <td>0.483498</td>\n",
       "      <td>0.069098</td>\n",
       "    </tr>\n",
       "  </tbody>\n",
       "</table>\n",
       "<p>3347 rows × 5 columns</p>\n",
       "</div>"
      ],
      "text/plain": [
       "            시가        고가        저가        종가       거래량\n",
       "0     0.033278  0.038399  0.034775  0.041254  0.051423\n",
       "1     0.033278  0.038399  0.034775  0.041254  0.051423\n",
       "2     0.033278  0.038399  0.034775  0.041254  0.051423\n",
       "3     0.041254  0.038126  0.042126  0.039054  0.037002\n",
       "4     0.039329  0.035403  0.039864  0.040154  0.040243\n",
       "...        ...       ...       ...       ...       ...\n",
       "3342  0.462596  0.463235  0.473000  0.472497  0.055040\n",
       "3343  0.472222  0.465959  0.476675  0.475798  0.030961\n",
       "3344  0.475523  0.467048  0.478654  0.476898  0.025286\n",
       "3345  0.475798  0.473584  0.486571  0.483498  0.069098\n",
       "3346  0.475798  0.473584  0.486571  0.483498  0.069098\n",
       "\n",
       "[3347 rows x 5 columns]"
      ]
     },
     "execution_count": 18,
     "metadata": {},
     "output_type": "execute_result"
    }
   ],
   "source": [
    "x_train"
   ]
  },
  {
   "cell_type": "code",
   "execution_count": 19,
   "metadata": {},
   "outputs": [
    {
     "data": {
      "text/html": [
       "<div>\n",
       "<style scoped>\n",
       "    .dataframe tbody tr th:only-of-type {\n",
       "        vertical-align: middle;\n",
       "    }\n",
       "\n",
       "    .dataframe tbody tr th {\n",
       "        vertical-align: top;\n",
       "    }\n",
       "\n",
       "    .dataframe thead th {\n",
       "        text-align: right;\n",
       "    }\n",
       "</style>\n",
       "<table border=\"1\" class=\"dataframe\">\n",
       "  <thead>\n",
       "    <tr style=\"text-align: right;\">\n",
       "      <th></th>\n",
       "      <th>종가</th>\n",
       "    </tr>\n",
       "  </thead>\n",
       "  <tbody>\n",
       "    <tr>\n",
       "      <th>0</th>\n",
       "      <td>0.041254</td>\n",
       "    </tr>\n",
       "    <tr>\n",
       "      <th>1</th>\n",
       "      <td>0.041254</td>\n",
       "    </tr>\n",
       "    <tr>\n",
       "      <th>2</th>\n",
       "      <td>0.041254</td>\n",
       "    </tr>\n",
       "    <tr>\n",
       "      <th>3</th>\n",
       "      <td>0.039054</td>\n",
       "    </tr>\n",
       "    <tr>\n",
       "      <th>4</th>\n",
       "      <td>0.040154</td>\n",
       "    </tr>\n",
       "    <tr>\n",
       "      <th>...</th>\n",
       "      <td>...</td>\n",
       "    </tr>\n",
       "    <tr>\n",
       "      <th>3342</th>\n",
       "      <td>0.472497</td>\n",
       "    </tr>\n",
       "    <tr>\n",
       "      <th>3343</th>\n",
       "      <td>0.475798</td>\n",
       "    </tr>\n",
       "    <tr>\n",
       "      <th>3344</th>\n",
       "      <td>0.476898</td>\n",
       "    </tr>\n",
       "    <tr>\n",
       "      <th>3345</th>\n",
       "      <td>0.483498</td>\n",
       "    </tr>\n",
       "    <tr>\n",
       "      <th>3346</th>\n",
       "      <td>0.483498</td>\n",
       "    </tr>\n",
       "  </tbody>\n",
       "</table>\n",
       "<p>3347 rows × 1 columns</p>\n",
       "</div>"
      ],
      "text/plain": [
       "            종가\n",
       "0     0.041254\n",
       "1     0.041254\n",
       "2     0.041254\n",
       "3     0.039054\n",
       "4     0.040154\n",
       "...        ...\n",
       "3342  0.472497\n",
       "3343  0.475798\n",
       "3344  0.476898\n",
       "3345  0.483498\n",
       "3346  0.483498\n",
       "\n",
       "[3347 rows x 1 columns]"
      ]
     },
     "execution_count": 19,
     "metadata": {},
     "output_type": "execute_result"
    }
   ],
   "source": [
    "y_train"
   ]
  },
  {
   "cell_type": "code",
   "execution_count": 20,
   "metadata": {},
   "outputs": [],
   "source": [
    "def windowed_dataset(series, window_size, batch_size, shuffle):\n",
    "    series = tf.expand_dims(series, axis=-1)\n",
    "    ds = tf.data.Dataset.from_tensor_slices(series)\n",
    "    ds = ds.window(window_size + 1, shift=1, drop_remainder=True)\n",
    "    ds = ds.flat_map(lambda w: w.batch(window_size + 1))\n",
    "    if shuffle:\n",
    "        ds = ds.shuffle(1000)\n",
    "    ds = ds.map(lambda w: (w[:-1], w[-1]))\n",
    "    return ds.batch(batch_size).prefetch(1)"
   ]
  },
  {
   "cell_type": "code",
   "execution_count": 21,
   "metadata": {},
   "outputs": [],
   "source": [
    "WINDOW_SIZE=20\n",
    "BATCH_SIZE=32"
   ]
  },
  {
   "cell_type": "code",
   "execution_count": 22,
   "metadata": {},
   "outputs": [],
   "source": [
    "train_data = windowed_dataset(y_train, WINDOW_SIZE, BATCH_SIZE, True)\n",
    "test_data = windowed_dataset(y_test, WINDOW_SIZE, BATCH_SIZE, False)"
   ]
  },
  {
   "cell_type": "code",
   "execution_count": 23,
   "metadata": {},
   "outputs": [
    {
     "data": {
      "text/plain": [
       "<PrefetchDataset shapes: ((None, None, 1, 1), (None, 1, 1)), types: (tf.float64, tf.float64)>"
      ]
     },
     "execution_count": 23,
     "metadata": {},
     "output_type": "execute_result"
    }
   ],
   "source": [
    "train_data"
   ]
  },
  {
   "cell_type": "code",
   "execution_count": 24,
   "metadata": {},
   "outputs": [
    {
     "name": "stdout",
     "output_type": "stream",
     "text": [
      "데이터셋(X) 구성(batch_size, window_size, feature갯수): (32, 20, 1, 1)\n",
      "데이터셋(Y) 구성(batch_size, window_size, feature갯수): (32, 1, 1)\n"
     ]
    }
   ],
   "source": [
    "for data in train_data.take(1):\n",
    "    #print(f'데이터셋(X) 샘플: {data[0]}')\n",
    "    #print(f'데이터셋(Y) 샘플: {data[1]}')\n",
    "    print(f'데이터셋(X) 구성(batch_size, window_size, feature갯수): {data[0].shape}')\n",
    "    print(f'데이터셋(Y) 구성(batch_size, window_size, feature갯수): {data[1].shape}')"
   ]
  },
  {
   "cell_type": "code",
   "execution_count": 25,
   "metadata": {},
   "outputs": [],
   "source": [
    "from tensorflow.keras.models import Sequential\n",
    "from tensorflow.keras.layers import Dense, LSTM, Conv1D, Lambda\n",
    "from tensorflow.keras.losses import Huber\n",
    "from tensorflow.keras.optimizers import Adam\n",
    "from tensorflow.keras.callbacks import EarlyStopping, ModelCheckpoint\n",
    "\n",
    "\n",
    "model = Sequential([\n",
    "    # 1차원 feature map 생성\n",
    "    Conv1D(filters=32, kernel_size=5,\n",
    "           padding=\"causal\",\n",
    "           activation=\"relu\",\n",
    "           input_shape=[WINDOW_SIZE, 1]),\n",
    "    # LSTM\n",
    "    LSTM(16, activation='tanh'),\n",
    "    Dense(16, activation=\"relu\"),\n",
    "    Dense(1),\n",
    "])"
   ]
  },
  {
   "cell_type": "code",
   "execution_count": 26,
   "metadata": {},
   "outputs": [],
   "source": [
    "# Sequence 학습에 비교적 좋은 퍼포먼스를 내는 Huber()를 사용합니다.\n",
    "loss = Huber()\n",
    "optimizer = Adam(0.0005)\n",
    "model.compile(loss=Huber(), optimizer=optimizer, metrics=['mse'])"
   ]
  },
  {
   "cell_type": "code",
   "execution_count": 27,
   "metadata": {},
   "outputs": [],
   "source": [
    "# earlystopping은 10번 epoch통안 val_loss 개선이 없다면 학습을 멈춥니다.\n",
    "earlystopping = EarlyStopping(monitor='val_loss', patience=10)\n",
    "# val_loss 기준 체크포인터도 생성합니다.\n",
    "filename = os.path.join('tmp', 'ckeckpointer.ckpt')\n",
    "checkpoint = ModelCheckpoint(filename, \n",
    "                             save_weights_only=True, \n",
    "                             save_best_only=True, \n",
    "                             monitor='val_loss', \n",
    "                             verbose=1)"
   ]
  },
  {
   "cell_type": "code",
   "execution_count": 28,
   "metadata": {},
   "outputs": [
    {
     "name": "stdout",
     "output_type": "stream",
     "text": [
      "Epoch 1/50\n",
      "104/104 [==============================] - 3s 10ms/step - loss: 0.0277 - mse: 0.0554 - val_loss: 0.0012 - val_mse: 0.0023\n",
      "\n",
      "Epoch 00001: val_loss improved from inf to 0.00115, saving model to tmp\\ckeckpointer.ckpt\n",
      "Epoch 2/50\n",
      "104/104 [==============================] - 1s 6ms/step - loss: 5.7331e-04 - mse: 0.0011 - val_loss: 1.5661e-04 - val_mse: 3.1322e-04\n",
      "\n",
      "Epoch 00002: val_loss improved from 0.00115 to 0.00016, saving model to tmp\\ckeckpointer.ckpt\n",
      "Epoch 3/50\n",
      "104/104 [==============================] - 1s 7ms/step - loss: 3.8023e-04 - mse: 7.6046e-04 - val_loss: 1.2725e-04 - val_mse: 2.5450e-04\n",
      "\n",
      "Epoch 00003: val_loss improved from 0.00016 to 0.00013, saving model to tmp\\ckeckpointer.ckpt\n",
      "Epoch 4/50\n",
      "104/104 [==============================] - 1s 6ms/step - loss: 3.6086e-04 - mse: 7.2171e-04 - val_loss: 1.6590e-04 - val_mse: 3.3180e-04\n",
      "\n",
      "Epoch 00004: val_loss did not improve from 0.00013\n",
      "Epoch 5/50\n",
      "104/104 [==============================] - 1s 6ms/step - loss: 3.4023e-04 - mse: 6.8046e-04 - val_loss: 1.4077e-04 - val_mse: 2.8155e-04\n",
      "\n",
      "Epoch 00005: val_loss did not improve from 0.00013\n",
      "Epoch 6/50\n",
      "104/104 [==============================] - 1s 6ms/step - loss: 3.1778e-04 - mse: 6.3555e-04 - val_loss: 1.6540e-04 - val_mse: 3.3081e-04\n",
      "\n",
      "Epoch 00006: val_loss did not improve from 0.00013\n",
      "Epoch 7/50\n",
      "104/104 [==============================] - 1s 7ms/step - loss: 3.1196e-04 - mse: 6.2392e-04 - val_loss: 1.7400e-04 - val_mse: 3.4801e-04\n",
      "\n",
      "Epoch 00007: val_loss did not improve from 0.00013\n",
      "Epoch 8/50\n",
      "104/104 [==============================] - 1s 6ms/step - loss: 2.9232e-04 - mse: 5.8463e-04 - val_loss: 1.4904e-04 - val_mse: 2.9808e-04\n",
      "\n",
      "Epoch 00008: val_loss did not improve from 0.00013\n",
      "Epoch 9/50\n",
      "104/104 [==============================] - 1s 6ms/step - loss: 2.8207e-04 - mse: 5.6413e-04 - val_loss: 1.9038e-04 - val_mse: 3.8075e-04\n",
      "\n",
      "Epoch 00009: val_loss did not improve from 0.00013\n",
      "Epoch 10/50\n",
      "104/104 [==============================] - 1s 7ms/step - loss: 2.6198e-04 - mse: 5.2397e-04 - val_loss: 1.2422e-04 - val_mse: 2.4844e-04\n",
      "\n",
      "Epoch 00010: val_loss improved from 0.00013 to 0.00012, saving model to tmp\\ckeckpointer.ckpt\n",
      "Epoch 11/50\n",
      "104/104 [==============================] - 1s 7ms/step - loss: 2.5382e-04 - mse: 5.0763e-04 - val_loss: 1.4194e-04 - val_mse: 2.8387e-04\n",
      "\n",
      "Epoch 00011: val_loss did not improve from 0.00012\n",
      "Epoch 12/50\n",
      "104/104 [==============================] - 1s 7ms/step - loss: 2.3595e-04 - mse: 4.7190e-04 - val_loss: 1.5003e-04 - val_mse: 3.0006e-04\n",
      "\n",
      "Epoch 00012: val_loss did not improve from 0.00012\n",
      "Epoch 13/50\n",
      "104/104 [==============================] - 1s 6ms/step - loss: 2.2786e-04 - mse: 4.5572e-04 - val_loss: 1.0272e-04 - val_mse: 2.0545e-04\n",
      "\n",
      "Epoch 00013: val_loss improved from 0.00012 to 0.00010, saving model to tmp\\ckeckpointer.ckpt\n",
      "Epoch 14/50\n",
      "104/104 [==============================] - 1s 6ms/step - loss: 2.1773e-04 - mse: 4.3545e-04 - val_loss: 1.2081e-04 - val_mse: 2.4162e-04\n",
      "\n",
      "Epoch 00014: val_loss did not improve from 0.00010\n",
      "Epoch 15/50\n",
      "104/104 [==============================] - 1s 7ms/step - loss: 2.0458e-04 - mse: 4.0915e-04 - val_loss: 1.0972e-04 - val_mse: 2.1945e-04\n",
      "\n",
      "Epoch 00015: val_loss did not improve from 0.00010\n",
      "Epoch 16/50\n",
      "104/104 [==============================] - 1s 6ms/step - loss: 1.9998e-04 - mse: 3.9995e-04 - val_loss: 9.9750e-05 - val_mse: 1.9950e-04\n",
      "\n",
      "Epoch 00016: val_loss improved from 0.00010 to 0.00010, saving model to tmp\\ckeckpointer.ckpt\n",
      "Epoch 17/50\n",
      "104/104 [==============================] - 1s 6ms/step - loss: 1.8899e-04 - mse: 3.7797e-04 - val_loss: 7.4634e-05 - val_mse: 1.4927e-04\n",
      "\n",
      "Epoch 00017: val_loss improved from 0.00010 to 0.00007, saving model to tmp\\ckeckpointer.ckpt\n",
      "Epoch 18/50\n",
      "104/104 [==============================] - 1s 7ms/step - loss: 1.8037e-04 - mse: 3.6074e-04 - val_loss: 9.3304e-05 - val_mse: 1.8661e-04\n",
      "\n",
      "Epoch 00018: val_loss did not improve from 0.00007\n",
      "Epoch 19/50\n",
      "104/104 [==============================] - 1s 6ms/step - loss: 1.8184e-04 - mse: 3.6369e-04 - val_loss: 8.2703e-05 - val_mse: 1.6541e-04\n",
      "\n",
      "Epoch 00019: val_loss did not improve from 0.00007\n",
      "Epoch 20/50\n",
      "104/104 [==============================] - 1s 6ms/step - loss: 1.7941e-04 - mse: 3.5882e-04 - val_loss: 8.5545e-05 - val_mse: 1.7109e-04\n",
      "\n",
      "Epoch 00020: val_loss did not improve from 0.00007\n",
      "Epoch 21/50\n",
      "104/104 [==============================] - 1s 7ms/step - loss: 1.6278e-04 - mse: 3.2555e-04 - val_loss: 7.7403e-05 - val_mse: 1.5481e-04\n",
      "\n",
      "Epoch 00021: val_loss did not improve from 0.00007\n",
      "Epoch 22/50\n",
      "104/104 [==============================] - 1s 6ms/step - loss: 1.6117e-04 - mse: 3.2235e-04 - val_loss: 6.8924e-05 - val_mse: 1.3785e-04\n",
      "\n",
      "Epoch 00022: val_loss improved from 0.00007 to 0.00007, saving model to tmp\\ckeckpointer.ckpt\n",
      "Epoch 23/50\n",
      "104/104 [==============================] - 1s 6ms/step - loss: 1.5764e-04 - mse: 3.1528e-04 - val_loss: 6.6768e-05 - val_mse: 1.3354e-04\n",
      "\n",
      "Epoch 00023: val_loss improved from 0.00007 to 0.00007, saving model to tmp\\ckeckpointer.ckpt\n",
      "Epoch 24/50\n",
      "104/104 [==============================] - 1s 7ms/step - loss: 1.5459e-04 - mse: 3.0917e-04 - val_loss: 8.4584e-05 - val_mse: 1.6917e-04\n",
      "\n",
      "Epoch 00024: val_loss did not improve from 0.00007\n",
      "Epoch 25/50\n",
      "104/104 [==============================] - 1s 6ms/step - loss: 1.4966e-04 - mse: 2.9933e-04 - val_loss: 7.5968e-05 - val_mse: 1.5194e-04\n",
      "\n",
      "Epoch 00025: val_loss did not improve from 0.00007\n",
      "Epoch 26/50\n",
      "104/104 [==============================] - 1s 6ms/step - loss: 1.4134e-04 - mse: 2.8268e-04 - val_loss: 5.9576e-05 - val_mse: 1.1915e-04\n",
      "\n",
      "Epoch 00026: val_loss improved from 0.00007 to 0.00006, saving model to tmp\\ckeckpointer.ckpt\n",
      "Epoch 27/50\n",
      "104/104 [==============================] - 1s 6ms/step - loss: 1.4995e-04 - mse: 2.9990e-04 - val_loss: 1.0130e-04 - val_mse: 2.0260e-04\n",
      "\n",
      "Epoch 00027: val_loss did not improve from 0.00006\n",
      "Epoch 28/50\n",
      "104/104 [==============================] - 1s 7ms/step - loss: 1.3724e-04 - mse: 2.7448e-04 - val_loss: 5.7301e-05 - val_mse: 1.1460e-04\n",
      "\n",
      "Epoch 00028: val_loss improved from 0.00006 to 0.00006, saving model to tmp\\ckeckpointer.ckpt\n",
      "Epoch 29/50\n",
      "104/104 [==============================] - 1s 6ms/step - loss: 1.3432e-04 - mse: 2.6864e-04 - val_loss: 6.4529e-05 - val_mse: 1.2906e-04\n",
      "\n",
      "Epoch 00029: val_loss did not improve from 0.00006\n",
      "Epoch 30/50\n",
      "104/104 [==============================] - 1s 6ms/step - loss: 1.3113e-04 - mse: 2.6226e-04 - val_loss: 6.2351e-05 - val_mse: 1.2470e-04\n",
      "\n",
      "Epoch 00030: val_loss did not improve from 0.00006\n",
      "Epoch 31/50\n",
      "104/104 [==============================] - 1s 6ms/step - loss: 1.3396e-04 - mse: 2.6792e-04 - val_loss: 5.6092e-05 - val_mse: 1.1218e-04\n",
      "\n",
      "Epoch 00031: val_loss improved from 0.00006 to 0.00006, saving model to tmp\\ckeckpointer.ckpt\n",
      "Epoch 32/50\n",
      "104/104 [==============================] - 1s 7ms/step - loss: 1.2829e-04 - mse: 2.5658e-04 - val_loss: 5.8750e-05 - val_mse: 1.1750e-04\n",
      "\n",
      "Epoch 00032: val_loss did not improve from 0.00006\n",
      "Epoch 33/50\n",
      "104/104 [==============================] - 1s 6ms/step - loss: 1.2446e-04 - mse: 2.4892e-04 - val_loss: 4.9381e-05 - val_mse: 9.8763e-05\n",
      "\n",
      "Epoch 00033: val_loss improved from 0.00006 to 0.00005, saving model to tmp\\ckeckpointer.ckpt\n",
      "Epoch 34/50\n",
      "104/104 [==============================] - 1s 6ms/step - loss: 1.2343e-04 - mse: 2.4685e-04 - val_loss: 5.3696e-05 - val_mse: 1.0739e-04\n",
      "\n",
      "Epoch 00034: val_loss did not improve from 0.00005\n",
      "Epoch 35/50\n",
      "104/104 [==============================] - 1s 7ms/step - loss: 1.2036e-04 - mse: 2.4071e-04 - val_loss: 5.3712e-05 - val_mse: 1.0742e-04\n",
      "\n",
      "Epoch 00035: val_loss did not improve from 0.00005\n",
      "Epoch 36/50\n",
      "104/104 [==============================] - 1s 6ms/step - loss: 1.2697e-04 - mse: 2.5394e-04 - val_loss: 6.2232e-05 - val_mse: 1.2446e-04\n",
      "\n",
      "Epoch 00036: val_loss did not improve from 0.00005\n",
      "Epoch 37/50\n",
      "104/104 [==============================] - 1s 6ms/step - loss: 1.1726e-04 - mse: 2.3452e-04 - val_loss: 6.3677e-05 - val_mse: 1.2735e-04\n",
      "\n",
      "Epoch 00037: val_loss did not improve from 0.00005\n",
      "Epoch 38/50\n",
      "104/104 [==============================] - 1s 6ms/step - loss: 1.1470e-04 - mse: 2.2940e-04 - val_loss: 4.5887e-05 - val_mse: 9.1773e-05\n",
      "\n",
      "Epoch 00038: val_loss improved from 0.00005 to 0.00005, saving model to tmp\\ckeckpointer.ckpt\n"
     ]
    },
    {
     "name": "stdout",
     "output_type": "stream",
     "text": [
      "Epoch 39/50\n",
      "104/104 [==============================] - 1s 7ms/step - loss: 1.2035e-04 - mse: 2.4070e-04 - val_loss: 4.4989e-05 - val_mse: 8.9979e-05\n",
      "\n",
      "Epoch 00039: val_loss improved from 0.00005 to 0.00004, saving model to tmp\\ckeckpointer.ckpt\n",
      "Epoch 40/50\n",
      "104/104 [==============================] - 1s 6ms/step - loss: 1.1299e-04 - mse: 2.2598e-04 - val_loss: 7.3950e-05 - val_mse: 1.4790e-04\n",
      "\n",
      "Epoch 00040: val_loss did not improve from 0.00004\n",
      "Epoch 41/50\n",
      "104/104 [==============================] - 1s 6ms/step - loss: 1.1677e-04 - mse: 2.3355e-04 - val_loss: 4.5161e-05 - val_mse: 9.0322e-05\n",
      "\n",
      "Epoch 00041: val_loss did not improve from 0.00004\n",
      "Epoch 42/50\n",
      "104/104 [==============================] - 1s 6ms/step - loss: 1.1891e-04 - mse: 2.3782e-04 - val_loss: 5.7515e-05 - val_mse: 1.1503e-04\n",
      "\n",
      "Epoch 00042: val_loss did not improve from 0.00004\n",
      "Epoch 43/50\n",
      "104/104 [==============================] - 1s 7ms/step - loss: 1.1330e-04 - mse: 2.2659e-04 - val_loss: 4.6527e-05 - val_mse: 9.3055e-05\n",
      "\n",
      "Epoch 00043: val_loss did not improve from 0.00004\n",
      "Epoch 44/50\n",
      "104/104 [==============================] - 1s 6ms/step - loss: 1.0844e-04 - mse: 2.1689e-04 - val_loss: 4.9766e-05 - val_mse: 9.9533e-05\n",
      "\n",
      "Epoch 00044: val_loss did not improve from 0.00004\n",
      "Epoch 45/50\n",
      "104/104 [==============================] - 1s 6ms/step - loss: 1.0703e-04 - mse: 2.1407e-04 - val_loss: 5.1803e-05 - val_mse: 1.0361e-04\n",
      "\n",
      "Epoch 00045: val_loss did not improve from 0.00004\n",
      "Epoch 46/50\n",
      "104/104 [==============================] - 1s 6ms/step - loss: 1.1505e-04 - mse: 2.3009e-04 - val_loss: 4.7632e-05 - val_mse: 9.5264e-05\n",
      "\n",
      "Epoch 00046: val_loss did not improve from 0.00004\n",
      "Epoch 47/50\n",
      "104/104 [==============================] - 1s 6ms/step - loss: 1.0808e-04 - mse: 2.1615e-04 - val_loss: 5.8522e-05 - val_mse: 1.1704e-04\n",
      "\n",
      "Epoch 00047: val_loss did not improve from 0.00004\n",
      "Epoch 48/50\n",
      "104/104 [==============================] - 1s 6ms/step - loss: 1.0244e-04 - mse: 2.0488e-04 - val_loss: 4.2382e-05 - val_mse: 8.4765e-05\n",
      "\n",
      "Epoch 00048: val_loss improved from 0.00004 to 0.00004, saving model to tmp\\ckeckpointer.ckpt\n",
      "Epoch 49/50\n",
      "104/104 [==============================] - 1s 6ms/step - loss: 1.1058e-04 - mse: 2.2117e-04 - val_loss: 9.8762e-05 - val_mse: 1.9752e-04\n",
      "\n",
      "Epoch 00049: val_loss did not improve from 0.00004\n",
      "Epoch 50/50\n",
      "104/104 [==============================] - 1s 7ms/step - loss: 1.0958e-04 - mse: 2.1915e-04 - val_loss: 8.7457e-05 - val_mse: 1.7491e-04\n",
      "\n",
      "Epoch 00050: val_loss did not improve from 0.00004\n"
     ]
    }
   ],
   "source": [
    "history = model.fit(train_data, \n",
    "                    validation_data=(test_data), \n",
    "                    epochs=50, \n",
    "                    callbacks=[checkpoint, earlystopping])"
   ]
  },
  {
   "cell_type": "code",
   "execution_count": 29,
   "metadata": {},
   "outputs": [
    {
     "data": {
      "text/plain": [
       "<tensorflow.python.training.tracking.util.CheckpointLoadStatus at 0x1c8e38df430>"
      ]
     },
     "execution_count": 29,
     "metadata": {},
     "output_type": "execute_result"
    }
   ],
   "source": [
    "model.load_weights(filename)"
   ]
  },
  {
   "cell_type": "code",
   "execution_count": 30,
   "metadata": {},
   "outputs": [],
   "source": [
    "pred = model.predict(test_data)"
   ]
  },
  {
   "cell_type": "code",
   "execution_count": 31,
   "metadata": {},
   "outputs": [
    {
     "data": {
      "text/plain": [
       "(817, 1)"
      ]
     },
     "execution_count": 31,
     "metadata": {},
     "output_type": "execute_result"
    }
   ],
   "source": [
    "pred.shape"
   ]
  },
  {
   "cell_type": "code",
   "execution_count": 32,
   "metadata": {
    "scrolled": true
   },
   "outputs": [
    {
     "data": {
      "image/png": "[encoded data removed]",
      "text/plain": [
       "<Figure size 864x648 with 1 Axes>"
      ]
     },
     "metadata": {
      "needs_background": "light"
     },
     "output_type": "display_data"
    }
   ],
   "source": [
    "plt.figure(figsize=(12, 9))\n",
    "plt.plot(np.asarray(y_test)[20:], label='actual')\n",
    "plt.plot(pred, label='prediction')\n",
    "plt.xlabel('days')\n",
    "plt.ylabel('close')\n",
    "plt.legend()\n",
    "plt.show()"
   ]
  },
  {
   "cell_type": "code",
   "execution_count": 33,
   "metadata": {},
   "outputs": [],
   "source": [
    "cj_enm = pd.read_excel('cj_enm.xlsx')"
   ]
  },
  {
   "cell_type": "code",
   "execution_count": 34,
   "metadata": {
    "scrolled": true
   },
   "outputs": [
    {
     "data": {
      "text/plain": [
       "0      2010-01-01\n",
       "1      2010-01-02\n",
       "2      2010-01-03\n",
       "3      2010-01-04\n",
       "4      2010-01-05\n",
       "          ...    \n",
       "4179   2021-06-11\n",
       "4180   2021-06-12\n",
       "4181   2021-06-13\n",
       "4182   2021-06-14\n",
       "4183   2021-06-15\n",
       "Name: 일자, Length: 4184, dtype: datetime64[ns]"
      ]
     },
     "execution_count": 34,
     "metadata": {},
     "output_type": "execute_result"
    }
   ],
   "source": [
    "cj_enm['일자']"
   ]
  },
  {
   "cell_type": "code",
   "execution_count": 35,
   "metadata": {},
   "outputs": [],
   "source": [
    "df = df.join(cj_enm['일자'])"
   ]
  },
  {
   "cell_type": "code",
   "execution_count": 36,
   "metadata": {
    "scrolled": true
   },
   "outputs": [
    {
     "data": {
      "text/plain": [
       "array([0.04125413, 0.04125413, 0.04125413, ..., 0.29015402, 0.28327833,\n",
       "       0.28245325])"
      ]
     },
     "execution_count": 36,
     "metadata": {},
     "output_type": "execute_result"
    }
   ],
   "source": [
    "close_data = cj_enm['종가'].values\n",
    "close_data"
   ]
  },
  {
   "cell_type": "code",
   "execution_count": 37,
   "metadata": {
    "scrolled": true
   },
   "outputs": [
    {
     "data": {
      "text/plain": [
       "array([[0.04125413],\n",
       "       [0.04125413],\n",
       "       [0.04125413],\n",
       "       ...,\n",
       "       [0.29015402],\n",
       "       [0.28327833],\n",
       "       [0.28245325]])"
      ]
     },
     "execution_count": 37,
     "metadata": {},
     "output_type": "execute_result"
    }
   ],
   "source": [
    "close_data = close_data.reshape(-1, 1)\n",
    "close_data"
   ]
  },
  {
   "cell_type": "code",
   "execution_count": 38,
   "metadata": {},
   "outputs": [
    {
     "data": {
      "text/plain": [
       "array([0.04125413, 0.04125413, 0.04125413, ..., 0.29015402, 0.28327833,\n",
       "       0.28245325])"
      ]
     },
     "execution_count": 38,
     "metadata": {},
     "output_type": "execute_result"
    }
   ],
   "source": [
    "close_data = close_data.reshape((-1))\n",
    "close_data"
   ]
  },
  {
   "cell_type": "code",
   "execution_count": 39,
   "metadata": {},
   "outputs": [
    {
     "data": {
      "text/plain": [
       "array([0.28327833, 0.28245325])"
      ]
     },
     "execution_count": 39,
     "metadata": {},
     "output_type": "execute_result"
    }
   ],
   "source": [
    "close_data[-2:]"
   ]
  },
  {
   "cell_type": "code",
   "execution_count": 40,
   "metadata": {},
   "outputs": [],
   "source": [
    "close_data = close_data.reshape((-1))\n",
    "\n",
    "look_back = 20\n",
    "\n",
    "def predict(num_prediction, model):\n",
    "    prediction_list = close_data[-look_back:]\n",
    "    \n",
    "    for _ in range(num_prediction):\n",
    "        x = prediction_list[-look_back:]\n",
    "        x = x.reshape((1, look_back, 1))\n",
    "        out = model.predict(x)[0][0]\n",
    "        prediction_list = np.append(prediction_list, out)\n",
    "    prediction_list = prediction_list[look_back-1:]\n",
    "        \n",
    "    return prediction_list\n",
    "    \n",
    "def predict_dates(num_prediction):\n",
    "    last_date = df['일자'].values[-1]\n",
    "    prediction_dates = pd.date_range(last_date, periods=num_prediction+1).tolist()\n",
    "    return prediction_dates\n",
    "\n",
    "num_prediction = 30\n",
    "forecast = predict(num_prediction, model)\n",
    "forecast_dates = predict_dates(num_prediction)"
   ]
  },
  {
   "cell_type": "code",
   "execution_count": 41,
   "metadata": {
    "scrolled": true
   },
   "outputs": [
    {
     "data": {
      "text/plain": [
       "array([0.28245325, 0.2854116 , 0.2844097 , 0.28467125, 0.28522325,\n",
       "       0.28541434, 0.28570271, 0.2860592 , 0.28637338, 0.28669792,\n",
       "       0.28703475, 0.28736526, 0.28769416, 0.28802079, 0.28834099,\n",
       "       0.28865457, 0.28895992, 0.28925776, 0.2895509 , 0.28983706,\n",
       "       0.29012042, 0.29040009, 0.29067421, 0.29094505, 0.29121208,\n",
       "       0.291475  , 0.29173446, 0.29199034, 0.29224259, 0.29249144,\n",
       "       0.29273683])"
      ]
     },
     "execution_count": 41,
     "metadata": {},
     "output_type": "execute_result"
    }
   ],
   "source": [
    "forecast"
   ]
  },
  {
   "cell_type": "code",
   "execution_count": 42,
   "metadata": {},
   "outputs": [
    {
     "data": {
      "image/png": "[encoded data removed]",
      "text/plain": [
       "<Figure size 864x648 with 1 Axes>"
      ]
     },
     "metadata": {
      "needs_background": "light"
     },
     "output_type": "display_data"
    }
   ],
   "source": [
    "plt.figure(figsize=(12, 9))\n",
    "plt.plot(forecast, label='forecast')\n",
    "plt.xlabel('days')\n",
    "plt.ylabel('close')\n",
    "plt.legend()\n",
    "plt.show()"
   ]
  },
  {
   "cell_type": "markdown",
   "metadata": {},
   "source": [
    "# 볼린저 밴드 투자"
   ]
  },
  {
   "cell_type": "markdown",
   "metadata": {},
   "source": [
    "## MFI"
   ]
  },
  {
   "cell_type": "code",
   "execution_count": 1,
   "metadata": {},
   "outputs": [],
   "source": [
    "import matplotlib.pyplot as plt\n",
    "import pandas as pd\n",
    "from datetime import datetime"
   ]
  },
  {
   "cell_type": "code",
   "execution_count": 2,
   "metadata": {},
   "outputs": [],
   "source": [
    "df = pd.read_excel('cj_enm.xlsx')"
   ]
  },
  {
   "cell_type": "code",
   "execution_count": 3,
   "metadata": {},
   "outputs": [
    {
     "data": {
      "text/html": [
       "<div>\n",
       "<style scoped>\n",
       "    .dataframe tbody tr th:only-of-type {\n",
       "        vertical-align: middle;\n",
       "    }\n",
       "\n",
       "    .dataframe tbody tr th {\n",
       "        vertical-align: top;\n",
       "    }\n",
       "\n",
       "    .dataframe thead th {\n",
       "        text-align: right;\n",
       "    }\n",
       "</style>\n",
       "<table border=\"1\" class=\"dataframe\">\n",
       "  <thead>\n",
       "    <tr style=\"text-align: right;\">\n",
       "      <th></th>\n",
       "      <th>일자</th>\n",
       "      <th>시가</th>\n",
       "      <th>고가</th>\n",
       "      <th>저가</th>\n",
       "      <th>종가</th>\n",
       "      <th>거래량</th>\n",
       "    </tr>\n",
       "  </thead>\n",
       "  <tbody>\n",
       "    <tr>\n",
       "      <th>0</th>\n",
       "      <td>2010-01-01</td>\n",
       "      <td>74600</td>\n",
       "      <td>78500</td>\n",
       "      <td>74000</td>\n",
       "      <td>77500</td>\n",
       "      <td>73106</td>\n",
       "    </tr>\n",
       "    <tr>\n",
       "      <th>1</th>\n",
       "      <td>2010-01-02</td>\n",
       "      <td>74600</td>\n",
       "      <td>78500</td>\n",
       "      <td>74000</td>\n",
       "      <td>77500</td>\n",
       "      <td>73106</td>\n",
       "    </tr>\n",
       "    <tr>\n",
       "      <th>2</th>\n",
       "      <td>2010-01-03</td>\n",
       "      <td>74600</td>\n",
       "      <td>78500</td>\n",
       "      <td>74000</td>\n",
       "      <td>77500</td>\n",
       "      <td>73106</td>\n",
       "    </tr>\n",
       "    <tr>\n",
       "      <th>3</th>\n",
       "      <td>2010-01-04</td>\n",
       "      <td>77500</td>\n",
       "      <td>78400</td>\n",
       "      <td>76600</td>\n",
       "      <td>76700</td>\n",
       "      <td>52604</td>\n",
       "    </tr>\n",
       "    <tr>\n",
       "      <th>4</th>\n",
       "      <td>2010-01-05</td>\n",
       "      <td>76800</td>\n",
       "      <td>77400</td>\n",
       "      <td>75800</td>\n",
       "      <td>77100</td>\n",
       "      <td>57212</td>\n",
       "    </tr>\n",
       "    <tr>\n",
       "      <th>...</th>\n",
       "      <td>...</td>\n",
       "      <td>...</td>\n",
       "      <td>...</td>\n",
       "      <td>...</td>\n",
       "      <td>...</td>\n",
       "      <td>...</td>\n",
       "    </tr>\n",
       "    <tr>\n",
       "      <th>4179</th>\n",
       "      <td>2021-06-11</td>\n",
       "      <td>166600</td>\n",
       "      <td>168300</td>\n",
       "      <td>166500</td>\n",
       "      <td>168000</td>\n",
       "      <td>103046</td>\n",
       "    </tr>\n",
       "    <tr>\n",
       "      <th>4180</th>\n",
       "      <td>2021-06-12</td>\n",
       "      <td>166600</td>\n",
       "      <td>168300</td>\n",
       "      <td>166500</td>\n",
       "      <td>168000</td>\n",
       "      <td>103046</td>\n",
       "    </tr>\n",
       "    <tr>\n",
       "      <th>4181</th>\n",
       "      <td>2021-06-13</td>\n",
       "      <td>166600</td>\n",
       "      <td>168300</td>\n",
       "      <td>166500</td>\n",
       "      <td>168000</td>\n",
       "      <td>103046</td>\n",
       "    </tr>\n",
       "    <tr>\n",
       "      <th>4182</th>\n",
       "      <td>2021-06-14</td>\n",
       "      <td>166900</td>\n",
       "      <td>167000</td>\n",
       "      <td>162500</td>\n",
       "      <td>165500</td>\n",
       "      <td>138711</td>\n",
       "    </tr>\n",
       "    <tr>\n",
       "      <th>4183</th>\n",
       "      <td>2021-06-15</td>\n",
       "      <td>165900</td>\n",
       "      <td>166600</td>\n",
       "      <td>164300</td>\n",
       "      <td>165200</td>\n",
       "      <td>88353</td>\n",
       "    </tr>\n",
       "  </tbody>\n",
       "</table>\n",
       "<p>4184 rows × 6 columns</p>\n",
       "</div>"
      ],
      "text/plain": [
       "             일자      시가      고가      저가      종가     거래량\n",
       "0    2010-01-01   74600   78500   74000   77500   73106\n",
       "1    2010-01-02   74600   78500   74000   77500   73106\n",
       "2    2010-01-03   74600   78500   74000   77500   73106\n",
       "3    2010-01-04   77500   78400   76600   76700   52604\n",
       "4    2010-01-05   76800   77400   75800   77100   57212\n",
       "...         ...     ...     ...     ...     ...     ...\n",
       "4179 2021-06-11  166600  168300  166500  168000  103046\n",
       "4180 2021-06-12  166600  168300  166500  168000  103046\n",
       "4181 2021-06-13  166600  168300  166500  168000  103046\n",
       "4182 2021-06-14  166900  167000  162500  165500  138711\n",
       "4183 2021-06-15  165900  166600  164300  165200   88353\n",
       "\n",
       "[4184 rows x 6 columns]"
      ]
     },
     "execution_count": 3,
     "metadata": {},
     "output_type": "execute_result"
    }
   ],
   "source": [
    "df"
   ]
  },
  {
   "cell_type": "code",
   "execution_count": 4,
   "metadata": {},
   "outputs": [
    {
     "name": "stdout",
     "output_type": "stream",
     "text": [
      "             일자      시가      고가      저가      종가     거래량\n",
      "3653 2020-01-02  159300  159400  151000  155600  125376\n",
      "3654 2020-01-03  155800  157500  153100  154700   98855\n",
      "3655 2020-01-04  155800  157500  153100  154700   98855\n",
      "3656 2020-01-05  155800  157500  153100  154700   98855\n",
      "3657 2020-01-06  153000  153900  150200  150200   78272\n",
      "...         ...     ...     ...     ...     ...     ...\n",
      "4179 2021-06-11  166600  168300  166500  168000  103046\n",
      "4180 2021-06-12  166600  168300  166500  168000  103046\n",
      "4181 2021-06-13  166600  168300  166500  168000  103046\n",
      "4182 2021-06-14  166900  167000  162500  165500  138711\n",
      "4183 2021-06-15  165900  166600  164300  165200   88353\n",
      "\n",
      "[531 rows x 6 columns]\n"
     ]
    }
   ],
   "source": [
    "mask = (df['일자'] > '2020-01-1') & (df['일자'] <= '2021-06-15')\n",
    "df=df.loc[mask]\n",
    "df = pd.DataFrame(data=df)\n",
    "print(df)"
   ]
  },
  {
   "cell_type": "code",
   "execution_count": 5,
   "metadata": {},
   "outputs": [
    {
     "data": {
      "text/html": [
       "<div>\n",
       "<style scoped>\n",
       "    .dataframe tbody tr th:only-of-type {\n",
       "        vertical-align: middle;\n",
       "    }\n",
       "\n",
       "    .dataframe tbody tr th {\n",
       "        vertical-align: top;\n",
       "    }\n",
       "\n",
       "    .dataframe thead th {\n",
       "        text-align: right;\n",
       "    }\n",
       "</style>\n",
       "<table border=\"1\" class=\"dataframe\">\n",
       "  <thead>\n",
       "    <tr style=\"text-align: right;\">\n",
       "      <th></th>\n",
       "      <th>index</th>\n",
       "      <th>일자</th>\n",
       "      <th>시가</th>\n",
       "      <th>고가</th>\n",
       "      <th>저가</th>\n",
       "      <th>종가</th>\n",
       "      <th>거래량</th>\n",
       "    </tr>\n",
       "  </thead>\n",
       "  <tbody>\n",
       "    <tr>\n",
       "      <th>0</th>\n",
       "      <td>3653</td>\n",
       "      <td>2020-01-02</td>\n",
       "      <td>159300</td>\n",
       "      <td>159400</td>\n",
       "      <td>151000</td>\n",
       "      <td>155600</td>\n",
       "      <td>125376</td>\n",
       "    </tr>\n",
       "    <tr>\n",
       "      <th>1</th>\n",
       "      <td>3654</td>\n",
       "      <td>2020-01-03</td>\n",
       "      <td>155800</td>\n",
       "      <td>157500</td>\n",
       "      <td>153100</td>\n",
       "      <td>154700</td>\n",
       "      <td>98855</td>\n",
       "    </tr>\n",
       "    <tr>\n",
       "      <th>2</th>\n",
       "      <td>3655</td>\n",
       "      <td>2020-01-04</td>\n",
       "      <td>155800</td>\n",
       "      <td>157500</td>\n",
       "      <td>153100</td>\n",
       "      <td>154700</td>\n",
       "      <td>98855</td>\n",
       "    </tr>\n",
       "    <tr>\n",
       "      <th>3</th>\n",
       "      <td>3656</td>\n",
       "      <td>2020-01-05</td>\n",
       "      <td>155800</td>\n",
       "      <td>157500</td>\n",
       "      <td>153100</td>\n",
       "      <td>154700</td>\n",
       "      <td>98855</td>\n",
       "    </tr>\n",
       "    <tr>\n",
       "      <th>4</th>\n",
       "      <td>3657</td>\n",
       "      <td>2020-01-06</td>\n",
       "      <td>153000</td>\n",
       "      <td>153900</td>\n",
       "      <td>150200</td>\n",
       "      <td>150200</td>\n",
       "      <td>78272</td>\n",
       "    </tr>\n",
       "    <tr>\n",
       "      <th>...</th>\n",
       "      <td>...</td>\n",
       "      <td>...</td>\n",
       "      <td>...</td>\n",
       "      <td>...</td>\n",
       "      <td>...</td>\n",
       "      <td>...</td>\n",
       "      <td>...</td>\n",
       "    </tr>\n",
       "    <tr>\n",
       "      <th>526</th>\n",
       "      <td>4179</td>\n",
       "      <td>2021-06-11</td>\n",
       "      <td>166600</td>\n",
       "      <td>168300</td>\n",
       "      <td>166500</td>\n",
       "      <td>168000</td>\n",
       "      <td>103046</td>\n",
       "    </tr>\n",
       "    <tr>\n",
       "      <th>527</th>\n",
       "      <td>4180</td>\n",
       "      <td>2021-06-12</td>\n",
       "      <td>166600</td>\n",
       "      <td>168300</td>\n",
       "      <td>166500</td>\n",
       "      <td>168000</td>\n",
       "      <td>103046</td>\n",
       "    </tr>\n",
       "    <tr>\n",
       "      <th>528</th>\n",
       "      <td>4181</td>\n",
       "      <td>2021-06-13</td>\n",
       "      <td>166600</td>\n",
       "      <td>168300</td>\n",
       "      <td>166500</td>\n",
       "      <td>168000</td>\n",
       "      <td>103046</td>\n",
       "    </tr>\n",
       "    <tr>\n",
       "      <th>529</th>\n",
       "      <td>4182</td>\n",
       "      <td>2021-06-14</td>\n",
       "      <td>166900</td>\n",
       "      <td>167000</td>\n",
       "      <td>162500</td>\n",
       "      <td>165500</td>\n",
       "      <td>138711</td>\n",
       "    </tr>\n",
       "    <tr>\n",
       "      <th>530</th>\n",
       "      <td>4183</td>\n",
       "      <td>2021-06-15</td>\n",
       "      <td>165900</td>\n",
       "      <td>166600</td>\n",
       "      <td>164300</td>\n",
       "      <td>165200</td>\n",
       "      <td>88353</td>\n",
       "    </tr>\n",
       "  </tbody>\n",
       "</table>\n",
       "<p>531 rows × 7 columns</p>\n",
       "</div>"
      ],
      "text/plain": [
       "     index         일자      시가      고가      저가      종가     거래량\n",
       "0     3653 2020-01-02  159300  159400  151000  155600  125376\n",
       "1     3654 2020-01-03  155800  157500  153100  154700   98855\n",
       "2     3655 2020-01-04  155800  157500  153100  154700   98855\n",
       "3     3656 2020-01-05  155800  157500  153100  154700   98855\n",
       "4     3657 2020-01-06  153000  153900  150200  150200   78272\n",
       "..     ...        ...     ...     ...     ...     ...     ...\n",
       "526   4179 2021-06-11  166600  168300  166500  168000  103046\n",
       "527   4180 2021-06-12  166600  168300  166500  168000  103046\n",
       "528   4181 2021-06-13  166600  168300  166500  168000  103046\n",
       "529   4182 2021-06-14  166900  167000  162500  165500  138711\n",
       "530   4183 2021-06-15  165900  166600  164300  165200   88353\n",
       "\n",
       "[531 rows x 7 columns]"
      ]
     },
     "execution_count": 5,
     "metadata": {},
     "output_type": "execute_result"
    }
   ],
   "source": [
    "df.reset_index(inplace=True)\n",
    "df"
   ]
  },
  {
   "cell_type": "code",
   "execution_count": 6,
   "metadata": {},
   "outputs": [],
   "source": [
    "df.drop(\"index\", axis=1,inplace=True)"
   ]
  },
  {
   "cell_type": "code",
   "execution_count": 7,
   "metadata": {},
   "outputs": [
    {
     "data": {
      "text/html": [
       "<div>\n",
       "<style scoped>\n",
       "    .dataframe tbody tr th:only-of-type {\n",
       "        vertical-align: middle;\n",
       "    }\n",
       "\n",
       "    .dataframe tbody tr th {\n",
       "        vertical-align: top;\n",
       "    }\n",
       "\n",
       "    .dataframe thead th {\n",
       "        text-align: right;\n",
       "    }\n",
       "</style>\n",
       "<table border=\"1\" class=\"dataframe\">\n",
       "  <thead>\n",
       "    <tr style=\"text-align: right;\">\n",
       "      <th></th>\n",
       "      <th>시가</th>\n",
       "      <th>고가</th>\n",
       "      <th>저가</th>\n",
       "      <th>종가</th>\n",
       "      <th>거래량</th>\n",
       "    </tr>\n",
       "    <tr>\n",
       "      <th>일자</th>\n",
       "      <th></th>\n",
       "      <th></th>\n",
       "      <th></th>\n",
       "      <th></th>\n",
       "      <th></th>\n",
       "    </tr>\n",
       "  </thead>\n",
       "  <tbody>\n",
       "    <tr>\n",
       "      <th>2020-01-02</th>\n",
       "      <td>159300</td>\n",
       "      <td>159400</td>\n",
       "      <td>151000</td>\n",
       "      <td>155600</td>\n",
       "      <td>125376</td>\n",
       "    </tr>\n",
       "    <tr>\n",
       "      <th>2020-01-03</th>\n",
       "      <td>155800</td>\n",
       "      <td>157500</td>\n",
       "      <td>153100</td>\n",
       "      <td>154700</td>\n",
       "      <td>98855</td>\n",
       "    </tr>\n",
       "    <tr>\n",
       "      <th>2020-01-04</th>\n",
       "      <td>155800</td>\n",
       "      <td>157500</td>\n",
       "      <td>153100</td>\n",
       "      <td>154700</td>\n",
       "      <td>98855</td>\n",
       "    </tr>\n",
       "    <tr>\n",
       "      <th>2020-01-05</th>\n",
       "      <td>155800</td>\n",
       "      <td>157500</td>\n",
       "      <td>153100</td>\n",
       "      <td>154700</td>\n",
       "      <td>98855</td>\n",
       "    </tr>\n",
       "    <tr>\n",
       "      <th>2020-01-06</th>\n",
       "      <td>153000</td>\n",
       "      <td>153900</td>\n",
       "      <td>150200</td>\n",
       "      <td>150200</td>\n",
       "      <td>78272</td>\n",
       "    </tr>\n",
       "    <tr>\n",
       "      <th>...</th>\n",
       "      <td>...</td>\n",
       "      <td>...</td>\n",
       "      <td>...</td>\n",
       "      <td>...</td>\n",
       "      <td>...</td>\n",
       "    </tr>\n",
       "    <tr>\n",
       "      <th>2021-06-11</th>\n",
       "      <td>166600</td>\n",
       "      <td>168300</td>\n",
       "      <td>166500</td>\n",
       "      <td>168000</td>\n",
       "      <td>103046</td>\n",
       "    </tr>\n",
       "    <tr>\n",
       "      <th>2021-06-12</th>\n",
       "      <td>166600</td>\n",
       "      <td>168300</td>\n",
       "      <td>166500</td>\n",
       "      <td>168000</td>\n",
       "      <td>103046</td>\n",
       "    </tr>\n",
       "    <tr>\n",
       "      <th>2021-06-13</th>\n",
       "      <td>166600</td>\n",
       "      <td>168300</td>\n",
       "      <td>166500</td>\n",
       "      <td>168000</td>\n",
       "      <td>103046</td>\n",
       "    </tr>\n",
       "    <tr>\n",
       "      <th>2021-06-14</th>\n",
       "      <td>166900</td>\n",
       "      <td>167000</td>\n",
       "      <td>162500</td>\n",
       "      <td>165500</td>\n",
       "      <td>138711</td>\n",
       "    </tr>\n",
       "    <tr>\n",
       "      <th>2021-06-15</th>\n",
       "      <td>165900</td>\n",
       "      <td>166600</td>\n",
       "      <td>164300</td>\n",
       "      <td>165200</td>\n",
       "      <td>88353</td>\n",
       "    </tr>\n",
       "  </tbody>\n",
       "</table>\n",
       "<p>531 rows × 5 columns</p>\n",
       "</div>"
      ],
      "text/plain": [
       "                시가      고가      저가      종가     거래량\n",
       "일자                                                \n",
       "2020-01-02  159300  159400  151000  155600  125376\n",
       "2020-01-03  155800  157500  153100  154700   98855\n",
       "2020-01-04  155800  157500  153100  154700   98855\n",
       "2020-01-05  155800  157500  153100  154700   98855\n",
       "2020-01-06  153000  153900  150200  150200   78272\n",
       "...            ...     ...     ...     ...     ...\n",
       "2021-06-11  166600  168300  166500  168000  103046\n",
       "2021-06-12  166600  168300  166500  168000  103046\n",
       "2021-06-13  166600  168300  166500  168000  103046\n",
       "2021-06-14  166900  167000  162500  165500  138711\n",
       "2021-06-15  165900  166600  164300  165200   88353\n",
       "\n",
       "[531 rows x 5 columns]"
      ]
     },
     "execution_count": 7,
     "metadata": {},
     "output_type": "execute_result"
    }
   ],
   "source": [
    "df.set_index('일자', inplace=True)\n",
    "df"
   ]
  },
  {
   "cell_type": "code",
   "execution_count": 8,
   "metadata": {},
   "outputs": [],
   "source": [
    "df['MA20'] = df['종가'].rolling(window=20).mean()\n",
    "df['stddev'] = df['종가'].rolling(window=20).std()\n",
    "df['upper'] = df['MA20'] + (df['stddev'] * 2)\n",
    "df['lower'] = df['MA20'] - (df['stddev'] * 2)\n",
    "df['PB'] = (df['종가'] - df['lower']) / (df['upper'] - df['lower'])\n",
    "df['bandwidth'] = (df['upper'] - df['lower'])/df['MA20'] * 100\n",
    "df['TP'] = (df['고가'] + df['저가'] + df['종가']) / 3\n",
    "df['PMF'] = 0 #positive money flow\n",
    "df['NMF'] = 0 #negative money flow\n",
    "for i in range(len(df.종가)-1):\n",
    "    if df.TP.values[i] < df.TP.values[i+1]:\n",
    "        df.PMF.values[i+1] = df.TP.values[i+1] * df.거래량.values[i+1]\n",
    "        df.NMF.values[i+1]\n",
    "    else:\n",
    "        df.NMF.values[i+1] = df.TP.values[i+1] * df.거래량.values[i+1]\n",
    "        df.PMF.values[i+1] = 0\n",
    "df['MFR'] = df.PMF.rolling(window=10).sum() / df.NMF.rolling(window=10).sum()\n",
    "df['MF10'] = 100 - 100 / (1+df['MFR'])\n",
    "df = df[19:]"
   ]
  },
  {
   "cell_type": "code",
   "execution_count": 9,
   "metadata": {},
   "outputs": [],
   "source": [
    "import platform\n",
    "if platform.system() == 'Darwin': #맥\n",
    "        plt.rc('font', family='AppleGothic')\n",
    "elif platform.system() == 'Windows': #윈도우\n",
    "        plt.rc('font', family='Malgun Gothic')\n",
    "elif platform.system() == 'Linux': #리눅스 (구글 콜랩)\n",
    "        #!wget \"https://www.wfonts.com/download/data/2016/06/13/malgun-gothic/malgun.ttf\"\n",
    "        #!mv malgun.ttf /usr/share/fonts/truetype/\n",
    "        #import matplotlib.font_manager as fm\n",
    "        #fm._rebuild()\n",
    "        plt.rc('font', family='Malgun Gothic')\n",
    "plt.rcParams['axes.unicode_minus'] = False "
   ]
  },
  {
   "cell_type": "code",
   "execution_count": 10,
   "metadata": {},
   "outputs": [
    {
     "data": {
      "image/png": "[encoded data removed]",
      "text/plain": [
       "<Figure size 648x864 with 1 Axes>"
      ]
     },
     "metadata": {
      "needs_background": "light"
     },
     "output_type": "display_data"
    },
    {
     "data": {
      "image/png": "[encoded data removed]",
      "text/plain": [
       "<Figure size 648x864 with 1 Axes>"
      ]
     },
     "metadata": {
      "needs_background": "light"
     },
     "output_type": "display_data"
    },
    {
     "data": {
      "image/png": "[encoded data removed]",
      "text/plain": [
       "<Figure size 648x864 with 1 Axes>"
      ]
     },
     "metadata": {
      "needs_background": "light"
     },
     "output_type": "display_data"
    },
    {
     "data": {
      "image/png": "[encoded data removed]",
      "text/plain": [
       "<Figure size 648x864 with 1 Axes>"
      ]
     },
     "metadata": {
      "needs_background": "light"
     },
     "output_type": "display_data"
    }
   ],
   "source": [
    "#붉은색 매수, 파란색 매도\n",
    "plt.figure(figsize=(9,12))\n",
    "plt.subplot(4, 1, 1)\n",
    "plt.title('Bolliger Band(20 day, 2 std)')\n",
    "plt.plot(df.index, df['종가'], color='#0000ff', label='종가')\n",
    "plt.plot(df.index, df['upper'], 'r--', label='Upper band')\n",
    "plt.plot(df.index, df['MA20'], 'k--', label='Moving average 20')\n",
    "plt.plot(df.index, df['lower'], 'c--', label='Lower Band')\n",
    "plt.fill_between(df.index, df['upper'], df['lower'], color='0.9')\n",
    "for i in range(len(df.종가)):\n",
    "    if df.PB.values[i] > 0.8 and df.MF10.values[i] > 80:\n",
    "        plt.plot(df.index.values[i], df.종가.values[i], 'r^')\n",
    "    elif df.PB.values[i] < 0.2 and df.MF10.values[i] < 20:\n",
    "        plt.plot(df.index.values[i], df.종가.values[i], 'bv')\n",
    "plt.legend(loc='best')\n",
    "\n",
    "plt.figure(figsize=(9, 12))\n",
    "plt.subplot(4, 1, 2)\n",
    "plt.plot(df.index, df['PB'] * 100, 'b', label='%B x 100')\n",
    "plt.plot(df.index, df['MF10'], 'g--',label='MFI(10day)')\n",
    "plt.yticks([-20, 0, 20, 40, 60, 80, 100, 120])\n",
    "for i in range(len(df.종가)):\n",
    "    if df.PB.values[i] > 0.8 and df.MF10.values[i] > 80:\n",
    "        plt.plot(df.index.values[i], 0, '^r')\n",
    "    elif df.PB.values[i] < 0.2 and df.MF10.values[i] < 20:\n",
    "        plt.plot(df.index.values[i], 0, 'bv')\n",
    "plt.grid(True)\n",
    "plt.legend(loc='best')\n",
    "plt.show();\n",
    "\n",
    "plt.figure(figsize=(9,12))\n",
    "plt.subplot(4, 1, 3)\n",
    "plt.plot(df.index, df['PB'], color='b', label='%B')\n",
    "plt.grid(True)\n",
    "plt.legend(loc='best')\n",
    "plt.show()\n",
    "\n",
    "plt.figure(figsize=(9,12))\n",
    "plt.subplot(4, 1, 4)\n",
    "plt.plot(df.index, df['bandwidth'], color='m', label='BandWidth')\n",
    "plt.grid(True)\n",
    "plt.legend(loc='best')\n",
    "plt.show()"
   ]
  },
  {
   "cell_type": "markdown",
   "metadata": {},
   "source": [
    "## 일중강도"
   ]
  },
  {
   "cell_type": "code",
   "execution_count": 1,
   "metadata": {},
   "outputs": [],
   "source": [
    "import matplotlib.pyplot as plt\n",
    "import pandas as pd"
   ]
  },
  {
   "cell_type": "code",
   "execution_count": 2,
   "metadata": {},
   "outputs": [],
   "source": [
    "df = pd.read_excel('cj_enm.xlsx')"
   ]
  },
  {
   "cell_type": "code",
   "execution_count": 3,
   "metadata": {},
   "outputs": [
    {
     "name": "stdout",
     "output_type": "stream",
     "text": [
      "             일자      시가      고가      저가      종가     거래량\n",
      "3653 2020-01-02  159300  159400  151000  155600  125376\n",
      "3654 2020-01-03  155800  157500  153100  154700   98855\n",
      "3655 2020-01-04  155800  157500  153100  154700   98855\n",
      "3656 2020-01-05  155800  157500  153100  154700   98855\n",
      "3657 2020-01-06  153000  153900  150200  150200   78272\n",
      "...         ...     ...     ...     ...     ...     ...\n",
      "4179 2021-06-11  166600  168300  166500  168000  103046\n",
      "4180 2021-06-12  166600  168300  166500  168000  103046\n",
      "4181 2021-06-13  166600  168300  166500  168000  103046\n",
      "4182 2021-06-14  166900  167000  162500  165500  138711\n",
      "4183 2021-06-15  165900  166600  164300  165200   88353\n",
      "\n",
      "[531 rows x 6 columns]\n"
     ]
    }
   ],
   "source": [
    "mask = (df['일자'] > '2020-01-1') & (df['일자'] <= '2021-06-15')\n",
    "df=df.loc[mask]\n",
    "df = pd.DataFrame(data=df)\n",
    "print(df)"
   ]
  },
  {
   "cell_type": "code",
   "execution_count": 4,
   "metadata": {},
   "outputs": [
    {
     "data": {
      "text/html": [
       "<div>\n",
       "<style scoped>\n",
       "    .dataframe tbody tr th:only-of-type {\n",
       "        vertical-align: middle;\n",
       "    }\n",
       "\n",
       "    .dataframe tbody tr th {\n",
       "        vertical-align: top;\n",
       "    }\n",
       "\n",
       "    .dataframe thead th {\n",
       "        text-align: right;\n",
       "    }\n",
       "</style>\n",
       "<table border=\"1\" class=\"dataframe\">\n",
       "  <thead>\n",
       "    <tr style=\"text-align: right;\">\n",
       "      <th></th>\n",
       "      <th>시가</th>\n",
       "      <th>고가</th>\n",
       "      <th>저가</th>\n",
       "      <th>종가</th>\n",
       "      <th>거래량</th>\n",
       "    </tr>\n",
       "    <tr>\n",
       "      <th>일자</th>\n",
       "      <th></th>\n",
       "      <th></th>\n",
       "      <th></th>\n",
       "      <th></th>\n",
       "      <th></th>\n",
       "    </tr>\n",
       "  </thead>\n",
       "  <tbody>\n",
       "    <tr>\n",
       "      <th>2020-01-02</th>\n",
       "      <td>159300</td>\n",
       "      <td>159400</td>\n",
       "      <td>151000</td>\n",
       "      <td>155600</td>\n",
       "      <td>125376</td>\n",
       "    </tr>\n",
       "    <tr>\n",
       "      <th>2020-01-03</th>\n",
       "      <td>155800</td>\n",
       "      <td>157500</td>\n",
       "      <td>153100</td>\n",
       "      <td>154700</td>\n",
       "      <td>98855</td>\n",
       "    </tr>\n",
       "    <tr>\n",
       "      <th>2020-01-04</th>\n",
       "      <td>155800</td>\n",
       "      <td>157500</td>\n",
       "      <td>153100</td>\n",
       "      <td>154700</td>\n",
       "      <td>98855</td>\n",
       "    </tr>\n",
       "    <tr>\n",
       "      <th>2020-01-05</th>\n",
       "      <td>155800</td>\n",
       "      <td>157500</td>\n",
       "      <td>153100</td>\n",
       "      <td>154700</td>\n",
       "      <td>98855</td>\n",
       "    </tr>\n",
       "    <tr>\n",
       "      <th>2020-01-06</th>\n",
       "      <td>153000</td>\n",
       "      <td>153900</td>\n",
       "      <td>150200</td>\n",
       "      <td>150200</td>\n",
       "      <td>78272</td>\n",
       "    </tr>\n",
       "    <tr>\n",
       "      <th>...</th>\n",
       "      <td>...</td>\n",
       "      <td>...</td>\n",
       "      <td>...</td>\n",
       "      <td>...</td>\n",
       "      <td>...</td>\n",
       "    </tr>\n",
       "    <tr>\n",
       "      <th>2021-06-11</th>\n",
       "      <td>166600</td>\n",
       "      <td>168300</td>\n",
       "      <td>166500</td>\n",
       "      <td>168000</td>\n",
       "      <td>103046</td>\n",
       "    </tr>\n",
       "    <tr>\n",
       "      <th>2021-06-12</th>\n",
       "      <td>166600</td>\n",
       "      <td>168300</td>\n",
       "      <td>166500</td>\n",
       "      <td>168000</td>\n",
       "      <td>103046</td>\n",
       "    </tr>\n",
       "    <tr>\n",
       "      <th>2021-06-13</th>\n",
       "      <td>166600</td>\n",
       "      <td>168300</td>\n",
       "      <td>166500</td>\n",
       "      <td>168000</td>\n",
       "      <td>103046</td>\n",
       "    </tr>\n",
       "    <tr>\n",
       "      <th>2021-06-14</th>\n",
       "      <td>166900</td>\n",
       "      <td>167000</td>\n",
       "      <td>162500</td>\n",
       "      <td>165500</td>\n",
       "      <td>138711</td>\n",
       "    </tr>\n",
       "    <tr>\n",
       "      <th>2021-06-15</th>\n",
       "      <td>165900</td>\n",
       "      <td>166600</td>\n",
       "      <td>164300</td>\n",
       "      <td>165200</td>\n",
       "      <td>88353</td>\n",
       "    </tr>\n",
       "  </tbody>\n",
       "</table>\n",
       "<p>531 rows × 5 columns</p>\n",
       "</div>"
      ],
      "text/plain": [
       "                시가      고가      저가      종가     거래량\n",
       "일자                                                \n",
       "2020-01-02  159300  159400  151000  155600  125376\n",
       "2020-01-03  155800  157500  153100  154700   98855\n",
       "2020-01-04  155800  157500  153100  154700   98855\n",
       "2020-01-05  155800  157500  153100  154700   98855\n",
       "2020-01-06  153000  153900  150200  150200   78272\n",
       "...            ...     ...     ...     ...     ...\n",
       "2021-06-11  166600  168300  166500  168000  103046\n",
       "2021-06-12  166600  168300  166500  168000  103046\n",
       "2021-06-13  166600  168300  166500  168000  103046\n",
       "2021-06-14  166900  167000  162500  165500  138711\n",
       "2021-06-15  165900  166600  164300  165200   88353\n",
       "\n",
       "[531 rows x 5 columns]"
      ]
     },
     "execution_count": 4,
     "metadata": {},
     "output_type": "execute_result"
    }
   ],
   "source": [
    "df.reset_index(inplace=True)\n",
    "df.drop(\"index\", axis=1,inplace=True)\n",
    "df.set_index('일자', inplace=True)\n",
    "df"
   ]
  },
  {
   "cell_type": "code",
   "execution_count": 5,
   "metadata": {},
   "outputs": [],
   "source": [
    "df['MA20'] = df['종가'].rolling(window=20).mean()\n",
    "df['stddev'] = df['종가'].rolling(window=20).std()\n",
    "df['upper'] = df['MA20'] + (df['stddev'] * 2)\n",
    "df['lower'] = df['MA20'] - (df['stddev'] * 2)\n",
    "df['PB'] = (df['종가'] - df['lower']) / (df['upper'] - df['lower'])\n",
    "df['II'] = (2*df['종가'] - df['고가'] - df['저가'])/(df['고가'] - df['저가']) * df['거래량']\n",
    "df['IIP21'] = df['II'].rolling(window=21).sum()/df['거래량'].rolling(window=21).sum()*100\n",
    "df = df.dropna()"
   ]
  },
  {
   "cell_type": "code",
   "execution_count": 9,
   "metadata": {},
   "outputs": [
    {
     "data": {
      "image/png": "[encoded data removed]",
      "text/plain": [
       "<Figure size 648x864 with 1 Axes>"
      ]
     },
     "metadata": {
      "needs_background": "light"
     },
     "output_type": "display_data"
    },
    {
     "data": {
      "image/png": "[encoded data removed]",
      "text/plain": [
       "<Figure size 648x864 with 1 Axes>"
      ]
     },
     "metadata": {
      "needs_background": "light"
     },
     "output_type": "display_data"
    },
    {
     "data": {
      "image/png": "[encoded data removed]",
      "text/plain": [
       "<Figure size 648x864 with 1 Axes>"
      ]
     },
     "metadata": {
      "needs_background": "light"
     },
     "output_type": "display_data"
    }
   ],
   "source": [
    "plt.figure(figsize=(9,12))\n",
    "plt.subplot(3, 1, 1)\n",
    "plt.title('Bollinger Band(20 day, 2 std) - Reversals')\n",
    "plt.plot(df.index, df['종가'], 'b', label = 'Close')\n",
    "plt.plot(df.index, df['upper'], 'r--', label = 'Upper band')\n",
    "plt.plot(df.index, df['MA20'], 'k--', label = 'Moving average 20')\n",
    "plt.plot(df.index, df['lower'], 'c--', label = 'Lower band')\n",
    "plt.fill_between(df.index, df['upper'], df['lower'], color='0.9')\n",
    "for i in range(0, len(df.종가)):\n",
    "    if df.PB.values[i] < 0.05 and df.IIP21.values[i]>0:\n",
    "        plt.plot(df.index.values[i], df.종가.values[i], '^r')\n",
    "    elif df.PB.values[i] > 0.95 and df.IIP21.values[i]<0:\n",
    "        plt.plot(df.index.values[i], df.종가.values[i], 'bv')\n",
    "plt.legend(loc='best')\n",
    "\n",
    "plt.figure(figsize=(9,12))\n",
    "plt.subplot(3, 1, 2)\n",
    "plt.plot(df.index, df['PB'], 'b', label='%b')\n",
    "plt.grid(True)\n",
    "plt.legend(loc='best')\n",
    "\n",
    "plt.figure(figsize=(9,12))\n",
    "plt.subplot(3, 1, 3)\n",
    "plt.bar(df.index, df['IIP21'], color='g', label='II% 21day')\n",
    "for i in range(0, len(df.종가)):\n",
    "    if df.PB.values[i] < 0.05 and df.IIP21.values[i] > 0:\n",
    "        plt.plot(df.index.values[i], 0, '^r')\n",
    "    elif df.PB.values[i] > 0.95 and df.IIP21.values[i] < 0:\n",
    "        plt.plot(df.index.values[i],0, 'bv')\n",
    "plt.grid(True)\n",
    "plt.legend(loc='best')\n",
    "plt.show()"
   ]
  },
  {
   "cell_type": "code",
   "execution_count": null,
   "metadata": {},
   "outputs": [],
   "source": []
  }
 ],
 "metadata": {
  "kernelspec": {
   "display_name": "Python 3",
   "language": "python",
   "name": "python3"
  },
  "language_info": {
   "codemirror_mode": {
    "name": "ipython",
    "version": 3
   },
   "file_extension": ".py",
   "mimetype": "text/x-python",
   "name": "python",
   "nbconvert_exporter": "python",
   "pygments_lexer": "ipython3",
   "version": "3.8.8"
  }
 },
 "nbformat": 4,
 "nbformat_minor": 4
}
