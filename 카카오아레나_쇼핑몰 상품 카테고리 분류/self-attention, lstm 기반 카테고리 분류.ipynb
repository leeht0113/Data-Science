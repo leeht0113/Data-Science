{
 "cells": [
  {
   "cell_type": "code",
   "execution_count": 1,
   "id": "3c53be1b",
   "metadata": {},
   "outputs": [],
   "source": [
    "import pandas as pd\n",
    "import numpy as np\n",
    "import matplotlib.pyplot as plt"
   ]
  },
  {
   "cell_type": "code",
   "execution_count": 2,
   "id": "03bcb1f6",
   "metadata": {},
   "outputs": [
    {
     "data": {
      "text/html": [
       "<div>\n",
       "<style scoped>\n",
       "    .dataframe tbody tr th:only-of-type {\n",
       "        vertical-align: middle;\n",
       "    }\n",
       "\n",
       "    .dataframe tbody tr th {\n",
       "        vertical-align: top;\n",
       "    }\n",
       "\n",
       "    .dataframe thead th {\n",
       "        text-align: right;\n",
       "    }\n",
       "</style>\n",
       "<table border=\"1\" class=\"dataframe\">\n",
       "  <thead>\n",
       "    <tr style=\"text-align: right;\">\n",
       "      <th></th>\n",
       "      <th>pid</th>\n",
       "      <th>product</th>\n",
       "      <th>bcateid</th>\n",
       "      <th>mcateid</th>\n",
       "      <th>scateid</th>\n",
       "      <th>dcateid</th>\n",
       "    </tr>\n",
       "  </thead>\n",
       "  <tbody>\n",
       "    <tr>\n",
       "      <th>0</th>\n",
       "      <td>O4486751463</td>\n",
       "      <td>직소퍼즐 1000조각 바다거북의 여행 pl1275</td>\n",
       "      <td>1</td>\n",
       "      <td>1</td>\n",
       "      <td>2</td>\n",
       "      <td>-1</td>\n",
       "    </tr>\n",
       "    <tr>\n",
       "      <th>1</th>\n",
       "      <td>P3307178849</td>\n",
       "      <td>모리케이스 아이폰6s 6s tree farm101 다이어리케이스 바보사랑 무료배송</td>\n",
       "      <td>3</td>\n",
       "      <td>3</td>\n",
       "      <td>4</td>\n",
       "      <td>-1</td>\n",
       "    </tr>\n",
       "    <tr>\n",
       "      <th>2</th>\n",
       "      <td>R4424255515</td>\n",
       "      <td>크리비아 기모 3부 속바지 glg4314p</td>\n",
       "      <td>5</td>\n",
       "      <td>5</td>\n",
       "      <td>6</td>\n",
       "      <td>-1</td>\n",
       "    </tr>\n",
       "    <tr>\n",
       "      <th>3</th>\n",
       "      <td>F3334315393</td>\n",
       "      <td>하프클럽 잭앤질 남성 솔리드 절개라인 포인트 포켓 팬츠 31133pt002 na</td>\n",
       "      <td>7</td>\n",
       "      <td>7</td>\n",
       "      <td>8</td>\n",
       "      <td>-1</td>\n",
       "    </tr>\n",
       "    <tr>\n",
       "      <th>4</th>\n",
       "      <td>N731678492</td>\n",
       "      <td>코드프리혈당시험지50매 코드프리시험지 최장유효기간</td>\n",
       "      <td>10</td>\n",
       "      <td>9</td>\n",
       "      <td>11</td>\n",
       "      <td>-1</td>\n",
       "    </tr>\n",
       "    <tr>\n",
       "      <th>...</th>\n",
       "      <td>...</td>\n",
       "      <td>...</td>\n",
       "      <td>...</td>\n",
       "      <td>...</td>\n",
       "      <td>...</td>\n",
       "      <td>...</td>\n",
       "    </tr>\n",
       "    <tr>\n",
       "      <th>999995</th>\n",
       "      <td>Q4697414634</td>\n",
       "      <td>카렉스 노블맨 웰빙목주시트</td>\n",
       "      <td>34</td>\n",
       "      <td>136</td>\n",
       "      <td>199</td>\n",
       "      <td>-1</td>\n",
       "    </tr>\n",
       "    <tr>\n",
       "      <th>999996</th>\n",
       "      <td>N4402110844</td>\n",
       "      <td>아이숲 챠밍래빗 쟈가드 편면내의</td>\n",
       "      <td>5</td>\n",
       "      <td>64</td>\n",
       "      <td>80</td>\n",
       "      <td>-1</td>\n",
       "    </tr>\n",
       "    <tr>\n",
       "      <th>999997</th>\n",
       "      <td>Q4029646876</td>\n",
       "      <td>앞포켓크로스백t 131 숄더백 패션크로스백 크로스가방</td>\n",
       "      <td>14</td>\n",
       "      <td>141</td>\n",
       "      <td>726</td>\n",
       "      <td>-1</td>\n",
       "    </tr>\n",
       "    <tr>\n",
       "      <th>999998</th>\n",
       "      <td>O1952838815</td>\n",
       "      <td>정식판매처 qnap ts 121 하드미포함 당일배송</td>\n",
       "      <td>24</td>\n",
       "      <td>255</td>\n",
       "      <td>1127</td>\n",
       "      <td>-1</td>\n",
       "    </tr>\n",
       "    <tr>\n",
       "      <th>999999</th>\n",
       "      <td>G2303841227</td>\n",
       "      <td>공식 쿠첸 자외선 젖병 식기살균건조기5인용 csd e051</td>\n",
       "      <td>42</td>\n",
       "      <td>413</td>\n",
       "      <td>1391</td>\n",
       "      <td>-1</td>\n",
       "    </tr>\n",
       "  </tbody>\n",
       "</table>\n",
       "<p>1000000 rows × 6 columns</p>\n",
       "</div>"
      ],
      "text/plain": [
       "                pid                                        product  bcateid  \\\n",
       "0       O4486751463                    직소퍼즐 1000조각 바다거북의 여행 pl1275        1   \n",
       "1       P3307178849  모리케이스 아이폰6s 6s tree farm101 다이어리케이스 바보사랑 무료배송        3   \n",
       "2       R4424255515                        크리비아 기모 3부 속바지 glg4314p        5   \n",
       "3       F3334315393   하프클럽 잭앤질 남성 솔리드 절개라인 포인트 포켓 팬츠 31133pt002 na        7   \n",
       "4        N731678492                    코드프리혈당시험지50매 코드프리시험지 최장유효기간       10   \n",
       "...             ...                                            ...      ...   \n",
       "999995  Q4697414634                                 카렉스 노블맨 웰빙목주시트       34   \n",
       "999996  N4402110844                              아이숲 챠밍래빗 쟈가드 편면내의        5   \n",
       "999997  Q4029646876                  앞포켓크로스백t 131 숄더백 패션크로스백 크로스가방       14   \n",
       "999998  O1952838815                   정식판매처 qnap ts 121 하드미포함 당일배송       24   \n",
       "999999  G2303841227               공식 쿠첸 자외선 젖병 식기살균건조기5인용 csd e051       42   \n",
       "\n",
       "        mcateid  scateid  dcateid  \n",
       "0             1        2       -1  \n",
       "1             3        4       -1  \n",
       "2             5        6       -1  \n",
       "3             7        8       -1  \n",
       "4             9       11       -1  \n",
       "...         ...      ...      ...  \n",
       "999995      136      199       -1  \n",
       "999996       64       80       -1  \n",
       "999997      141      726       -1  \n",
       "999998      255     1127       -1  \n",
       "999999      413     1391       -1  \n",
       "\n",
       "[1000000 rows x 6 columns]"
      ]
     },
     "execution_count": 2,
     "metadata": {},
     "output_type": "execute_result"
    }
   ],
   "source": [
    "train_df = pd.read_csv('데이터.csv')\n",
    "train_df"
   ]
  },
  {
   "cell_type": "code",
   "execution_count": 3,
   "id": "e73bce57",
   "metadata": {},
   "outputs": [
    {
     "data": {
      "text/plain": [
       "52"
      ]
     },
     "execution_count": 3,
     "metadata": {},
     "output_type": "execute_result"
    }
   ],
   "source": [
    "train_df['bcateid'].nunique()"
   ]
  },
  {
   "cell_type": "markdown",
   "id": "9c742742",
   "metadata": {},
   "source": [
    "# SentencePiece로 토큰나이징 진행\n",
    "* 상품명으로 학습되는 분절기 사용 \n",
    "* input : 학습시킬 파일\n",
    "* model_prefix : 만들어질 모델 이름\n",
    "* vocab_size : 단어 집합의 크기\n",
    "* model_type : 사용할 모델 (unigram(default), bpe, char, word)\n",
    "* max_sentence_length: 문장의 최대 길이"
   ]
  },
  {
   "cell_type": "code",
   "execution_count": 4,
   "id": "a494f803",
   "metadata": {},
   "outputs": [],
   "source": [
    "import sentencepiece as spm"
   ]
  },
  {
   "cell_type": "code",
   "execution_count": 5,
   "id": "5092fd89",
   "metadata": {},
   "outputs": [],
   "source": [
    "# product 칼럼의 상품명을 product.txt 파일명으로 저장한다.\n",
    "with open('product.txt', 'w', encoding='utf-8') as f:\n",
    "    f.write(train_df['product'].str.cat(sep='\\n'))"
   ]
  },
  {
   "cell_type": "code",
   "execution_count": 6,
   "id": "f0976f7b",
   "metadata": {},
   "outputs": [],
   "source": [
    "# 보통 학습을 진행하기 위해서 vocab_size 25,000 ~ 35,000 정도로 함\n",
    "# 문장 최대 길이는 분석한 결과 109개 단어임\n",
    "spm.SentencePieceTrainer.Train('--input=product.txt --model_type=bpe --model_prefix=product --vocab_size=35000 \\\n",
    "                               --max_sentence_length=109 --shuffle_input_sentence=true')"
   ]
  },
  {
   "cell_type": "code",
   "execution_count": 7,
   "id": "858bcb07",
   "metadata": {},
   "outputs": [
    {
     "data": {
      "text/html": [
       "<div>\n",
       "<style scoped>\n",
       "    .dataframe tbody tr th:only-of-type {\n",
       "        vertical-align: middle;\n",
       "    }\n",
       "\n",
       "    .dataframe tbody tr th {\n",
       "        vertical-align: top;\n",
       "    }\n",
       "\n",
       "    .dataframe thead th {\n",
       "        text-align: right;\n",
       "    }\n",
       "</style>\n",
       "<table border=\"1\" class=\"dataframe\">\n",
       "  <thead>\n",
       "    <tr style=\"text-align: right;\">\n",
       "      <th></th>\n",
       "      <th>product</th>\n",
       "      <th>tokens</th>\n",
       "    </tr>\n",
       "  </thead>\n",
       "  <tbody>\n",
       "    <tr>\n",
       "      <th>0</th>\n",
       "      <td>직소퍼즐 1000조각 바다거북의 여행 pl1275</td>\n",
       "      <td>▁직소퍼즐 ▁1000 조각 ▁바다거북 의 ▁여행 ▁pl 1275</td>\n",
       "    </tr>\n",
       "    <tr>\n",
       "      <th>1</th>\n",
       "      <td>모리케이스 아이폰6s 6s tree farm101 다이어리케이스 바보사랑 무료배송</td>\n",
       "      <td>▁모리케이스 ▁아이폰 6 s ▁6 s ▁tree ▁farm 101 ▁다이어리케이스 ...</td>\n",
       "    </tr>\n",
       "    <tr>\n",
       "      <th>2</th>\n",
       "      <td>크리비아 기모 3부 속바지 glg4314p</td>\n",
       "      <td>▁크리비아 ▁기모 ▁3 부 ▁속바지 ▁gl g 43 14 p</td>\n",
       "    </tr>\n",
       "    <tr>\n",
       "      <th>3</th>\n",
       "      <td>하프클럽 잭앤질 남성 솔리드 절개라인 포인트 포켓 팬츠 31133pt002 na</td>\n",
       "      <td>▁하프클럽 ▁잭앤질 ▁남성 ▁솔리드 ▁절개라인 ▁포인트 ▁포켓 ▁팬츠 ▁311 33...</td>\n",
       "    </tr>\n",
       "    <tr>\n",
       "      <th>4</th>\n",
       "      <td>코드프리혈당시험지50매 코드프리시험지 최장유효기간</td>\n",
       "      <td>▁코드 프리 혈 당 시험지 50 매 ▁코드 프리 시험지 ▁최 장 유 효 기간</td>\n",
       "    </tr>\n",
       "  </tbody>\n",
       "</table>\n",
       "</div>"
      ],
      "text/plain": [
       "                                         product  \\\n",
       "0                    직소퍼즐 1000조각 바다거북의 여행 pl1275   \n",
       "1  모리케이스 아이폰6s 6s tree farm101 다이어리케이스 바보사랑 무료배송   \n",
       "2                        크리비아 기모 3부 속바지 glg4314p   \n",
       "3   하프클럽 잭앤질 남성 솔리드 절개라인 포인트 포켓 팬츠 31133pt002 na   \n",
       "4                    코드프리혈당시험지50매 코드프리시험지 최장유효기간   \n",
       "\n",
       "                                              tokens  \n",
       "0                ▁직소퍼즐 ▁1000 조각 ▁바다거북 의 ▁여행 ▁pl 1275  \n",
       "1  ▁모리케이스 ▁아이폰 6 s ▁6 s ▁tree ▁farm 101 ▁다이어리케이스 ...  \n",
       "2                  ▁크리비아 ▁기모 ▁3 부 ▁속바지 ▁gl g 43 14 p  \n",
       "3  ▁하프클럽 ▁잭앤질 ▁남성 ▁솔리드 ▁절개라인 ▁포인트 ▁포켓 ▁팬츠 ▁311 33...  \n",
       "4         ▁코드 프리 혈 당 시험지 50 매 ▁코드 프리 시험지 ▁최 장 유 효 기간  "
      ]
     },
     "execution_count": 7,
     "metadata": {},
     "output_type": "execute_result"
    }
   ],
   "source": [
    "# 센텐스피스 모델을 로드한다.\n",
    "sp = spm.SentencePieceProcessor()\n",
    "sp.Load('product.model')\n",
    "\n",
    "# product 칼럼의 상품명을 분절한 결과를 tokenized_product 칼럼에 저장한다.\n",
    "train_df['tokens'] = train_df['product'].map(lambda x: \" \".join(sp.EncodeAsPieces(x)) )\n",
    "\n",
    "train_df[['product', 'tokens']].head()"
   ]
  },
  {
   "cell_type": "code",
   "execution_count": 8,
   "id": "49ee2a37",
   "metadata": {},
   "outputs": [
    {
     "data": {
      "text/html": [
       "<div>\n",
       "<style scoped>\n",
       "    .dataframe tbody tr th:only-of-type {\n",
       "        vertical-align: middle;\n",
       "    }\n",
       "\n",
       "    .dataframe tbody tr th {\n",
       "        vertical-align: top;\n",
       "    }\n",
       "\n",
       "    .dataframe thead th {\n",
       "        text-align: right;\n",
       "    }\n",
       "</style>\n",
       "<table border=\"1\" class=\"dataframe\">\n",
       "  <thead>\n",
       "    <tr style=\"text-align: right;\">\n",
       "      <th></th>\n",
       "      <th>0</th>\n",
       "      <th>1</th>\n",
       "    </tr>\n",
       "  </thead>\n",
       "  <tbody>\n",
       "    <tr>\n",
       "      <th>0</th>\n",
       "      <td>&lt;unk&gt;</td>\n",
       "      <td>0</td>\n",
       "    </tr>\n",
       "    <tr>\n",
       "      <th>1</th>\n",
       "      <td>&lt;s&gt;</td>\n",
       "      <td>0</td>\n",
       "    </tr>\n",
       "    <tr>\n",
       "      <th>2</th>\n",
       "      <td>&lt;/s&gt;</td>\n",
       "      <td>0</td>\n",
       "    </tr>\n",
       "    <tr>\n",
       "      <th>3</th>\n",
       "      <td>▁1</td>\n",
       "      <td>0</td>\n",
       "    </tr>\n",
       "    <tr>\n",
       "      <th>4</th>\n",
       "      <td>00</td>\n",
       "      <td>-1</td>\n",
       "    </tr>\n",
       "    <tr>\n",
       "      <th>5</th>\n",
       "      <td>▁스</td>\n",
       "      <td>-2</td>\n",
       "    </tr>\n",
       "    <tr>\n",
       "      <th>6</th>\n",
       "      <td>▁s</td>\n",
       "      <td>-3</td>\n",
       "    </tr>\n",
       "    <tr>\n",
       "      <th>7</th>\n",
       "      <td>▁아</td>\n",
       "      <td>-4</td>\n",
       "    </tr>\n",
       "    <tr>\n",
       "      <th>8</th>\n",
       "      <td>▁2</td>\n",
       "      <td>-5</td>\n",
       "    </tr>\n",
       "    <tr>\n",
       "      <th>9</th>\n",
       "      <td>▁a</td>\n",
       "      <td>-6</td>\n",
       "    </tr>\n",
       "  </tbody>\n",
       "</table>\n",
       "</div>"
      ],
      "text/plain": [
       "       0  1\n",
       "0  <unk>  0\n",
       "1    <s>  0\n",
       "2   </s>  0\n",
       "3     ▁1  0\n",
       "4     00 -1\n",
       "5     ▁스 -2\n",
       "6     ▁s -3\n",
       "7     ▁아 -4\n",
       "8     ▁2 -5\n",
       "9     ▁a -6"
      ]
     },
     "execution_count": 8,
     "metadata": {},
     "output_type": "execute_result"
    }
   ],
   "source": [
    "import csv\n",
    "vocab_list = pd.read_csv('product.vocab', sep='\\t', header=None, quoting=csv.QUOTE_NONE)\n",
    "vocab_list[:10]"
   ]
  },
  {
   "cell_type": "code",
   "execution_count": 9,
   "id": "90c25c36",
   "metadata": {},
   "outputs": [
    {
     "data": {
      "text/plain": [
       "35000"
      ]
     },
     "execution_count": 9,
     "metadata": {},
     "output_type": "execute_result"
    }
   ],
   "source": [
    "len(vocab_list)"
   ]
  },
  {
   "cell_type": "code",
   "execution_count": 10,
   "id": "368253dc",
   "metadata": {},
   "outputs": [
    {
     "data": {
      "text/plain": [
       "True"
      ]
     },
     "execution_count": 10,
     "metadata": {},
     "output_type": "execute_result"
    }
   ],
   "source": [
    "sp = spm.SentencePieceProcessor()\n",
    "vocab_file = \"product.model\"\n",
    "sp.load(vocab_file)"
   ]
  },
  {
   "cell_type": "code",
   "execution_count": 11,
   "id": "b75274f8",
   "metadata": {},
   "outputs": [
    {
     "name": "stdout",
     "output_type": "stream",
     "text": [
      "직소퍼즐 1000조각 바다거북의 여행 pl1275\n",
      "['▁직소퍼즐', '▁1000', '조각', '▁바다거북', '의', '▁여행', '▁pl', '1275']\n",
      "[1643, 827, 1600, 30502, 34027, 1660, 495, 24537]\n",
      "\n",
      "모리케이스 아이폰6s 6s tree farm101 다이어리케이스 바보사랑 무료배송\n",
      "['▁모리케이스', '▁아이폰', '6', 's', '▁6', 's', '▁tree', '▁farm', '101', '▁다이어리케이스', '▁바보사랑', '▁무료배송']\n",
      "[1806, 335, 33882, 33871, 26, 33871, 12876, 27511, 665, 1378, 146, 224]\n",
      "\n"
     ]
    }
   ],
   "source": [
    "lines = [\n",
    "  \"직소퍼즐 1000조각 바다거북의 여행 pl1275\",\n",
    "  \"모리케이스 아이폰6s 6s tree farm101 다이어리케이스 바보사랑 무료배송\",\n",
    "]\n",
    "for line in lines:\n",
    "    print(line)\n",
    "    print(sp.encode_as_pieces(line))\n",
    "    print(sp.encode_as_ids(line))\n",
    "    print()"
   ]
  },
  {
   "cell_type": "code",
   "execution_count": 12,
   "id": "b28644d7",
   "metadata": {},
   "outputs": [
    {
     "name": "stderr",
     "output_type": "stream",
     "text": [
      "C:\\Users\\Public\\Documents\\ESTsoft\\CreatorTemp/ipykernel_20232/3284010201.py:6: VisibleDeprecationWarning: Creating an ndarray from ragged nested sequences (which is a list-or-tuple of lists-or-tuples-or ndarrays with different lengths or shapes) is deprecated. If you meant to do this, you must specify 'dtype=object' when creating the ndarray.\n",
      "  product_name = np.array(product_name)\n"
     ]
    },
    {
     "data": {
      "text/plain": [
       "array([list([1643, 827, 1600, 30502, 34027, 1660, 495, 24537]),\n",
       "       list([1806, 335, 33882, 33871, 26, 33871, 12876, 27511, 665, 1378, 146, 224]),\n",
       "       list([5170, 559, 12, 34009, 11048, 2018, 33895, 1396, 81, 33887]),\n",
       "       ..., list([21390, 1277, 33885, 10140, 649, 24705, 14521]),\n",
       "       list([7934, 1787, 34312, 23644, 521, 1855, 10051, 30593, 6656]),\n",
       "       list([1278, 8693, 6115, 6217, 4082, 5897, 5957, 33874, 840, 2363, 33894, 49, 3063])],\n",
       "      dtype=object)"
      ]
     },
     "execution_count": 12,
     "metadata": {},
     "output_type": "execute_result"
    }
   ],
   "source": [
    "product_name = []\n",
    "\n",
    "for i in train_df['product']:\n",
    "    product_name.append(sp.encode_as_ids(i))\n",
    "\n",
    "product_name = np.array(product_name)\n",
    "product_name"
   ]
  },
  {
   "cell_type": "markdown",
   "id": "b851889c",
   "metadata": {},
   "source": [
    "# 전처리 진행"
   ]
  },
  {
   "cell_type": "code",
   "execution_count": 13,
   "id": "8cdd73cc",
   "metadata": {},
   "outputs": [],
   "source": [
    "from sklearn.model_selection import train_test_split\n",
    "import tensorflow as tf"
   ]
  },
  {
   "cell_type": "code",
   "execution_count": 14,
   "id": "744e6bea",
   "metadata": {},
   "outputs": [],
   "source": [
    "data = product_name\n",
    "target = train_df['bcateid']\n",
    "\n",
    "X_train, X_test, y_train, y_test = train_test_split(data, target, test_size=0.2, shuffle=True, stratify=target)"
   ]
  },
  {
   "cell_type": "code",
   "execution_count": 15,
   "id": "785f54f0",
   "metadata": {},
   "outputs": [],
   "source": [
    "max_len = 109\n",
    "\n",
    "X_train = tf.keras.preprocessing.sequence.pad_sequences(X_train, maxlen=max_len)\n",
    "X_test = tf.keras.preprocessing.sequence.pad_sequences(X_test, maxlen=max_len)"
   ]
  },
  {
   "cell_type": "code",
   "execution_count": 16,
   "id": "205ac745",
   "metadata": {},
   "outputs": [
    {
     "data": {
      "text/plain": [
       "array([[    0,     0,     0, ...,   362,   237,  8816],\n",
       "       [    0,     0,     0, ...,    48, 33871, 11122],\n",
       "       [    0,     0,     0, ..., 15561,   773, 33895],\n",
       "       ...,\n",
       "       [    0,     0,     0, ...,  4280,     8, 33887],\n",
       "       [    0,     0,     0, ...,  9813,  1461,  6840],\n",
       "       [    0,     0,     0, ..., 33926, 33980,  2605]])"
      ]
     },
     "execution_count": 16,
     "metadata": {},
     "output_type": "execute_result"
    }
   ],
   "source": [
    "X_train"
   ]
  },
  {
   "cell_type": "markdown",
   "id": "85e397f5",
   "metadata": {},
   "source": [
    "# 멀티 헤드 어텐션"
   ]
  },
  {
   "cell_type": "code",
   "execution_count": 17,
   "id": "5dd4872f",
   "metadata": {},
   "outputs": [],
   "source": [
    "class MultiHeadAttention(tf.keras.layers.Layer):\n",
    "    def __init__(self, embedding_dim, num_heads=8):\n",
    "        super(MultiHeadAttention, self).__init__()\n",
    "        self.embedding_dim = embedding_dim # d_model\n",
    "        self.num_heads = num_heads\n",
    "\n",
    "        assert embedding_dim % self.num_heads == 0\n",
    "\n",
    "        self.projection_dim = embedding_dim // num_heads\n",
    "        self.query_dense = tf.keras.layers.Dense(embedding_dim)\n",
    "        self.key_dense = tf.keras.layers.Dense(embedding_dim)\n",
    "        self.value_dense = tf.keras.layers.Dense(embedding_dim)\n",
    "        self.dense = tf.keras.layers.Dense(embedding_dim)\n",
    "        \n",
    "    def get_config(self):\n",
    "        config = super().get_config().copy()\n",
    "        config.update({\n",
    "            'embedding_dim': 'self.embedding_dim',\n",
    "            'num_heads': 'self.num_heads',\n",
    "            'projection_dim': 'self.projection_dim',\n",
    "            'query_dense': 'self.query_dense',\n",
    "            'key_dense': 'self.key_dense',\n",
    "            'value_dense': 'self.value_dense',\n",
    "            'dense': 'self.dense'\n",
    "        })\n",
    "        return config\n",
    "\n",
    "    def scaled_dot_product_attention(self, query, key, value):\n",
    "        matmul_qk = tf.matmul(query, key, transpose_b=True)\n",
    "        depth = tf.cast(tf.shape(key)[-1], tf.float32)\n",
    "        logits = matmul_qk / tf.math.sqrt(depth)\n",
    "        attention_weights = tf.nn.softmax(logits, axis=-1)\n",
    "        output = tf.matmul(attention_weights, value)\n",
    "        return output, attention_weights\n",
    "\n",
    "    def split_heads(self, x, batch_size):\n",
    "        x = tf.reshape(x, (batch_size, -1, self.num_heads, self.projection_dim))\n",
    "        return tf.transpose(x, perm=[0, 2, 1, 3])\n",
    "\n",
    "    def call(self, inputs):\n",
    "        # x.shape = [batch_size, seq_len, embedding_dim]\n",
    "        batch_size = tf.shape(inputs)[0]\n",
    "\n",
    "        # (batch_size, seq_len, embedding_dim)\n",
    "        query = self.query_dense(inputs)\n",
    "        key = self.key_dense(inputs)\n",
    "        value = self.value_dense(inputs)\n",
    "\n",
    "        # (batch_size, num_heads, seq_len, projection_dim)\n",
    "        query = self.split_heads(query, batch_size)  \n",
    "        key = self.split_heads(key, batch_size)\n",
    "        value = self.split_heads(value, batch_size)\n",
    "\n",
    "        scaled_attention, _ = self.scaled_dot_product_attention(query, key, value)\n",
    "        # (batch_size, seq_len, num_heads, projection_dim)\n",
    "        scaled_attention = tf.transpose(scaled_attention, perm=[0, 2, 1, 3])  \n",
    "\n",
    "        # (batch_size, seq_len, embedding_dim)\n",
    "        concat_attention = tf.reshape(scaled_attention, (batch_size, -1, self.embedding_dim))\n",
    "        outputs = self.dense(concat_attention)\n",
    "        return outputs"
   ]
  },
  {
   "cell_type": "markdown",
   "id": "d06baaad",
   "metadata": {},
   "source": [
    "# 인코더 설계"
   ]
  },
  {
   "cell_type": "code",
   "execution_count": 18,
   "id": "f1ef232c",
   "metadata": {},
   "outputs": [],
   "source": [
    "class TransformerBlock(tf.keras.layers.Layer):\n",
    "    def __init__(self, embedding_dim, num_heads, dff, rate=0.1):\n",
    "        super(TransformerBlock, self).__init__()\n",
    "        self.att = MultiHeadAttention(embedding_dim, num_heads)\n",
    "        self.ffn = tf.keras.Sequential(\n",
    "            [tf.keras.layers.Dense(dff, activation=\"relu\"),\n",
    "             tf.keras.layers.Dense(embedding_dim),]\n",
    "        )\n",
    "        self.layernorm1 = tf.keras.layers.LayerNormalization(epsilon=1e-6)\n",
    "        self.layernorm2 = tf.keras.layers.LayerNormalization(epsilon=1e-6)\n",
    "        self.dropout1 = tf.keras.layers.Dropout(rate)\n",
    "        self.dropout2 = tf.keras.layers.Dropout(rate)\n",
    "        \n",
    "    def get_config(self):\n",
    "        config = super().get_config().copy()\n",
    "        config.update({\n",
    "            'att': 'self.att',\n",
    "            'ffn': 'self.ffn',\n",
    "            'layernorm1': 'self.layernorm1',\n",
    "            'layernorm2': 'self.layernorm2',\n",
    "            'dropout1': 'self.dropout1',\n",
    "            'dropout2': 'self.dropout2'\n",
    "        })\n",
    "        return config\n",
    "\n",
    "    def call(self, inputs, training):\n",
    "        attn_output = self.att(inputs) # 첫번째 서브층 : 멀티 헤드 어텐션\n",
    "        attn_output = self.dropout1(attn_output, training=training)\n",
    "        out1 = self.layernorm1(inputs + attn_output) # Add & Norm\n",
    "        ffn_output = self.ffn(out1) # 두번째 서브층 : 포지션 와이즈 피드 포워드 신경망\n",
    "        ffn_output = self.dropout2(ffn_output, training=training)\n",
    "        return self.layernorm2(out1 + ffn_output) # Add & Norm"
   ]
  },
  {
   "cell_type": "markdown",
   "id": "0986edf3",
   "metadata": {},
   "source": [
    "# 포지션 임베딩"
   ]
  },
  {
   "cell_type": "code",
   "execution_count": 19,
   "id": "ed343904",
   "metadata": {},
   "outputs": [],
   "source": [
    "class TokenAndPositionEmbedding(tf.keras.layers.Layer):\n",
    "    def __init__(self, max_len, vocab_size, embedding_dim):\n",
    "        super(TokenAndPositionEmbedding, self).__init__()\n",
    "        self.token_emb = tf.keras.layers.Embedding(vocab_size, embedding_dim)\n",
    "        self.pos_emb = tf.keras.layers.Embedding(max_len, embedding_dim)\n",
    "\n",
    "    def get_config(self):\n",
    "        config = super().get_config().copy()\n",
    "        config.update({\n",
    "            'token_emb': 'self.token_emb',\n",
    "            'pos_emb': 'self.pos_emb'\n",
    "        })\n",
    "        return config\n",
    "        \n",
    "    def call(self, x):\n",
    "        max_len = tf.shape(x)[-1]\n",
    "        positions = tf.range(start=0, limit=max_len, delta=1)\n",
    "        positions = self.pos_emb(positions)\n",
    "        x = self.token_emb(x)\n",
    "        return x + positions"
   ]
  },
  {
   "cell_type": "markdown",
   "id": "c5119cb6",
   "metadata": {},
   "source": [
    "# 트랜스포머를 이용한 쇼핑몰 카테고리 분류"
   ]
  },
  {
   "cell_type": "code",
   "execution_count": 20,
   "id": "fa70110b",
   "metadata": {},
   "outputs": [],
   "source": [
    "embedding_dim = 128  # 각 단어의 임베딩 벡터의 차원\n",
    "num_heads = 2  # 어텐션 헤드의 수\n",
    "dff = 128  # 포지션 와이즈 피드 포워드 신경망의 은닉층의 크기\n",
    "vocab_size = 35000 # sentencepiece와 동일\n",
    "max_len = 109 # 상품명 최대 길이는 109개 단어\n",
    "\n",
    "inputs = tf.keras.layers.Input(shape=(max_len,))\n",
    "embedding_layer = TokenAndPositionEmbedding(max_len, vocab_size, embedding_dim)\n",
    "x = embedding_layer(inputs)\n",
    "transformer_block = TransformerBlock(embedding_dim, num_heads, dff)\n",
    "x = transformer_block(x)\n",
    "x = tf.keras.layers.GlobalAveragePooling1D()(x)\n",
    "x = tf.keras.layers.Dropout(0.1)(x)\n",
    "x = tf.keras.layers.Dense(20, activation=\"relu\")(x)\n",
    "x = tf.keras.layers.Dropout(0.1)(x)\n",
    "outputs = tf.keras.layers.Dense(53, activation=\"softmax\")(x) # 카테고리 ID는 1부터 시작하므로 카테고리 개수 + 1 해줘야 함\n",
    "\n",
    "model = tf.keras.Model(inputs=inputs, outputs=outputs)"
   ]
  },
  {
   "cell_type": "code",
   "execution_count": 21,
   "id": "64cdaead",
   "metadata": {},
   "outputs": [],
   "source": [
    "from keras.callbacks import ModelCheckpoint, EarlyStopping"
   ]
  },
  {
   "cell_type": "code",
   "execution_count": 22,
   "id": "8bea1958",
   "metadata": {},
   "outputs": [],
   "source": [
    "es = EarlyStopping(monitor='val_loss', mode = \"auto\", verbose=1, patience=4)\n",
    "mc = ModelCheckpoint('best_model.h5', monitor='val_loss', mode = \"auto\", verbose=1, save_best_only=True)"
   ]
  },
  {
   "cell_type": "code",
   "execution_count": 23,
   "id": "a914445d",
   "metadata": {},
   "outputs": [
    {
     "name": "stdout",
     "output_type": "stream",
     "text": [
      "Epoch 1/30\n",
      "20000/20000 [==============================] - 809s 40ms/step - loss: 0.4739 - accuracy: 0.8835 - val_loss: 0.2133 - val_accuracy: 0.9489\n",
      "\n",
      "Epoch 00001: val_loss improved from inf to 0.21334, saving model to best_model.h5\n",
      "Epoch 2/30\n",
      "20000/20000 [==============================] - 383s 19ms/step - loss: 0.1848 - accuracy: 0.9550 - val_loss: 0.1742 - val_accuracy: 0.9576\n",
      "\n",
      "Epoch 00002: val_loss improved from 0.21334 to 0.17421, saving model to best_model.h5\n",
      "Epoch 3/30\n",
      "20000/20000 [==============================] - 328s 16ms/step - loss: 0.1335 - accuracy: 0.9668 - val_loss: 0.1669 - val_accuracy: 0.9598\n",
      "\n",
      "Epoch 00003: val_loss improved from 0.17421 to 0.16692, saving model to best_model.h5\n",
      "Epoch 4/30\n",
      "20000/20000 [==============================] - 329s 16ms/step - loss: 0.1044 - accuracy: 0.9738 - val_loss: 0.1771 - val_accuracy: 0.9627\n",
      "\n",
      "Epoch 00004: val_loss did not improve from 0.16692\n",
      "Epoch 5/30\n",
      "20000/20000 [==============================] - 334s 17ms/step - loss: 0.0869 - accuracy: 0.9781 - val_loss: 0.1717 - val_accuracy: 0.9623\n",
      "\n",
      "Epoch 00005: val_loss did not improve from 0.16692\n",
      "Epoch 6/30\n",
      "20000/20000 [==============================] - 329s 16ms/step - loss: 0.0740 - accuracy: 0.9810 - val_loss: 0.1804 - val_accuracy: 0.9639\n",
      "\n",
      "Epoch 00006: val_loss did not improve from 0.16692\n",
      "Epoch 7/30\n",
      "20000/20000 [==============================] - 341s 17ms/step - loss: 0.0651 - accuracy: 0.9830 - val_loss: 0.1835 - val_accuracy: 0.9639\n",
      "\n",
      "Epoch 00007: val_loss did not improve from 0.16692\n",
      "Epoch 00007: early stopping\n"
     ]
    }
   ],
   "source": [
    "model.compile(\"adam\", \"sparse_categorical_crossentropy\", metrics=[\"accuracy\"])\n",
    "history = model.fit(X_train, y_train, batch_size=32, epochs=30, callbacks=[es, mc], validation_split=0.2)"
   ]
  },
  {
   "cell_type": "code",
   "execution_count": 24,
   "id": "e1e8ba26",
   "metadata": {},
   "outputs": [
    {
     "name": "stdout",
     "output_type": "stream",
     "text": [
      "6250/6250 [==============================] - 30s 5ms/step - loss: 0.1835 - accuracy: 0.9637\n",
      "테스트 정확도: 0.9637\n"
     ]
    }
   ],
   "source": [
    "print(\"테스트 정확도: %.4f\" % (model.evaluate(X_test, y_test)[1]))"
   ]
  },
  {
   "cell_type": "code",
   "execution_count": 25,
   "id": "26f557ac",
   "metadata": {},
   "outputs": [],
   "source": [
    "def plot_graphs(history, string):\n",
    "    plt.plot(history.history[string])\n",
    "    plt.plot(history.history['val_'+string], '')\n",
    "    plt.xlabel(\"Epochs\")\n",
    "    plt.ylabel(string)\n",
    "    plt.legend([string, 'val_'+string])\n",
    "    plt.show()"
   ]
  },
  {
   "cell_type": "code",
   "execution_count": 26,
   "id": "11e0c07a",
   "metadata": {},
   "outputs": [
    {
     "data": {
      "image/png": "[encoded data removed]",
      "text/plain": [
       "<Figure size 432x288 with 1 Axes>"
      ]
     },
     "metadata": {
      "needs_background": "light"
     },
     "output_type": "display_data"
    }
   ],
   "source": [
    "plot_graphs(history, 'accuracy')"
   ]
  },
  {
   "cell_type": "code",
   "execution_count": 27,
   "id": "8d3430d9",
   "metadata": {},
   "outputs": [
    {
     "data": {
      "image/png": "[encoded data removed]",
      "text/plain": [
       "<Figure size 432x288 with 1 Axes>"
      ]
     },
     "metadata": {
      "needs_background": "light"
     },
     "output_type": "display_data"
    }
   ],
   "source": [
    "plot_graphs(history, 'loss')"
   ]
  },
  {
   "cell_type": "code",
   "execution_count": 28,
   "id": "acc355cd",
   "metadata": {},
   "outputs": [],
   "source": [
    "from sklearn.metrics import confusion_matrix\n",
    "from sklearn.metrics import classification_report"
   ]
  },
  {
   "cell_type": "code",
   "execution_count": 29,
   "id": "1388805f",
   "metadata": {},
   "outputs": [
    {
     "data": {
      "text/plain": [
       "array([[6.87725091e-25, 9.89414106e-10, 6.50740830e-08, ...,\n",
       "        1.00034065e-12, 4.35411183e-22, 7.52274833e-28],\n",
       "       [1.16051245e-23, 1.61705138e-09, 1.04017941e-08, ...,\n",
       "        4.38799066e-15, 1.59885886e-20, 2.36124423e-12],\n",
       "       [5.46426508e-26, 2.09208540e-12, 5.61138491e-14, ...,\n",
       "        2.72574887e-08, 4.03152289e-20, 2.61170251e-25],\n",
       "       ...,\n",
       "       [1.18440599e-22, 5.58130001e-11, 2.63390503e-12, ...,\n",
       "        4.23746172e-07, 2.67795951e-17, 2.92810426e-21],\n",
       "       [5.82549368e-22, 6.52731114e-09, 1.65423756e-07, ...,\n",
       "        7.44782222e-11, 2.91205548e-19, 3.09722174e-25],\n",
       "       [2.69037590e-38, 1.20033708e-14, 7.29707527e-13, ...,\n",
       "        4.47172847e-17, 8.53426052e-30, 7.51104938e-25]], dtype=float32)"
      ]
     },
     "execution_count": 29,
     "metadata": {},
     "output_type": "execute_result"
    }
   ],
   "source": [
    "pred = model.predict(X_test)\n",
    "pred"
   ]
  },
  {
   "cell_type": "code",
   "execution_count": 30,
   "id": "5ca967c0",
   "metadata": {},
   "outputs": [
    {
     "data": {
      "text/plain": [
       "array([17, 24,  9, ...,  9, 17, 28], dtype=int64)"
      ]
     },
     "execution_count": 30,
     "metadata": {},
     "output_type": "execute_result"
    }
   ],
   "source": [
    "predict = []\n",
    "for i in range(pred.shape[0]):\n",
    "    predict.append(pred[i].argmax())\n",
    "predict = np.array(predict)\n",
    "predict"
   ]
  },
  {
   "cell_type": "code",
   "execution_count": 31,
   "id": "9fb17442",
   "metadata": {},
   "outputs": [
    {
     "name": "stdout",
     "output_type": "stream",
     "text": [
      " \n",
      " confusion_matrix of Self-Attention \n",
      " \n",
      "[[1936   30    0 ...    2    1    0]\n",
      " [  82 5133    2 ...    6    0    1]\n",
      " [   1    1 8775 ...    0    0    0]\n",
      " ...\n",
      " [   2   11    1 ... 1869    2    1]\n",
      " [   0    0    0 ...    1  621    0]\n",
      " [   0    0    1 ...    1    0  149]]\n",
      "\n",
      " Here is the classification report:\n"
     ]
    },
    {
     "name": "stderr",
     "output_type": "stream",
     "text": [
      "C:\\Users\\user\\anaconda3\\lib\\site-packages\\sklearn\\metrics\\_classification.py:1308: UndefinedMetricWarning: Precision and F-score are ill-defined and being set to 0.0 in labels with no predicted samples. Use `zero_division` parameter to control this behavior.\n",
      "  _warn_prf(average, modifier, msg_start, len(result))\n"
     ]
    },
    {
     "name": "stdout",
     "output_type": "stream",
     "text": [
      "              precision    recall  f1-score   support\n",
      "\n",
      "           1       0.92      0.94      0.93      2062\n",
      "           2       0.97      0.95      0.96      5406\n",
      "           3       0.98      0.99      0.99      8850\n",
      "           4       0.98      0.96      0.97      1796\n",
      "           5       0.98      0.97      0.98      8595\n",
      "           6       0.95      0.92      0.93     11376\n",
      "           7       0.95      0.96      0.96     12209\n",
      "           8       0.98      0.97      0.98      2798\n",
      "           9       0.96      0.98      0.97     17563\n",
      "          10       0.93      0.87      0.90       231\n",
      "          11       0.96      0.98      0.97      5464\n",
      "          12       0.94      0.95      0.94      3997\n",
      "          13       0.97      0.97      0.97      4528\n",
      "          14       0.98      0.98      0.98     20146\n",
      "          15       0.97      0.98      0.97      1446\n",
      "          16       0.98      0.96      0.97      5292\n",
      "          17       0.96      0.98      0.97     10120\n",
      "          18       0.97      0.97      0.97      4655\n",
      "          19       0.94      0.92      0.93       933\n",
      "          20       0.99      0.99      0.99     12776\n",
      "          21       0.92      0.94      0.93      1829\n",
      "          22       0.96      0.96      0.96      9033\n",
      "          23       0.94      0.94      0.94      2801\n",
      "          24       0.97      0.96      0.96      3780\n",
      "          25       0.92      0.94      0.93      1948\n",
      "          26       0.96      0.97      0.96       829\n",
      "          27       0.89      0.93      0.91      1188\n",
      "          28       0.97      0.98      0.98      5956\n",
      "          29       0.68      0.81      0.74        91\n",
      "          30       0.97      0.96      0.96      2059\n",
      "          31       0.00      0.00      0.00         7\n",
      "          32       0.97      0.96      0.96      2419\n",
      "          33       0.98      0.96      0.97      1567\n",
      "          34       0.97      0.97      0.97      3157\n",
      "          35       0.96      0.93      0.95      2374\n",
      "          36       0.95      0.95      0.95      1988\n",
      "          37       0.94      0.94      0.94      2363\n",
      "          38       0.93      0.96      0.94      1418\n",
      "          39       0.94      0.95      0.94      1855\n",
      "          40       0.94      0.95      0.95      2693\n",
      "          41       0.94      0.94      0.94      1012\n",
      "          42       0.94      0.96      0.95      2005\n",
      "          43       0.89      0.90      0.90       576\n",
      "          44       0.96      0.92      0.94      1225\n",
      "          45       0.96      0.93      0.94      1738\n",
      "          46       0.96      0.92      0.94        85\n",
      "          47       0.89      0.73      0.80        11\n",
      "          48       0.93      0.88      0.90       189\n",
      "          49       0.91      0.94      0.93       740\n",
      "          50       0.96      0.94      0.95      1998\n",
      "          51       0.93      0.94      0.94       661\n",
      "          52       0.93      0.92      0.93       162\n",
      "\n",
      "    accuracy                           0.96    200000\n",
      "   macro avg       0.93      0.92      0.93    200000\n",
      "weighted avg       0.96      0.96      0.96    200000\n",
      "\n"
     ]
    },
    {
     "name": "stderr",
     "output_type": "stream",
     "text": [
      "C:\\Users\\user\\anaconda3\\lib\\site-packages\\sklearn\\metrics\\_classification.py:1308: UndefinedMetricWarning: Precision and F-score are ill-defined and being set to 0.0 in labels with no predicted samples. Use `zero_division` parameter to control this behavior.\n",
      "  _warn_prf(average, modifier, msg_start, len(result))\n",
      "C:\\Users\\user\\anaconda3\\lib\\site-packages\\sklearn\\metrics\\_classification.py:1308: UndefinedMetricWarning: Precision and F-score are ill-defined and being set to 0.0 in labels with no predicted samples. Use `zero_division` parameter to control this behavior.\n",
      "  _warn_prf(average, modifier, msg_start, len(result))\n"
     ]
    }
   ],
   "source": [
    "print (' \\n confusion_matrix of Self-Attention \\n ')\n",
    "cm = confusion_matrix(y_test, predict)\n",
    "print (cm)\n",
    "print ('\\n Here is the classification report:')\n",
    "print (classification_report(y_test, predict))"
   ]
  },
  {
   "cell_type": "markdown",
   "id": "d3275986",
   "metadata": {},
   "source": [
    "# 다층 LSTM을 이용한 쇼핑몰 카테고리 분류"
   ]
  },
  {
   "cell_type": "code",
   "execution_count": 32,
   "id": "7c8d0ae2",
   "metadata": {},
   "outputs": [],
   "source": [
    "from tensorflow.keras.models import Sequential\n",
    "from tensorflow.keras.layers import Dense, LSTM, Embedding, Dropout"
   ]
  },
  {
   "cell_type": "code",
   "execution_count": 33,
   "id": "731c01b2",
   "metadata": {},
   "outputs": [],
   "source": [
    "# y_train = to_categorical(y_train)\n",
    "# y_test = to_categorical(y_test)"
   ]
  },
  {
   "cell_type": "code",
   "execution_count": 34,
   "id": "86b0078e",
   "metadata": {},
   "outputs": [],
   "source": [
    "vocab_size = 35000 # sentencepiece와 동일\n",
    "embedding_dim = 128\n",
    "hidden_units = 128\n",
    "num_classes = 53 # 카테고리 ID는 1부터 시작하므로 카테고리 개수 + 1 해줘야 함\n",
    "\n",
    "model1 = Sequential()\n",
    "model1.add(Embedding(vocab_size, embedding_dim))\n",
    "model1.add(LSTM(hidden_units, return_sequences=True))\n",
    "model1.add(LSTM(hidden_units))\n",
    "model1.add(Dropout(0.2))\n",
    "model1.add(Dense(hidden_units, activation='tanh'))\n",
    "model1.add(Dense(num_classes, activation='softmax'))"
   ]
  },
  {
   "cell_type": "code",
   "execution_count": 35,
   "id": "8033c727",
   "metadata": {},
   "outputs": [],
   "source": [
    "es = EarlyStopping(monitor='val_loss', mode = \"auto\", verbose=1, patience=4)\n",
    "mc = ModelCheckpoint('best_model1.h5', monitor='val_loss', mode = \"auto\", verbose=1, save_best_only=True)"
   ]
  },
  {
   "cell_type": "code",
   "execution_count": 36,
   "id": "a5c69089",
   "metadata": {},
   "outputs": [],
   "source": [
    "model1.compile(loss='sparse_categorical_crossentropy', optimizer='adam', metrics=['accuracy'])"
   ]
  },
  {
   "cell_type": "code",
   "execution_count": 37,
   "id": "0c57b3d8",
   "metadata": {},
   "outputs": [
    {
     "name": "stdout",
     "output_type": "stream",
     "text": [
      "Epoch 1/30\n",
      "20000/20000 [==============================] - 401s 20ms/step - loss: 0.3945 - accuracy: 0.8960 - val_loss: 0.1738 - val_accuracy: 0.9539\n",
      "\n",
      "Epoch 00001: val_loss improved from inf to 0.17377, saving model to best_model1.h5\n",
      "Epoch 2/30\n",
      "20000/20000 [==============================] - 390s 20ms/step - loss: 0.1288 - accuracy: 0.9657 - val_loss: 0.1383 - val_accuracy: 0.9641\n",
      "\n",
      "Epoch 00002: val_loss improved from 0.17377 to 0.13829, saving model to best_model1.h5\n",
      "Epoch 3/30\n",
      "20000/20000 [==============================] - 401s 20ms/step - loss: 0.0847 - accuracy: 0.9771 - val_loss: 0.1342 - val_accuracy: 0.9662\n",
      "\n",
      "Epoch 00003: val_loss improved from 0.13829 to 0.13424, saving model to best_model1.h5\n",
      "Epoch 4/30\n",
      "20000/20000 [==============================] - 406s 20ms/step - loss: 0.0590 - accuracy: 0.9838 - val_loss: 0.1377 - val_accuracy: 0.9666\n",
      "\n",
      "Epoch 00004: val_loss did not improve from 0.13424\n",
      "Epoch 5/30\n",
      "20000/20000 [==============================] - 377s 19ms/step - loss: 0.0414 - accuracy: 0.9884 - val_loss: 0.1524 - val_accuracy: 0.9657\n",
      "\n",
      "Epoch 00005: val_loss did not improve from 0.13424\n",
      "Epoch 6/30\n",
      "20000/20000 [==============================] - 377s 19ms/step - loss: 0.0307 - accuracy: 0.9913 - val_loss: 0.1642 - val_accuracy: 0.9663\n",
      "\n",
      "Epoch 00006: val_loss did not improve from 0.13424\n",
      "Epoch 7/30\n",
      "20000/20000 [==============================] - 390s 19ms/step - loss: 0.0233 - accuracy: 0.9934 - val_loss: 0.1765 - val_accuracy: 0.9665\n",
      "\n",
      "Epoch 00007: val_loss did not improve from 0.13424\n",
      "Epoch 00007: early stopping\n"
     ]
    }
   ],
   "source": [
    "history1 = model1.fit(X_train, y_train, batch_size=32, epochs=30, callbacks=[es, mc], validation_split=0.2)"
   ]
  },
  {
   "cell_type": "code",
   "execution_count": 38,
   "id": "e592e803",
   "metadata": {},
   "outputs": [
    {
     "name": "stdout",
     "output_type": "stream",
     "text": [
      "6250/6250 [==============================] - 44s 7ms/step - loss: 0.1796 - accuracy: 0.9656\n",
      "\n",
      " 테스트 정확도: 0.9656\n"
     ]
    }
   ],
   "source": [
    "print(\"\\n 테스트 정확도: %.4f\" % (model1.evaluate(X_test, y_test)[1]))"
   ]
  },
  {
   "cell_type": "code",
   "execution_count": 39,
   "id": "3822ac10",
   "metadata": {},
   "outputs": [
    {
     "data": {
      "image/png": "[encoded data removed]",
      "text/plain": [
       "<Figure size 432x288 with 1 Axes>"
      ]
     },
     "metadata": {
      "needs_background": "light"
     },
     "output_type": "display_data"
    }
   ],
   "source": [
    "plot_graphs(history1, 'accuracy')"
   ]
  },
  {
   "cell_type": "code",
   "execution_count": 40,
   "id": "1d4c52e9",
   "metadata": {},
   "outputs": [
    {
     "data": {
      "image/png": "[encoded data removed]",
      "text/plain": [
       "<Figure size 432x288 with 1 Axes>"
      ]
     },
     "metadata": {
      "needs_background": "light"
     },
     "output_type": "display_data"
    }
   ],
   "source": [
    "plot_graphs(history1, 'loss')"
   ]
  },
  {
   "cell_type": "code",
   "execution_count": 41,
   "id": "2e846925",
   "metadata": {},
   "outputs": [
    {
     "data": {
      "text/plain": [
       "array([[1.41164700e-15, 3.88449446e-11, 2.00873584e-12, ...,\n",
       "        7.81782694e-10, 9.22069902e-15, 9.35041026e-15],\n",
       "       [1.48607155e-15, 9.75910410e-08, 1.33621839e-07, ...,\n",
       "        8.14076410e-12, 1.76077544e-12, 2.12597193e-08],\n",
       "       [3.80873735e-11, 8.34041174e-08, 6.85338819e-07, ...,\n",
       "        5.73921213e-08, 7.86591875e-13, 2.07515677e-06],\n",
       "       ...,\n",
       "       [8.82326642e-14, 4.90550107e-08, 6.54891835e-11, ...,\n",
       "        3.43163187e-09, 3.05771380e-10, 3.02421074e-11],\n",
       "       [1.52219914e-12, 3.18636850e-08, 3.18016504e-07, ...,\n",
       "        6.01010575e-10, 5.82598358e-10, 1.33723782e-10],\n",
       "       [1.33504249e-11, 1.20862707e-08, 1.35480309e-06, ...,\n",
       "        4.65098848e-09, 1.01247055e-08, 2.53019872e-09]], dtype=float32)"
      ]
     },
     "execution_count": 41,
     "metadata": {},
     "output_type": "execute_result"
    }
   ],
   "source": [
    "pred1 = model1.predict(X_test)\n",
    "pred1"
   ]
  },
  {
   "cell_type": "code",
   "execution_count": 42,
   "id": "58be143a",
   "metadata": {},
   "outputs": [
    {
     "data": {
      "text/plain": [
       "array([20, 25, 34, ..., 14, 35, 13], dtype=int64)"
      ]
     },
     "execution_count": 42,
     "metadata": {},
     "output_type": "execute_result"
    }
   ],
   "source": [
    "predict1 = []\n",
    "for i in range(pred1.shape[0]):\n",
    "    predict1.append(pred1[i].argmax())\n",
    "predict1 = np.array(predict1)\n",
    "predict1"
   ]
  },
  {
   "cell_type": "code",
   "execution_count": 43,
   "id": "362626e6",
   "metadata": {},
   "outputs": [
    {
     "name": "stdout",
     "output_type": "stream",
     "text": [
      " \n",
      " confusion_matrix of multi-layered LSTM \n",
      " \n",
      "[[1938   43    0 ...    2    0    0]\n",
      " [  31 5163    5 ...    8    0    0]\n",
      " [   1    5 8750 ...    1    0    1]\n",
      " ...\n",
      " [   0    7    1 ... 1875    6    0]\n",
      " [   0    1    0 ...    1  620    0]\n",
      " [   0    0    1 ...    0    0  154]]\n",
      "\n",
      " Here is the classification report:\n",
      "              precision    recall  f1-score   support\n",
      "\n",
      "           1       0.96      0.94      0.95      2062\n",
      "           2       0.96      0.96      0.96      5406\n",
      "           3       0.99      0.99      0.99      8850\n",
      "           4       0.96      0.98      0.97      1796\n",
      "           5       0.98      0.98      0.98      8595\n",
      "           6       0.93      0.94      0.93     11376\n",
      "           7       0.95      0.96      0.96     12209\n",
      "           8       0.98      0.98      0.98      2798\n",
      "           9       0.97      0.97      0.97     17563\n",
      "          10       0.90      0.86      0.88       231\n",
      "          11       0.98      0.97      0.98      5464\n",
      "          12       0.94      0.95      0.95      3997\n",
      "          13       0.98      0.95      0.97      4528\n",
      "          14       0.98      0.99      0.98     20146\n",
      "          15       0.96      0.97      0.97      1446\n",
      "          16       0.96      0.98      0.97      5293\n",
      "          17       0.97      0.97      0.97     10120\n",
      "          18       0.97      0.98      0.97      4655\n",
      "          19       0.93      0.94      0.94       933\n",
      "          20       0.99      0.99      0.99     12775\n",
      "          21       0.93      0.93      0.93      1829\n",
      "          22       0.98      0.95      0.96      9033\n",
      "          23       0.96      0.95      0.95      2801\n",
      "          24       0.94      0.97      0.95      3780\n",
      "          25       0.95      0.94      0.95      1948\n",
      "          26       0.96      0.96      0.96       829\n",
      "          27       0.91      0.94      0.92      1188\n",
      "          28       0.97      0.98      0.98      5956\n",
      "          29       0.70      0.89      0.78        91\n",
      "          30       0.97      0.96      0.96      2059\n",
      "          31       0.00      0.00      0.00         7\n",
      "          32       0.98      0.94      0.96      2419\n",
      "          33       0.98      0.97      0.98      1567\n",
      "          34       0.99      0.96      0.98      3157\n",
      "          35       0.92      0.96      0.94      2374\n",
      "          36       0.95      0.94      0.94      1988\n",
      "          37       0.94      0.94      0.94      2363\n",
      "          38       0.95      0.95      0.95      1418\n",
      "          39       0.95      0.95      0.95      1855\n",
      "          40       0.96      0.95      0.96      2693\n",
      "          41       0.96      0.91      0.94      1012\n",
      "          42       0.96      0.96      0.96      2005\n",
      "          43       0.92      0.87      0.90       576\n",
      "          44       0.98      0.93      0.95      1225\n",
      "          45       0.96      0.94      0.95      1738\n",
      "          46       0.98      0.98      0.98        85\n",
      "          47       1.00      0.73      0.84        11\n",
      "          48       0.87      0.84      0.86       189\n",
      "          49       0.92      0.93      0.93       740\n",
      "          50       0.95      0.94      0.94      1998\n",
      "          51       0.93      0.94      0.93       661\n",
      "          52       0.94      0.95      0.95       162\n",
      "\n",
      "    accuracy                           0.97    200000\n",
      "   macro avg       0.93      0.93      0.93    200000\n",
      "weighted avg       0.97      0.97      0.97    200000\n",
      "\n"
     ]
    }
   ],
   "source": [
    "print (' \\n confusion_matrix of multi-layered LSTM \\n ')\n",
    "cm = confusion_matrix(y_test, predict1)\n",
    "print (cm)\n",
    "print ('\\n Here is the classification report:')\n",
    "print (classification_report(y_test, predict1))"
   ]
  },
  {
   "cell_type": "markdown",
   "id": "c76c3495",
   "metadata": {},
   "source": [
    "# 일반 LSTM"
   ]
  },
  {
   "cell_type": "code",
   "execution_count": 44,
   "id": "a95ed02e",
   "metadata": {},
   "outputs": [],
   "source": [
    "vocab_size = 35000 # sentencepiece와 동일\n",
    "embedding_dim = 128\n",
    "hidden_units = 128\n",
    "num_classes = 53 # 카테고리 ID는 1부터 시작하므로 카테고리 개수 + 1 해줘야 함\n",
    "\n",
    "model2 = Sequential()\n",
    "model2.add(Embedding(vocab_size, embedding_dim))\n",
    "model2.add(LSTM(hidden_units))\n",
    "model2.add(Dense(num_classes, activation='softmax'))"
   ]
  },
  {
   "cell_type": "code",
   "execution_count": 45,
   "id": "e30d92c7",
   "metadata": {},
   "outputs": [],
   "source": [
    "es = EarlyStopping(monitor='val_loss', mode = \"auto\", verbose=1, patience=4)\n",
    "mc = ModelCheckpoint('best_model2.h5', monitor='val_loss', mode = \"auto\", verbose=1, save_best_only=True)"
   ]
  },
  {
   "cell_type": "code",
   "execution_count": 46,
   "id": "2c37c14c",
   "metadata": {},
   "outputs": [],
   "source": [
    "model2.compile(loss='sparse_categorical_crossentropy', optimizer='adam', metrics=['accuracy'])"
   ]
  },
  {
   "cell_type": "code",
   "execution_count": 47,
   "id": "d645e5f4",
   "metadata": {},
   "outputs": [
    {
     "name": "stdout",
     "output_type": "stream",
     "text": [
      "Epoch 1/30\n",
      "20000/20000 [==============================] - 271s 13ms/step - loss: 0.3367 - accuracy: 0.9113 - val_loss: 0.1460 - val_accuracy: 0.9603\n",
      "\n",
      "Epoch 00001: val_loss improved from inf to 0.14601, saving model to best_model2.h5\n",
      "Epoch 2/30\n",
      "20000/20000 [==============================] - 265s 13ms/step - loss: 0.0992 - accuracy: 0.9725 - val_loss: 0.1245 - val_accuracy: 0.9662\n",
      "\n",
      "Epoch 00002: val_loss improved from 0.14601 to 0.12448, saving model to best_model2.h5\n",
      "Epoch 3/30\n",
      "20000/20000 [==============================] - 266s 13ms/step - loss: 0.0608 - accuracy: 0.9827 - val_loss: 0.1265 - val_accuracy: 0.9675\n",
      "\n",
      "Epoch 00003: val_loss did not improve from 0.12448\n",
      "Epoch 4/30\n",
      "20000/20000 [==============================] - 266s 13ms/step - loss: 0.0382 - accuracy: 0.9890 - val_loss: 0.1335 - val_accuracy: 0.9679\n",
      "\n",
      "Epoch 00004: val_loss did not improve from 0.12448\n",
      "Epoch 5/30\n",
      "20000/20000 [==============================] - 266s 13ms/step - loss: 0.0238 - accuracy: 0.9931 - val_loss: 0.1456 - val_accuracy: 0.9671\n",
      "\n",
      "Epoch 00005: val_loss did not improve from 0.12448\n",
      "Epoch 6/30\n",
      "20000/20000 [==============================] - 262s 13ms/step - loss: 0.0153 - accuracy: 0.9954 - val_loss: 0.1596 - val_accuracy: 0.9671\n",
      "\n",
      "Epoch 00006: val_loss did not improve from 0.12448\n",
      "Epoch 00006: early stopping\n"
     ]
    }
   ],
   "source": [
    "history2 = model2.fit(X_train, y_train, batch_size=32, epochs=30, callbacks=[es, mc], validation_split=0.2)"
   ]
  },
  {
   "cell_type": "code",
   "execution_count": 48,
   "id": "3635501c",
   "metadata": {},
   "outputs": [
    {
     "name": "stdout",
     "output_type": "stream",
     "text": [
      "6250/6250 [==============================] - 26s 4ms/step - loss: 0.1600 - accuracy: 0.9666\n",
      "\n",
      " 테스트 정확도: 0.9666\n"
     ]
    }
   ],
   "source": [
    "print(\"\\n 테스트 정확도: %.4f\" % (model2.evaluate(X_test, y_test)[1]))"
   ]
  },
  {
   "cell_type": "code",
   "execution_count": 49,
   "id": "1afedf2d",
   "metadata": {},
   "outputs": [
    {
     "data": {
      "image/png": "[encoded data removed]",
      "text/plain": [
       "<Figure size 432x288 with 1 Axes>"
      ]
     },
     "metadata": {
      "needs_background": "light"
     },
     "output_type": "display_data"
    }
   ],
   "source": [
    "plot_graphs(history2, 'accuracy')"
   ]
  },
  {
   "cell_type": "code",
   "execution_count": 50,
   "id": "37fa4787",
   "metadata": {},
   "outputs": [
    {
     "data": {
      "image/png": "[encoded data removed]",
      "text/plain": [
       "<Figure size 432x288 with 1 Axes>"
      ]
     },
     "metadata": {
      "needs_background": "light"
     },
     "output_type": "display_data"
    }
   ],
   "source": [
    "plot_graphs(history2, 'loss')"
   ]
  },
  {
   "cell_type": "code",
   "execution_count": 51,
   "id": "bd45c2cc",
   "metadata": {},
   "outputs": [
    {
     "data": {
      "text/plain": [
       "array([[7.01181070e-18, 2.23491069e-11, 3.44023254e-10, ...,\n",
       "        5.03285937e-14, 5.46492816e-11, 9.16665408e-15],\n",
       "       [9.07027629e-17, 1.62286712e-10, 4.03578948e-09, ...,\n",
       "        2.29660496e-12, 1.38114954e-11, 1.41311338e-10],\n",
       "       [5.54457942e-15, 1.52783155e-08, 1.08638766e-07, ...,\n",
       "        3.12422230e-08, 3.86721011e-09, 9.59713930e-07],\n",
       "       ...,\n",
       "       [1.11714063e-19, 3.92980006e-12, 9.36775310e-12, ...,\n",
       "        2.89074542e-09, 1.38832603e-13, 8.42497662e-14],\n",
       "       [4.12735249e-13, 1.75994763e-09, 2.26037391e-05, ...,\n",
       "        2.25496173e-08, 1.18969987e-10, 3.01379394e-10],\n",
       "       [1.83827657e-13, 5.08020459e-10, 1.64076877e-11, ...,\n",
       "        4.45233361e-09, 5.47737233e-09, 7.10509082e-11]], dtype=float32)"
      ]
     },
     "execution_count": 51,
     "metadata": {},
     "output_type": "execute_result"
    }
   ],
   "source": [
    "pred2 = model2.predict(X_test)\n",
    "pred2"
   ]
  },
  {
   "cell_type": "code",
   "execution_count": 52,
   "id": "c03fac92",
   "metadata": {},
   "outputs": [
    {
     "data": {
      "text/plain": [
       "array([20, 25, 34, ..., 14, 35, 13], dtype=int64)"
      ]
     },
     "execution_count": 52,
     "metadata": {},
     "output_type": "execute_result"
    }
   ],
   "source": [
    "predict2 = []\n",
    "for i in range(pred2.shape[0]):\n",
    "    predict2.append(pred2[i].argmax())\n",
    "predict2 = np.array(predict2)\n",
    "predict2"
   ]
  },
  {
   "cell_type": "code",
   "execution_count": 53,
   "id": "f8188f82",
   "metadata": {},
   "outputs": [
    {
     "name": "stdout",
     "output_type": "stream",
     "text": [
      " \n",
      " confusion_matrix of LSTM \n",
      " \n",
      "[[1949   45    1 ...    3    1    0]\n",
      " [  38 5181    6 ...   12    0    0]\n",
      " [   4    3 8755 ...    1    0    0]\n",
      " ...\n",
      " [   2    7    0 ... 1888    2    0]\n",
      " [   3    2    0 ...    1  615    0]\n",
      " [   0    0    0 ...    0    0  154]]\n",
      "\n",
      " Here is the classification report:\n"
     ]
    },
    {
     "name": "stderr",
     "output_type": "stream",
     "text": [
      "C:\\Users\\user\\anaconda3\\lib\\site-packages\\sklearn\\metrics\\_classification.py:1308: UndefinedMetricWarning: Precision and F-score are ill-defined and being set to 0.0 in labels with no predicted samples. Use `zero_division` parameter to control this behavior.\n",
      "  _warn_prf(average, modifier, msg_start, len(result))\n"
     ]
    },
    {
     "name": "stdout",
     "output_type": "stream",
     "text": [
      "              precision    recall  f1-score   support\n",
      "\n",
      "           1       0.95      0.95      0.95      2062\n",
      "           2       0.96      0.96      0.96      5406\n",
      "           3       0.99      0.99      0.99      8850\n",
      "           4       0.97      0.96      0.97      1796\n",
      "           5       0.97      0.98      0.98      8595\n",
      "           6       0.94      0.93      0.93     11376\n",
      "           7       0.96      0.96      0.96     12209\n",
      "           8       0.98      0.98      0.98      2798\n",
      "           9       0.97      0.97      0.97     17563\n",
      "          10       0.94      0.85      0.89       231\n",
      "          11       0.98      0.97      0.97      5464\n",
      "          12       0.95      0.96      0.95      3997\n",
      "          13       0.97      0.96      0.97      4528\n",
      "          14       0.98      0.99      0.98     20146\n",
      "          15       0.98      0.96      0.97      1446\n",
      "          16       0.97      0.98      0.97      5293\n",
      "          17       0.97      0.97      0.97     10120\n",
      "          18       0.97      0.98      0.97      4655\n",
      "          19       0.94      0.95      0.95       933\n",
      "          20       0.99      0.99      0.99     12775\n",
      "          21       0.94      0.92      0.93      1829\n",
      "          22       0.96      0.96      0.96      9033\n",
      "          23       0.95      0.95      0.95      2801\n",
      "          24       0.96      0.95      0.96      3780\n",
      "          25       0.94      0.94      0.94      1948\n",
      "          26       0.97      0.97      0.97       829\n",
      "          27       0.93      0.93      0.93      1188\n",
      "          28       0.98      0.98      0.98      5956\n",
      "          29       0.94      0.90      0.92        91\n",
      "          30       0.97      0.96      0.97      2059\n",
      "          31       0.00      0.00      0.00         7\n",
      "          32       0.97      0.96      0.96      2419\n",
      "          33       0.96      0.98      0.97      1567\n",
      "          34       0.97      0.98      0.97      3157\n",
      "          35       0.96      0.95      0.96      2374\n",
      "          36       0.94      0.96      0.95      1988\n",
      "          37       0.95      0.94      0.95      2363\n",
      "          38       0.95      0.95      0.95      1418\n",
      "          39       0.93      0.95      0.94      1855\n",
      "          40       0.97      0.95      0.96      2693\n",
      "          41       0.96      0.93      0.94      1012\n",
      "          42       0.97      0.96      0.96      2005\n",
      "          43       0.92      0.89      0.90       576\n",
      "          44       0.96      0.94      0.95      1225\n",
      "          45       0.93      0.96      0.94      1738\n",
      "          46       0.98      0.95      0.96        85\n",
      "          47       1.00      0.64      0.78        11\n",
      "          48       0.85      0.88      0.87       189\n",
      "          49       0.94      0.93      0.93       740\n",
      "          50       0.93      0.94      0.94      1998\n",
      "          51       0.94      0.93      0.94       661\n",
      "          52       0.96      0.95      0.95       162\n",
      "\n",
      "    accuracy                           0.97    200000\n",
      "   macro avg       0.94      0.93      0.93    200000\n",
      "weighted avg       0.97      0.97      0.97    200000\n",
      "\n"
     ]
    },
    {
     "name": "stderr",
     "output_type": "stream",
     "text": [
      "C:\\Users\\user\\anaconda3\\lib\\site-packages\\sklearn\\metrics\\_classification.py:1308: UndefinedMetricWarning: Precision and F-score are ill-defined and being set to 0.0 in labels with no predicted samples. Use `zero_division` parameter to control this behavior.\n",
      "  _warn_prf(average, modifier, msg_start, len(result))\n",
      "C:\\Users\\user\\anaconda3\\lib\\site-packages\\sklearn\\metrics\\_classification.py:1308: UndefinedMetricWarning: Precision and F-score are ill-defined and being set to 0.0 in labels with no predicted samples. Use `zero_division` parameter to control this behavior.\n",
      "  _warn_prf(average, modifier, msg_start, len(result))\n"
     ]
    }
   ],
   "source": [
    "print (' \\n confusion_matrix of LSTM \\n ')\n",
    "cm = confusion_matrix(y_test, predict2)\n",
    "print (cm)\n",
    "print ('\\n Here is the classification report:')\n",
    "print (classification_report(y_test, predict2))"
   ]
  }
 ],
 "metadata": {
  "kernelspec": {
   "display_name": "Python 3 (ipykernel)",
   "language": "python",
   "name": "python3"
  },
  "language_info": {
   "codemirror_mode": {
    "name": "ipython",
    "version": 3
   },
   "file_extension": ".py",
   "mimetype": "text/x-python",
   "name": "python",
   "nbconvert_exporter": "python",
   "pygments_lexer": "ipython3",
   "version": "3.8.12"
  }
 },
 "nbformat": 4,
 "nbformat_minor": 5
}
