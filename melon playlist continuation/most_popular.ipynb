{
 "cells": [
  {
   "cell_type": "code",
   "execution_count": 1,
   "id": "13172c51",
   "metadata": {},
   "outputs": [],
   "source": [
    "from tqdm import tqdm\n",
    "import io\n",
    "import os\n",
    "import json\n",
    "import distutils.dir_util\n",
    "from collections import Counter\n",
    "import numpy as np"
   ]
  },
  {
   "cell_type": "code",
   "execution_count": 2,
   "id": "41324709",
   "metadata": {},
   "outputs": [],
   "source": [
    "def write_json(data, fname):\n",
    "    def _conv(o):\n",
    "        if isinstance(o, (np.int64, np.int32)):\n",
    "            return int(o)\n",
    "        raise TypeError\n",
    "\n",
    "    parent = os.path.dirname(fname)\n",
    "    distutils.dir_util.mkpath(\"./arena_data/\" + parent)\n",
    "    with io.open(\"./arena_data/\" + fname, \"w\", encoding=\"utf-8\") as f:\n",
    "        json_str = json.dumps(data, ensure_ascii=False, default=_conv)\n",
    "        f.write(json_str)\n",
    "\n",
    "\n",
    "def load_json(fname):\n",
    "    with open(fname, encoding=\"utf-8\") as f:\n",
    "        json_obj = json.load(f)\n",
    "\n",
    "    return json_obj\n",
    "\n",
    "\n",
    "def remove_seen(seen, l):\n",
    "    seen = set(seen)\n",
    "    return [x for x in l if not (x in seen)]\n",
    "\n",
    "\n",
    "def most_popular(playlists, col, topk_count):\n",
    "    c = Counter()\n",
    "\n",
    "    for doc in playlists:\n",
    "        c.update(doc[col])\n",
    "\n",
    "    topk = c.most_common(topk_count)\n",
    "    return c, [k for k, v in topk]"
   ]
  },
  {
   "cell_type": "code",
   "execution_count": 3,
   "id": "2aba7149",
   "metadata": {},
   "outputs": [],
   "source": [
    "class MostPopular:\n",
    "    def _generate_answers(self, train, questions):\n",
    "        _, song_mp = most_popular(train, \"songs\", 200)\n",
    "        _, tag_mp = most_popular(train, \"tags\", 100)\n",
    "\n",
    "        answers = []\n",
    "\n",
    "        for q in tqdm(questions):\n",
    "            answers.append({\n",
    "                \"id\": q[\"id\"],\n",
    "                \"songs\": remove_seen(q[\"songs\"], song_mp)[:100],\n",
    "                \"tags\": remove_seen(q[\"tags\"], tag_mp)[:10],\n",
    "            })\n",
    "\n",
    "        return answers\n",
    "\n",
    "    def run(self, train_fname, question_fname):\n",
    "        print(\"Loading train file...\")\n",
    "        train = load_json(train_fname)\n",
    "\n",
    "        print(\"Loading question file...\")\n",
    "        questions = load_json(question_fname)\n",
    "\n",
    "        print(\"Writing answers...\")\n",
    "        answers = self._generate_answers(train, questions)\n",
    "        write_json(answers, \"results/pop_result.json\")"
   ]
  },
  {
   "cell_type": "code",
   "execution_count": 4,
   "id": "10bca438",
   "metadata": {},
   "outputs": [
    {
     "name": "stdout",
     "output_type": "stream",
     "text": [
      "Loading train file...\n",
      "Loading question file...\n",
      "Writing answers...\n"
     ]
    },
    {
     "name": "stderr",
     "output_type": "stream",
     "text": [
      "100%|█████████████████████████████████████████████████████████████████████████| 23015/23015 [00:00<00:00, 61380.87it/s]\n"
     ]
    }
   ],
   "source": [
    "pop_rec = MostPopular()\n",
    "pop_rec.run('arena_data/orig/train.json', 'arena_data/questions/val.json')"
   ]
  },
  {
   "cell_type": "code",
   "execution_count": null,
   "id": "3ea168ce",
   "metadata": {},
   "outputs": [],
   "source": []
  }
 ],
 "metadata": {
  "kernelspec": {
   "display_name": "Python 3 (ipykernel)",
   "language": "python",
   "name": "python3"
  },
  "language_info": {
   "codemirror_mode": {
    "name": "ipython",
    "version": 3
   },
   "file_extension": ".py",
   "mimetype": "text/x-python",
   "name": "python",
   "nbconvert_exporter": "python",
   "pygments_lexer": "ipython3",
   "version": "3.9.13"
  }
 },
 "nbformat": 4,
 "nbformat_minor": 5
}
