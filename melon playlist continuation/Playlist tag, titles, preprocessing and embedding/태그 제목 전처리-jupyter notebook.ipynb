{
 "cells": [
  {
   "cell_type": "code",
   "execution_count": 1,
   "id": "85e76f5b",
   "metadata": {
    "executionInfo": {
     "elapsed": 586,
     "status": "ok",
     "timestamp": 1668501278102,
     "user": {
      "displayName": "leeht 0113",
      "userId": "08596195091106375595"
     },
     "user_tz": -540
    },
    "id": "85e76f5b"
   },
   "outputs": [],
   "source": [
    "import pandas as pd\n",
    "import numpy as np\n",
    "from tqdm import tqdm\n",
    "from collections import Counter\n",
    "from typing import *\n",
    "from ckonlpy.tag import Twitter\n",
    "import matplotlib.pyplot as plt\n",
    "import seaborn as sns\n",
    "plt.style.use('seaborn')\n",
    "sns.set_palette(\"hls\")\n",
    "%matplotlib inline\n",
    "\n",
    "import warnings\n",
    "warnings.filterwarnings('ignore')\n",
    "plt.rcParams['font.family'] = 'Malgun Gothic'"
   ]
  },
  {
   "cell_type": "code",
   "execution_count": 2,
   "id": "cfa7caa2",
   "metadata": {
    "executionInfo": {
     "elapsed": 6453,
     "status": "ok",
     "timestamp": 1668501285690,
     "user": {
      "displayName": "leeht 0113",
      "userId": "08596195091106375595"
     },
     "user_tz": -540
    },
    "id": "cfa7caa2"
   },
   "outputs": [],
   "source": [
    "train = pd.read_json(\"../arena_data/orig/train.json\")\n",
    "val_q_df = pd.read_json(\"../arena_data/questions/val.json\") # val 데이터의 각 플레이스트를 50%로 분할"
   ]
  },
  {
   "cell_type": "code",
   "execution_count": 3,
   "id": "lkx7YcdgKUda",
   "metadata": {
    "executionInfo": {
     "elapsed": 4,
     "status": "ok",
     "timestamp": 1668501285691,
     "user": {
      "displayName": "leeht 0113",
      "userId": "08596195091106375595"
     },
     "user_tz": -540
    },
    "id": "lkx7YcdgKUda"
   },
   "outputs": [
    {
     "data": {
      "text/html": [
       "<div>\n",
       "<style scoped>\n",
       "    .dataframe tbody tr th:only-of-type {\n",
       "        vertical-align: middle;\n",
       "    }\n",
       "\n",
       "    .dataframe tbody tr th {\n",
       "        vertical-align: top;\n",
       "    }\n",
       "\n",
       "    .dataframe thead th {\n",
       "        text-align: right;\n",
       "    }\n",
       "</style>\n",
       "<table border=\"1\" class=\"dataframe\">\n",
       "  <thead>\n",
       "    <tr style=\"text-align: right;\">\n",
       "      <th></th>\n",
       "      <th>tags</th>\n",
       "      <th>id</th>\n",
       "      <th>plylst_title</th>\n",
       "      <th>songs</th>\n",
       "      <th>like_cnt</th>\n",
       "      <th>updt_date</th>\n",
       "    </tr>\n",
       "  </thead>\n",
       "  <tbody>\n",
       "    <tr>\n",
       "      <th>0</th>\n",
       "      <td>[힐링, 휴식, 밤, 새벽]</td>\n",
       "      <td>147668</td>\n",
       "      <td>To. 힘들고 지친 분들에게</td>\n",
       "      <td>[663185, 649626, 6855, 188486, 348451, 169945,...</td>\n",
       "      <td>12</td>\n",
       "      <td>2016-06-23 10:06:27.000</td>\n",
       "    </tr>\n",
       "    <tr>\n",
       "      <th>1</th>\n",
       "      <td>[팝]</td>\n",
       "      <td>50422</td>\n",
       "      <td>130807-7</td>\n",
       "      <td>[627035, 256438, 603324, 200889, 441319, 21689...</td>\n",
       "      <td>0</td>\n",
       "      <td>2013-08-15 13:17:11.000</td>\n",
       "    </tr>\n",
       "    <tr>\n",
       "      <th>2</th>\n",
       "      <td>[뉴에이지]</td>\n",
       "      <td>116432</td>\n",
       "      <td>숙면을 위한 슬픈 마음을 달래 줄 피아노</td>\n",
       "      <td>[129204, 369497, 649743, 344619, 110281, 63266...</td>\n",
       "      <td>23</td>\n",
       "      <td>2015-09-03 16:51:50.000</td>\n",
       "    </tr>\n",
       "    <tr>\n",
       "      <th>3</th>\n",
       "      <td>[하드락, 록스피릿, 댄스]</td>\n",
       "      <td>55076</td>\n",
       "      <td>당신을 하얗게 불태울 곡들</td>\n",
       "      <td>[677591, 420396, 104934, 119279, 251988, 58850...</td>\n",
       "      <td>1</td>\n",
       "      <td>2017-01-09 15:41:25.000</td>\n",
       "    </tr>\n",
       "    <tr>\n",
       "      <th>4</th>\n",
       "      <td>[힐링, 휴식, 기분전환]</td>\n",
       "      <td>125064</td>\n",
       "      <td>[스피커 필수 / HIPHOP] 듣고 있음 꿀렁꿀렁이고 싶은 힙합음악!</td>\n",
       "      <td>[704455, 694036, 508043, 154933, 57614, 645195...</td>\n",
       "      <td>715</td>\n",
       "      <td>2016-02-22 12:32:50.000</td>\n",
       "    </tr>\n",
       "    <tr>\n",
       "      <th>...</th>\n",
       "      <td>...</td>\n",
       "      <td>...</td>\n",
       "      <td>...</td>\n",
       "      <td>...</td>\n",
       "      <td>...</td>\n",
       "      <td>...</td>\n",
       "    </tr>\n",
       "    <tr>\n",
       "      <th>23010</th>\n",
       "      <td>[]</td>\n",
       "      <td>132039</td>\n",
       "      <td>이것만 알아도 브릿팝 안다는 소리듣는다.</td>\n",
       "      <td>[8778, 5725, 234307, 64368, 691112, 581349, 40...</td>\n",
       "      <td>232</td>\n",
       "      <td>2014-03-10 19:08:16.000</td>\n",
       "    </tr>\n",
       "    <tr>\n",
       "      <th>23011</th>\n",
       "      <td>[]</td>\n",
       "      <td>21475</td>\n",
       "      <td>make015</td>\n",
       "      <td>[470489, 72225, 387567, 328452, 517417, 690761...</td>\n",
       "      <td>0</td>\n",
       "      <td>2016-05-16 15:34:18.000</td>\n",
       "    </tr>\n",
       "    <tr>\n",
       "      <th>23012</th>\n",
       "      <td>[힘들때, 지칠때, 힘내]</td>\n",
       "      <td>81196</td>\n",
       "      <td>힘든 걸 알아, 말해주고 싶었어요</td>\n",
       "      <td>[448250, 131741, 531820, 616260, 639943, 13129...</td>\n",
       "      <td>13</td>\n",
       "      <td>2017-12-20 16:32:07.000</td>\n",
       "    </tr>\n",
       "    <tr>\n",
       "      <th>23013</th>\n",
       "      <td>[]</td>\n",
       "      <td>151600</td>\n",
       "      <td>♥Christmas Music♥</td>\n",
       "      <td>[]</td>\n",
       "      <td>8</td>\n",
       "      <td>2015-12-23 09:38:19.000</td>\n",
       "    </tr>\n",
       "    <tr>\n",
       "      <th>23014</th>\n",
       "      <td>[]</td>\n",
       "      <td>7706</td>\n",
       "      <td>라디오 389</td>\n",
       "      <td>[243082, 383812, 218279, 297891]</td>\n",
       "      <td>7</td>\n",
       "      <td>2009-10-01 13:58:17.000</td>\n",
       "    </tr>\n",
       "  </tbody>\n",
       "</table>\n",
       "<p>115071 rows × 6 columns</p>\n",
       "</div>"
      ],
      "text/plain": [
       "                  tags      id                             plylst_title  \\\n",
       "0      [힐링, 휴식, 밤, 새벽]  147668                          To. 힘들고 지친 분들에게   \n",
       "1                  [팝]   50422                                 130807-7   \n",
       "2               [뉴에이지]  116432                   숙면을 위한 슬픈 마음을 달래 줄 피아노   \n",
       "3      [하드락, 록스피릿, 댄스]   55076                           당신을 하얗게 불태울 곡들   \n",
       "4       [힐링, 휴식, 기분전환]  125064  [스피커 필수 / HIPHOP] 듣고 있음 꿀렁꿀렁이고 싶은 힙합음악!   \n",
       "...                ...     ...                                      ...   \n",
       "23010               []  132039                   이것만 알아도 브릿팝 안다는 소리듣는다.   \n",
       "23011               []   21475                                  make015   \n",
       "23012   [힘들때, 지칠때, 힘내]   81196                       힘든 걸 알아, 말해주고 싶었어요   \n",
       "23013               []  151600                        ♥Christmas Music♥   \n",
       "23014               []    7706                                  라디오 389   \n",
       "\n",
       "                                                   songs  like_cnt  \\\n",
       "0      [663185, 649626, 6855, 188486, 348451, 169945,...        12   \n",
       "1      [627035, 256438, 603324, 200889, 441319, 21689...         0   \n",
       "2      [129204, 369497, 649743, 344619, 110281, 63266...        23   \n",
       "3      [677591, 420396, 104934, 119279, 251988, 58850...         1   \n",
       "4      [704455, 694036, 508043, 154933, 57614, 645195...       715   \n",
       "...                                                  ...       ...   \n",
       "23010  [8778, 5725, 234307, 64368, 691112, 581349, 40...       232   \n",
       "23011  [470489, 72225, 387567, 328452, 517417, 690761...         0   \n",
       "23012  [448250, 131741, 531820, 616260, 639943, 13129...        13   \n",
       "23013                                                 []         8   \n",
       "23014                   [243082, 383812, 218279, 297891]         7   \n",
       "\n",
       "                     updt_date  \n",
       "0      2016-06-23 10:06:27.000  \n",
       "1      2013-08-15 13:17:11.000  \n",
       "2      2015-09-03 16:51:50.000  \n",
       "3      2017-01-09 15:41:25.000  \n",
       "4      2016-02-22 12:32:50.000  \n",
       "...                        ...  \n",
       "23010  2014-03-10 19:08:16.000  \n",
       "23011  2016-05-16 15:34:18.000  \n",
       "23012  2017-12-20 16:32:07.000  \n",
       "23013  2015-12-23 09:38:19.000  \n",
       "23014  2009-10-01 13:58:17.000  \n",
       "\n",
       "[115071 rows x 6 columns]"
      ]
     },
     "execution_count": 3,
     "metadata": {},
     "output_type": "execute_result"
    }
   ],
   "source": [
    "train_df = pd.concat([train, val_q_df])\n",
    "train_df"
   ]
  },
  {
   "cell_type": "markdown",
   "id": "Bt2q3mD_oPeo",
   "metadata": {
    "id": "Bt2q3mD_oPeo"
   },
   "source": [
    "## 태그 형태소 분석"
   ]
  },
  {
   "cell_type": "code",
   "execution_count": 4,
   "id": "J5Ru7Z0goOrJ",
   "metadata": {
    "executionInfo": {
     "elapsed": 748,
     "status": "ok",
     "timestamp": 1668501286437,
     "user": {
      "displayName": "leeht 0113",
      "userId": "08596195091106375595"
     },
     "user_tz": -540
    },
    "id": "J5Ru7Z0goOrJ"
   },
   "outputs": [],
   "source": [
    "def flatten(list_of_list):\n",
    "    flatten = [j for i in list_of_list for j in i]\n",
    "    return flatten\n",
    "\n",
    "def get_token(title: str, tokenizer):\n",
    "    \n",
    "    if len(title)== 0 or title== ' ':  # 제목이 공백인 경우 tokenizer에러 발생\n",
    "        return []\n",
    "    \n",
    "    result = tokenizer.pos(title) \n",
    "    return result\n",
    "\n",
    "def get_all_tags(df):\n",
    "    tag_list = df['tags'].values.tolist()\n",
    "    tag_list = flatten(tag_list)\n",
    "    return tag_list"
   ]
  },
  {
   "cell_type": "code",
   "execution_count": 5,
   "id": "XK4cB-Abo5eY",
   "metadata": {
    "executionInfo": {
     "elapsed": 90257,
     "status": "ok",
     "timestamp": 1668501376693,
     "user": {
      "displayName": "leeht 0113",
      "userId": "08596195091106375595"
     },
     "user_tz": -540
    },
    "id": "XK4cB-Abo5eY"
   },
   "outputs": [],
   "source": [
    "tokenizer = Twitter()\n",
    "all_tag = get_all_tags(train_df)\n",
    "token_tag = [get_token(x, tokenizer) for x in all_tag]  # 태그를 형태소 분석"
   ]
  },
  {
   "cell_type": "code",
   "execution_count": 6,
   "id": "c5sfJy6JpvhY",
   "metadata": {
    "colab": {
     "base_uri": "https://localhost:8080/"
    },
    "executionInfo": {
     "elapsed": 15,
     "status": "ok",
     "timestamp": 1668501376694,
     "user": {
      "displayName": "leeht 0113",
      "userId": "08596195091106375595"
     },
     "user_tz": -540
    },
    "id": "c5sfJy6JpvhY",
    "outputId": "36f0632a-5f26-49df-a5d9-f8863e4cada0"
   },
   "outputs": [
    {
     "data": {
      "text/plain": [
       "[[('힐링', 'Noun')],\n",
       " [('휴식', 'Noun')],\n",
       " [('밤', 'Noun')],\n",
       " [('새벽', 'Noun')],\n",
       " [('팝', 'Noun')],\n",
       " [('뉴에이지', 'Noun')],\n",
       " [('하드락', 'Noun')],\n",
       " [('록', 'Noun'), ('스피릿', 'Noun')],\n",
       " [('댄스', 'Noun')],\n",
       " [('힐링', 'Noun')]]"
      ]
     },
     "execution_count": 6,
     "metadata": {},
     "output_type": "execute_result"
    }
   ],
   "source": [
    "token_tag[:10]"
   ]
  },
  {
   "cell_type": "code",
   "execution_count": 7,
   "id": "DctlUQXyqnqz",
   "metadata": {
    "executionInfo": {
     "elapsed": 588,
     "status": "ok",
     "timestamp": 1668501377274,
     "user": {
      "displayName": "leeht 0113",
      "userId": "08596195091106375595"
     },
     "user_tz": -540
    },
    "id": "DctlUQXyqnqz"
   },
   "outputs": [],
   "source": [
    "token_itself = list(filter(lambda x: len(x)==1, token_tag))  # 태그 자체가 형태소여서 분리되지 않는 태그만 골라봅니다\n",
    "token_itself = flatten(token_itself)\n",
    "flatten_token = flatten(token_tag)"
   ]
  },
  {
   "cell_type": "code",
   "execution_count": 8,
   "id": "Ppqmhw_yrF5b",
   "metadata": {
    "colab": {
     "base_uri": "https://localhost:8080/"
    },
    "executionInfo": {
     "elapsed": 7,
     "status": "ok",
     "timestamp": 1668501377274,
     "user": {
      "displayName": "leeht 0113",
      "userId": "08596195091106375595"
     },
     "user_tz": -540
    },
    "id": "Ppqmhw_yrF5b",
    "outputId": "154577cc-1a64-4260-d049-32a9b41701e1"
   },
   "outputs": [
    {
     "name": "stdout",
     "output_type": "stream",
     "text": [
      "# of original tag is     408,069\n",
      "# of morpheme itself is  298,506\n",
      "# of total token is      551,031\n"
     ]
    }
   ],
   "source": [
    "print('%-23s'%'# of original tag is', f'{len(all_tag):8,}')\n",
    "print('%-23s'%'# of morpheme itself is', f'{len(token_itself):8,}')\n",
    "print('%-23s'%'# of total token is', f'{len(flatten_token):8,}')"
   ]
  },
  {
   "cell_type": "code",
   "execution_count": 9,
   "id": "KbVRq1UHrMl-",
   "metadata": {
    "executionInfo": {
     "elapsed": 8,
     "status": "ok",
     "timestamp": 1668501377275,
     "user": {
      "displayName": "leeht 0113",
      "userId": "08596195091106375595"
     },
     "user_tz": -540
    },
    "id": "KbVRq1UHrMl-"
   },
   "outputs": [],
   "source": [
    "# Counting Part of Speech (pos)\n",
    "pos = [x[1] for x in flatten_token]\n",
    "pos_count = Counter(pos)\n",
    "popular_pos = pos_count.most_common()"
   ]
  },
  {
   "cell_type": "code",
   "execution_count": 10,
   "id": "UoSAoJucrMRo",
   "metadata": {
    "colab": {
     "base_uri": "https://localhost:8080/"
    },
    "executionInfo": {
     "elapsed": 7,
     "status": "ok",
     "timestamp": 1668501377275,
     "user": {
      "displayName": "leeht 0113",
      "userId": "08596195091106375595"
     },
     "user_tz": -540
    },
    "id": "UoSAoJucrMRo",
    "outputId": "91e89910-651d-42aa-e3de-c740412ecac8"
   },
   "outputs": [
    {
     "data": {
      "text/plain": [
       "[('Noun', 444316),\n",
       " ('Alpha', 26908),\n",
       " ('Josa', 24858),\n",
       " ('Adjective', 18936),\n",
       " ('Verb', 16405),\n",
       " ('Number', 6617),\n",
       " ('Modifier', 6185),\n",
       " ('Punctuation', 2935),\n",
       " ('Adverb', 2353),\n",
       " ('Suffix', 593),\n",
       " ('Determiner', 336),\n",
       " ('Exclamation', 221),\n",
       " ('VerbPrefix', 135),\n",
       " ('Eomi', 121),\n",
       " ('Foreign', 76),\n",
       " ('KoreanParticle', 18),\n",
       " ('PreEomi', 16),\n",
       " ('Conjunction', 2)]"
      ]
     },
     "execution_count": 10,
     "metadata": {},
     "output_type": "execute_result"
    }
   ],
   "source": [
    "popular_pos[:20]"
   ]
  },
  {
   "cell_type": "code",
   "execution_count": 12,
   "id": "57XAFzAJr4Y2",
   "metadata": {
    "colab": {
     "base_uri": "https://localhost:8080/",
     "height": 471
    },
    "executionInfo": {
     "elapsed": 6,
     "status": "ok",
     "timestamp": 1668501377275,
     "user": {
      "displayName": "leeht 0113",
      "userId": "08596195091106375595"
     },
     "user_tz": -540
    },
    "id": "57XAFzAJr4Y2",
    "outputId": "a679027b-7bab-44d9-b516-051bd4942296"
   },
   "outputs": [
    {
     "data": {
      "image/png": "[encoded data removed]",
      "text/plain": [
       "<Figure size 800x550 with 1 Axes>"
      ]
     },
     "metadata": {},
     "output_type": "display_data"
    }
   ],
   "source": [
    "objects = [x[0] for x in popular_pos[:20]]\n",
    "y_pos = np.arange(len(objects))\n",
    "performance = [x[1] for x in popular_pos[:20]]\n",
    "\n",
    "plt.barh(y_pos, performance, align='center', alpha=0.5)\n",
    "plt.yticks(y_pos, objects)\n",
    "plt.gca().invert_yaxis()\n",
    "plt.xlabel('빈도수')\n",
    "plt.title('전체 tag의 POS - Tags Top 20')\n",
    "\n",
    "plt.show()"
   ]
  },
  {
   "cell_type": "markdown",
   "id": "y6o4lXgzvUHe",
   "metadata": {
    "id": "y6o4lXgzvUHe"
   },
   "source": [
    "## 플레이리스트 제목 전처리 및 형태소 분석"
   ]
  },
  {
   "cell_type": "code",
   "execution_count": null,
   "id": "ngfSH2dQeIGK",
   "metadata": {
    "id": "ngfSH2dQeIGK"
   },
   "outputs": [],
   "source": [
    "# 일반명사인 NNG, 고유명사인 NNP, 외국어인 SL"
   ]
  }
 ],
 "metadata": {
  "colab": {
   "collapsed_sections": [],
   "provenance": []
  },
  "kernelspec": {
   "display_name": "Python 3 (ipykernel)",
   "language": "python",
   "name": "python3"
  },
  "language_info": {
   "codemirror_mode": {
    "name": "ipython",
    "version": 3
   },
   "file_extension": ".py",
   "mimetype": "text/x-python",
   "name": "python",
   "nbconvert_exporter": "python",
   "pygments_lexer": "ipython3",
   "version": "3.9.13"
  }
 },
 "nbformat": 4,
 "nbformat_minor": 5
}
